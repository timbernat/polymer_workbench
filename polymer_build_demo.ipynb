{
 "cells": [
  {
   "cell_type": "markdown",
   "metadata": {},
   "source": [
    "# Practical demo of MD polymer structure building from scratch"
   ]
  },
  {
   "cell_type": "code",
   "execution_count": null,
   "metadata": {},
   "outputs": [],
   "source": [
    "# Supressing annoying warnings (!must be done first!)\n",
    "import warnings\n",
    "warnings.catch_warnings(record=True)\n",
    "warnings.filterwarnings('ignore', category=UserWarning)\n",
    "warnings.filterwarnings('ignore', category=DeprecationWarning)\n",
    "\n",
    "import logging\n",
    "from polymerist.genutils.logutils.IOHandlers import LOG_FORMATTER\n",
    "\n",
    "logging.basicConfig(\n",
    "    level=logging.INFO,\n",
    "    format =LOG_FORMATTER._fmt,\n",
    "    datefmt=LOG_FORMATTER.datefmt,\n",
    "    force=True\n",
    ")\n",
    "LOGGER = logging.getLogger(__name__)\n",
    "\n",
    "from rdkit import Chem\n",
    "from rdkit.Chem.AllChem import EmbedMolecule\n",
    "\n",
    "from polymerist.rdutils import rdkdraw # configure molecule drawing\n",
    "rdkdraw.set_rdkdraw_size(400, 3/2)\n",
    "rdkdraw.disable_substruct_highlights()"
   ]
  },
  {
   "cell_type": "markdown",
   "metadata": {},
   "source": [
    "# 1) Building monomer templates and PDB files from basic SMILES"
   ]
  },
  {
   "cell_type": "markdown",
   "metadata": {},
   "source": [
    "## Define SMILES for single monomer unit"
   ]
  },
  {
   "cell_type": "code",
   "execution_count": null,
   "metadata": {},
   "outputs": [],
   "source": [
    "## PVC\n",
    "molname = 'polyvinylchloride'\n",
    "smiles = 'C=C-Cl'\n",
    "bond_atom_map_nums = (1, 2) # for bond cleavage assignment\n",
    "isotope_map = {\n",
    "    3 : 0,\n",
    "    4 : 0\n",
    "}\n",
    "\n",
    "## PE\n",
    "# molname = 'polyethylene'\n",
    "# smiles = 'C=C'\n",
    "# bond_atom_map_nums = (1, 2) # for bond cleavage assignment\n",
    "# isotope_map = {\n",
    "#     3 : 0,\n",
    "#     4 : 0\n",
    "# }\n",
    "\n",
    "## PAAm\n",
    "# molname = 'polyacrylamide'\n",
    "# smiles = 'C=CC(=O)N'\n",
    "# bond_atom_map_nums = (1, 2)\n",
    "# isotope_map = {\n",
    "#     7 : 0,\n",
    "#     8 : 0\n",
    "# }\n",
    "\n",
    "## PS\n",
    "# molname = 'polystyrene'\n",
    "# smiles = 'c1ccccc1C=C'\n",
    "# smiles = 'c1ccc[13cH]c1C=C'\n",
    "# bond_atom_map_nums = (7, 8) # for bond cleavage assignment\n",
    "# isotope_map = {\n",
    "#     14 : 0,\n",
    "#     16 : 0\n",
    "# }\n",
    "\n",
    "## Chitosan\n",
    "# molname = 'polyglucosamine'\n",
    "# smiles = 'N[C@H]1C(O)OC(CO)[C@@H](O)[C@@H]1O'\n",
    "\n",
    "orig_smiles_mol = Chem.MolFromSmiles(smiles, sanitize=False)\n",
    "display(orig_smiles_mol)"
   ]
  },
  {
   "cell_type": "markdown",
   "metadata": {},
   "source": [
    "## Expand SMILES to include full chemical info \n",
    "Namely, this includes explicit Hs, Kekulized aromatic rings, and atom map numbers"
   ]
  },
  {
   "cell_type": "code",
   "execution_count": null,
   "metadata": {},
   "outputs": [],
   "source": [
    "from polymerist.monomers.substruct import specification\n",
    "from pathlib import Path\n",
    "\n",
    "outdir = Path(f'demos/{molname}')\n",
    "outdir.mkdir(exist_ok=True, parents=True)\n",
    "\n",
    "new_smiles = specification.expanded_SMILES(smiles)\n",
    "FULL_SMILES_MOL = Chem.MolFromSmiles(new_smiles, sanitize=False)\n",
    "display(FULL_SMILES_MOL)\n",
    "print(new_smiles)"
   ]
  },
  {
   "cell_type": "markdown",
   "metadata": {},
   "source": [
    "## Assigning linkers for inter-monomer bonds"
   ]
  },
  {
   "cell_type": "code",
   "execution_count": null,
   "metadata": {},
   "outputs": [],
   "source": [
    "from enum import Enum, auto\n",
    "\n",
    "class PortMethod(Enum):\n",
    "    '''For specifying how ports should be added to a complete RDMol'''\n",
    "    MAP_NUMBERS   = auto()\n",
    "    BOND_CLEAVAGE = auto()\n",
    "    REACTION      = auto() # not included here : provide an MDL rxn template"
   ]
  },
  {
   "cell_type": "code",
   "execution_count": null,
   "metadata": {},
   "outputs": [],
   "source": [
    "from polymerist.rdutils.labeling import molwise\n",
    "from polymerist.rdutils.amalgamation import portlib, bonding\n",
    "\n",
    "\n",
    "assign_port_by = PortMethod.BOND_CLEAVAGE\n",
    "if portlib.get_num_ports(FULL_SMILES_MOL) == 0: # check for existence of ports to ensure idempotency\n",
    "    if assign_port_by == PortMethod.MAP_NUMBERS:\n",
    "        map_nums = isotope_map.keys()\n",
    "        for (atom_id, map_num) in zip(molwise.atom_ids_by_map_nums(FULL_SMILES_MOL, *map_nums), map_nums):\n",
    "            linker_atom = FULL_SMILES_MOL.GetAtomWithIdx(atom_id)\n",
    "            linker_atom.SetIsotope(isotope_map[map_num])\n",
    "            linker_atom.SetAtomicNum(0)\n",
    "\n",
    "    elif assign_port_by == PortMethod.BOND_CLEAVAGE:\n",
    "        rwmol = Chem.RWMol(FULL_SMILES_MOL)\n",
    "        bond_atom_ids = molwise.atom_ids_by_map_nums(rwmol, *bond_atom_map_nums)\n",
    "        FULL_SMILES_MOL = bonding.decrease_bond_order(rwmol, *bond_atom_ids)\n",
    "        molwise.assign_ordered_atom_map_nums(FULL_SMILES_MOL, in_place=True)\n",
    "        Chem.SanitizeMol(FULL_SMILES_MOL, sanitizeOps=specification.SANITIZE_AS_KEKULE) \n",
    "\n",
    "    elif assign_port_by == PortMethod.REACTION:\n",
    "        raise NotImplemented\n",
    "    else:\n",
    "        raise TypeError(f'Must provide a valid port assignment method (cannot be of type {type(assign_port_by)})')\n",
    "\n",
    "display(FULL_SMILES_MOL)"
   ]
  },
  {
   "cell_type": "markdown",
   "metadata": {},
   "source": [
    "## Enumerating \"cap\" groups from linkers and generating spec-compliant SMARTS"
   ]
  },
  {
   "cell_type": "code",
   "execution_count": null,
   "metadata": {},
   "outputs": [],
   "source": [
    "from copy import deepcopy\n",
    "from polymerist.genutils.iteration import subsets\n",
    "\n",
    "\n",
    "smarts = {}\n",
    "sat_ids = subsets(portlib.get_linker_ids(FULL_SMILES_MOL), exclude_full=True)\n",
    "for i, linkers_to_saturate in enumerate(sat_ids):\n",
    "    new_mono = deepcopy(FULL_SMILES_MOL)\n",
    "    for linker_id in linkers_to_saturate:\n",
    "        linker_atom = new_mono.GetAtomWithIdx(linker_id)\n",
    "        linker_atom.SetAtomicNum(1)\n",
    "    new_mono = molwise.assign_ordered_atom_map_nums(new_mono, in_place=False)\n",
    "    Chem.SanitizeMol(new_mono, sanitizeOps=specification.SANITIZE_AS_KEKULE)\n",
    "\n",
    "    key = molname if not i else f'{molname}_TERM{i}'\n",
    "    smarts[key] = [specification.compliant_mol_SMARTS(Chem.MolToSmiles(new_mono)).replace('#0', '*')] # for some reason, MolToSmarts doesn't reflect hydrogen addition"
   ]
  },
  {
   "cell_type": "markdown",
   "metadata": {},
   "source": [
    "## Specify orientation of terminal monomers and create monomer representation object"
   ]
  },
  {
   "cell_type": "code",
   "execution_count": null,
   "metadata": {},
   "outputs": [],
   "source": [
    "from polymerist.monomers import MonomerGroup\n",
    "from polymerist.genutils.fileutils.pathutils import assemble_path\n",
    "\n",
    "\n",
    "grp = MonomerGroup(\n",
    "    monomers=smarts,\n",
    "    term_orient={\n",
    "        f'{molname}_TERM1' : 'head',\n",
    "        f'{molname}_TERM2' : 'tail',\n",
    "    }    \n",
    ")\n",
    "\n",
    "for (resname, rdmol) in grp.iter_rdmols():\n",
    "    print(resname)\n",
    "    display(rdmol)\n",
    "\n",
    "mono_path = assemble_path(outdir, molname, extension='json')\n",
    "grp.to_file(mono_path) # cache monomer SMARTS for future use"
   ]
  },
  {
   "cell_type": "markdown",
   "metadata": {},
   "source": [
    "## Grow chain and generate PDB (only linear polymers currently supported!)"
   ]
  },
  {
   "cell_type": "code",
   "execution_count": null,
   "metadata": {},
   "outputs": [],
   "source": [
    "from polymerist.polymers import building\n",
    "\n",
    "DOP = 10\n",
    "\n",
    "chain = building.build_linear_polymer(grp, DOP=DOP)\n",
    "pdb_path = assemble_path(outdir, molname, extension='pdb')\n",
    "building.mbmol_to_openmm_pdb(pdb_path, chain)\n",
    "chain.visualize(backend='nglview')"
   ]
  },
  {
   "cell_type": "markdown",
   "metadata": {},
   "source": [
    "# 2) Load and parameterize with OpenFF"
   ]
  },
  {
   "cell_type": "markdown",
   "metadata": {},
   "source": [
    "## Load chemical info into PDB, partitioning into distinct residues"
   ]
  },
  {
   "cell_type": "code",
   "execution_count": null,
   "metadata": {},
   "outputs": [],
   "source": [
    "from openff.toolkit import Topology, Molecule\n",
    "from polymerist.openfftools import topology\n",
    "from polymerist.residues.partition import partition\n",
    "\n",
    "\n",
    "pdb_path=Path(f'pdb_test_cleaned/pdbs/simple_polymers/{molname}.pdb') # using pre-made PDB stand-in for now, as mbuild-generated structures are not connecting middle monomers properly\n",
    "offtop = Topology.from_pdb(pdb_path, _custom_substructures=grp.monomers)\n",
    "was_partitioned = partition(offtop)\n",
    "assert(was_partitioned)\n",
    "offmol = topology.get_largest_offmol(offtop)\n",
    "\n",
    "display(offmol)\n",
    "\n",
    "top_path = assemble_path(outdir, molname, extension='sdf')\n",
    "topology.topology_to_sdf(top_path, offtop) # preserve fully-specified system in SDF format"
   ]
  },
  {
   "cell_type": "markdown",
   "metadata": {},
   "source": [
    "## Assign atomic partial charges"
   ]
  },
  {
   "cell_type": "code",
   "execution_count": null,
   "metadata": {},
   "outputs": [],
   "source": [
    "from polymerist.openfftools import pcharge\n",
    "\n",
    "charger = pcharge.MolCharger.subclass_registry['Espaloma-AM1-BCC']()\n",
    "cmol = charger.charge_molecule(offmol)\n",
    "\n",
    "cmol_path = assemble_path(outdir, molname, postfix='charged', extension='sdf')\n",
    "ctop = cmol.to_topology()\n",
    "topology.topology_to_sdf(cmol_path, ctop)"
   ]
  },
  {
   "cell_type": "markdown",
   "metadata": {},
   "source": [
    "## Defining periodic box and packing with solvent"
   ]
  },
  {
   "cell_type": "code",
   "execution_count": null,
   "metadata": {},
   "outputs": [],
   "source": [
    "import numpy as np\n",
    "from openmm.unit import gram, centimeter, nanometer\n",
    "from polymerist.openfftools.solvation import boxvectors, solvents, packing\n",
    "from polymerist.openfftools.solvation.packing import pack_topology_with_solvent\n",
    "\n",
    "\n",
    "rho = 0.997 * gram / centimeter**3\n",
    "box_dims = np.array([4.0, 4.0, 4.0]) * nanometer\n",
    "solvent = solvents.water_TIP3P\n",
    "\n",
    "box_vecs = boxvectors.box_vectors_flexible(box_dims)\n",
    "solv_top = pack_topology_with_solvent(ctop, solvent=solvent, box_vecs=box_vecs, density=rho)\n",
    "solv_path = assemble_path(outdir, molname, postfix=f'solv_{solvent.name}', extension='sdf')\n",
    "topology.topology_to_sdf(solv_path, solv_top)"
   ]
  },
  {
   "cell_type": "markdown",
   "metadata": {},
   "source": [
    "## Generate OpenMM files and run simulations"
   ]
  },
  {
   "cell_type": "code",
   "execution_count": null,
   "metadata": {},
   "outputs": [],
   "source": [
    "from polymerist.openmmtools.parameters import SimulationParameters\n",
    "from polymerist.openfftools.omminter import openff_topology_to_openmm\n",
    "from polymerist.openmmtools.execution import run_simulation_schedule\n",
    "\n",
    "ff_name = 'openff-2.0.0'\n",
    "sim_params_path = Path('sample_sim_params.json')\n",
    "\n",
    "sim_params = SimulationParameters.from_file(sim_params_path)\n",
    "print(sim_params.thermo_params)\n",
    "print(sim_params.integ_params)\n",
    "print(sim_params.reporter_params)\n",
    "schedule = {\n",
    "    'demo' : sim_params\n",
    "}\n",
    "\n",
    "ommtop, ommsys, ommpos = openff_topology_to_openmm(solv_top, forcefield=ff_name, box_vecs=box_vecs)\n",
    "\n",
    "ommdir = outdir / 'openmm'\n",
    "ommdir.mkdir(exist_ok=True)\n",
    "history = run_simulation_schedule(ommdir, schedule, ommtop, ommsys, ommpos, return_history=True)"
   ]
  },
  {
   "cell_type": "code",
   "execution_count": null,
   "metadata": {},
   "outputs": [],
   "source": []
  }
 ],
 "metadata": {
  "kernelspec": {
   "display_name": "openff-pdb-pr",
   "language": "python",
   "name": "python3"
  },
  "language_info": {
   "codemirror_mode": {
    "name": "ipython",
    "version": 3
   },
   "file_extension": ".py",
   "mimetype": "text/x-python",
   "name": "python",
   "nbconvert_exporter": "python",
   "pygments_lexer": "ipython3",
   "version": "3.11.5"
  }
 },
 "nbformat": 4,
 "nbformat_minor": 2
}
