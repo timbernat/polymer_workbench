{
 "cells": [
  {
   "cell_type": "markdown",
   "metadata": {},
   "source": [
    "# Basic outline of polymer loading with OpenFF and our tools"
   ]
  },
  {
   "cell_type": "markdown",
   "metadata": {},
   "source": [
    "## Basic imports"
   ]
  },
  {
   "cell_type": "code",
   "execution_count": 1,
   "metadata": {},
   "outputs": [
    {
     "data": {
      "application/vnd.jupyter.widget-view+json": {
       "model_id": "2209b68438534e8db3505ee572b442ff",
       "version_major": 2,
       "version_minor": 0
      },
      "text/plain": []
     },
     "metadata": {},
     "output_type": "display_data"
    }
   ],
   "source": [
    "# Supressing annoying warnings (!must be done first!)\n",
    "import warnings\n",
    "warnings.catch_warnings(record=True)\n",
    "warnings.filterwarnings('ignore', category=UserWarning)\n",
    "warnings.filterwarnings('ignore', category=DeprecationWarning)\n",
    "\n",
    "# Logging\n",
    "from polymerist.genutils.logutils.IOHandlers import LOG_FORMATTER\n",
    "\n",
    "import logging\n",
    "logging.basicConfig(\n",
    "    level=logging.INFO,\n",
    "    format =LOG_FORMATTER._fmt,\n",
    "    datefmt=LOG_FORMATTER.datefmt,\n",
    "    force=True\n",
    ")\n",
    "LOGGER = logging.getLogger(__name__)"
   ]
  },
  {
   "cell_type": "markdown",
   "metadata": {},
   "source": [
    "## Defining paths to PDB and monomer template files"
   ]
  },
  {
   "cell_type": "code",
   "execution_count": 2,
   "metadata": {},
   "outputs": [],
   "source": [
    "from pathlib import Path\n",
    "from polymerist.genutils.fileutils.pathutils import assemble_path\n",
    "\n",
    "\n",
    "pdb_dir = Path('polymer_examples/compatible_pdbs/simple_polymers')\n",
    "mono_dir = Path('polymer_examples/monomer_generation/json_files/')\n",
    "\n",
    "mol_name = 'polyvinylchloride'\n",
    "\n",
    "pdb_path  = assemble_path(pdb_dir, mol_name, extension='pdb')\n",
    "mono_path = assemble_path(mono_dir, mol_name, extension='json')\n",
    "\n",
    "for path in (pdb_path, mono_path):\n",
    "    assert(path.exists())"
   ]
  },
  {
   "cell_type": "markdown",
   "metadata": {},
   "source": [
    "## Create Monomer Group"
   ]
  },
  {
   "cell_type": "code",
   "execution_count": 3,
   "metadata": {},
   "outputs": [
    {
     "name": "stdout",
     "output_type": "stream",
     "text": [
      "polyvinylchloride\n"
     ]
    },
    {
     "data": {
      "image/png": "[encoded data removed]",
      "text/plain": [
       "<rdkit.Chem.rdchem.Mol at 0x7f0a6b336ea0>"
      ]
     },
     "metadata": {},
     "output_type": "display_data"
    },
    {
     "name": "stdout",
     "output_type": "stream",
     "text": [
      "polyvinylchloride_TERM2\n"
     ]
    },
    {
     "data": {
      "image/png": "[encoded data removed]",
      "text/plain": [
       "<rdkit.Chem.rdchem.Mol at 0x7f0a6b337140>"
      ]
     },
     "metadata": {},
     "output_type": "display_data"
    },
    {
     "name": "stdout",
     "output_type": "stream",
     "text": [
      "polyvinylchloride_TERM4\n"
     ]
    },
    {
     "data": {
      "image/png": "[encoded data removed]",
      "text/plain": [
       "<rdkit.Chem.rdchem.Mol at 0x7f0a6b336e30>"
      ]
     },
     "metadata": {},
     "output_type": "display_data"
    }
   ],
   "source": [
    "from polymerist.monomers import MonomerGroup\n",
    "\n",
    "grp = MonomerGroup.from_file(mono_path)\n",
    "for resname, mol in grp.iter_rdmols():\n",
    "    print(resname)\n",
    "    display(mol)"
   ]
  },
  {
   "cell_type": "markdown",
   "metadata": {},
   "source": [
    "## Load topology with substructures, generate partition"
   ]
  },
  {
   "cell_type": "code",
   "execution_count": 4,
   "metadata": {},
   "outputs": [
    {
     "data": {
      "application/vnd.jupyter.widget-view+json": {
       "model_id": "026b6b3cacfd4229a693911df0ddc950",
       "version_major": 2,
       "version_minor": 0
      },
      "text/plain": [
       "NGLWidget()"
      ]
     },
     "metadata": {},
     "output_type": "display_data"
    }
   ],
   "source": [
    "from openff.toolkit import Topology, Molecule\n",
    "from polymerist.openfftools import topology\n",
    "from polymerist.residues.partition import partition\n",
    "\n",
    "offtop = Topology.from_pdb(pdb_path, _custom_substructures=grp.monomers)\n",
    "was_partitioned = partition(offtop)\n",
    "assert(was_partitioned)\n",
    "\n",
    "offmol = topology.get_largest_offmol(offtop)\n",
    "display(offmol)"
   ]
  },
  {
   "cell_type": "code",
   "execution_count": 9,
   "metadata": {},
   "outputs": [
    {
     "name": "stderr",
     "output_type": "stream",
     "text": [
      "2023-11-02 15:24:42.095 [INFO    :      parameters:line 2993] - Attempting to up-convert Electrostatics section from 0.3 to 0.4\n",
      "2023-11-02 15:24:42.096 [INFO    :      parameters:line 3003] - Successfully up-converted Electrostatics section from 0.3 to 0.4. `method=\"PME\"` is now split into `periodic_potential=\"Ewald3D-ConductingBoundary\"`, `nonperiodic_potential=\"Coulomb\"`, and `exception_potential=\"Coulomb\"`.\n",
      "Warning: Cannot perform Hydrogen sampling with GPU-Omega: GPU-Omega disabled.\n"
     ]
    }
   ],
   "source": [
    "from openff.toolkit import ForceField\n",
    "from openff.interchange import Interchange\n",
    "from polymerist.openfftools import FFDIR\n",
    "\n",
    "ff = ForceField(str(FFDIR / 'openff-2.0.0.offxml'))\n",
    "inc = Interchange.from_smirnoff(ff, offtop)"
   ]
  },
  {
   "cell_type": "code",
   "execution_count": 10,
   "metadata": {},
   "outputs": [
    {
     "ename": "ValidationError",
     "evalue": "1 validation error for GROMACSAtom\nresidue_index\n  ensure this value is greater than 0 (type=value_error.number.not_gt; limit_value=0)",
     "output_type": "error",
     "traceback": [
      "\u001b[0;31m---------------------------------------------------------------------------\u001b[0m",
      "\u001b[0;31mValidationError\u001b[0m                           Traceback (most recent call last)",
      "\u001b[1;32m/home/timber/Documents/Python/polymerist_dev/workflow_demo.ipynb Cell 11\u001b[0m line \u001b[0;36m1\n\u001b[0;32m----> <a href='vscode-notebook-cell://ssh-remote%2B7b22686f73744e616d65223a225368697274735f4c61625f436f6d7075746572227d/home/timber/Documents/Python/polymerist_dev/workflow_demo.ipynb#X13sdnNjb2RlLXJlbW90ZQ%3D%3D?line=0'>1</a>\u001b[0m inc\u001b[39m.\u001b[39;49mto_gromacs(\u001b[39m'\u001b[39;49m\u001b[39mdemo\u001b[39;49m\u001b[39m'\u001b[39;49m)\n",
      "File \u001b[0;32m~/miniconda3/envs/openff-pdb-pr/lib/python3.11/site-packages/openff/interchange/components/interchange.py:326\u001b[0m, in \u001b[0;36mInterchange.to_gromacs\u001b[0;34m(self, prefix, decimal)\u001b[0m\n\u001b[1;32m    322\u001b[0m \u001b[39mfrom\u001b[39;00m \u001b[39mopenff\u001b[39;00m\u001b[39m.\u001b[39;00m\u001b[39minterchange\u001b[39;00m\u001b[39m.\u001b[39;00m\u001b[39minterop\u001b[39;00m\u001b[39m.\u001b[39;00m\u001b[39mgromacs\u001b[39;00m\u001b[39m.\u001b[39;00m\u001b[39mexport\u001b[39;00m\u001b[39m.\u001b[39;00m\u001b[39m_export\u001b[39;00m \u001b[39mimport\u001b[39;00m GROMACSWriter\n\u001b[1;32m    323\u001b[0m \u001b[39mfrom\u001b[39;00m \u001b[39mopenff\u001b[39;00m\u001b[39m.\u001b[39;00m\u001b[39minterchange\u001b[39;00m\u001b[39m.\u001b[39;00m\u001b[39msmirnoff\u001b[39;00m\u001b[39m.\u001b[39;00m\u001b[39m_gromacs\u001b[39;00m \u001b[39mimport\u001b[39;00m _convert\n\u001b[1;32m    325\u001b[0m writer \u001b[39m=\u001b[39m GROMACSWriter(\n\u001b[0;32m--> 326\u001b[0m     system\u001b[39m=\u001b[39m_convert(\u001b[39mself\u001b[39;49m),\n\u001b[1;32m    327\u001b[0m     top_file\u001b[39m=\u001b[39mprefix \u001b[39m+\u001b[39m \u001b[39m\"\u001b[39m\u001b[39m.top\u001b[39m\u001b[39m\"\u001b[39m,\n\u001b[1;32m    328\u001b[0m     gro_file\u001b[39m=\u001b[39mprefix \u001b[39m+\u001b[39m \u001b[39m\"\u001b[39m\u001b[39m.gro\u001b[39m\u001b[39m\"\u001b[39m,\n\u001b[1;32m    329\u001b[0m )\n\u001b[1;32m    331\u001b[0m writer\u001b[39m.\u001b[39mto_top()\n\u001b[1;32m    332\u001b[0m writer\u001b[39m.\u001b[39mto_gro(decimal\u001b[39m=\u001b[39mdecimal)\n",
      "File \u001b[0;32m~/miniconda3/envs/openff-pdb-pr/lib/python3.11/site-packages/openff/interchange/smirnoff/_gromacs.py:161\u001b[0m, in \u001b[0;36m_convert\u001b[0;34m(interchange)\u001b[0m\n\u001b[1;32m    152\u001b[0m name \u001b[39m=\u001b[39m (\n\u001b[1;32m    153\u001b[0m     SYMBOLS[atom\u001b[39m.\u001b[39matomic_number]\n\u001b[1;32m    154\u001b[0m     \u001b[39mif\u001b[39;00m \u001b[39mgetattr\u001b[39m(atom, \u001b[39m\"\u001b[39m\u001b[39mname\u001b[39m\u001b[39m\"\u001b[39m, \u001b[39m\"\u001b[39m\u001b[39m\"\u001b[39m) \u001b[39m==\u001b[39m \u001b[39m\"\u001b[39m\u001b[39m\"\u001b[39m\n\u001b[1;32m    155\u001b[0m     \u001b[39melse\u001b[39;00m atom\u001b[39m.\u001b[39mname\n\u001b[1;32m    156\u001b[0m )\n\u001b[1;32m    158\u001b[0m charge \u001b[39m=\u001b[39m _partial_charges[interchange\u001b[39m.\u001b[39mtopology\u001b[39m.\u001b[39matom_index(atom)]\n\u001b[1;32m    160\u001b[0m molecule\u001b[39m.\u001b[39matoms\u001b[39m.\u001b[39mappend(\n\u001b[0;32m--> 161\u001b[0m     GROMACSAtom(\n\u001b[1;32m    162\u001b[0m         index\u001b[39m=\u001b[39;49munique_molecule\u001b[39m.\u001b[39;49matom_index(atom) \u001b[39m+\u001b[39;49m \u001b[39m1\u001b[39;49m,\n\u001b[1;32m    163\u001b[0m         name\u001b[39m=\u001b[39;49mname,\n\u001b[1;32m    164\u001b[0m         atom_type\u001b[39m=\u001b[39;49m_atom_atom_type_map[atom],\n\u001b[1;32m    165\u001b[0m         residue_index\u001b[39m=\u001b[39;49matom\u001b[39m.\u001b[39;49mmetadata\u001b[39m.\u001b[39;49mget(\n\u001b[1;32m    166\u001b[0m             \u001b[39m\"\u001b[39;49m\u001b[39mresidue_number\u001b[39;49m\u001b[39m\"\u001b[39;49m,\n\u001b[1;32m    167\u001b[0m             unique_molecule_index \u001b[39m+\u001b[39;49m \u001b[39m1\u001b[39;49m,\n\u001b[1;32m    168\u001b[0m         ),\n\u001b[1;32m    169\u001b[0m         residue_name\u001b[39m=\u001b[39;49matom\u001b[39m.\u001b[39;49mmetadata[\u001b[39m\"\u001b[39;49m\u001b[39mresidue_name\u001b[39;49m\u001b[39m\"\u001b[39;49m],\n\u001b[1;32m    170\u001b[0m         charge_group_number\u001b[39m=\u001b[39;49m\u001b[39m1\u001b[39;49m,\n\u001b[1;32m    171\u001b[0m         charge\u001b[39m=\u001b[39;49mcharge,\n\u001b[1;32m    172\u001b[0m         mass\u001b[39m=\u001b[39;49mMASSES[atom\u001b[39m.\u001b[39;49matomic_number],\n\u001b[1;32m    173\u001b[0m     ),\n\u001b[1;32m    174\u001b[0m )\n\u001b[1;32m    176\u001b[0m this_molecule_atom_type_names \u001b[39m=\u001b[39m \u001b[39mtuple\u001b[39m(\n\u001b[1;32m    177\u001b[0m     atom\u001b[39m.\u001b[39matom_type \u001b[39mfor\u001b[39;00m atom \u001b[39min\u001b[39;00m molecule\u001b[39m.\u001b[39matoms\n\u001b[1;32m    178\u001b[0m )\n\u001b[1;32m    180\u001b[0m molecule\u001b[39m.\u001b[39m_contained_atom_types \u001b[39m=\u001b[39m {\n\u001b[1;32m    181\u001b[0m     atom_type_name: system\u001b[39m.\u001b[39matom_types[atom_type_name]\n\u001b[1;32m    182\u001b[0m     \u001b[39mfor\u001b[39;00m atom_type_name \u001b[39min\u001b[39;00m this_molecule_atom_type_names\n\u001b[1;32m    183\u001b[0m }\n",
      "File \u001b[0;32m~/miniconda3/envs/openff-pdb-pr/lib/python3.11/site-packages/pydantic/main.py:341\u001b[0m, in \u001b[0;36mpydantic.main.BaseModel.__init__\u001b[0;34m()\u001b[0m\n",
      "\u001b[0;31mValidationError\u001b[0m: 1 validation error for GROMACSAtom\nresidue_index\n  ensure this value is greater than 0 (type=value_error.number.not_gt; limit_value=0)"
     ]
    }
   ],
   "source": [
    "inc.to_gromacs('demo')"
   ]
  }
 ],
 "metadata": {
  "kernelspec": {
   "display_name": "openff-pdb-pr",
   "language": "python",
   "name": "python3"
  },
  "language_info": {
   "codemirror_mode": {
    "name": "ipython",
    "version": 3
   },
   "file_extension": ".py",
   "mimetype": "text/x-python",
   "name": "python",
   "nbconvert_exporter": "python",
   "pygments_lexer": "ipython3",
   "version": "3.11.5"
  }
 },
 "nbformat": 4,
 "nbformat_minor": 2
}
