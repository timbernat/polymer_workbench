{
 "cells": [
  {
   "cell_type": "markdown",
   "metadata": {},
   "source": [
    "# Development of coordinate generation, lattice placement, and symmetry group functionality"
   ]
  },
  {
   "cell_type": "markdown",
   "metadata": {},
   "source": [
    "## Bounding occupancy of minimum-size cubic lattices"
   ]
  },
  {
   "cell_type": "code",
   "execution_count": null,
   "metadata": {},
   "outputs": [],
   "source": [
    "from polymerist.maths.lattices.coordinates import Coordinates, BoundingBox\n",
    "from polymerist.maths.lattices.integral import CubicIntegerLattice\n",
    "from rdkit import Chem\n",
    "from rdkit.Chem.AllChem import Compute2DCoords, EmbedMolecule\n",
    "from rdkit.Chem import rdGeometry, rdMolTransforms\n",
    "from rdkit.Geometry import Point3D\n",
    "from polymerist.polymers.monomers.specification import expanded_SMILES\n",
    "import numpy as np"
   ]
  },
  {
   "cell_type": "code",
   "execution_count": null,
   "metadata": {},
   "outputs": [],
   "source": [
    "import matplotlib.pyplot as plt\n",
    "\n",
    "p = 3\n",
    "N = 1E6\n",
    "n = np.arange(1, N+1)\n",
    "a = np.floor(N / n)\n",
    "d = np.ceil(a**(1/p))\n",
    "c = d**p\n",
    "theta = a / c\n",
    "\n",
    "# plt.loglog(n, theta)\n",
    "plt.plot(n, theta)\n",
    "\n",
    "plt.axhline(1, color='r')\n",
    "plt.axhline(0.5**(p-1), color='r')\n",
    "print(theta.min(), 0.5**(p-1))"
   ]
  },
  {
   "cell_type": "markdown",
   "metadata": {},
   "source": [
    "## Playing with lattice generation (i.e. generating non-cubic lattices)"
   ]
  },
  {
   "cell_type": "code",
   "execution_count": null,
   "metadata": {},
   "outputs": [],
   "source": [
    "from math import ceil\n",
    "import numpy as np\n",
    "import matplotlib.pyplot as plt\n",
    "\n",
    "from polymerist.maths.lattices.integral import CubicIntegerLattice, nearest_int_coord_along_normal, generate_int_lattice\n",
    "from polymerist.maths.lattices.bravais import COMMON_UNIT_LATTICE_VECTORS, LatticeParameters, identify_bravais_points_within_bbox\n",
    "from polymerist.maths.lattices.coordinates import Coordinates, BoundingBox"
   ]
  },
  {
   "cell_type": "markdown",
   "metadata": {},
   "source": [
    "### Generate Argon atom XYZ coordinates of reference unit vector transformed versions of an integer lattice"
   ]
  },
  {
   "cell_type": "code",
   "execution_count": null,
   "metadata": {},
   "outputs": [],
   "source": [
    "from pathlib import Path\n",
    "from rdkit import Chem\n",
    "from rdkit.Chem.AllChem import Compute2DCoords, EmbedMolecule\n",
    "from rdkit.Geometry import Point3D\n",
    "\n",
    "\n",
    "d = 4\n",
    "dims = np.array([d, d, d])\n",
    "latt = CubicIntegerLattice(dims)\n",
    "\n",
    "aff = np.eye(4)\n",
    "aff[:-1, -1] = 0.5\n",
    "bound_points = CubicIntegerLattice(dims + 1).affine_transformation(aff)\n",
    "bbox = BoundingBox(bound_points)\n",
    "\n",
    "outdir = Path('lattices')\n",
    "outdir.mkdir(exist_ok=True)\n",
    "for name, lattice_vectors in COMMON_UNIT_LATTICE_VECTORS.items():\n",
    "    lp = LatticeParameters.from_lattice_vectors(lattice_vectors)\n",
    "    print(name, lp.lengths, lp.axial_angles(in_degrees=True), lp.volume)\n",
    "\n",
    "    new_points = latt.points @ lattice_vectors.T\n",
    "    contained_in_lattice = bbox.surrounds(new_points, strict=False)\n",
    "    outside_lattice = ~contained_in_lattice\n",
    "\n",
    "    new_points = np.mod(new_points - bbox.lower, bbox.dims)\n",
    "    l_init = len(new_points)\n",
    "    new_points = np.unique(new_points, axis=0)\n",
    "    l_final = len(new_points)\n",
    "    print(l_init - l_final)\n",
    "\n",
    "    conf = Chem.Conformer()\n",
    "    atom_smiles = []\n",
    "    for i, point in enumerate(new_points):\n",
    "        conf.SetAtomPosition(i, point.astype(float))\n",
    "        atom_smiles.append('[Ar]')\n",
    "    conf.Set3D(True)\n",
    "\n",
    "    mol = Chem.MolFromSmiles('.'.join(atom_smiles))\n",
    "    mol.AddConformer(conf)\n",
    "    xyzpath = outdir / f'{name.lower()}.xyz'\n",
    "    Chem.MolToXYZFile(mol, str(xyzpath))"
   ]
  },
  {
   "cell_type": "markdown",
   "metadata": {},
   "source": [
    "### Development of Bravais-lattice-in-bouding-box calculation"
   ]
  },
  {
   "cell_type": "code",
   "execution_count": null,
   "metadata": {},
   "outputs": [],
   "source": [
    "lattice_vectors = np.random.random((2,2)) * 2\n",
    "# A = np.array([[1.70662421, 0.2153812 ],\n",
    "#        [0.8585849 , 0.69584722]])\n",
    "\n",
    "bbox_extrema = np.array([\n",
    "    [ 0.0, 0.0],\n",
    "    # [ 1.0, 3.6],\n",
    "    [ 7.0, 14.4],\n",
    "])\n",
    "bbox = BoundingBox(bbox_extrema)\n",
    "\n",
    "inner_brav_latt, brav_int_latt = identify_bravais_points_within_bbox(lattice_vectors, bbox)\n",
    "\n",
    "s = 6\n",
    "fig = plt.figure(figsize=(s, s))\n",
    "ax  = fig.add_subplot()\n",
    "ax.scatter([0], [0], color='k', marker='*') # plot the origin\n",
    "bbox_rect = plt.Rectangle(bbox.minimum, *bbox.dims, edgecolor='b', facecolor='c', alpha=0.3)\n",
    "ax.add_patch(bbox_rect)\n",
    "# ax.scatter(*bbox.vertices.T, color='b')\n",
    "ax.scatter(*lattice_vectors.T, color='m')\n",
    "\n",
    "# ax.scatter(*inv_bbox_coords.points.T, color='y')\n",
    "# ax.scatter(*integral_bounding_points.T, color='tab:orange')\n",
    "# ax.scatter(*trial_latt_points.points.T, color='tab:purple')\n",
    "\n",
    "ax.scatter(*inner_brav_latt.points.T , color='g')\n",
    "ax.scatter(*brav_int_latt.odd_points.T, color='r')\n",
    "ax.scatter(*brav_int_latt.even_points.T, color='b')"
   ]
  },
  {
   "cell_type": "code",
   "execution_count": null,
   "metadata": {},
   "outputs": [],
   "source": [
    "from mpl_toolkits.mplot3d.art3d import Poly3DCollection\n",
    "\n",
    "lattice_vectors = COMMON_UNIT_LATTICE_VECTORS['RHOMBOHEDRAL']\n",
    "# lattice_vectors = COMMON_UNIT_LATTICE_VECTORS['HEXAGONAL']\n",
    "int_latt = CubicIntegerLattice(np.array([4,4,4]))\n",
    "bbox = BoundingBox(int_latt)\n",
    "\n",
    "inner_brav_latt, brav_int_latt = identify_bravais_points_within_bbox(lattice_vectors, bbox)\n",
    "\n",
    "s = 6\n",
    "fig = plt.figure(figsize=(s, s))\n",
    "ax  = fig.add_subplot(projection='3d')\n",
    "ax.scatter(*np.zeros(inner_brav_latt.n_dims), color='k', marker='*') # plot the origin\n",
    "# ax.scatter(*int_latt.points.T , color='g')\n",
    "ax.scatter(*inner_brav_latt.points.T , color='m')\n",
    "ax.scatter(*lattice_vectors.T , color='g')\n",
    "\n",
    "\n",
    "bounding_vol = Poly3DCollection(bbox.face_coords, facecolor='c', edgecolor='b', alpha=0.3)\n",
    "# ax.add_collection3d(bounding_vol)\n",
    "# ax.scatter(*brav_int_latt.odd_points.T, color='r')\n",
    "# ax.scatter(*brav_int_latt.even_points.T, color='b')\n",
    "\n",
    "\n",
    "# bbox_rect = plt.Rectangle(bbox.minimum, *bbox.dims, edgecolor='b', facecolor='c', alpha=0.3)\n",
    "# ax.add_patch(bbox_rect)\n",
    "# # ax.scatter(*bbox.vertices.T, color='b')\n",
    "# ax.scatter(*lattice_vectors.T, color='m')\n",
    "\n",
    "# # ax.scatter(*inv_bbox_coords.points.T, color='y')\n",
    "# # ax.scatter(*integral_bounding_points.T, color='tab:orange')\n",
    "# # ax.scatter(*trial_latt_points.points.T, color='tab:purple')\n"
   ]
  },
  {
   "cell_type": "code",
   "execution_count": null,
   "metadata": {},
   "outputs": [],
   "source": [
    "d = 3\n",
    "bb = BoundingBox(np.array([\n",
    "    [0]*d,\n",
    "    [1]*d,\n",
    "]))\n",
    "print(bb.lex_ordered_points)\n",
    "print(bb.face_indices)"
   ]
  },
  {
   "cell_type": "markdown",
   "metadata": {},
   "source": [
    "### Computing bounding box face orientations from directed graph DFS traversal"
   ]
  },
  {
   "cell_type": "code",
   "execution_count": null,
   "metadata": {},
   "outputs": [],
   "source": [
    "import networkx as nx\n",
    "import numpy as np\n",
    "\n",
    "G = nx.hypercube_graph(3).to_directed()\n",
    "\n",
    "node_coords = np.array(G.nodes)\n",
    "node_coords = node_coords[np.lexsort(node_coords.T)] # place in lex order along coordinates\n",
    "init_node = tuple(node_coords[0]) # take lowest-coordinate node in lex order as starting point\n",
    "for i, coords in enumerate(node_coords):\n",
    "    G.nodes[tuple(coords)]['order'] = i\n",
    "nx.draw(G, with_labels=True, labels=nx.get_node_attributes(G, 'order'))\n",
    "\n",
    "faces = []\n",
    "\n",
    "curr_face = []\n",
    "curr_node = init_node\n",
    "face_start_node = curr_node\n",
    "visited = {node : False for node in G.nodes}\n",
    "while G.degree[curr_node] > 0:\n",
    "    visited[curr_node] = True\n",
    "    if sum(visited.values()) == G.number_of_nodes():\n",
    "        visited = {node : False for node in G.nodes}\n",
    "\n",
    "    ordc = G.nodes[curr_node]['order'] # add the current node index to the current face\n",
    "    print(ordc)\n",
    "    curr_face.append(ordc) # add the current node index to the current face\n",
    "    next_node = min((nb for nb in G.neighbors(curr_node) if not visited[nb]), key=lambda node : G.nodes[node]['order']) # choose neighbor which comes soonest in the vertex ordering to visit next\n",
    "\n",
    "    if next_node == face_start_node: # close, record, and reset face when re-encountering the node the face started with\n",
    "        print(curr_face)\n",
    "        faces.append([i for i in curr_face])\n",
    "        curr_face.clear()\n",
    "\n",
    "    G.remove_edge(curr_node, next_node)\n",
    "    if G.degree[next_node] > 0:\n",
    "        curr_node = next_node\n",
    "    "
   ]
  },
  {
   "cell_type": "markdown",
   "metadata": {},
   "source": [
    "### Developing more efficient integer-in-polytope detection (beyond tight bounding box)"
   ]
  },
  {
   "cell_type": "code",
   "execution_count": null,
   "metadata": {},
   "outputs": [],
   "source": [
    "from scipy.spatial import ConvexHull, convex_hull_plot_2d\n",
    "from scipy.spatial import Delaunay, delaunay_plot_2d\n",
    "\n",
    "hull = ConvexHull(int_bounds)\n",
    "ax1  = fig.add_subplot(1,2,2)\n",
    "\n",
    "convex_hull_plot_2d(hull)\n",
    "plt.show()"
   ]
  },
  {
   "cell_type": "code",
   "execution_count": 12,
   "metadata": {},
   "outputs": [],
   "source": [
    "latt = CubicIntegerLattice(np.array([2,2,2]))\n",
    "\n",
    "delaun  = Delaunay(latt.points)\n",
    "# delaunay_plot_2d(delaun)\n",
    "# plt.show()"
   ]
  },
  {
   "cell_type": "code",
   "execution_count": 13,
   "metadata": {},
   "outputs": [
    {
     "data": {
      "text/plain": [
       "array([[0., 0., 0.],\n",
       "       [0., 0., 1.],\n",
       "       [0., 1., 0.],\n",
       "       [0., 1., 1.],\n",
       "       [1., 0., 0.],\n",
       "       [1., 0., 1.],\n",
       "       [1., 1., 0.],\n",
       "       [1., 1., 1.]])"
      ]
     },
     "execution_count": 13,
     "metadata": {},
     "output_type": "execute_result"
    }
   ],
   "source": [
    "delaun.points"
   ]
  },
  {
   "cell_type": "code",
   "execution_count": 14,
   "metadata": {},
   "outputs": [
    {
     "data": {
      "text/plain": [
       "array([[0., 1., 1.],\n",
       "       [0., 1., 0.],\n",
       "       [1., 0., 0.],\n",
       "       [0., 0., 0.]])"
      ]
     },
     "execution_count": 14,
     "metadata": {},
     "output_type": "execute_result"
    }
   ],
   "source": [
    "delaun.points[delaun.simplices[0]]"
   ]
  },
  {
   "cell_type": "markdown",
   "metadata": {},
   "source": [
    "## Playing with cubic/octahedral symmetry groups"
   ]
  },
  {
   "cell_type": "code",
   "execution_count": 15,
   "metadata": {},
   "outputs": [],
   "source": [
    "import numpy as np\n",
    "from polymerist.graphics.plotutils import scatter_3D\n",
    "from polymerist.maths.lattices.integral import generate_int_lattice\n",
    "\n",
    "d : int = 4\n",
    "\n",
    "# produce integer lattice\n",
    "dims = np.array([d, d, d])\n",
    "num_points = dims.prod()\n",
    "lattice = generate_int_lattice(*dims)\n",
    "\n",
    "# sort lexicographically\n",
    "order = np.lexsort(lattice.T)\n",
    "lattice = lattice[order]\n",
    "\n",
    "# determine even and odd positions after sorting\n",
    "index_is_odd = lattice.sum(axis=1) % 2\n",
    "index_is_odd = index_is_odd.astype(bool)\n",
    "\n",
    "# center lattice at the origin\n",
    "COM = lattice.mean(axis=0)\n",
    "lattice = lattice - COM # sort lexicographically and translate center of grid to origin\n",
    "\n",
    "# print(order, lattice[order])"
   ]
  },
  {
   "cell_type": "code",
   "execution_count": 16,
   "metadata": {},
   "outputs": [
    {
     "data": {
      "image/png": "[encoded data removed]",
      "text/plain": [
       "<Figure size 640x480 with 1 Axes>"
      ]
     },
     "metadata": {},
     "output_type": "display_data"
    }
   ],
   "source": [
    "import matplotlib.pyplot as plt\n",
    "\n",
    "alternate : bool = not False\n",
    "fig = plt.figure()\n",
    "ax = fig.add_subplot(projection='3d')\n",
    "\n",
    "if alternate:\n",
    "    ax.scatter(*lattice[ index_is_odd].T, color='r')\n",
    "    ax.scatter(*lattice[~index_is_odd].T, color='b')\n",
    "else:\n",
    "    ax.scatter(*lattice.T, color='r')\n",
    "\n",
    "labels = np.lexsort(lattice.T)\n",
    "for i, coords in zip(labels, lattice):\n",
    "    ax.text(*coords, str(i))\n",
    "\n",
    "ax.set_xlabel('x')\n",
    "ax.set_ylabel('y')\n",
    "ax.set_zlabel('z')\n",
    "\n",
    "plt.show()"
   ]
  },
  {
   "cell_type": "code",
   "execution_count": 17,
   "metadata": {},
   "outputs": [],
   "source": [
    "from typing import Generator, Iterable\n",
    "from itertools import permutations, product as cartesian_product\n",
    "from polymerist.maths.combinatorics.permutations import Permutation, Cycle\n",
    "from scipy.spatial.transform import Rotation, Slerp\n",
    "\n",
    "\n",
    "def sign_alternations(n : int) -> Generator[tuple[int, int, int], None, None]:\n",
    "    '''Generate every possible n-tuple containing either 1 or -1'''\n",
    "    for signs in cartesian_product(*([1, -1] for _ in range(n))):\n",
    "        yield signs\n",
    "\n",
    "def orthogonal_basis_transforms(n : int=3) -> Generator[np.ndarray, None, None]:\n",
    "    '''Generate all matrices in n-dimensions which permute or invert the standard basis vectors'''\n",
    "    for signs in sign_alternations(n):\n",
    "        matr = np.diag(signs)\n",
    "        for perm in Permutation.symmetric_group(n):\n",
    "            yield matr @ perm.matrix\n",
    "\n",
    "def interpolate_linear_transformation(trans : np.ndarray, n_frames : int=10) -> np.ndarray:\n",
    "    '''Accepts a linear transformation matrix (of size MxN) and a number of frames F\n",
    "    Returns an FxMxN array containing uniforms \"steps\" between the identity and the desired transformation'''\n",
    "    I = Rotation.identity()\n",
    "    rot = Rotation.from_matrix(trans)\n",
    "    full_rot = Rotation.concatenate([I, rot])\n",
    "    interpolator = Slerp(np.linspace(0, 1, num=len(full_rot), dtype=int), full_rot)\n",
    "\n",
    "    return interpolator(np.linspace(0, 1, num=n_frames)).as_matrix()"
   ]
  },
  {
   "cell_type": "code",
   "execution_count": 18,
   "metadata": {},
   "outputs": [
    {
     "data": {
      "text/plain": [
       "True"
      ]
     },
     "execution_count": 18,
     "metadata": {},
     "output_type": "execute_result"
    }
   ],
   "source": [
    "from collections import defaultdict\n",
    "\n",
    "perms  = {}\n",
    "all_cycles = {}\n",
    "\n",
    "orbits = defaultdict(set)\n",
    "stabilizers = defaultdict(list)\n",
    "\n",
    "init_order = np.lexsort(lattice.T)\n",
    "group_matrices = [el for el in orthogonal_basis_transforms(3)]\n",
    "for i, trans in enumerate(group_matrices):\n",
    "    new = lattice @ trans\n",
    "    perms[i]      = perm   = Permutation(*np.lexsort(new.T))\n",
    "    all_cycles[i] = cycles = perm.to_cycles(canonicalize=False)\n",
    "    \n",
    "    for cycle in cycles:\n",
    "        if len(cycle) == 1:\n",
    "            point_idx = cycle[0] # get the one element in the singleton cycle\n",
    "            stabilizers[point_idx].append(trans)\n",
    "\n",
    "        for point_idx in cycle:\n",
    "            orbits[point_idx].update(cycle)\n",
    "\n",
    "unique_orbits = set(tuple(sorted(orbit)) for orbit in orbits.values())\n",
    "sum(len(i) for i in unique_orbits) == num_points"
   ]
  },
  {
   "cell_type": "code",
   "execution_count": 19,
   "metadata": {},
   "outputs": [
    {
     "name": "stdout",
     "output_type": "stream",
     "text": [
      "[2, 2, 2, 2, 2, 2, 2, 2, 2, 2, 2, 2, 2, 2, 2, 2, 2, 2, 2, 2, 2, 2, 2, 2]\n",
      "[6, 6, 6, 6, 6, 6, 6, 6]\n",
      "[6, 6, 6, 6, 6, 6, 6, 6]\n",
      "[2, 2, 2, 2, 2, 2, 2, 2, 2, 2, 2, 2, 2, 2, 2, 2, 2, 2, 2, 2, 2, 2, 2, 2]\n"
     ]
    }
   ],
   "source": [
    "stab_sizes = {k : len(v) for k, v in stabilizers.items()}\n",
    "for i in unique_orbits:\n",
    "    print([stab_sizes[j] for j in i])"
   ]
  },
  {
   "cell_type": "markdown",
   "metadata": {},
   "source": [
    "### Visualize all symmetry actions as GIFs"
   ]
  },
  {
   "cell_type": "code",
   "execution_count": 20,
   "metadata": {},
   "outputs": [
    {
     "data": {
      "application/vnd.jupyter.widget-view+json": {
       "model_id": "9ad4db7ee4d64895910fb7dd33b77c8f",
       "version_major": 2,
       "version_minor": 0
      },
      "text/plain": [
       "Output()"
      ]
     },
     "metadata": {},
     "output_type": "display_data"
    },
    {
     "data": {
      "text/html": [
       "<pre style=\"white-space:pre;overflow-x:auto;line-height:normal;font-family:Menlo,'DejaVu Sans Mono',consolas,'Courier New',monospace\"></pre>\n"
      ],
      "text/plain": []
     },
     "metadata": {},
     "output_type": "display_data"
    },
    {
     "data": {
      "text/html": [
       "<pre style=\"white-space:pre;overflow-x:auto;line-height:normal;font-family:Menlo,'DejaVu Sans Mono',consolas,'Courier New',monospace\">\n",
       "</pre>\n"
      ],
      "text/plain": [
       "\n"
      ]
     },
     "metadata": {},
     "output_type": "display_data"
    }
   ],
   "source": [
    "from pathlib import Path\n",
    "from math import ceil\n",
    "from matplotlib.animation import FuncAnimation, ArtistAnimation, writers\n",
    "from rich.progress import track\n",
    "\n",
    "\n",
    "n_frames = 20\n",
    "\n",
    "dir = Path('symmetry_actions')\n",
    "dir.mkdir(exist_ok=True)\n",
    "\n",
    "ax_max = ceil(d / 2)\n",
    "ax_min = -ax_max\n",
    "\n",
    "fig = plt.figure()\n",
    "ax = fig.add_subplot(projection='3d')\n",
    "ax.autoscale(False)\n",
    "\n",
    "def update(frame_no : int):\n",
    "    partial_rot = keyframes[frame_no, :, :]\n",
    "    latt_pos = lattice @ partial_rot\n",
    "\n",
    "    ax.clear()\n",
    "    ax.set(xlim3d=(ax_min, ax_max), xlabel='X')\n",
    "    ax.set(ylim3d=(ax_min, ax_max), ylabel='Y')\n",
    "    ax.set(zlim3d=(ax_min, ax_max), zlabel='Z')\n",
    "\n",
    "    return ax.scatter(*latt_pos.T)\n",
    "\n",
    "for i, trans in track(enumerate(group_matrices), total=len(group_matrices), description='Visualizing symmetry group actions...'):\n",
    "    keyframes = interpolate_linear_transformation(trans, n_frames=n_frames)\n",
    "    ani = FuncAnimation(fig=fig, func=update, frames=len(keyframes), interval=10)\n",
    "    ani.save(dir/f'symmetry_{i+1}.gif', writer='pillow')\n",
    "    plt.close(fig)"
   ]
  },
  {
   "cell_type": "code",
   "execution_count": null,
   "metadata": {},
   "outputs": [],
   "source": []
  }
 ],
 "metadata": {
  "kernelspec": {
   "display_name": "polymerist-env",
   "language": "python",
   "name": "python3"
  },
  "language_info": {
   "codemirror_mode": {
    "name": "ipython",
    "version": 3
   },
   "file_extension": ".py",
   "mimetype": "text/x-python",
   "name": "python",
   "nbconvert_exporter": "python",
   "pygments_lexer": "ipython3",
   "version": "3.11.0"
  }
 },
 "nbformat": 4,
 "nbformat_minor": 2
}
