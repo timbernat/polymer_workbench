{
 "cells": [
  {
   "cell_type": "markdown",
   "metadata": {},
   "source": [
    "# Testing of features in polymerist"
   ]
  },
  {
   "cell_type": "code",
   "execution_count": null,
   "metadata": {},
   "outputs": [],
   "source": [
    "# Supressing annoying warnings (!must be done first!)\n",
    "import warnings\n",
    "warnings.catch_warnings(record=True)\n",
    "warnings.filterwarnings('ignore', category=UserWarning)\n",
    "warnings.filterwarnings('ignore', category=DeprecationWarning)\n",
    "\n",
    "# Logging\n",
    "from polymerist.genutils.logutils.IOHandlers import LOG_FORMATTER\n",
    "\n",
    "import logging\n",
    "logging.basicConfig(\n",
    "    level=logging.INFO,\n",
    "    format =LOG_FORMATTER._fmt,\n",
    "    datefmt=LOG_FORMATTER.datefmt,\n",
    "    force=True\n",
    ")\n",
    "LOGGER = logging.getLogger(__name__)\n",
    "\n",
    "# General\n",
    "import re, json\n",
    "from pathlib import Path\n",
    "from shutil import copyfile\n",
    "\n",
    "import numpy as np\n",
    "import matplotlib.pyplot as plt\n",
    "\n",
    "# Logging\n",
    "from rich.progress import Progress, track\n",
    "import logging\n",
    "\n",
    "# Chemistry\n",
    "from openmm.unit import nanometer, angstrom\n",
    "from openff.toolkit import Topology, Molecule, ForceField\n",
    "from openff.units import unit as offunit\n",
    "\n",
    "from openff.interchange import Interchange\n",
    "from openff.interchange.components import _packmol as packmol\n",
    "\n",
    "from rdkit import Chem\n",
    "import openeye\n",
    "\n",
    "# Custom\n",
    "import polymerist as ps2\n",
    "from polymerist.genutils.decorators.functional import allow_string_paths, allow_pathlib_paths, optional_in_place"
   ]
  },
  {
   "cell_type": "markdown",
   "metadata": {},
   "source": [
    "## Testing combinatorics utils"
   ]
  },
  {
   "cell_type": "code",
   "execution_count": null,
   "metadata": {},
   "outputs": [],
   "source": [
    "from polymerist.genutils import iteration\n",
    "from polymerist.maths.combinatorics import core, graphenum, sequences, partitions"
   ]
  },
  {
   "cell_type": "code",
   "execution_count": null,
   "metadata": {},
   "outputs": [],
   "source": [
    "for n in range(20):\n",
    "    print(*(core.binomial_coeff(n, k) for k in range(n + 1)), sep=' ')"
   ]
  },
  {
   "cell_type": "code",
   "execution_count": null,
   "metadata": {},
   "outputs": [],
   "source": [
    "for n in range(20):\n",
    "    print(*(round(core.stirling_first(n, k)) for k in range(n + 1)), sep=' ')"
   ]
  },
  {
   "cell_type": "code",
   "execution_count": null,
   "metadata": {},
   "outputs": [],
   "source": [
    "for n in range(20):\n",
    "    print(round(core.bell_number(n)))"
   ]
  },
  {
   "cell_type": "code",
   "execution_count": null,
   "metadata": {},
   "outputs": [],
   "source": [
    "for n in range(10):\n",
    "    print(n, iteration.iter_len(partitions.int_partitions(n)))"
   ]
  },
  {
   "cell_type": "code",
   "execution_count": null,
   "metadata": {},
   "outputs": [],
   "source": [
    "for n in range(20):\n",
    "    print(round(core.catalan_number(n)))"
   ]
  },
  {
   "cell_type": "markdown",
   "metadata": {},
   "source": [
    "# Testing OpenFF NAGL models"
   ]
  },
  {
   "cell_type": "code",
   "execution_count": null,
   "metadata": {},
   "outputs": [],
   "source": [
    "from openff.toolkit import Molecule\n",
    "\n",
    "from polymerist.openfftools import TKREGS, TKWRAPPERS, NAGL_MODEL\n",
    "from polymerist.openfftools.pcharge import EspalomaCharger, NAGLCharger\n",
    "\n",
    "from polymerist.rdutils.rdkdraw import rdmol_prop_heatmap_colorscaled\n",
    "from polymerist.rdutils.rdprops import difference_rdmol\n",
    "\n",
    "smi = 'CCCCCCC1=CSC=C1' # 3-hexylthiophene\n",
    "# smi = 'OC(=O)CCCCC(=O)O' # adipic acid\n",
    "# smi = 'O=C1OC(=O)c2ccccc12' # phthalic anhydride\n",
    "# smi = 'CC(C)(c1ccc(cc1)O)c2ccc(cc2)O'# bisphenol A\n",
    "mol = Molecule.from_smiles(smi)\n",
    "mol.generate_conformers(toolkit_registry=TKREGS['OpenEye Toolkit'], n_conformers=1)\n",
    "mol.visualize(backend='nglview')"
   ]
  },
  {
   "cell_type": "code",
   "execution_count": null,
   "metadata": {},
   "outputs": [],
   "source": [
    "esp_mol = EspalomaCharger().charge_molecule(mol)\n",
    "esp_mol.partial_charges"
   ]
  },
  {
   "cell_type": "code",
   "execution_count": null,
   "metadata": {},
   "outputs": [],
   "source": [
    "\n",
    "nagl_mol = NAGLCharger().charge_molecule(mol)\n",
    "nagl_mol.partial_charges"
   ]
  },
  {
   "cell_type": "code",
   "execution_count": null,
   "metadata": {},
   "outputs": [],
   "source": [
    "import matplotlib.pyplot as plt\n",
    "from rdkit import Chem\n",
    "\n",
    "plt.plot(esp_mol.partial_charges - nagl_mol.partial_charges)\n",
    "\n",
    "diff = difference_rdmol(nagl_mol.to_rdkit(), esp_mol.to_rdkit())\n",
    "Chem.rdDepictor.Compute2DCoords(diff)\n",
    "fig, ax = rdmol_prop_heatmap_colorscaled(diff, prop='DeltaPartialCharge')"
   ]
  },
  {
   "cell_type": "markdown",
   "metadata": {},
   "source": [
    "# Playing with ratios"
   ]
  },
  {
   "cell_type": "code",
   "execution_count": null,
   "metadata": {},
   "outputs": [],
   "source": [
    "from dataclasses import dataclass\n",
    "from typing import Any, Callable, ClassVar, TypeVar\n",
    "from math import gcd\n",
    "from numbers import Number\n",
    "\n",
    "\n",
    "N = TypeVar('N')\n",
    "def sgnmag(num : N) -> tuple[bool, N]:\n",
    "    '''Returns the sign and magnitude of a numeric-like value'''\n",
    "    return num < 0, abs(num)\n",
    "\n",
    "\n",
    "@dataclass(repr=False)\n",
    "class Ratio:\n",
    "    '''For representing fractional ratios between two objects'''\n",
    "    num   : Any\n",
    "    denom : Any\n",
    "\n",
    "    # REPRESENTATION\n",
    "    def __repr__(self) -> str:\n",
    "        return f'{self.num}/{self.denom}'\n",
    "    \n",
    "    def to_latex(self) -> str:\n",
    "        '''Return latex-compatible string which represent fraction'''\n",
    "        return rf'\\frac{{{self.num}}}{{{self.denom}}}'\n",
    "\n",
    "    # RELATIONS\n",
    "    @property\n",
    "    def reciprocal(self) -> 'Ratio':\n",
    "        '''Return the reciprocal of a ration'''\n",
    "        return self.__class__(self.denom, self.num)\n",
    "\n",
    "\n",
    "@dataclass(repr=False)\n",
    "class Rational(Ratio):\n",
    "    '''For representing ratios of integers'''\n",
    "    num   : int\n",
    "    denom : int\n",
    "\n",
    "    # REDUCTION\n",
    "    autoreduce : ClassVar[bool]=False\n",
    "    \n",
    "    def __post_init__(self) -> None:\n",
    "        if self.__class__.autoreduce:\n",
    "            self.reduce()\n",
    "\n",
    "    def reduce(self) -> None:\n",
    "        '''Reduce numerator and denominator by greatest common factor'''\n",
    "        _gcd = gcd(self.num, self.denom)\n",
    "        self.num=int(self.num / _gcd)\n",
    "        self.denom=int(self.denom / _gcd)\n",
    "    simplify = reduce # alias for convenience\n",
    "\n",
    "    @property\n",
    "    def reduced(self) -> 'Rational':\n",
    "        '''Return reduced Rational equivalent to the current rational (does not modify in-place)'''\n",
    "        new_rat = self.__class__(self.num, self.denom)\n",
    "        new_rat.reduce()\n",
    "\n",
    "        return new_rat\n",
    "    simplifed = reduced # alias for convenience\n",
    "    \n",
    "    def as_proper(self) -> tuple[int, 'Rational']:\n",
    "        '''Returns the integer and proper fractional component of a ratio'''\n",
    "        integ, remain = divmod(self.num, self.denom)\n",
    "        return integ, self.__class__(remain, self.denom)\n",
    "    \n",
    "    # ARITHMETIC\n",
    "    def __add__(self, other : 'Rational') -> 'Rational':\n",
    "        '''Sum of two Rationals'''\n",
    "        return self.__class__(\n",
    "            num=(self.num * other.denom) + (self.denom * other.num),\n",
    "            denom=(self.denom * other.denom)\n",
    "        )\n",
    "    \n",
    "    def __sub__(self, other : 'Rational') -> 'Rational':\n",
    "        '''Difference of two Rationals'''\n",
    "        return self.__class__(\n",
    "            num=(self.num * other.denom) - (self.denom * other.num),\n",
    "            denom=(self.denom * other.denom)\n",
    "        )\n",
    "\n",
    "    def __mul__(self, other : 'Rational') -> 'Rational':\n",
    "        '''Product of two Rationals'''\n",
    "        return self.__class__(\n",
    "            num=self.num * other.num,\n",
    "            denom=self.denom * other.denom\n",
    "        )\n",
    "\n",
    "    def __div__(self, other : 'Rational') -> 'Rational':\n",
    "        '''Quotient of two Rationals'''\n",
    "        return self.__class__(\n",
    "            num=self.num * other.denom,\n",
    "            denom=self.denom * other.num\n",
    "        )\n",
    "    \n",
    "    def __pow__(self, power : float) -> 'Rational':\n",
    "        '''Exponentiates a ratio'''\n",
    "        return self.__class__(\n",
    "            num=self.num**power,\n",
    "            denom=self.denom**power\n",
    "        )"
   ]
  },
  {
   "cell_type": "code",
   "execution_count": null,
   "metadata": {},
   "outputs": [],
   "source": [
    "p = Rational(3, 6)\n",
    "q = Rational(4, 12)\n",
    "\n",
    "print(p, p.reciprocal, p.reduced, p+q)"
   ]
  },
  {
   "cell_type": "code",
   "execution_count": null,
   "metadata": {},
   "outputs": [],
   "source": [
    "Rational.autoreduce = False"
   ]
  },
  {
   "cell_type": "code",
   "execution_count": null,
   "metadata": {},
   "outputs": [],
   "source": [
    "import numpy as np\n",
    "from numbers import Number\n",
    "\n",
    "for val in (4, 4.0, 4+0j, np.pi, '4', [4], False, 'sgdfg'):\n",
    "    print(val, type(val), isinstance(val, Number))"
   ]
  },
  {
   "cell_type": "code",
   "execution_count": null,
   "metadata": {},
   "outputs": [],
   "source": [
    "from fractions import Fraction"
   ]
  },
  {
   "cell_type": "markdown",
   "metadata": {},
   "source": [
    "# Experimenting with SDF files"
   ]
  },
  {
   "cell_type": "code",
   "execution_count": null,
   "metadata": {},
   "outputs": [],
   "source": [
    "benz = Chem.MolFromSmiles('C1ccccC=1')\n",
    "benz = Chem.AddHs(benz)\n",
    "benz.SetDoubleProp('stuff', 3.14)\n",
    "benz"
   ]
  },
  {
   "cell_type": "code",
   "execution_count": null,
   "metadata": {},
   "outputs": [],
   "source": [
    "block2k = Chem.MolToMolFile(benz, 'test_2k.sdf')\n",
    "block3k = Chem.MolToV3KMolFile(benz, 'test_3k.sdf')\n",
    "block2kforce = Chem.MolToMolFile(benz, 'test_2k_force.sdf', forceV3000=True)"
   ]
  },
  {
   "cell_type": "code",
   "execution_count": null,
   "metadata": {},
   "outputs": [],
   "source": [
    "with Chem.SDWriter('test_sdw.sdf') as sdwriter:\n",
    "    sdwriter.SetForceV3000(True)\n",
    "    print(sdwriter.GetForceV3000())\n",
    "\n",
    "    sdwriter.write(benz)"
   ]
  },
  {
   "cell_type": "code",
   "execution_count": null,
   "metadata": {},
   "outputs": [],
   "source": [
    "with Chem.SDMolSupplier('sdf_testing/test_off_rd.sdf', sanitize=False) as suppl:\n",
    "    mols = [mol for mol in suppl]\n",
    "\n",
    "targ = mols[0]\n",
    "targ"
   ]
  },
  {
   "cell_type": "code",
   "execution_count": null,
   "metadata": {},
   "outputs": [],
   "source": [
    "omol = Molecule.from_rdkit(benz)\n",
    "omol.generate_conformers(n_conformers=1)\n",
    "omol.visualize(backend='nglview')"
   ]
  },
  {
   "cell_type": "code",
   "execution_count": null,
   "metadata": {},
   "outputs": [],
   "source": []
  }
 ],
 "metadata": {
  "kernelspec": {
   "display_name": "openff-pdb-pr",
   "language": "python",
   "name": "python3"
  },
  "language_info": {
   "codemirror_mode": {
    "name": "ipython",
    "version": 3
   },
   "file_extension": ".py",
   "mimetype": "text/x-python",
   "name": "python",
   "nbconvert_exporter": "python",
   "pygments_lexer": "ipython3",
   "version": "3.11.5"
  },
  "orig_nbformat": 4
 },
 "nbformat": 4,
 "nbformat_minor": 2
}
