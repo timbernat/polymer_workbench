{
 "cells": [
  {
   "cell_type": "markdown",
   "metadata": {},
   "source": [
    "# Testing of features in polymerist"
   ]
  },
  {
   "cell_type": "code",
   "execution_count": null,
   "metadata": {},
   "outputs": [],
   "source": [
    "# Supressing annoying warnings (!must be done first!)\n",
    "import warnings\n",
    "warnings.catch_warnings(record=True)\n",
    "warnings.filterwarnings('ignore', category=UserWarning)\n",
    "warnings.filterwarnings('ignore', category=DeprecationWarning)\n",
    "\n",
    "# Logging\n",
    "from polymerist.genutils.logutils.IOHandlers import LOG_FORMATTER\n",
    "\n",
    "import logging\n",
    "logging.basicConfig(\n",
    "    level=logging.INFO,\n",
    "    format =LOG_FORMATTER._fmt,\n",
    "    datefmt=LOG_FORMATTER.datefmt,\n",
    "    force=True\n",
    ")\n",
    "LOGGER = logging.getLogger(__name__)\n",
    "\n",
    "# General\n",
    "import re, json\n",
    "from pathlib import Path\n",
    "from shutil import copyfile\n",
    "\n",
    "import numpy as np\n",
    "import matplotlib.pyplot as plt\n",
    "\n",
    "# Logging\n",
    "from rich.progress import Progress, track\n",
    "import logging\n",
    "\n",
    "# Chemistry\n",
    "from openmm.unit import nanometer, angstrom\n",
    "from openff.toolkit import Topology, Molecule, ForceField\n",
    "from openff.units import unit as offunit\n",
    "\n",
    "from openff.interchange import Interchange\n",
    "from openff.interchange.components import _packmol as packmol\n",
    "\n",
    "from rdkit import Chem\n",
    "import openeye\n",
    "\n",
    "# Custom\n",
    "import polymerist as ps2\n",
    "from polymerist.genutils.decorators.functional import allow_string_paths, allow_pathlib_paths, optional_in_place"
   ]
  },
  {
   "cell_type": "markdown",
   "metadata": {},
   "source": [
    "## Testing combinatorics utils"
   ]
  },
  {
   "cell_type": "code",
   "execution_count": null,
   "metadata": {},
   "outputs": [],
   "source": [
    "from polymerist.genutils import iteration\n",
    "from polymerist.maths.combinatorics import core, graphenum, sequences, partitions"
   ]
  },
  {
   "cell_type": "code",
   "execution_count": null,
   "metadata": {},
   "outputs": [],
   "source": [
    "for n in range(20):\n",
    "    print(*(core.binomial_coeff(n, k) for k in range(n + 1)), sep=' ')"
   ]
  },
  {
   "cell_type": "code",
   "execution_count": null,
   "metadata": {},
   "outputs": [],
   "source": [
    "for n in range(20):\n",
    "    print(*(round(core.stirling_first(n, k)) for k in range(n + 1)), sep=' ')"
   ]
  },
  {
   "cell_type": "code",
   "execution_count": null,
   "metadata": {},
   "outputs": [],
   "source": [
    "for n in range(20):\n",
    "    print(round(core.bell_number(n)))"
   ]
  },
  {
   "cell_type": "code",
   "execution_count": null,
   "metadata": {},
   "outputs": [],
   "source": [
    "for n in range(10):\n",
    "    print(n, iteration.iter_len(partitions.int_partitions(n)))"
   ]
  },
  {
   "cell_type": "code",
   "execution_count": null,
   "metadata": {},
   "outputs": [],
   "source": [
    "for n in range(20):\n",
    "    print(round(core.catalan_number(n)))"
   ]
  },
  {
   "cell_type": "markdown",
   "metadata": {},
   "source": [
    "## Testing that reactant pathfinding for AnnotatedReaction works as intended"
   ]
  },
  {
   "cell_type": "code",
   "execution_count": null,
   "metadata": {},
   "outputs": [],
   "source": [
    "from polymerist.smileslib.substructures import matching_labels_from_substruct_dict, matching_dict_from_substruct_dict\n",
    "from polymerist.rdutils.reactions.reactions import AnnotatedReaction\n",
    "from polymerist.rdutils import rdkdraw\n",
    "\n",
    "rdkdraw.disable_substruct_highlights()\n",
    "\n",
    "from rdkit import Chem"
   ]
  },
  {
   "cell_type": "code",
   "execution_count": null,
   "metadata": {},
   "outputs": [],
   "source": [
    "# rxn = AnnotatedReaction.from_smarts(\"[#8:1](-[#0:2])-[H].[#17]-[#6:3](=[#8:4])-[#0:5]>>[#8:1](-[#0:2])-[#6:3](=[#8:4])-[#0:5]\")\n",
    "rxn = AnnotatedReaction.from_rxnfile('test.rxn')\n",
    "reactant_templates_by_index = {i : reac_templ for i, reac_templ in enumerate(rxn.GetReactants())}\n",
    "\n",
    "\n",
    "display(rxn)\n",
    "print(reactant_templates_by_index)"
   ]
  },
  {
   "cell_type": "code",
   "execution_count": null,
   "metadata": {},
   "outputs": [],
   "source": [
    "from polymerist.polymers.monomers.specification import expanded_SMILES, SANITIZE_AS_KEKULE\n",
    "\n",
    "reactant_smiles = [\n",
    "    'CC(O)C(Cl)C(Cl)CCO',\n",
    "    'C1CCC(Cl)CC1O',\n",
    "    'C1CCC(C(=O)Cl)CC1',\n",
    "    'FC(F)(F)F',\n",
    "    'c1(O)c(O)c(C(=O)Cl)c(O)c(C(=O)Cl)c1',\n",
    "]\n",
    "\n",
    "reactants = []\n",
    "for smiles in reactant_smiles:\n",
    "    exp_smiles = expanded_SMILES(smiles, assign_map_nums=False)\n",
    "    mol = Chem.MolFromSmiles(exp_smiles, sanitize=False)\n",
    "    Chem.SanitizeMol(mol, sanitizeOps=SANITIZE_AS_KEKULE)\n",
    "    display(mol)\n",
    "    reactants.append(mol)"
   ]
  },
  {
   "cell_type": "code",
   "execution_count": null,
   "metadata": {},
   "outputs": [],
   "source": [
    "from itertools import combinations\n",
    "\n",
    "for i, rs in enumerate(combinations(reactants, 2)):\n",
    "    print(f'PAIR {i+1}')\n",
    "    (react1, react2) = rs\n",
    "    display(react1)\n",
    "    display(react2)\n",
    "\n",
    "    reactant_order = rxn.valid_reactant_ordering(rs)\n",
    "    if reactant_order is not None:\n",
    "        print('ORDER FOUND:')\n",
    "        print('+'*50)\n",
    "        for m in reactant_order:\n",
    "            display(m)\n",
    "\n",
    "    print('='*50)"
   ]
  }
 ],
 "metadata": {
  "kernelspec": {
   "display_name": "openff-pdb-pr",
   "language": "python",
   "name": "python3"
  },
  "language_info": {
   "codemirror_mode": {
    "name": "ipython",
    "version": 3
   },
   "file_extension": ".py",
   "mimetype": "text/x-python",
   "name": "python",
   "nbconvert_exporter": "python",
   "pygments_lexer": "ipython3",
   "version": "3.11.0"
  },
  "orig_nbformat": 4
 },
 "nbformat": 4,
 "nbformat_minor": 2
}
