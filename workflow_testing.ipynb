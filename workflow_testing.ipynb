{
 "cells": [
  {
   "cell_type": "markdown",
   "metadata": {},
   "source": [
    "# Defining final simulation workflow"
   ]
  },
  {
   "cell_type": "markdown",
   "metadata": {},
   "source": [
    "## Imports"
   ]
  },
  {
   "cell_type": "code",
   "execution_count": 1,
   "metadata": {},
   "outputs": [
    {
     "data": {
      "application/vnd.jupyter.widget-view+json": {
       "model_id": "f998b14b84594a0fb2702564a93719d8",
       "version_major": 2,
       "version_minor": 0
      },
      "text/plain": []
     },
     "metadata": {},
     "output_type": "display_data"
    },
    {
     "name": "stderr",
     "output_type": "stream",
     "text": [
      "/home/timber/miniconda3/envs/openff-pdb-pr/lib/python3.11/site-packages/mdtraj/formats/__init__.py:6: DeprecationWarning: 'xdrlib' is deprecated and slated for removal in Python 3.13\n",
      "  from .xtc import XTCTrajectoryFile\n",
      "/home/timber/miniconda3/envs/openff-pdb-pr/lib/python3.11/site-packages/mbuild/recipes/__init__.py:13: DeprecationWarning: SelectableGroups dict interface is deprecated. Use select.\n",
      "  entry_points = metadata.entry_points()[\"mbuild.plugins\"]\n"
     ]
    }
   ],
   "source": [
    "# Supressing annoying warnings (!must be done first!)\n",
    "import warnings\n",
    "\n",
    "warnings.filterwarnings('ignore', category=UserWarning)\n",
    "warnings.filterwarnings('ignore', category=DeprecationWarning) # doesn't actually seem to do anything about mbuild warnings\n",
    "\n",
    "# Logging\n",
    "from rich.progress import Progress, track\n",
    "from polysaccharide2.genutils.logutils.IOHandlers import LOG_FORMATTER\n",
    "\n",
    "import logging\n",
    "logging.basicConfig(\n",
    "    level=logging.INFO,\n",
    "    format =LOG_FORMATTER._fmt,\n",
    "    datefmt=LOG_FORMATTER.datefmt,\n",
    "    # force=True\n",
    ")\n",
    "LOGGER = logging.Logger(__name__)\n",
    "\n",
    "from typing import Optional, Union\n",
    "from pathlib import Path"
   ]
  },
  {
   "cell_type": "markdown",
   "metadata": {},
   "source": [
    "## Global parameters"
   ]
  },
  {
   "cell_type": "code",
   "execution_count": 2,
   "metadata": {},
   "outputs": [],
   "source": [
    "mol_name = 'peg_modified'\n",
    "\n",
    "pdb_sub = 'simple_polymers'\n",
    "pdb_src_dir  = Path(f'pdb_test_cleaned/pdbs/{pdb_sub}')\n",
    "mono_src_dir = Path(f'pdb_test_cleaned/monos/{pdb_sub}')\n",
    "\n",
    "working_dir = Path(f'workflow_test_{mol_name}')\n",
    "working_dir.mkdir(exist_ok=True)"
   ]
  },
  {
   "cell_type": "markdown",
   "metadata": {},
   "source": [
    "## 0) Filetree setup"
   ]
  },
  {
   "cell_type": "code",
   "execution_count": 3,
   "metadata": {},
   "outputs": [],
   "source": [
    "from shutil import copyfile\n",
    "from polysaccharide2.genutils.fileutils.pathutils import assemble_path\n",
    "from polysaccharide2.monomers import MonomerGroup\n",
    "\n",
    "term_orients = { \n",
    "    'peg_modified' : {\n",
    "        'peg_TERM2' : 'head',\n",
    "        'peg_TERM3' : 'tail',\n",
    "    },\n",
    "    'paam_modified' : {\n",
    "        'paam_TERM2' : 'head',\n",
    "        'paam_TERM3' : 'tail',\n",
    "    },\n",
    "    'pnipam_modified' : {\n",
    "        'pnipam_TERM2' : 'head',\n",
    "        'pnipam_TERM3' : 'tail',\n",
    "    },\n",
    "}\n",
    "\n",
    "starting_dir = working_dir / 'chemistry_seeds'\n",
    "starting_dir.mkdir(exist_ok=True)\n",
    "\n",
    "# COPY PDB FILE\n",
    "pdb_src_path = assemble_path(pdb_src_dir, mol_name, extension='pdb')\n",
    "assert(pdb_src_path.exists())\n",
    "pdb_path = assemble_path(starting_dir, mol_name, extension='pdb')\n",
    "copyfile(pdb_src_path, pdb_path)\n",
    "\n",
    "# COPY MONOMER FILE WITH ASSIGNED TERMINAL GROUPS\n",
    "mono_src_path = assemble_path(mono_src_dir, mol_name, extension='json')\n",
    "assert(mono_src_path.exists())\n",
    "mono_path = assemble_path(starting_dir, mol_name, extension='json')\n",
    "\n",
    "monomers = MonomerGroup.from_file(mono_src_path)\n",
    "monomers.term_orient = term_orients[mol_name]\n",
    "monomers.to_file(mono_path)"
   ]
  },
  {
   "cell_type": "markdown",
   "metadata": {},
   "source": [
    "## 1) Assigning chemistry, generating library charges"
   ]
  },
  {
   "cell_type": "code",
   "execution_count": 4,
   "metadata": {},
   "outputs": [],
   "source": [
    "from openff.toolkit import Topology\n",
    "\n",
    "from polysaccharide2.openfftools import TKREGS\n",
    "from polysaccharide2.openfftools import topology\n",
    "from polysaccharide2.residues.partition import partition\n",
    "\n",
    "\n",
    "param_dir = working_dir / 'param_structs'\n",
    "param_dir.mkdir(exist_ok=True)\n",
    "\n",
    "# generate substructure cover and partition\n",
    "monogrp = MonomerGroup.from_file(mono_path)\n",
    "offtop = Topology.from_pdb(pdb_path, _custom_substructures=monogrp.monomers, toolkit_registry=TKREGS['The RDKit'])\n",
    "was_partitioned = partition(offtop)\n",
    "assert(was_partitioned)\n",
    "\n",
    "# assign properties to Molecule\n",
    "offmol = topology.get_largest_offmol(offtop)\n",
    "offmol.name = mol_name\n",
    "offmol.properties['solvent'] = None\n",
    "offmol.properties['charge_method'] = None\n",
    "\n",
    "# save partitioned Topology\n",
    "mol_path = param_dir / f'{mol_name}.sdf'\n",
    "topology.topology_to_sdf(mol_path, offtop=offtop, toolkit_registry=TKREGS['The RDKit'])"
   ]
  },
  {
   "cell_type": "markdown",
   "metadata": {},
   "source": [
    "## 2) Assigning charges"
   ]
  },
  {
   "cell_type": "markdown",
   "metadata": {},
   "source": [
    "### 2a) RCT + generating library charges"
   ]
  },
  {
   "cell_type": "code",
   "execution_count": 5,
   "metadata": {},
   "outputs": [
    {
     "name": "stderr",
     "output_type": "stream",
     "text": [
      "2023-10-11 17:39:27.361 [INFO    :        building:line 74  ] - Using pre-defined terminal group orientation {'peg_TERM2': 'head', 'peg_TERM3': 'tail'}\n",
      "2023-10-11 17:39:27.363 [INFO    :        building:line 85  ] - Registering middle monomer peg (block identifier \"A\")\n",
      "2023-10-11 17:39:27.431 [INFO    :        building:line 95  ] - Registering terminal monomer peg_TERM2 (orientation \"head\")\n",
      "2023-10-11 17:39:27.442 [INFO    :        building:line 95  ] - Registering terminal monomer peg_TERM3 (orientation \"tail\")\n",
      "2023-10-11 17:39:27.453 [INFO    :        building:line 102 ] - Assembling linear polymer chain with 20 monomers (149 atoms)\n",
      "2023-10-11 17:39:27.517 [INFO    :        building:line 106 ] - Successfully assembled linear polymer chain with 20 monomers (149 atoms)\n",
      "2023-10-11 17:39:28.681 [INFO    :         pcharge:line 34  ] - Assigning partial charges via the \"Espaloma-AM1-BCC\" method\n",
      "/home/timber/miniconda3/envs/openff-pdb-pr/lib/python3.11/site-packages/espaloma_charge/openff_wrapper.py:112: IncorrectNumConformersWarning: Molecule 'Molecule with name 'peg_modified' and SMILES '[H]C([H])([H])OC([H])([H])C([H])([H])OC([H])([H])C([H])([H])OC([H])([H])C([H])([H])OC([H])([H])C([H])([H])OC([H])([H])C([H])([H])OC([H])([H])C([H])([H])OC([H])([H])C([H])([H])OC([H])([H])C([H])([H])OC([H])([H])C([H])([H])OC([H])([H])C([H])([H])OC([H])([H])C([H])([H])OC([H])([H])C([H])([H])OC([H])([H])C([H])([H])OC([H])([H])C([H])([H])OC([H])([H])C([H])([H])OC([H])([H])C([H])([H])OC([H])([H])C([H])([H])OC([H])([H])C([H])([H])OC([H])([H])C([H])([H])OC([H])([H])C([H])([H])OC([H])([H])[H]'' has 1 conformers, but charge method 'espaloma-am1bcc' expects exactly 0.\n",
      "  self._check_n_conformers(\n",
      "2023-10-11 17:39:28.783 [INFO    :         pcharge:line 37  ] - Successfully assigned \"Espaloma-AM1-BCC\" charges\n",
      "2023-10-11 17:39:28.799 [INFO    :     calculation:line 32  ] - Selected representative residue groups\n",
      "2023-10-11 17:39:28.801 [INFO    :     calculation:line 60  ] - Accumulated charges across all matching residues\n",
      "2023-10-11 17:39:28.802 [INFO    :     calculation:line 70  ] - Redistributing charges for residue \"peg\" according to UniformDistributionStrategy\n",
      "2023-10-11 17:39:28.804 [INFO    :     calculation:line 70  ] - Redistributing charges for residue \"peg_TERM2\" according to UniformDistributionStrategy\n",
      "2023-10-11 17:39:28.805 [INFO    :     calculation:line 70  ] - Redistributing charges for residue \"peg_TERM3\" according to UniformDistributionStrategy\n",
      "2023-10-11 17:39:28.848 [INFO    :     calculation:line 75  ] - Successfully computed library charges for Molecule with name 'peg_modified' and SMILES '[H]C([H])([H])OC([H])([H])C([H])([H])OC([H])([H])C([H])([H])OC([H])([H])C([H])([H])OC([H])([H])C([H])([H])OC([H])([H])C([H])([H])OC([H])([H])C([H])([H])OC([H])([H])C([H])([H])OC([H])([H])C([H])([H])OC([H])([H])C([H])([H])OC([H])([H])C([H])([H])OC([H])([H])C([H])([H])OC([H])([H])C([H])([H])OC([H])([H])C([H])([H])OC([H])([H])C([H])([H])OC([H])([H])C([H])([H])OC([H])([H])C([H])([H])OC([H])([H])C([H])([H])OC([H])([H])C([H])([H])OC([H])([H])C([H])([H])OC([H])([H])C([H])([H])OC([H])([H])[H]'\n",
      "2023-10-11 17:39:28.903 [INFO    :         pcharge:line 34  ] - Assigning partial charges via the \"RCT\" method\n",
      "2023-10-11 17:39:28.924 [INFO    :     calculation:line 88  ] - Successfully mapped residue charges onto Molecule with name 'peg_modified_reduced' and SMILES '[H]C([H])([H])OC([H])([H])C([H])([H])OC([H])([H])C([H])([H])OC([H])([H])C([H])([H])OC([H])([H])C([H])([H])OC([H])([H])C([H])([H])OC([H])([H])C([H])([H])OC([H])([H])C([H])([H])OC([H])([H])C([H])([H])OC([H])([H])C([H])([H])OC([H])([H])C([H])([H])OC([H])([H])C([H])([H])OC([H])([H])C([H])([H])OC([H])([H])C([H])([H])OC([H])([H])C([H])([H])OC([H])([H])C([H])([H])OC([H])([H])C([H])([H])OC([H])([H])C([H])([H])OC([H])([H])C([H])([H])OC([H])([H])C([H])([H])OC([H])([H])C([H])([H])OC([H])([H])[H]'\n",
      "2023-10-11 17:39:28.925 [INFO    :         pcharge:line 37  ] - Successfully assigned \"RCT\" charges\n"
     ]
    }
   ],
   "source": [
    "from openff.toolkit import Molecule\n",
    "from polysaccharide2.openfftools.pcharge import MolCharger\n",
    "from polysaccharide2.genutils.decorators.functional import allow_string_paths\n",
    "\n",
    "from polysaccharide2.monomers import MonomerGroup\n",
    "from polysaccharide2.polymers import estimation, building\n",
    "from polysaccharide2.polymers.exceptions import MorphologyError\n",
    "\n",
    "from polysaccharide2.residues.rescharge.interface import LibraryCharger\n",
    "from polysaccharide2.residues.rescharge.calculation import compute_residue_charges\n",
    "from polysaccharide2.residues.rescharge.rctypes import ChargesByResidue\n",
    "\n",
    "\n",
    "# building parameters\n",
    "N : int = 150\n",
    "base_charging_method : str = 'Espaloma-AM1-BCC'\n",
    "delete_pdb : bool=True\n",
    "\n",
    "\n",
    "@allow_string_paths\n",
    "def rct_protocol(working_dir : Path, mol_name : str, monogroup : MonomerGroup, N : int, charger : MolCharger, delete_pdb : bool=True) -> tuple[ChargesByResidue, Molecule]:\n",
    "    '''\n",
    "    Generates library charges for a monomer group given terminal group head-tail orientations and a maximum chain length\n",
    "    If delete_pdb=True, will remove the working pdb path after charges are generated\n",
    "    as currently implemented, only supports monomer groups which constitute a linear homopolymer\n",
    "    '''\n",
    "    if not monogroup.is_linear:\n",
    "        raise MorphologyError('RCT currently only supports linear homopolymers')\n",
    "    \n",
    "    DOP = estimation.estimate_DOP_lower(monogroup, max_chain_len=N)\n",
    "    chain = building.build_linear_polymer(monogroup, DOP)\n",
    "\n",
    "    pdb_path = assemble_path(working_dir, mol_name, extension='pdb')\n",
    "    building.mbmol_to_openmm_pdb(pdb_path, chain) # output PDB file to disc \n",
    "    offtop = Topology.from_pdb(pdb_path, _custom_substructures=monogroup.monomers, toolkit_registry=TKREGS['The RDKit']) # load custom substructures - raises error if PDB has issues\n",
    "    if delete_pdb:\n",
    "        pdb_path.unlink()\n",
    "        \n",
    "    was_partitioned = partition(offtop) \n",
    "    assert(was_partitioned)\n",
    "    offmol = topology.get_largest_offmol(offtop)\n",
    "    offmol.name = mol_name\n",
    "\n",
    "    cmol = charger.charge_molecule(offmol, in_place=False)\n",
    "    res_chgs = compute_residue_charges(cmol, monogroup)\n",
    "\n",
    "    return res_chgs, cmol\n",
    "\n",
    "\n",
    "# RCT loop\n",
    "chgr = MolCharger.subclass_registry[base_charging_method]()\n",
    "monogrp = MonomerGroup.from_file(mono_path)\n",
    "lib_chgs, cmol_redux = rct_protocol(param_dir, mol_name, monogrp, N, charger=chgr, delete_pdb=delete_pdb)\n",
    "mol_name_redux = f'{cmol_redux.name}_reduced'\n",
    "cmol_redux.name = mol_name_redux\n",
    "\n",
    "lib_chg_path = assemble_path(param_dir, mol_name, extension='json', postfix='residue_charges')\n",
    "lib_chgs.to_file(lib_chg_path)\n",
    "\n",
    "# save small molecule with explicit and RCT charges for benchmark\n",
    "sdf_path_exact = assemble_path(param_dir, mol_name_redux, extension='sdf', postfix=base_charging_method)\n",
    "topology.topology_to_sdf(sdf_path_exact, cmol_redux.to_topology())\n",
    "\n",
    "lib_charger = LibraryCharger(lib_chgs)\n",
    "rctmol_redux = lib_charger.charge_molecule(cmol_redux, in_place=False)\n",
    "sdf_path_rct = assemble_path(param_dir, mol_name_redux, extension='sdf', postfix=lib_charger.CHARGING_METHOD)\n",
    "topology.topology_to_sdf(sdf_path_rct, rctmol_redux.to_topology())"
   ]
  },
  {
   "cell_type": "markdown",
   "metadata": {},
   "source": [
    "### 2b) Generate charged mols with chosen methods"
   ]
  },
  {
   "cell_type": "code",
   "execution_count": 6,
   "metadata": {},
   "outputs": [
    {
     "name": "stderr",
     "output_type": "stream",
     "text": [
      "2023-10-11 17:39:29.162 [INFO    :         pcharge:line 34  ] - Assigning partial charges via the \"Espaloma-AM1-BCC\" method\n",
      "/home/timber/miniconda3/envs/openff-pdb-pr/lib/python3.11/site-packages/espaloma_charge/openff_wrapper.py:112: IncorrectNumConformersWarning: Molecule 'Molecule with name 'peg_modified' and SMILES '[H]C([H])([H])OC([H])([H])C([H])([H])OC([H])([H])C([H])([H])OC([H])([H])C([H])([H])OC([H])([H])C([H])([H])OC([H])([H])C([H])([H])OC([H])([H])C([H])([H])OC([H])([H])C([H])([H])OC([H])([H])C([H])([H])OC([H])([H])C([H])([H])OC([H])([H])C([H])([H])OC([H])([H])C([H])([H])OC([H])([H])C([H])([H])OC([H])([H])C([H])([H])OC([H])([H])C([H])([H])OC([H])([H])C([H])([H])OC([H])([H])C([H])([H])OC([H])([H])C([H])([H])OC([H])([H])C([H])([H])OC([H])([H])C([H])([H])OC([H])([H])C([H])([H])OC([H])([H])C([H])([H])OC([H])([H])C([H])([H])OC([H])([H])C([H])([H])OC([H])([H])C([H])([H])OC([H])([H])C([H])([H])OC([H])([H])C([H])([H])OC([H])([H])C([H])([H])OC([H])([H])C([H])([H])OC([H])([H])C([H])([H])OC([H])([H])C([H])([H])OC([H])([H])C([H])([H])OC([H])([H])C([H])([H])OC([H])([H])C([H])([H])OC([H])([H])C([H])([H])OC([H])([H])C([H])([H])OC([H])([H])C([H])([H])OC([H])([H])[H]'' has 1 conformers, but charge method 'espaloma-am1bcc' expects exactly 0.\n",
      "  self._check_n_conformers(\n",
      "2023-10-11 17:39:29.670 [INFO    :         pcharge:line 37  ] - Successfully assigned \"Espaloma-AM1-BCC\" charges\n",
      "2023-10-11 17:39:29.804 [INFO    :         pcharge:line 34  ] - Assigning partial charges via the \"RCT\" method\n",
      "2023-10-11 17:39:29.839 [INFO    :     calculation:line 88  ] - Successfully mapped residue charges onto Molecule with name 'peg_modified' and SMILES '[H]C([H])([H])OC([H])([H])C([H])([H])OC([H])([H])C([H])([H])OC([H])([H])C([H])([H])OC([H])([H])C([H])([H])OC([H])([H])C([H])([H])OC([H])([H])C([H])([H])OC([H])([H])C([H])([H])OC([H])([H])C([H])([H])OC([H])([H])C([H])([H])OC([H])([H])C([H])([H])OC([H])([H])C([H])([H])OC([H])([H])C([H])([H])OC([H])([H])C([H])([H])OC([H])([H])C([H])([H])OC([H])([H])C([H])([H])OC([H])([H])C([H])([H])OC([H])([H])C([H])([H])OC([H])([H])C([H])([H])OC([H])([H])C([H])([H])OC([H])([H])C([H])([H])OC([H])([H])C([H])([H])OC([H])([H])C([H])([H])OC([H])([H])C([H])([H])OC([H])([H])C([H])([H])OC([H])([H])C([H])([H])OC([H])([H])C([H])([H])OC([H])([H])C([H])([H])OC([H])([H])C([H])([H])OC([H])([H])C([H])([H])OC([H])([H])C([H])([H])OC([H])([H])C([H])([H])OC([H])([H])C([H])([H])OC([H])([H])C([H])([H])OC([H])([H])C([H])([H])OC([H])([H])C([H])([H])OC([H])([H])C([H])([H])OC([H])([H])[H]'\n",
      "2023-10-11 17:39:29.841 [INFO    :         pcharge:line 37  ] - Successfully assigned \"RCT\" charges\n"
     ]
    }
   ],
   "source": [
    "from polysaccharide2.openfftools import topology\n",
    "from polysaccharide2.openfftools.pcharge import MolCharger\n",
    "from polysaccharide2.residues.rescharge.rctypes import ChargesByResidue\n",
    "\n",
    "\n",
    "charge_methods : list[str] = [\n",
    "    'Espaloma-AM1-BCC',\n",
    "    'RCT'\n",
    "]\n",
    "library_charges_path : Optional[Path] = lib_chg_path\n",
    "chg_parent_dir = working_dir / 'sims_by_charge'\n",
    "chg_parent_dir.mkdir(exist_ok=True)\n",
    "\n",
    "for charge_method in charge_methods:\n",
    "    chg_dir = chg_parent_dir / charge_method\n",
    "    chg_dir.mkdir(exist_ok=True)\n",
    "\n",
    "    offtop = topology.topology_from_sdf(mol_path)\n",
    "    offmol = topology.get_largest_offmol(offtop)\n",
    "    mol_name = offmol.name\n",
    "\n",
    "    ChargerType = MolCharger.subclass_registry[charge_method]\n",
    "    if charge_method == 'RCT':\n",
    "        if lib_chg_path is not None and lib_chg_path.exists():\n",
    "            charger = ChargerType(ChargesByResidue.from_file(lib_chg_path))\n",
    "        else:\n",
    "            raise FileExistsError\n",
    "    else:\n",
    "        charger = ChargerType()\n",
    "\n",
    "    cmol = charger.charge_molecule(offmol, in_place=False)\n",
    "    charged_top_path = assemble_path(chg_dir, mol_name, extension='sdf', postfix=charge_method)\n",
    "    topology.topology_to_sdf(charged_top_path, cmol.to_topology())"
   ]
  },
  {
   "cell_type": "markdown",
   "metadata": {},
   "source": [
    "## 3) Conformer anneal and solvation"
   ]
  },
  {
   "cell_type": "code",
   "execution_count": 7,
   "metadata": {},
   "outputs": [
    {
     "name": "stderr",
     "output_type": "stream",
     "text": [
      "2023-10-11 17:39:30.613 [INFO    :      parameters:line 2993] - Attempting to up-convert Electrostatics section from 0.3 to 0.4\n",
      "2023-10-11 17:39:30.614 [INFO    :      parameters:line 3003] - Successfully up-converted Electrostatics section from 0.3 to 0.4. `method=\"PME\"` is now split into `periodic_potential=\"Ewald3D-ConductingBoundary\"`, `nonperiodic_potential=\"Coulomb\"`, and `exception_potential=\"Coulomb\"`.\n",
      "2023-10-11 17:39:31.550 [INFO    :       execution:line 38  ] - Initializing simulation 1/1 (\"anneal\")\n",
      "2023-10-11 17:39:31.553 [INFO    :          thermo:line 83  ] - Created LangevinMiddleIntegrator for NVT (Canonical) ensemble\n",
      "2023-10-11 17:39:31.740 [INFO    :       reporters:line 127 ] - Prepared DCDReporter which reports to workflow_test_peg_modified/sims_by_charge/RCT/conf_1/anneal/anneal_trajectory.dcd\n",
      "2023-10-11 17:39:31.740 [INFO    :       reporters:line 127 ] - Prepared CheckpointReporter which reports to workflow_test_peg_modified/sims_by_charge/RCT/conf_1/anneal/anneal_checkpoint.chk\n",
      "2023-10-11 17:39:31.741 [INFO    :       reporters:line 127 ] - Prepared StateReporter which reports to workflow_test_peg_modified/sims_by_charge/RCT/conf_1/anneal/anneal_state.xml\n",
      "2023-10-11 17:39:31.743 [INFO    :       reporters:line 127 ] - Prepared StateDataReporter which reports to workflow_test_peg_modified/sims_by_charge/RCT/conf_1/anneal/anneal_state_data.csv\n",
      "2023-10-11 17:39:31.744 [INFO    :     preparation:line 62  ] - Setting positions in context\n",
      "2023-10-11 17:39:31.749 [INFO    :       execution:line 52  ] - Performing energy minimization (initial PE = 4153.466053105214 kJ/mol)\n",
      "2023-10-11 17:39:32.262 [INFO    :       execution:line 54  ] - Energy successfully minimized (final PE = 2845.896228886464 kJ/mol)\n",
      "2023-10-11 17:39:32.268 [INFO    :       execution:line 57  ] - Saved energy-minimized Simulation Topology at workflow_test_peg_modified/sims_by_charge/RCT/conf_1/anneal/anneal_topology.pdb\n",
      "2023-10-11 17:39:32.300 [INFO    :       execution:line 60  ] - Saved serialized Simulation System at workflow_test_peg_modified/sims_by_charge/RCT/conf_1/anneal/anneal_system.xml\n",
      "2023-10-11 17:39:32.301 [INFO    :       execution:line 62  ] - Integrating 1 ns OpenMM Simulation for 500000 steps\n"
     ]
    }
   ],
   "source": [
    "import numpy as np\n",
    "from copy import deepcopy\n",
    "\n",
    "from openff.toolkit import ForceField\n",
    "from openmm.unit import gram, nanometer, centimeter, angstrom\n",
    "\n",
    "from polysaccharide2.genutils.fileutils.pathutils import assemble_path\n",
    "from polysaccharide2.genutils.logutils.IOHandlers import MSFHandlerFlex\n",
    "from polysaccharide2.genutils.unitutils import openmm_to_openff\n",
    "\n",
    "from polysaccharide2.openmmtools.parameters import SimulationParameters\n",
    "from polysaccharide2.openmmtools import execution\n",
    "from polysaccharide2.openmmtools.parameters import SimulationParameters\n",
    "\n",
    "from polysaccharide2.openfftools.omminter import openff_topology_to_openmm\n",
    "from polysaccharide2.openfftools.solvation.boxvectors import VectorQuantity, BoxVectorsQuantity\n",
    "from polysaccharide2.openfftools.solvation import solvents\n",
    "from polysaccharide2.openfftools.solvation.packing import pack_topology_with_solvent\n",
    "\n",
    "\n",
    "# input parameters\n",
    "sim_dir_name = 'conf_1'\n",
    "param_top_path = charged_top_path\n",
    "solvent_name = 'water_TIP3P'\n",
    "\n",
    "sim_dir = chg_dir / sim_dir_name\n",
    "sim_dir.mkdir(exist_ok=True)\n",
    "\n",
    "box_dims = 5.0 * np.ones(3) * nanometer\n",
    "density = 0.997 * gram/centimeter**3\n",
    "exclusion = 1.0 * nanometer\n",
    "ff_name = 'openff-2.0.0'\n",
    "\n",
    "# define parameters\n",
    "solvent  = getattr(solvents, solvent_name)\n",
    "sim_param_path = Path('sim_param_sets')\n",
    "anneal_params = SimulationParameters.from_file(sim_param_path / 'anneal_params.json')\n",
    "\n",
    "# anneal function\n",
    "@allow_string_paths\n",
    "def vacuum_anneal(working_dir : Path, offtop : Topology, anneal_params : SimulationParameters, forcefield : Union[ForceField, str, Path],\n",
    "                   box_vecs : Optional[Union[VectorQuantity, BoxVectorsQuantity]]=None, step_name : str='anneal') -> Topology:\n",
    "    '''Run a short vacuum simulation of a Topology with a single molecule and reassign its conformer based on the '''\n",
    "    if offtop.n_molecules != 1:\n",
    "        raise ValueError(f'Can only run vacuum anneal on Topology with single molecule (Topology contains {offtop.n_molecules} molecules)')\n",
    "    offmol = topology.get_largest_offmol(offtop)\n",
    "    mol_name = offmol.name\n",
    "\n",
    "    # perform conformer anneal simulation in OpenMM\n",
    "    ommtop, ommsys, ommpos = openff_topology_to_openmm(offtop, forcefield=forcefield, box_vecs=box_vecs)\n",
    "    anneal_schedule = {step_name : anneal_params}\n",
    "    anneal_history = execution.run_simulation_schedule(working_dir, anneal_schedule, ommtop, ommsys, ommpos, return_history=True)\n",
    "    new_conformer = execution.get_simulation_positions(anneal_history[step_name]['simulation'])\n",
    "\n",
    "    # update conformer with new positions\n",
    "    new_mol = deepcopy(offmol)\n",
    "    LOGGER.info(f'Transferring coordinates from anneal to {mol_name} conformer')\n",
    "    new_mol.conformers[0] = openmm_to_openff(new_conformer.in_units_of(angstrom)) # convert to correct units in the OpenFF format\n",
    "\n",
    "    return new_mol.to_topology()\n",
    "\n",
    "# initialize simulation\n",
    "with MSFHandlerFlex(sim_dir, proc_name='vacuum_anneal', loggers='all') as log_handler:\n",
    "    offtop = topology.topology_from_sdf(param_top_path)\n",
    "    offmol = topology.get_largest_offmol(offtop)\n",
    "    mol_name = offmol.name\n",
    "\n",
    "    conf_top = vacuum_anneal(sim_dir, offtop, anneal_params, forcefield=ff_name, box_vecs=box_dims)\n",
    "    conf_top_path = assemble_path(sim_dir, mol_name, extension='sdf', postfix=sim_dir_name)\n",
    "    topology.topology_to_sdf(conf_top_path, conf_top)\n",
    "    \n",
    "    solv_top = pack_topology_with_solvent(conf_top, solvent, box_vecs=box_dims, density=density, exclusion=exclusion)\n",
    "    solv_top_path = assemble_path(sim_dir, conf_top_path.stem, extension='sdf', postfix=f'solv_{solvent.name}')\n",
    "    topology.topology_to_sdf(solv_top_path, solv_top)"
   ]
  },
  {
   "cell_type": "markdown",
   "metadata": {},
   "source": [
    "## 4) Simulation schedule"
   ]
  },
  {
   "cell_type": "code",
   "execution_count": null,
   "metadata": {},
   "outputs": [],
   "source": [
    "from openmm.unit import nanometer\n",
    "\n",
    "from polysaccharide2.genutils.logutils.IOHandlers import MSFHandlerFlex\n",
    "from polysaccharide2.openmmtools import parameters, execution\n",
    "from polysaccharide2.openmmtools.parameters import SimulationParameters\n",
    "from polysaccharide2.openfftools import topology\n",
    "from polysaccharide2.openfftools.omminter import openff_topology_to_openmm\n",
    "\n",
    "\n",
    "# input parameters\n",
    "sim_top_path = solv_top_path\n",
    "\n",
    "box_dims = 5.0 * np.ones(3) * nanometer\n",
    "ff_name = 'openff-2.0.0'\n",
    "\n",
    "# define paths\n",
    "prod_schedule = {\n",
    "    'equilibration' : parameters.SimulationParameters.from_file(sim_param_path / 'equilibration_params.json'),\n",
    "    'production' : parameters.SimulationParameters.from_file(sim_param_path / 'production_lite_params.json'),\n",
    "}\n",
    "\n",
    "# initialize simulation\n",
    "with MSFHandlerFlex(sim_dir, proc_name='sim_schedule', loggers='all') as log_handler:\n",
    "    offtop = topology.topology_from_sdf(solv_top_path)\n",
    "    ommtop, ommsys, ommpos = openff_topology_to_openmm(offtop, forcefield=ff_name, box_vecs=box_dims)\n",
    "    history = execution.run_simulation_schedule(sim_dir, prod_schedule, ommtop, ommsys, ommpos, return_history=True)"
   ]
  },
  {
   "cell_type": "markdown",
   "metadata": {},
   "source": [
    "## 5) Analysis"
   ]
  },
  {
   "cell_type": "code",
   "execution_count": null,
   "metadata": {},
   "outputs": [],
   "source": [
    "sim_paths_path : Path # -> SimulationPaths\n",
    "\n",
    "import mdtraj\n",
    "import matplotlib.pyplot as plt\n",
    "\n",
    "from polysaccharide2.openmmtools.serialization import SimulationPaths\n",
    "from polysaccharide2.analysis import mdtrajutils\n",
    "\n",
    "\n",
    "sim_paths = history['production']['paths']\n",
    "traj = mdtraj.load(sim_paths.trajectory_path, top=sim_paths.topology_path)\n",
    "pair_dict = {\n",
    "    'chain O - water O' : traj.top.select_pairs('not water and element O', 'water and element O')\n",
    "}\n",
    "if 'N' in mdtrajutils.unique_elem_types(traj):\n",
    "    pair_dict['chain N - water O'] = traj.top.select_pairs('not water and element N', 'water and element O')\n",
    "\n",
    "\n",
    "rdf_dframe = mdtrajutils.acquire_rdfs(traj, pair_dict=pair_dict, min_rad=0.2, max_rad=1.2, rad_unit=nanometer)\n",
    "radii, rdf = mdtrajutils.rdfs_to_plot_data(rdf_dframe)\n",
    "\n",
    "plt.plot(radii, rdf)"
   ]
  },
  {
   "cell_type": "code",
   "execution_count": null,
   "metadata": {},
   "outputs": [],
   "source": []
  }
 ],
 "metadata": {
  "kernelspec": {
   "display_name": "openff-pdb-pr",
   "language": "python",
   "name": "python3"
  },
  "language_info": {
   "codemirror_mode": {
    "name": "ipython",
    "version": 3
   },
   "file_extension": ".py",
   "mimetype": "text/x-python",
   "name": "python",
   "nbconvert_exporter": "python",
   "pygments_lexer": "ipython3",
   "version": "3.11.5"
  },
  "orig_nbformat": 4
 },
 "nbformat": 4,
 "nbformat_minor": 2
}
