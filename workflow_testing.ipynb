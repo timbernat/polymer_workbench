{
 "cells": [
  {
   "cell_type": "markdown",
   "metadata": {},
   "source": [
    "# Testing of features in polysaccharide2"
   ]
  },
  {
   "cell_type": "code",
   "execution_count": null,
   "metadata": {},
   "outputs": [],
   "source": [
    "# Supressing annoying warnings (!must be done first!)\n",
    "import warnings\n",
    "\n",
    "warnings.filterwarnings('ignore', category=UserWarning)\n",
    "warnings.filterwarnings('ignore', category=DeprecationWarning) # doesn't actually seem to do anything about mbuild warnings\n",
    "\n",
    "# Logging\n",
    "from rich.progress import Progress, track\n",
    "from polysaccharide2.genutils.logutils.IOHandlers import LOG_FORMATTER\n",
    "\n",
    "import logging\n",
    "logging.basicConfig(\n",
    "    level=logging.INFO,\n",
    "    format =LOG_FORMATTER._fmt,\n",
    "    datefmt=LOG_FORMATTER.datefmt,\n",
    "    # force=True\n",
    ")\n",
    "LOGGER = logging.Logger(__name__)"
   ]
  },
  {
   "cell_type": "markdown",
   "metadata": {},
   "source": [
    "# Defining final simulation workflow"
   ]
  },
  {
   "cell_type": "markdown",
   "metadata": {},
   "source": [
    "## Global parameters"
   ]
  },
  {
   "cell_type": "code",
   "execution_count": null,
   "metadata": {},
   "outputs": [],
   "source": [
    "mol_name = 'peg_modified'\n",
    "\n",
    "pdb_sub = 'simple_polymers'\n",
    "pdb_src_dir  = Path(f'pdb_test_cleaned/pdbs/{pdb_sub}')\n",
    "mono_src_dir = Path(f'pdb_test_cleaned/monos/{pdb_sub}')\n",
    "\n",
    "working_dir = Path(f'workflow_test_{mol_name}')\n",
    "working_dir.mkdir(exist_ok=True)"
   ]
  },
  {
   "cell_type": "markdown",
   "metadata": {},
   "source": [
    "## 0) Filetree setup"
   ]
  },
  {
   "cell_type": "code",
   "execution_count": null,
   "metadata": {},
   "outputs": [],
   "source": [
    "from shutil import copyfile\n",
    "from polysaccharide2.genutils.fileutils.pathutils import assemble_path\n",
    "from polysaccharide2.monomers import MonomerGroup\n",
    "\n",
    "term_orients = { \n",
    "    'peg_modified' : {\n",
    "        'peg_TERM2' : 'head',\n",
    "        'peg_TERM3' : 'tail',\n",
    "    },\n",
    "    'paam_modified' : {\n",
    "        'paam_TERM2' : 'head',\n",
    "        'paam_TERM3' : 'tail',\n",
    "    },\n",
    "    'pnipam_modified' : {\n",
    "        'pnipam_TERM2' : 'head',\n",
    "        'pnipam_TERM3' : 'tail',\n",
    "    },\n",
    "}\n",
    "\n",
    "starting_dir = working_dir / 'chemistry_seeds'\n",
    "starting_dir.mkdir(exist_ok=True)\n",
    "\n",
    "# COPY PDB FILE\n",
    "pdb_src_path = assemble_path(pdb_src_dir, mol_name, extension='pdb')\n",
    "assert(pdb_src_path.exists())\n",
    "pdb_path = assemble_path(starting_dir, mol_name, extension='pdb')\n",
    "copyfile(pdb_src_path, pdb_path)\n",
    "\n",
    "# COPY MONOMER FILE WITH ASSIGNED TERMINAL GROUPS\n",
    "mono_src_path = assemble_path(mono_src_dir, mol_name, extension='json')\n",
    "assert(mono_src_path.exists())\n",
    "mono_path = assemble_path(starting_dir, mol_name, extension='json')\n",
    "\n",
    "monomers = MonomerGroup.from_file(mono_src_path)\n",
    "monomers.term_orient = term_orients[mol_name]\n",
    "monomers.to_file(mono_path)"
   ]
  },
  {
   "cell_type": "markdown",
   "metadata": {},
   "source": [
    "## 1) Assigning chemistry"
   ]
  },
  {
   "cell_type": "code",
   "execution_count": null,
   "metadata": {},
   "outputs": [],
   "source": [
    "from openff.toolkit import Topology\n",
    "\n",
    "from polysaccharide2.openfftools import TKREGS\n",
    "from polysaccharide2.openfftools import topology\n",
    "from polysaccharide2.residues.partition import partition\n",
    "from polysaccharide2.monomers.repr import MonomerGroup\n",
    "\n",
    "\n",
    "monogrp = MonomerGroup.from_file(mono_path)\n",
    "offtop = Topology.from_pdb(pdb_path, _custom_substructures=monogrp.monomers, toolkit_registry=TKREGS['The RDKit'])\n",
    "was_partitioned = partition(offtop)\n",
    "print(was_partitioned)\n",
    "\n",
    "# assign properties to Molecule\n",
    "offmol =topology.get_largest_offmol(offtop)\n",
    "offmol.name = mol_name\n",
    "offmol.properties['solvent'] = None\n",
    "offmol.properties['charge_method'] = None\n",
    "\n",
    "# save partitioned Topology\n",
    "sdf_dir = Path('sdf_test')\n",
    "sdf_dir.mkdir(exist_ok=True)\n",
    "mol_path = sdf_dir / f'{mol_name}.sdf'\n",
    "topology.topology_to_sdf(mol_path, offtop=offtop, toolkit_registry=TKREGS['The RDKit'])"
   ]
  },
  {
   "cell_type": "markdown",
   "metadata": {},
   "source": [
    "## 2) Assigning charges"
   ]
  },
  {
   "cell_type": "markdown",
   "metadata": {},
   "source": [
    "### 2a) RCT + generating library charges"
   ]
  },
  {
   "cell_type": "code",
   "execution_count": null,
   "metadata": {},
   "outputs": [],
   "source": [
    "mono_path : Path\n",
    "N : int\n",
    "\n",
    "from polysaccharide2.openfftools.pcharge import MolCharger\n",
    "from polysaccharide2.residues.rescharge.interface import LibraryCharger\n",
    "from workflow import rct_protocol\n",
    "\n",
    "# building parameters\n",
    "# base_charge_method = 'AM1-BCC-ELF10'\n",
    "base_charge_method = 'Espaloma-AM1-BCC'\n",
    "\n",
    "outdir = Path('RCT_test')\n",
    "outdir.mkdir(exist_ok=True)\n",
    "\n",
    "N = 150\n",
    "chgr = MolCharger.subclass_registry[base_charge_method]()\n",
    "delete_pdb : bool=True\n",
    "save_sdf : bool=True\n",
    "\n",
    "\n",
    "# defining paths\n",
    "mol_category = 'simple_polymers'\n",
    "pdb_dir  = Path(f'pdb_test_cleaned/pdbs/{mol_category}')\n",
    "mono_dir = Path(f'pdb_test_cleaned/monos/{mol_category}')\n",
    "term_group_orient = term_groups[mol_name]\n",
    "\n",
    "# estimation and building loop\n",
    "mono_path = mono_dir / f'{mol_name}.json'\n",
    "assert(mono_path.exists())\n",
    "\n",
    "monogrp = MonomerGroup.from_file(mono_path)\n",
    "lib_chgs = rct_protocol(outdir, mol_name, monogrp, term_group_orient, N, charger=chgr, delete_pdb=delete_pdb, save_sdf=save_sdf)\n",
    "lib_chgs.to_file(outdir / f'{mol_name}_residue_charges.json')\n",
    "\n",
    "# PHASE 2: applying library charges to full-size mol\n",
    "pdb_path = pdb_dir / f'{mol_name}.pdb' # path to the true, full-size PDB \n",
    "offtop = Topology.from_pdb(pdb_path, _custom_substructures=monogrp.monomers, toolkit_registry=TKREGS['The RDKit'])\n",
    "was_partitioned = partition(offtop) \n",
    "assert(was_partitioned)\n",
    "fullmol = topology.get_largest_offmol(offtop)\n",
    "\n",
    "lib_chgr = LibraryCharger(lib_chgs)\n",
    "rctmol = lib_chgr.charge_molecule(fullmol, in_place=False)\n",
    "topology.topology_to_sdf(outdir / f'{mol_name}_{lib_chgr.CHARGING_METHOD}.sdf', rctmol.to_topology())"
   ]
  },
  {
   "cell_type": "markdown",
   "metadata": {},
   "source": [
    "### 2b) Generate charged mols with chosen methods"
   ]
  },
  {
   "cell_type": "code",
   "execution_count": null,
   "metadata": {},
   "outputs": [],
   "source": [
    "charge_methods : list[str]\n",
    "library_charges_path : Optional[Path]\n",
    "\n",
    "from polysaccharide2.openfftools import TKREGS\n",
    "from polysaccharide2.openfftools import topology\n",
    "from polysaccharide2.openfftools.pcharge import MolCharger\n",
    "from polysaccharide2.residues.rescharge.rctypes import ChargesByResidue\n",
    "\n",
    "charge_methods = [\n",
    "    'Espaloma-AM1BCC',\n",
    "    'RCT'\n",
    "]\n",
    "lib_chg_path = Path()\n",
    "\n",
    "for charge_method in charge_methods:\n",
    "    offtop = topology.topology_from_sdf(mol_path)\n",
    "    offmol = topology.get_largest_offmol(offtop)\n",
    "    mol_name = offmol.name\n",
    "\n",
    "    ChargerType = MolCharger.subclass_registry[charge_method]\n",
    "    if charge_method == 'RCT':\n",
    "        if lib_chg_path is not None and lib_chg_path.exists():\n",
    "            charger = ChargerType(ChargesByResidue.from_file(lib_chg_path))\n",
    "        else:\n",
    "            raise FileExistsError\n",
    "    else:\n",
    "        charger = ChargerType\n",
    "\n",
    "    cmol = charger.charge_molecule(offmol, in_place=False)\n",
    "    topology.topology_to_sdf(sdf_dir / f'{mol_name}_{charge_method}.sdf', cmol.to_topology())"
   ]
  },
  {
   "cell_type": "markdown",
   "metadata": {},
   "source": [
    "## 3) Conformer anneal"
   ]
  },
  {
   "cell_type": "code",
   "execution_count": null,
   "metadata": {},
   "outputs": [],
   "source": [
    "anneal_params_path : Path"
   ]
  },
  {
   "cell_type": "markdown",
   "metadata": {},
   "source": [
    "## 4) Simulation schedule"
   ]
  },
  {
   "cell_type": "code",
   "execution_count": null,
   "metadata": {},
   "outputs": [],
   "source": [
    "schedule : dict[str, Path] # -> SimulationParameters\n",
    "param_mol_path : Path # .sdf\n",
    "\n",
    "from openmm.unit import nanosecond, picosecond, femtosecond\n",
    "from openmm.unit import kelvin, atmosphere, nanometer, centimeter\n",
    "from openmm.unit import gram, mole, liter\n",
    "\n",
    "from polysaccharide2.genutils.unitutils import openmm_to_openff, openff_to_openmm\n",
    "from polysaccharide2.genutils.fileutils.pathutils import assemble_path\n",
    "from polysaccharide2.genutils.logutils.IOHandlers import MSFHandlerFlex\n",
    "\n",
    "from polysaccharide2.openmmtools import parameters, execution\n",
    "from polysaccharide2.openmmtools.parameters import SimulationParameters\n",
    "\n",
    "from polysaccharide2.openfftools import topology\n",
    "from polysaccharide2.openfftools.omminter import openff_topology_to_openmm\n",
    "from polysaccharide2.openfftools.solvation import packing, boxvectors, solvents\n",
    "from polysaccharide2.openfftools.solvation.packing import pack_topology_with_solvent\n",
    "\n",
    "from workflow import vacuum_anneal\n",
    "\n",
    "\n",
    "# input parameters\n",
    "sdf_dir = Path('sdf_test')\n",
    "sdf_path = sdf_dir / 'polyvinylchloride_AM1-BCC-ELF10.sdf'\n",
    "postfix = 'conf_1'\n",
    "\n",
    "box_dims = 4.0 * np.ones(3) * nanometer\n",
    "density = 0.997 * gram/centimeter**3\n",
    "exclusion = 1.0 * nanometer\n",
    "ff_name = 'openff-2.0.0'\n",
    "\n",
    "# define paths\n",
    "save_dir = Path('openmm_test')\n",
    "save_dir.mkdir(exist_ok=True)\n",
    "solvent  = solvents.water_TIP3P\n",
    "\n",
    "sim_param_path = Path('sim_param_sets')\n",
    "anneal_params = SimulationParameters.from_file(sim_param_path / 'anneal_params.json')\n",
    "prod_schedule = {\n",
    "    'equilibration' : parameters.SimulationParameters.from_file(sim_param_path / 'equilibration_params.json'),\n",
    "    'production' : parameters.SimulationParameters.from_file(sim_param_path / 'production_lite_params.json'),\n",
    "}\n",
    "\n",
    "# initialize simulation\n",
    "with MSFHandlerFlex(save_dir, proc_name='sim_schedule', loggers='all') as log_handler:\n",
    "    offtop = topology.topology_from_sdf(sdf_path)\n",
    "    offmol = topology.get_largest_offmol(offtop)\n",
    "    mol_name = offmol.name\n",
    "\n",
    "    conf_top = vacuum_anneal(save_dir, offtop, anneal_params, forcefield=ff_name, box_vecs=box_dims)\n",
    "    solv_top = pack_topology_with_solvent(conf_top, solvent, box_vecs=box_dims, density=density, exclusion=exclusion)\n",
    "    solv_top_path = assemble_path(save_dir, f'{mol_name}_solv_{solvent.name}', extension='sdf', postfix=postfix)\n",
    "    topology.topology_to_sdf(solv_top_path, solv_top)\n",
    "\n",
    "    # execute remaining simulations\n",
    "    ommtop, ommsys, ommpos = openff_topology_to_openmm(solv_top, forcefield=ff_name, box_vecs=box_dims)\n",
    "    history = execution.run_simulation_schedule(save_dir, prod_schedule, ommtop, ommsys, ommpos, return_history=True)"
   ]
  },
  {
   "cell_type": "markdown",
   "metadata": {},
   "source": [
    "## 5) Analysis"
   ]
  },
  {
   "cell_type": "code",
   "execution_count": null,
   "metadata": {},
   "outputs": [],
   "source": [
    "sim_paths_path : Path # -> SimulationPaths\n",
    "\n",
    "import mdtraj\n",
    "import matplotlib.pyplot as plt\n",
    "\n",
    "from polysaccharide2.openmmtools.serialization import SimulationPaths\n",
    "from polysaccharide2.analysis import mdtrajutils\n",
    "\n",
    "\n",
    "sim_paths = SimulationPaths.from_file(Path('openmm_test/production/production_paths.json'))\n",
    "\n",
    "traj = mdtraj.load(sim_paths.trajectory_path, top=sim_paths.topology_path)\n",
    "pair_dict = {\n",
    "    'chain O - water O' : traj.top.select_pairs('not water and element O', 'water and element O')\n",
    "}\n",
    "if 'N' in mdtrajutils.unique_elem_types(traj):\n",
    "    pair_dict['chain N - water O'] = traj.top.select_pairs('not water and element N', 'water and element O')\n",
    "\n",
    "\n",
    "rdf_dframe = mdtrajutils.acquire_rdfs(traj, pair_dict=pair_dict, min_rad=0.2, max_rad=1.2, rad_unit=nanometer)\n",
    "radii, rdf = mdtrajutils.rdfs_to_plot_data(rdf_dframe)\n",
    "\n",
    "plt.plot(radii, rdf)"
   ]
  },
  {
   "cell_type": "code",
   "execution_count": null,
   "metadata": {},
   "outputs": [],
   "source": []
  }
 ],
 "metadata": {
  "kernelspec": {
   "display_name": "openff-pdb-pr",
   "language": "python",
   "name": "python3"
  },
  "language_info": {
   "codemirror_mode": {
    "name": "ipython",
    "version": 3
   },
   "file_extension": ".py",
   "mimetype": "text/x-python",
   "name": "python",
   "nbconvert_exporter": "python",
   "pygments_lexer": "ipython3",
   "version": "3.11.5"
  },
  "orig_nbformat": 4
 },
 "nbformat": 4,
 "nbformat_minor": 2
}
