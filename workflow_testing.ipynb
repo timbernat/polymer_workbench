{
 "cells": [
  {
   "cell_type": "markdown",
   "metadata": {},
   "source": [
    "# Defining final simulation workflow"
   ]
  },
  {
   "cell_type": "markdown",
   "metadata": {},
   "source": [
    "## Imports"
   ]
  },
  {
   "cell_type": "code",
   "execution_count": 45,
   "metadata": {},
   "outputs": [],
   "source": [
    "# Supressing annoying warnings (!must be done first!)\n",
    "import warnings\n",
    "\n",
    "# Logging\n",
    "from rich.progress import Progress, track\n",
    "from polysaccharide2.genutils.logutils.IOHandlers import LOG_FORMATTER\n",
    "\n",
    "import logging\n",
    "logging.basicConfig(\n",
    "    level=logging.INFO,\n",
    "    format =LOG_FORMATTER._fmt,\n",
    "    datefmt=LOG_FORMATTER.datefmt,\n",
    "    # force=True\n",
    ")\n",
    "LOGGER = logging.Logger(__name__)\n",
    "\n",
    "from typing import Optional, Union\n",
    "from pathlib import Path"
   ]
  },
  {
   "cell_type": "code",
   "execution_count": null,
   "metadata": {},
   "outputs": [],
   "source": [
    "import argparse\n",
    "\n",
    "a = argparse.ArgumentParser()\n",
    "a.add_argument('-t', action='store_true')\n",
    "args = a.parse_args('')"
   ]
  },
  {
   "cell_type": "markdown",
   "metadata": {},
   "source": [
    "## 5) Analysis"
   ]
  },
  {
   "cell_type": "code",
   "execution_count": null,
   "metadata": {},
   "outputs": [],
   "source": [
    "sim_paths_path : Path # -> SimulationPaths\n",
    "\n",
    "import mdtraj\n",
    "import matplotlib.pyplot as plt\n",
    "\n",
    "from polysaccharide2.openmmtools.serialization import SimulationPaths\n",
    "from polysaccharide2.analysis import mdtrajutils\n",
    "\n",
    "\n",
    "sim_paths = history['production']['paths']\n",
    "traj = mdtraj.load(sim_paths.trajectory_path, top=sim_paths.topology_path)\n",
    "pair_dict = {\n",
    "    'chain O - water O' : traj.top.select_pairs('not water and element O', 'water and element O')\n",
    "}\n",
    "if 'N' in mdtrajutils.unique_elem_types(traj):\n",
    "    pair_dict['chain N - water O'] = traj.top.select_pairs('not water and element N', 'water and element O')\n",
    "\n",
    "\n",
    "rdf_dframe = mdtrajutils.acquire_rdfs(traj, pair_dict=pair_dict, min_rad=0.2, max_rad=1.2, rad_unit=nanometer)\n",
    "radii, rdf = mdtrajutils.rdfs_to_plot_data(rdf_dframe)\n",
    "\n",
    "plt.plot(radii, rdf)"
   ]
  },
  {
   "cell_type": "code",
   "execution_count": null,
   "metadata": {},
   "outputs": [],
   "source": []
  }
 ],
 "metadata": {
  "kernelspec": {
   "display_name": "openff-pdb-pr",
   "language": "python",
   "name": "python3"
  },
  "language_info": {
   "codemirror_mode": {
    "name": "ipython",
    "version": 3
   },
   "file_extension": ".py",
   "mimetype": "text/x-python",
   "name": "python",
   "nbconvert_exporter": "python",
   "pygments_lexer": "ipython3",
   "version": "3.11.5"
  },
  "orig_nbformat": 4
 },
 "nbformat": 4,
 "nbformat_minor": 2
}
