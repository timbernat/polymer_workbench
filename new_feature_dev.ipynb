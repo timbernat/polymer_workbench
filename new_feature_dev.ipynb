{
 "cells": [
  {
   "cell_type": "markdown",
   "metadata": {},
   "source": [
    "# Development of new featuers for polymerist"
   ]
  },
  {
   "cell_type": "code",
   "execution_count": 1,
   "metadata": {},
   "outputs": [
    {
     "name": "stderr",
     "output_type": "stream",
     "text": [
      "/home/timber/miniconda3/envs/polymerist-env/lib/python3.11/site-packages/mdtraj/formats/__init__.py:6: DeprecationWarning: 'xdrlib' is deprecated and slated for removal in Python 3.13\n",
      "  from .xtc import XTCTrajectoryFile\n",
      "/home/timber/miniconda3/envs/polymerist-env/lib/python3.11/site-packages/mdtraj/geometry/order.py:25: DeprecationWarning: pkg_resources is deprecated as an API. See https://setuptools.pypa.io/en/latest/pkg_resources.html\n",
      "  from pkg_resources import parse_version\n",
      "/home/timber/miniconda3/envs/polymerist-env/lib/python3.11/site-packages/pkg_resources/__init__.py:2846: DeprecationWarning: Deprecated call to `pkg_resources.declare_namespace('google')`.\n",
      "Implementing implicit namespace packages (as specified in PEP 420) is preferred to `pkg_resources.declare_namespace`. See https://setuptools.pypa.io/en/latest/references/keywords.html#keyword-namespace-packages\n",
      "  declare_namespace(pkg)\n",
      "/home/timber/miniconda3/envs/polymerist-env/lib/python3.11/site-packages/mbuild/recipes/__init__.py:13: DeprecationWarning: SelectableGroups dict interface is deprecated. Use select.\n",
      "  entry_points = metadata.entry_points()[\"mbuild.plugins\"]\n"
     ]
    }
   ],
   "source": [
    "import networkx as nx\n",
    "from rdkit import Chem\n",
    "\n",
    "import mbuild\n",
    "from mbuild.compound import Compound\n",
    "from mbuild.conversion import load, load_smiles, from_rdkit, to_smiles, to_pybel\n",
    "from mbuild.lib.recipes.polymer import Polymer\n",
    "\n",
    "comp = mbuild.Compound()"
   ]
  },
  {
   "cell_type": "markdown",
   "metadata": {},
   "source": [
    "## Developing monomer graphs"
   ]
  },
  {
   "cell_type": "markdown",
   "metadata": {},
   "source": [
    "### String/graph translation (SMILES-like)"
   ]
  },
  {
   "cell_type": "code",
   "execution_count": null,
   "metadata": {},
   "outputs": [],
   "source": [
    "from polymerist.genutils.textual.delimiters import validate_braces \n",
    "\n",
    "class MonomerGraph(nx.Graph):\n",
    "    '''A graph representation of the connectivity of monomer fragments in a polymer topology'''\n",
    "    # connectivity properties\n",
    "    @property\n",
    "    def num_monomers(self) -> int:\n",
    "        '''Number of monomer units represented in the current polymer'''\n",
    "        return self.number_of_nodes()\n",
    "    DOP = num_monomers\n",
    "\n",
    "    @property\n",
    "    def is_unbranched(self) -> bool:\n",
    "        '''Whether the monomer graph represents straight chain(s) without branching'''\n",
    "        return all(node_deg <= 2 for node_id, node_deg in G.degree)\n",
    "    is_linear = is_unbranched\n",
    "\n",
    "    @property\n",
    "    def is_unbranched(self) -> bool:\n",
    "        '''Whether the monomer graph represents straight chain(s) without branching'''\n",
    "        return not self.is_unbranched\n",
    "\n",
    "\n",
    "    # chemical information checks\n",
    "    def insert_chemical_info(self, chemical_info : dict[str, dict]) -> None:\n",
    "        '''Insert SMILES, SMARTS, and atom/linker count info into nodes from minimal set of monomer info templates'''\n",
    "        raise NotImplemented\n",
    "\n",
    "    def _validate(self) -> bool:\n",
    "        '''Check whether the chemical information inserted into the monomer graph is valid'''\n",
    "        raise NotImplemented\n",
    "\n",
    "\n",
    "    # SMILES-like in-line encodings\n",
    "    @classmethod\n",
    "    def from_monograph_string(cls, monostring : str, start_node_idx : int=0) -> 'MonomerGraph':\n",
    "        '''Parse a SMILES-like monomer graph string and read it into a networkX Graph'''\n",
    "        validate_braces(monostring) # check that all braces are in order before proceeding\n",
    "        visited : list[int] = []\n",
    "        curr_idx = start_node_idx - 1\n",
    "        mononame = ''\n",
    "        \n",
    "        monograph = cls() # create empty instance with class initializer\n",
    "        for char in monostring:\n",
    "            if char == '[':                                 # 1) if reached a new monomer block...\n",
    "                mononame = ''                               #   clear the current monomer name\n",
    "                curr_idx += 1                               #   and advance the current position index\n",
    "            elif char == ']':                               # 2) if reached the end of a monomer block...\n",
    "                monograph.add_node(curr_idx, monomer_name=mononame) #   add a new node with the current index and name\n",
    "                if visited:                                 #   if previously-visited nodes exist...\n",
    "                    monograph.add_edge(curr_idx, visited.pop())     #   remove the last visited node from the traversal stack and link the current node to it\n",
    "                visited.append(curr_idx)                    #   add the current node to the stack of visited nodes\n",
    "            elif char == '(':                               # 3) if beginning a traversal branch...\n",
    "                visited.append(visited[-1])                 #   duplicate the last visited node\n",
    "            elif char == ')':                               # 4) if exiting a branch...\n",
    "                visited.pop()                               #   remove the last visited position and return to the previous most recent visited node\n",
    "            else:                                           # 5) otherwise... \n",
    "                mononame += char                            #   must be inside a monomer block; in that case, just extend the current name\n",
    "            \n",
    "        return monograph\n",
    "\n",
    "    def to_monograph_string(self : nx.Graph, start_node_idx : int=0) -> str:\n",
    "        '''Convert a monomer graph into a SMILES-like monomer string'''\n",
    "        neighbors = nx.dfs_successors(self, source=start_node_idx) # determine DFS ordering of nodes and their neighbors\n",
    "        visited = {i : False for i in self.nodes} \n",
    "        stack = [start_node_idx]\n",
    "        \n",
    "        tokens = []\n",
    "        while stack:\n",
    "            curr_idx = stack.pop()\n",
    "            if not visited[curr_idx]:                                   # 1) collect appropriate tokens for the current node, depending on whether it has already been visited\n",
    "                mononame = self.nodes[curr_idx][\"monomer_name\"]    # get the name associated with the current monomer node (enclosed in square brackets)\n",
    "                tokens.append(f'[{mononame}]')                          #   push the current node's monomer label onto the result stack\n",
    "                visited[curr_idx] = True                                #   and mark as having been visited\n",
    "            else:                                                       # otherwise, if returning to an already-visited node...\n",
    "                tokens.append(')')                                      #   close the branch that must have led to this node\n",
    "                \n",
    "            if (successors := neighbors.get(curr_idx, [])):             # 2) get the remaining DFS successors of the current node, proceeding with checks if nonempty...\n",
    "                if (len(successors) > 1):                               # if multiple unvisited successors are present...\n",
    "                    tokens.append('(')                                  #   initialize a new branch point indicator \n",
    "                    stack.append(curr_idx)                              #   and mark the current node \n",
    "                stack.append(successors.pop(0))                         # push the first available successor node to be visited next\n",
    "\n",
    "        return ''.join(tokens)"
   ]
  },
  {
   "cell_type": "code",
   "execution_count": null,
   "metadata": {},
   "outputs": [],
   "source": [
    "from string import ascii_uppercase\n",
    "\n",
    "test = '[a][A]([A])[B][A]([A][B]([A][A])[B][C])[A][C][b]'\n",
    "test2 = test.replace('A', 'A2').replace('B', 'B2').replace('a', 'A1').replace('b', 'B1').replace('C', 'OTHER')\n",
    "# test3 = 'AB(CD)EFG(H(I)J)K(L)M'#(DD)CC'\n",
    "# test3 = 'EFG(H(I)J)K(L)M'#(DD)CC'\n",
    "test3 = 'ABC(D(E)F)G(H)I'#(DD)CC'\n",
    "for char in ascii_uppercase:\n",
    "    test3 = test3.replace(char, f'[{char}]')\n",
    "test4 = '[A][B][C][D]'\n",
    "\n",
    "targ_str = test3\n",
    "print(targ_str)"
   ]
  },
  {
   "cell_type": "code",
   "execution_count": null,
   "metadata": {},
   "outputs": [],
   "source": [
    "G = MonomerGraph.from_monograph_string(targ_str)\n",
    "\n",
    "# nx.draw(G, with_labels=True)\n",
    "nx.draw(G, with_labels=True, labels=nx.get_node_attributes(G, 'monomer_name'))"
   ]
  },
  {
   "cell_type": "code",
   "execution_count": null,
   "metadata": {},
   "outputs": [],
   "source": [
    "res = G.to_monograph_string(start_node_idx=6)\n",
    "print(res, '\\n', targ_str)\n",
    "\n",
    "H = MonomerGraph.from_monograph_string(res)\n",
    "# nx.draw(H, with_labels=True)\n",
    "nx.draw(H, with_labels=True, labels=nx.get_node_attributes(H, 'monomer_name'))"
   ]
  },
  {
   "cell_type": "code",
   "execution_count": null,
   "metadata": {},
   "outputs": [],
   "source": [
    "for i in range(len(G)):\n",
    "    res = G.to_monograph_string(start_node_idx=i)\n",
    "    I = MonomerGraph.from_monograph_string(res)\n",
    "    print(i, nx.is_isomorphic(G, I))"
   ]
  },
  {
   "cell_type": "code",
   "execution_count": null,
   "metadata": {},
   "outputs": [],
   "source": []
  },
  {
   "cell_type": "markdown",
   "metadata": {},
   "source": [
    "### \"Alphabet\" of monomer fragment chemical information "
   ]
  },
  {
   "cell_type": "code",
   "execution_count": null,
   "metadata": {},
   "outputs": [],
   "source": [
    "from typing import Optional\n",
    "from dataclasses import dataclass, field\n",
    "\n",
    "\n",
    "def get_num_linkers(rdmol : Chem.Mol) -> int:\n",
    "    '''Count how many wild-type inter-molecule atoms are in a Mol'''\n",
    "    return sum(\n",
    "        (atom.GetAtomicNum() == 0)\n",
    "            for atom in rdmol.GetAtoms()\n",
    "    )\n",
    "\n",
    "@dataclass\n",
    "class MonomerFragmentInfo:\n",
    "    '''Naming and in-line chemical encodings for a monomer unit within a polymer chain'''\n",
    "    name   : str\n",
    "    smiles : str\n",
    "    alias  : Optional[str] = field(default=None)\n",
    "    parent_smiles : Optional[str] = field(default=None) # smiles of the unpolymerized, feedstock monomer this fragment is derived from\n",
    "    smarts        : Optional[str] = field(default=None)\n",
    "\n",
    "    n_atoms       : int = field(init=False)\n",
    "    functionality : int = field(init=False)\n",
    "    contribution  : int = field(init=False)\n",
    "\n",
    "    def __post_init__(self) -> None:\n",
    "        tempmol = self.rdmol\n",
    "        self.n_atoms = tempmol.GetNumAtoms()\n",
    "        self.functionality = get_num_linkers(tempmol)\n",
    "        self.contribution  = self.n_atoms - self.functionality\n",
    "\n",
    "    @property\n",
    "    def rdmol(self) -> Chem.Mol:\n",
    "        return Chem.MolFromSmiles(self.smiles, sanitize=False)"
   ]
  },
  {
   "cell_type": "code",
   "execution_count": null,
   "metadata": {},
   "outputs": [],
   "source": [
    "from polymerist.monomers import MonomerGroup\n",
    "\n",
    "monogrp = MonomerGroup.from_file('poly(ethane-1,2-diol-co-furan-2,5-dicarboxylic acid).json')\n",
    "moldict, monosmiles = {}, {}\n",
    "for mononame, rdmol in monogrp.iter_rdmols():\n",
    "    display(rdmol)\n",
    "    moldict[   mononame] = rdmol\n",
    "    monosmiles[mononame] = Chem.MolToSmiles(rdmol)"
   ]
  },
  {
   "cell_type": "code",
   "execution_count": null,
   "metadata": {},
   "outputs": [],
   "source": [
    "from string import ascii_uppercase\n",
    "\n",
    "parent_monomers = {\n",
    "    'ethane-1,2-diol' : 'OCCO',\n",
    "    'furan-2,5-dicarboxylic acid' : 'O=C(O)c1ccc(C(=O)O)o1',\n",
    "}\n",
    "monomer_aliases = {\n",
    "    mononame : lett\n",
    "        for mononame, lett in zip(parent_monomers.keys(), ascii_uppercase)\n",
    "}"
   ]
  },
  {
   "cell_type": "code",
   "execution_count": null,
   "metadata": {},
   "outputs": [],
   "source": [
    "mono_infos = {}\n",
    "for mononame, smiles in monosmiles.items():\n",
    "    parent_mononame = mononame.split('_')[0]\n",
    "    parent_smiles = parent_monomers[parent_mononame]\n",
    "    parent_alias  = monomer_aliases[parent_mononame]\n",
    "\n",
    "    mono_info = MonomerFragmentInfo(\n",
    "        name=mononame,\n",
    "        smiles=smiles,\n",
    "        parent_smiles=parent_smiles,\n",
    "        smarts=specification.compliant_mol_SMARTS(smiles)\n",
    "    )\n",
    "    mono_info.alias = parent_alias.lower() if (mono_info.functionality == 1) else parent_alias.upper()\n",
    "    mono_infos[mono_info.alias] = mono_info"
   ]
  },
  {
   "cell_type": "code",
   "execution_count": null,
   "metadata": {},
   "outputs": [],
   "source": []
  },
  {
   "cell_type": "markdown",
   "metadata": {
    "vscode": {
     "languageId": "plaintext"
    }
   },
   "source": [
    "## Playing with ratios"
   ]
  },
  {
   "cell_type": "code",
   "execution_count": null,
   "metadata": {},
   "outputs": [],
   "source": [
    "from dataclasses import dataclass\n",
    "from typing import Any, Callable, ClassVar, TypeVar\n",
    "from math import gcd\n",
    "from numbers import Number\n",
    "\n",
    "\n",
    "N = TypeVar('N')\n",
    "def sgnmag(num : N) -> tuple[bool, N]:\n",
    "    '''Returns the sign and magnitude of a numeric-like value'''\n",
    "    return num < 0, abs(num)\n",
    "\n",
    "\n",
    "@dataclass(repr=False)\n",
    "class Ratio:\n",
    "    '''For representing fractional ratios between two objects'''\n",
    "    num   : Any\n",
    "    denom : Any\n",
    "\n",
    "    # REPRESENTATION\n",
    "    def __repr__(self) -> str:\n",
    "        return f'{self.num}/{self.denom}'\n",
    "    \n",
    "    def to_latex(self) -> str:\n",
    "        '''Return latex-compatible string which represent fraction'''\n",
    "        return rf'\\frac{{{self.num}}}{{{self.denom}}}'\n",
    "\n",
    "    # RELATIONS\n",
    "    @property\n",
    "    def reciprocal(self) -> 'Ratio':\n",
    "        '''Return the reciprocal of a ration'''\n",
    "        return self.__class__(self.denom, self.num)\n",
    "\n",
    "\n",
    "@dataclass(repr=False)\n",
    "class Rational(Ratio):\n",
    "    '''For representing ratios of integers'''\n",
    "    num   : int\n",
    "    denom : int\n",
    "\n",
    "    # REDUCTION\n",
    "    autoreduce : ClassVar[bool]=False\n",
    "    \n",
    "    def __post_init__(self) -> None:\n",
    "        if self.__class__.autoreduce:\n",
    "            self.reduce()\n",
    "\n",
    "    def reduce(self) -> None:\n",
    "        '''Reduce numerator and denominator by greatest common factor'''\n",
    "        _gcd = gcd(self.num, self.denom)\n",
    "        self.num=int(self.num / _gcd)\n",
    "        self.denom=int(self.denom / _gcd)\n",
    "    simplify = reduce # alias for convenience\n",
    "\n",
    "    @property\n",
    "    def reduced(self) -> 'Rational':\n",
    "        '''Return reduced Rational equivalent to the current rational (does not modify in-place)'''\n",
    "        new_rat = self.__class__(self.num, self.denom)\n",
    "        new_rat.reduce()\n",
    "\n",
    "        return new_rat\n",
    "    simplifed = reduced # alias for convenience\n",
    "    \n",
    "    def as_proper(self) -> tuple[int, 'Rational']:\n",
    "        '''Returns the integer and proper fractional component of a ratio'''\n",
    "        integ, remain = divmod(self.num, self.denom)\n",
    "        return integ, self.__class__(remain, self.denom)\n",
    "    \n",
    "    # ARITHMETIC\n",
    "    def __add__(self, other : 'Rational') -> 'Rational':\n",
    "        '''Sum of two Rationals'''\n",
    "        return self.__class__(\n",
    "            num=(self.num * other.denom) + (self.denom * other.num),\n",
    "            denom=(self.denom * other.denom)\n",
    "        )\n",
    "    \n",
    "    def __sub__(self, other : 'Rational') -> 'Rational':\n",
    "        '''Difference of two Rationals'''\n",
    "        return self.__class__(\n",
    "            num=(self.num * other.denom) - (self.denom * other.num),\n",
    "            denom=(self.denom * other.denom)\n",
    "        )\n",
    "\n",
    "    def __mul__(self, other : 'Rational') -> 'Rational':\n",
    "        '''Product of two Rationals'''\n",
    "        return self.__class__(\n",
    "            num=self.num * other.num,\n",
    "            denom=self.denom * other.denom\n",
    "        )\n",
    "\n",
    "    def __div__(self, other : 'Rational') -> 'Rational':\n",
    "        '''Quotient of two Rationals'''\n",
    "        return self.__class__(\n",
    "            num=self.num * other.denom,\n",
    "            denom=self.denom * other.num\n",
    "        )\n",
    "    \n",
    "    def __pow__(self, power : float) -> 'Rational':\n",
    "        '''Exponentiates a ratio'''\n",
    "        return self.__class__(\n",
    "            num=self.num**power,\n",
    "            denom=self.denom**power\n",
    "        )"
   ]
  },
  {
   "cell_type": "code",
   "execution_count": null,
   "metadata": {},
   "outputs": [],
   "source": [
    "p = Rational(3, 6)\n",
    "q = Rational(4, 12)\n",
    "\n",
    "print(p, p.reciprocal, p.reduced, p+q)"
   ]
  },
  {
   "cell_type": "code",
   "execution_count": null,
   "metadata": {},
   "outputs": [],
   "source": [
    "Rational.autoreduce = False"
   ]
  },
  {
   "cell_type": "code",
   "execution_count": null,
   "metadata": {},
   "outputs": [],
   "source": [
    "import numpy as np\n",
    "from numbers import Number\n",
    "\n",
    "for val in (4, 4.0, 4+0j, np.pi, '4', [4], False, 'sgdfg'):\n",
    "    print(val, type(val), isinstance(val, Number))"
   ]
  },
  {
   "cell_type": "code",
   "execution_count": null,
   "metadata": {},
   "outputs": [],
   "source": [
    "from fractions import Fraction"
   ]
  },
  {
   "cell_type": "code",
   "execution_count": null,
   "metadata": {},
   "outputs": [],
   "source": []
  },
  {
   "cell_type": "code",
   "execution_count": null,
   "metadata": {},
   "outputs": [],
   "source": []
  }
 ],
 "metadata": {
  "kernelspec": {
   "display_name": "polymerist-env",
   "language": "python",
   "name": "python3"
  },
  "language_info": {
   "codemirror_mode": {
    "name": "ipython",
    "version": 3
   },
   "file_extension": ".py",
   "mimetype": "text/x-python",
   "name": "python",
   "nbconvert_exporter": "python",
   "pygments_lexer": "ipython3",
   "version": "3.11.0"
  }
 },
 "nbformat": 4,
 "nbformat_minor": 2
}
