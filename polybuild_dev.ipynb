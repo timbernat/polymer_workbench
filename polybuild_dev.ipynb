{
 "cells": [
  {
   "cell_type": "markdown",
   "metadata": {},
   "source": [
    "# Development of polymer building, including monomer and bonding spec"
   ]
  },
  {
   "cell_type": "code",
   "execution_count": null,
   "metadata": {},
   "outputs": [],
   "source": [
    "from rdkit import Chem\n",
    "from rdkit.Chem import RWMol, BondType\n",
    "\n",
    "from polymerist import rdutils\n",
    "from polymerist.rdutils import rdkdraw\n",
    "from polymerist.rdutils.rdtypes import RDAtom, RDBond, RDMol\n",
    "from polymerist.rdutils.labeling import atomwise, molwise\n",
    "from polymerist.rdutils.labeling.molwise import assign_ordered_atom_map_nums\n",
    "from polymerist.rdutils.amalgamation import bonding, portlib\n",
    "\n",
    "from polymerist.genutils.iteration import iter_len\n",
    "from polymerist.genutils.decorators.functional import optional_in_place"
   ]
  },
  {
   "cell_type": "markdown",
   "metadata": {},
   "source": [
    "# Port-binding rules"
   ]
  },
  {
   "cell_type": "markdown",
   "metadata": {},
   "source": [
    "## Test structures"
   ]
  },
  {
   "cell_type": "code",
   "execution_count": null,
   "metadata": {},
   "outputs": [],
   "source": [
    "# some \"normal\" molecules for testing\n",
    "H  = Chem.MolFromSmarts('[#1]-[1#0]')\n",
    "OH = Chem.MolFromSmarts('[#1]-[O]-[2#0]')\n",
    "METHYL = Chem.MolFromSmarts('[#6](-[2#0])(-[2#0])(-[3#0])(-[1#0])')\n",
    "CARBONYL = Chem.MolFromSmarts('[#6]-[#6](=[#8])-[1#0]')\n",
    "WITTIG = Chem.MolFromSmarts('[#6](=[1#0])(-[2#0])(-[#1])')\n",
    "WITTIG_DUAL = Chem.MolFromSmarts('[#6](=[1#0])(-[#7](-[#1])(-[#1]))(-[#1])')\n",
    "\n",
    "TEST_MOLS_NORMAL = (\n",
    "    H,\n",
    "    OH,\n",
    "    METHYL,\n",
    "    WITTIG,\n",
    "    WITTIG_DUAL,\n",
    "    CARBONYL\n",
    ")\n",
    "\n",
    "# Pathological examples for debug\n",
    "DOUBLE_MID = Chem.MolFromSmarts('[#6](-[1#0])(-[#1])=[#0]-[#6](-[#1])(-[#1])(-[2#0])')\n",
    "NEUTRONIUM = Chem.MolFromSmarts('[#0]-[#0]')\n",
    "GHOST_WATER = Chem.MolFromSmarts('[#1]-[#0]-[#1]')\n",
    "\n",
    "TEST_MOLS_PATHO = (\n",
    "    DOUBLE_MID,\n",
    "    NEUTRONIUM,\n",
    "    GHOST_WATER\n",
    ")\n",
    "\n",
    "# COMBINE FOR UNIVERSAL TESTING\n",
    "TEST_MOLS = (\n",
    "    *TEST_MOLS_NORMAL,\n",
    "    *TEST_MOLS_PATHO\n",
    ")"
   ]
  },
  {
   "cell_type": "code",
   "execution_count": null,
   "metadata": {},
   "outputs": [],
   "source": [
    "rdkdraw.disable_substruct_highlights()\n",
    "\n",
    "for mol in TEST_MOLS:\n",
    "    assign_ordered_atom_map_nums(mol, in_place=True)\n",
    "    print(portlib.get_num_ports(mol))\n",
    "    display(mol)"
   ]
  },
  {
   "cell_type": "markdown",
   "metadata": {},
   "source": [
    "## Testing bond dissolution and splicing "
   ]
  },
  {
   "cell_type": "code",
   "execution_count": null,
   "metadata": {},
   "outputs": [],
   "source": [
    "a1 = 2 - 1 # indices of atoms to target\n",
    "a2 = 3 - 1 # indices of atoms to target\n",
    "flavor_pair = (1, 3) # pair of port flavors to interface together\n",
    "\n",
    "display(CARBONYL)\n",
    "frags = bonding.dissolve_bond(Chem.RWMol(CARBONYL), a1, a2, new_port_flavor=3)\n",
    "MET, OXY = Chem.GetMolFrags(frags, asMols=True, sanitizeFrags=True)\n",
    "\n",
    "display(frags)\n",
    "display(MET)\n",
    "display(OXY)\n",
    "\n",
    "portlib.Port.bondable_flavors.insert(flavor_pair)\n",
    "bondable_pair = portlib.get_first_bondable_port_pair(frags, a1, a2, flavor_pair=flavor_pair)\n",
    "prod1 = bonding.splice_atoms(frags, 1, 2, flavor_pair=(1,3), in_place=False)\n",
    "display(prod1)"
   ]
  },
  {
   "cell_type": "code",
   "execution_count": null,
   "metadata": {},
   "outputs": [],
   "source": [
    "TEST = bonding.combined_rdmol(METHYL, OXY)\n",
    "display(TEST)\n",
    "\n",
    "order2 = portlib.max_bondable_order_between_atoms(TEST, 0, 5, target_flavor=3)\n",
    "prod2 = bonding.splice_atoms(TEST, 0, 5, flavor_pair=(1,3))\n",
    "\n",
    "print(order2)\n",
    "display(prod2)"
   ]
  },
  {
   "cell_type": "markdown",
   "metadata": {},
   "source": [
    "## Testing port saturation"
   ]
  },
  {
   "cell_type": "markdown",
   "metadata": {},
   "source": [
    "### Testing single bonds"
   ]
  },
  {
   "cell_type": "code",
   "execution_count": null,
   "metadata": {},
   "outputs": [],
   "source": [
    "H_GENERIC = Chem.MolFromSmarts('[#1]-[#0]')\n",
    "OH_GENERIC = Chem.MolFromSmarts('[#1]-[O]-[4#0]')\n",
    "METHYL_GENERIC = Chem.MolFromSmarts('[#6](-[#0])(-[#0])(-[#0])(-[#0])')\n",
    "\n",
    "display(H_GENERIC)\n",
    "display(OH_GENERIC)\n",
    "display(METHYL_GENERIC)"
   ]
  },
  {
   "cell_type": "code",
   "execution_count": null,
   "metadata": {},
   "outputs": [],
   "source": [
    "bonding.saturate_ports(METHYL_GENERIC, H_GENERIC)"
   ]
  },
  {
   "cell_type": "code",
   "execution_count": null,
   "metadata": {},
   "outputs": [],
   "source": [
    "portlib.Port.bondable_flavors.insert((0,4))\n",
    "bonding.saturate_ports(METHYL_GENERIC, OH_GENERIC)"
   ]
  },
  {
   "cell_type": "code",
   "execution_count": null,
   "metadata": {},
   "outputs": [],
   "source": [
    "bonding.saturate_ports(METHYL_GENERIC, H_GENERIC)"
   ]
  },
  {
   "cell_type": "markdown",
   "metadata": {},
   "source": [
    "### Testing double bonds"
   ]
  },
  {
   "cell_type": "code",
   "execution_count": null,
   "metadata": {},
   "outputs": [],
   "source": [
    "CARBENE = Chem.MolFromSmarts('[2#0:1]=[#6:2]=[#0:3]')\n",
    "DIOX    = Chem.MolFromSmarts('[#0:1]=[#8:2]')\n",
    "\n",
    "display(CARBENE)\n",
    "display(DIOX)"
   ]
  },
  {
   "cell_type": "code",
   "execution_count": null,
   "metadata": {},
   "outputs": [],
   "source": [
    "bonding.saturate_ports(CARBENE, cap=DIOX, flavor_to_saturate=2)"
   ]
  },
  {
   "cell_type": "markdown",
   "metadata": {},
   "source": [
    "### Testing selectivity between mixed single and double bonds"
   ]
  },
  {
   "cell_type": "code",
   "execution_count": null,
   "metadata": {},
   "outputs": [],
   "source": [
    "C3 = Chem.MolFromSmarts('[#6:1](=[#0:2])(-[#0:3])(-[#0:4])')\n",
    "C3"
   ]
  },
  {
   "cell_type": "code",
   "execution_count": null,
   "metadata": {},
   "outputs": [],
   "source": [
    "bonding.saturate_ports(C3, cap=DIOX)"
   ]
  },
  {
   "cell_type": "markdown",
   "metadata": {},
   "source": [
    "### Testing the null case (no bonds formable, but with flavors matching)"
   ]
  },
  {
   "cell_type": "code",
   "execution_count": null,
   "metadata": {},
   "outputs": [],
   "source": []
  },
  {
   "cell_type": "markdown",
   "metadata": {},
   "source": [
    "# Implementing monomer-spec SMARTS query assignment"
   ]
  },
  {
   "cell_type": "code",
   "execution_count": null,
   "metadata": {},
   "outputs": [],
   "source": [
    "from polymerist.rdutils.rdtypes import RDAtom, RDMol\n",
    "\n",
    "def _get_compliant_atom_query(rdatom : RDAtom) -> Chem.QueryAtom:\n",
    "    '''Generated monomer-specification-compliant atom query SMARTS string (<insert our citation eventually>) for a non-port atom'''\n",
    "    assert(rdatom.GetAtomicNum() != 0) # TODO : add special case for handling ports once port spec is solidified\n",
    "\n",
    "    isotope      = rdatom.GetIsotope()\n",
    "    atomic_num   = rdatom.GetAtomicNum()\n",
    "    degree_num   = rdatom.GetDegree() # counts number of active bonds\n",
    "    formal_chg   = rdatom.GetFormalCharge()\n",
    "    atom_map_num = rdatom.GetAtomMapNum() # TODO : add check for nonzero map num   \n",
    "    \n",
    "    if isotope == 0:\n",
    "        query_SMARTS = f'[#{atomic_num}D{degree_num}{formal_chg:+}:{atom_map_num}]'\n",
    "    else:\n",
    "        query_SMARTS = f'[{isotope}?#{atomic_num}D{degree_num}{formal_chg:+}:{atom_map_num}]'\n",
    "    print(query_SMARTS)\n",
    "\n",
    "    return Chem.AtomFromSmarts(query_SMARTS) # include explicit plus for positive formal charges"
   ]
  },
  {
   "cell_type": "code",
   "execution_count": null,
   "metadata": {},
   "outputs": [],
   "source": [
    "PVC_SMARTS = \"[1#0:7]-[#6D4+0:1](-[#1D1+0:2])(-[#1D1+0:3])-[#6D4+0:4](-[#17D1+0:5])(-[#1D1+0:6])-[2#0:14]\"\n",
    "PVC = Chem.MolFromSmarts(PVC_SMARTS)\n",
    "PVC"
   ]
  },
  {
   "cell_type": "code",
   "execution_count": null,
   "metadata": {},
   "outputs": [],
   "source": [
    "import re\n",
    "\n",
    "MONOMER_ATOM_QUERY = re.compile(\n",
    "    r'\\[(?P<isotope>\\d?)' \\\n",
    "    r'#(?P<atomic_num>\\d+?)' \\\n",
    "    r'(?P<valence>.*?)' \\\n",
    "    r':(?P<map_num>\\d+?)\\]'\n",
    ")\n",
    "\n",
    "DEGREE_CHARGE_QUERY = re.compile(\n",
    "    r'D(?P<degree>\\d{1})' \\\n",
    "    r'[+-](?P<formal_charge>\\d+)'\n",
    ")"
   ]
  },
  {
   "cell_type": "code",
   "execution_count": null,
   "metadata": {},
   "outputs": [],
   "source": [
    "for match in re.finditer(MONOMER_ATOM_QUERY, PVC_SMARTS):\n",
    "    groups = match.groupdict()\n",
    "\n",
    "    if groups.get('isotope') == '':\n",
    "        groups['isotope'] = '0'\n",
    "\n",
    "    if (valence := groups.get('valence')):\n",
    "        atom_info = re.search(DEGREE_CHARGE_QUERY, valence).groupdict()\n",
    "        groups.update(atom_info)\n",
    "    groups.pop('valence') # discard for both linkers and non-linkers\n",
    "    groups = {\n",
    "        key : int(val)\n",
    "            for key, val in groups.items() # convert to ints from strings\n",
    "    }\n",
    "\n",
    "    print(groups)"
   ]
  },
  {
   "cell_type": "code",
   "execution_count": null,
   "metadata": {},
   "outputs": [],
   "source": [
    "METHYL = Chem.MolFromSmarts('[#6D4+0](-[3#0])(-[2#0])(-[4#0])(-[1#0])')\n",
    "display(METHYL)\n",
    "print(Chem.MolToSmiles(METHYL))\n",
    "print(Chem.MolToSmarts(METHYL))"
   ]
  },
  {
   "cell_type": "code",
   "execution_count": null,
   "metadata": {},
   "outputs": [],
   "source": [
    "mol = METHYL\n",
    "\n",
    "for atom in mol.GetAtoms():\n",
    "    if iter_len(portlib.get_ports_on_atom_at_idx(mol, atom.GetIdx())) == 0:\n",
    "        if atom.GetSymbol() == 'O':\n",
    "            atom.SetIsotope(1)\n",
    "        query_atom = _get_compliant_atom_query(atom)\n",
    "        atom.SetQuery(query_atom)\n",
    "        # print(_get_compliant_atom_query(atom))\n",
    "\n",
    "display(mol)\n",
    "print('RDKit-generated mol query : ', Chem.MolToSmarts(mol), Chem.MolToSmiles(mol))"
   ]
  },
  {
   "cell_type": "code",
   "execution_count": null,
   "metadata": {},
   "outputs": [],
   "source": [
    "for atom in mol.GetAtoms():\n",
    "    print(atom.GetSmarts())"
   ]
  },
  {
   "cell_type": "code",
   "execution_count": null,
   "metadata": {},
   "outputs": [],
   "source": [
    "Chem.MolFromSmiles('[#6&D4&+0:1](-[#0&2*:2])(-[#0&2*:3])(-[#0&2*:4])-[#0&1*:5]')"
   ]
  },
  {
   "cell_type": "code",
   "execution_count": null,
   "metadata": {},
   "outputs": [],
   "source": [
    "sm = Chem.MolToSmarts(mol)\n",
    "sm = sm.replace('&', '')\n",
    "\n",
    "mol2 = Chem.MolFromSmarts(sm)\n",
    "display(mol2)"
   ]
  },
  {
   "cell_type": "code",
   "execution_count": null,
   "metadata": {},
   "outputs": [],
   "source": [
    "block = Chem.MolToMolBlock(mol)"
   ]
  },
  {
   "cell_type": "code",
   "execution_count": null,
   "metadata": {},
   "outputs": [],
   "source": [
    "import pandas as pd\n",
    "from polymerist.genutils.iteration import iter_len\n",
    "\n",
    "records = []\n",
    "for atom in mol.GetAtoms():\n",
    "    record = {\n",
    "        'symbol' : atom.GetSymbol(),\n",
    "        'map num' : atom.GetAtomMapNum(),\n",
    "        'num bonds' : iter_len(atom.GetBonds()),\n",
    "        'impl_valence' : atom.GetImplicitValence(),\n",
    "        'expl_valence' : atom.GetExplicitValence(),\n",
    "        'total_valence' : atom.GetTotalValence(),\n",
    "    }\n",
    "    records.append(record)\n",
    "df = pd.DataFrame.from_records(records)\n",
    "df"
   ]
  },
  {
   "cell_type": "code",
   "execution_count": null,
   "metadata": {},
   "outputs": [],
   "source": [
    "s = '[#6D4+0:1](-[5#02*:3])(-[2#8D2+0:5]-[#1D1+0:4])(-[#8D2+0:7]-[#1D1+0:6])-[#8D2+0:9]-[#1D1+0:8]'\n",
    "mol3 = Chem.MolFromSmarts(s)\n",
    "display(mol3)\n",
    "print(s)\n",
    "print(Chem.MolToSmarts(mol3))"
   ]
  },
  {
   "cell_type": "code",
   "execution_count": null,
   "metadata": {},
   "outputs": [],
   "source": []
  }
 ],
 "metadata": {
  "kernelspec": {
   "display_name": "openff-pdb-pr",
   "language": "python",
   "name": "python3"
  },
  "language_info": {
   "codemirror_mode": {
    "name": "ipython",
    "version": 3
   },
   "file_extension": ".py",
   "mimetype": "text/x-python",
   "name": "python",
   "nbconvert_exporter": "python",
   "pygments_lexer": "ipython3",
   "version": "3.11.5"
  },
  "orig_nbformat": 4
 },
 "nbformat": 4,
 "nbformat_minor": 2
}
