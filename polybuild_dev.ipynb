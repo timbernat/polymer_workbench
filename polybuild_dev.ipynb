{
 "cells": [
  {
   "cell_type": "markdown",
   "metadata": {},
   "source": [
    "# Development of polymer building, including monomer and bonding spec"
   ]
  },
  {
   "cell_type": "code",
   "execution_count": null,
   "metadata": {},
   "outputs": [],
   "source": [
    "# Supressing annoying warnings (!must be done first!)\n",
    "import warnings\n",
    "warnings.catch_warnings(record=True)\n",
    "warnings.filterwarnings('ignore', category=UserWarning)\n",
    "warnings.filterwarnings('ignore', category=DeprecationWarning)\n",
    "\n",
    "import logging\n",
    "from polymerist.genutils.logutils.IOHandlers import LOG_FORMATTER\n",
    "\n",
    "logging.basicConfig(\n",
    "    level=logging.INFO,\n",
    "    format =LOG_FORMATTER._fmt,\n",
    "    datefmt=LOG_FORMATTER.datefmt,\n",
    "    force=True\n",
    ")\n",
    "LOGGER = logging.getLogger(__name__)\n",
    "\n",
    "from rdkit import Chem\n",
    "from rdkit.Chem import RWMol, BondType\n",
    "\n",
    "from polymerist import rdutils\n",
    "from polymerist.rdutils import rdkdraw\n",
    "from polymerist.rdutils.rdtypes import RDAtom, RDBond, RDMol\n",
    "from polymerist.rdutils.labeling import atomwise, molwise\n",
    "from polymerist.rdutils.labeling.molwise import assign_ordered_atom_map_nums\n",
    "from polymerist.rdutils.amalgamation import bonding, portlib\n",
    "\n",
    "from polymerist.genutils.iteration import iter_len\n",
    "from polymerist.genutils.decorators.functional import optional_in_place"
   ]
  },
  {
   "cell_type": "markdown",
   "metadata": {},
   "source": [
    "# Debugging NGLView issues"
   ]
  },
  {
   "cell_type": "code",
   "execution_count": 1,
   "metadata": {},
   "outputs": [
    {
     "data": {
      "application/vnd.jupyter.widget-view+json": {
       "model_id": "f22e164cf33e4bab86f754fc670c8d65",
       "version_major": 2,
       "version_minor": 0
      },
      "text/plain": []
     },
     "metadata": {},
     "output_type": "display_data"
    }
   ],
   "source": [
    "import nglview as nv\n",
    "from openff.toolkit import Molecule"
   ]
  },
  {
   "cell_type": "code",
   "execution_count": 2,
   "metadata": {},
   "outputs": [
    {
     "data": {
      "application/vnd.jupyter.widget-view+json": {
       "model_id": "5c0a104c8b9246eaa930b391359600b9",
       "version_major": 2,
       "version_minor": 0
      },
      "text/plain": [
       "NGLWidget()"
      ]
     },
     "metadata": {},
     "output_type": "display_data"
    }
   ],
   "source": [
    "import nglview as nv\n",
    "\n",
    "nv.demo()"
   ]
  },
  {
   "cell_type": "code",
   "execution_count": 3,
   "metadata": {},
   "outputs": [
    {
     "data": {
      "application/vnd.jupyter.widget-view+json": {
       "model_id": "76e719b4fb6f4e84981a05b2e5ad9b0c",
       "version_major": 2,
       "version_minor": 0
      },
      "text/plain": [
       "NGLWidget()"
      ]
     },
     "metadata": {},
     "output_type": "display_data"
    }
   ],
   "source": [
    "from openff.toolkit import Molecule\n",
    "\n",
    "m = Molecule.from_smiles('CC=O')\n",
    "m.generate_conformers(n_conformers=1)\n",
    "# m.visualize(backend='rdkit')\n",
    "m.visualize(backend='nglview')"
   ]
  },
  {
   "cell_type": "markdown",
   "metadata": {},
   "source": [
    "# Port-binding rules"
   ]
  },
  {
   "cell_type": "markdown",
   "metadata": {},
   "source": [
    "## Test structures"
   ]
  },
  {
   "cell_type": "code",
   "execution_count": null,
   "metadata": {},
   "outputs": [],
   "source": [
    "# some \"normal\" molecules for testing\n",
    "H  = Chem.MolFromSmarts('[#1]-[1#0]')\n",
    "OH = Chem.MolFromSmarts('[#1]-[O]-[2#0]')\n",
    "METHYL = Chem.MolFromSmarts('[#6](-[2#0])(-[2#0])(-[3#0])(-[1#0])')\n",
    "CARBONYL = Chem.MolFromSmarts('[#6]-[#6](=[#8])-[1#0]')\n",
    "WITTIG = Chem.MolFromSmarts('[#6](=[1#0])(-[2#0])(-[#1])')\n",
    "WITTIG_DUAL = Chem.MolFromSmarts('[#6](=[1#0])(-[#7](-[#1])(-[#1]))(-[#1])')\n",
    "\n",
    "TEST_MOLS_NORMAL = (\n",
    "    H,\n",
    "    OH,\n",
    "    METHYL,\n",
    "    WITTIG,\n",
    "    WITTIG_DUAL,\n",
    "    CARBONYL\n",
    ")\n",
    "\n",
    "# Pathological examples for debug\n",
    "DOUBLE_MID = Chem.MolFromSmarts('[#6](-[1#0])(-[#1])=[#0]-[#6](-[#1])(-[#1])(-[2#0])')\n",
    "NEUTRONIUM = Chem.MolFromSmarts('[#0]-[#0]')\n",
    "GHOST_WATER = Chem.MolFromSmarts('[#1]-[#0]-[#1]')\n",
    "\n",
    "TEST_MOLS_PATHO = (\n",
    "    DOUBLE_MID,\n",
    "    NEUTRONIUM,\n",
    "    GHOST_WATER\n",
    ")\n",
    "\n",
    "# COMBINE FOR UNIVERSAL TESTING\n",
    "TEST_MOLS = (\n",
    "    *TEST_MOLS_NORMAL,\n",
    "    *TEST_MOLS_PATHO\n",
    ")"
   ]
  },
  {
   "cell_type": "code",
   "execution_count": null,
   "metadata": {},
   "outputs": [],
   "source": [
    "rdkdraw.disable_substruct_highlights()\n",
    "\n",
    "for mol in TEST_MOLS:\n",
    "    assign_ordered_atom_map_nums(mol, in_place=True)\n",
    "    print(portlib.get_num_ports(mol))\n",
    "    display(mol)"
   ]
  },
  {
   "cell_type": "markdown",
   "metadata": {},
   "source": [
    "## Testing bond dissolution and splicing "
   ]
  },
  {
   "cell_type": "code",
   "execution_count": null,
   "metadata": {},
   "outputs": [],
   "source": [
    "a1 = 2 - 1 # indices of atoms to target\n",
    "a2 = 3 - 1 # indices of atoms to target\n",
    "flavor_pair = (1, 3) # pair of port flavors to interface together\n",
    "\n",
    "display(CARBONYL)\n",
    "frags = bonding.dissolve_bond(Chem.RWMol(CARBONYL), a1, a2, new_port_flavor=3)\n",
    "MET, OXY = Chem.GetMolFrags(frags, asMols=True, sanitizeFrags=True)\n",
    "\n",
    "display(frags)\n",
    "display(MET)\n",
    "display(OXY)\n",
    "\n",
    "portlib.Port.bondable_flavors.insert(flavor_pair)\n",
    "bondable_pair = portlib.get_first_bondable_port_pair(frags, a1, a2, flavor_pair=flavor_pair)\n",
    "prod1 = bonding.splice_atoms(frags, 1, 2, flavor_pair=(1,3), in_place=False)\n",
    "display(prod1)"
   ]
  },
  {
   "cell_type": "code",
   "execution_count": null,
   "metadata": {},
   "outputs": [],
   "source": [
    "TEST = bonding.combined_rdmol(METHYL, OXY)\n",
    "display(TEST)\n",
    "\n",
    "order2 = portlib.max_bondable_order_between_atoms(TEST, 0, 5, target_flavor=3)\n",
    "prod2 = bonding.splice_atoms(TEST, 0, 5, flavor_pair=(1,3))\n",
    "\n",
    "print(order2)\n",
    "display(prod2)"
   ]
  },
  {
   "cell_type": "markdown",
   "metadata": {},
   "source": [
    "## Testing port saturation"
   ]
  },
  {
   "cell_type": "markdown",
   "metadata": {},
   "source": [
    "### Testing single bonds"
   ]
  },
  {
   "cell_type": "code",
   "execution_count": null,
   "metadata": {},
   "outputs": [],
   "source": [
    "H_GENERIC = Chem.MolFromSmarts('[#1]-[#0]')\n",
    "OH_GENERIC = Chem.MolFromSmarts('[#1]-[O]-[4#0]')\n",
    "METHYL_GENERIC = Chem.MolFromSmarts('[#6](-[#0])(-[#0])(-[#0])(-[#0])')\n",
    "\n",
    "display(H_GENERIC)\n",
    "display(OH_GENERIC)\n",
    "display(METHYL_GENERIC)"
   ]
  },
  {
   "cell_type": "code",
   "execution_count": null,
   "metadata": {},
   "outputs": [],
   "source": [
    "bonding.saturate_ports(METHYL_GENERIC, H_GENERIC)"
   ]
  },
  {
   "cell_type": "code",
   "execution_count": null,
   "metadata": {},
   "outputs": [],
   "source": [
    "portlib.Port.bondable_flavors.insert((0,4))\n",
    "bonding.saturate_ports(METHYL_GENERIC, OH_GENERIC)"
   ]
  },
  {
   "cell_type": "code",
   "execution_count": null,
   "metadata": {},
   "outputs": [],
   "source": [
    "bonding.saturate_ports(METHYL_GENERIC, H_GENERIC)"
   ]
  },
  {
   "cell_type": "markdown",
   "metadata": {},
   "source": [
    "### Testing double bonds"
   ]
  },
  {
   "cell_type": "code",
   "execution_count": null,
   "metadata": {},
   "outputs": [],
   "source": [
    "CARBENE = Chem.MolFromSmarts('[2#0:1]=[#6:2]=[#0:3]')\n",
    "DIOX    = Chem.MolFromSmarts('[#0:1]=[#8:2]')\n",
    "\n",
    "display(CARBENE)\n",
    "display(DIOX)"
   ]
  },
  {
   "cell_type": "code",
   "execution_count": null,
   "metadata": {},
   "outputs": [],
   "source": [
    "bonding.saturate_ports(CARBENE, cap=DIOX, flavor_to_saturate=2)"
   ]
  },
  {
   "cell_type": "markdown",
   "metadata": {},
   "source": [
    "### Testing selectivity between mixed single and double bonds"
   ]
  },
  {
   "cell_type": "code",
   "execution_count": null,
   "metadata": {},
   "outputs": [],
   "source": [
    "C3 = Chem.MolFromSmarts('[#6:1](=[#0:2])(-[#0:3])(-[#0:4])')\n",
    "C3"
   ]
  },
  {
   "cell_type": "code",
   "execution_count": null,
   "metadata": {},
   "outputs": [],
   "source": [
    "bonding.saturate_ports(C3, cap=DIOX)"
   ]
  },
  {
   "cell_type": "markdown",
   "metadata": {},
   "source": [
    "### Testing the null case (no bonds formable, but with flavors matching)"
   ]
  },
  {
   "cell_type": "code",
   "execution_count": null,
   "metadata": {},
   "outputs": [],
   "source": []
  },
  {
   "cell_type": "markdown",
   "metadata": {},
   "source": [
    "# Testing different measures of atom degree"
   ]
  },
  {
   "cell_type": "code",
   "execution_count": null,
   "metadata": {},
   "outputs": [],
   "source": [
    "smiles = 'C'\n",
    "exp_smiles = specification.expanded_SMILES(smiles)\n",
    "mol = Chem.MolFromSmiles(exp_smiles)\n",
    "mol"
   ]
  },
  {
   "cell_type": "code",
   "execution_count": null,
   "metadata": {},
   "outputs": [],
   "source": [
    "Chem.MolFromSmarts(exp_smiles)"
   ]
  },
  {
   "cell_type": "code",
   "execution_count": null,
   "metadata": {},
   "outputs": [],
   "source": [
    "specification.compliant_mol_SMARTS(exp_smiles)"
   ]
  },
  {
   "cell_type": "code",
   "execution_count": null,
   "metadata": {},
   "outputs": [],
   "source": []
  },
  {
   "cell_type": "code",
   "execution_count": null,
   "metadata": {},
   "outputs": [],
   "source": [
    "import pandas as pd\n",
    "from polymerist.genutils.iteration import iter_len\n",
    "\n",
    "smarts = ''\n",
    "mol = Chem.MolFromsmarts(smarts)\n",
    "\n",
    "records = []\n",
    "for atom in mol.GetAtoms():\n",
    "    record = {\n",
    "        'symbol' : atom.GetSymbol(),\n",
    "        'map num' : atom.GetAtomMapNum(),\n",
    "        'num bonds' : iter_len(atom.GetBonds()),\n",
    "        'impl_valence' : atom.GetImplicitValence(),\n",
    "        'expl_valence' : atom.GetExplicitValence(),\n",
    "        'total_valence' : atom.GetTotalValence(),\n",
    "    }\n",
    "    records.append(record)\n",
    "df = pd.DataFrame.from_records(records)\n",
    "df"
   ]
  },
  {
   "cell_type": "code",
   "execution_count": null,
   "metadata": {},
   "outputs": [],
   "source": []
  },
  {
   "cell_type": "code",
   "execution_count": null,
   "metadata": {},
   "outputs": [],
   "source": []
  }
 ],
 "metadata": {
  "kernelspec": {
   "display_name": "openff-pdb-pr",
   "language": "python",
   "name": "python3"
  },
  "language_info": {
   "codemirror_mode": {
    "name": "ipython",
    "version": 3
   },
   "file_extension": ".py",
   "mimetype": "text/x-python",
   "name": "python",
   "nbconvert_exporter": "python",
   "pygments_lexer": "ipython3",
   "version": "3.11.6"
  },
  "orig_nbformat": 4
 },
 "nbformat": 4,
 "nbformat_minor": 2
}
