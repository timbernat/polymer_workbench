{
 "cells": [
  {
   "cell_type": "markdown",
   "metadata": {},
   "source": [
    "# Testing of features in polysaccharide2"
   ]
  },
  {
   "cell_type": "code",
   "execution_count": 1,
   "metadata": {},
   "outputs": [
    {
     "name": "stderr",
     "output_type": "stream",
     "text": [
      "/home/timber/miniconda3/envs/openff-pdb-pr/lib/python3.11/site-packages/mdtraj/formats/__init__.py:6: DeprecationWarning: 'xdrlib' is deprecated and slated for removal in Python 3.13\n",
      "  from .xtc import XTCTrajectoryFile\n",
      "/home/timber/miniconda3/envs/openff-pdb-pr/lib/python3.11/site-packages/mbuild/recipes/__init__.py:13: DeprecationWarning: SelectableGroups dict interface is deprecated. Use select.\n",
      "  entry_points = metadata.entry_points()[\"mbuild.plugins\"]\n",
      "/home/timber/miniconda3/envs/openff-pdb-pr/lib/python3.11/site-packages/ipywidgets/widgets/widget.py:503: DeprecationWarning: The `ipykernel.comm.Comm` class has been deprecated. Please use the `comm` module instead.For creating comms, use the function `from comm import create_comm`.\n",
      "  self.comm = Comm(**args)\n",
      "/home/timber/miniconda3/envs/openff-pdb-pr/lib/python3.11/site-packages/ipywidgets/widgets/widget.py:503: DeprecationWarning: The `ipykernel.comm.Comm` class has been deprecated. Please use the `comm` module instead.For creating comms, use the function `from comm import create_comm`.\n",
      "  self.comm = Comm(**args)\n"
     ]
    },
    {
     "data": {
      "application/vnd.jupyter.widget-view+json": {
       "model_id": "c603321a7d134becb8a39ff4216826a0",
       "version_major": 2,
       "version_minor": 0
      },
      "text/plain": []
     },
     "metadata": {},
     "output_type": "display_data"
    }
   ],
   "source": [
    "# Supressing annoying warnings (!must be done first!)\n",
    "import warnings\n",
    "\n",
    "warnings.filterwarnings('ignore', category=UserWarning)\n",
    "warnings.filterwarnings('ignore', category=DeprecationWarning) # doesn't actually seem to do anything about mbuild warnings\n",
    "\n",
    "# Logging\n",
    "from polysaccharide2.genutils.logutils.IOHandlers import LOG_FORMATTER\n",
    "\n",
    "import logging\n",
    "LOGGER = logging.Logger(__name__)\n",
    "logging.basicConfig(\n",
    "    level=logging.INFO,\n",
    "    format =LOG_FORMATTER._fmt,\n",
    "    datefmt=LOG_FORMATTER.datefmt,\n",
    "    # force=True\n",
    ")\n",
    "\n",
    "# General\n",
    "import re, json\n",
    "from pathlib import Path\n",
    "from shutil import copyfile\n",
    "\n",
    "import numpy as np\n",
    "\n",
    "# Logging\n",
    "from rich.progress import Progress, track\n",
    "import logging\n",
    "\n",
    "# Chemistry\n",
    "from openmm.unit import nanometer, angstrom\n",
    "from openff.toolkit import Topology, Molecule, ForceField\n",
    "from openff.units import unit as offunit\n",
    "\n",
    "from openff.interchange import Interchange\n",
    "from openff.interchange.components import _packmol as packmol\n",
    "\n",
    "from rdkit import Chem\n",
    "import openeye\n",
    "\n",
    "# Custom\n",
    "import polysaccharide2 as ps2\n",
    "from polysaccharide2.genutils.decorators.functional import allow_string_paths, allow_pathlib_paths, optional_in_place"
   ]
  },
  {
   "cell_type": "markdown",
   "metadata": {},
   "source": [
    "# OpenFF parameterization testing"
   ]
  },
  {
   "cell_type": "markdown",
   "metadata": {},
   "source": [
    "## Defining water"
   ]
  },
  {
   "cell_type": "code",
   "execution_count": null,
   "metadata": {},
   "outputs": [],
   "source": [
    "from rdkit import Chem\n",
    "\n",
    "from polysaccharide2.openfftools import TKREGS\n",
    "from polysaccharide2.openfftools.topIO import save_molecule\n",
    "from polysaccharide2.rdutils.labeling.molwise import assign_ordered_atom_map_nums\n",
    "\n",
    "# rdwat = Chem.MolFromSmiles('O')\n",
    "# assign_ordered_atom_map_nums(rdwat, in_place=True)\n",
    "# offwat = Molecule.from_rdkit(rdwat)\n",
    "def generate_water_TIP3P() -> Molecule:\n",
    "    '''Helper method for creating a new TIP3p water representation from scratch'''\n",
    "    TIP3P_ATOM_CHARGES = { # NOTE : units deliberately omitted here (become applied to entire charge array)\n",
    "        'H' :  0.417,\n",
    "        'O' : -0.843\n",
    "    }\n",
    "\n",
    "    water = Molecule.from_smiles('O')\n",
    "    water.name = 'water_TIP3P'\n",
    "    water.partial_charges = [TIP3P_ATOM_CHARGES[atom.symbol] for atom in water.atoms]*offunit.elementary_charge\n",
    "\n",
    "    return water"
   ]
  },
  {
   "cell_type": "code",
   "execution_count": null,
   "metadata": {},
   "outputs": [],
   "source": [
    "water_dir = Path('water_files')\n",
    "water_dir.mkdir(exist_ok=True)\n",
    "\n",
    "water = generate_water_TIP3P()\n",
    "\n",
    "save_molecule(water_dir / f'{water.name}_oe.sdf' , water, TKREGS['OpenEye Toolkit'])\n",
    "save_molecule(water_dir / f'{water.name}_rd.sdf', water, TKREGS['The RDKit'])\n",
    "WATER_PATH = copyfile(water_dir / f'{water.name}_oe.sdf', water_dir / f'{water.name}.sdf')"
   ]
  },
  {
   "cell_type": "markdown",
   "metadata": {},
   "source": [
    "## Testing load using from_pdb and monomers"
   ]
  },
  {
   "cell_type": "code",
   "execution_count": null,
   "metadata": {},
   "outputs": [],
   "source": [
    "from polysaccharide2.openfftools import topIO\n",
    "from polysaccharide2.openfftools.topinfo import get_largest_offmol\n",
    "from polysaccharide2.residues.partition import partition\n",
    "from polysaccharide2.monomers.repr import MonomerGroup\n",
    "\n",
    "# pdb_dir  = Path('polymer_examples/compatible_pdbs/simple_polymers')\n",
    "# mono_dir = Path('polymer_examples/monomer_generation/json_files/')\n",
    "\n",
    "pdb_sub = 'simple_polymers'\n",
    "pdb_dir  = Path(f'pdb_test_cleaned/pdbs/{pdb_sub}')\n",
    "mono_dir = Path(f'pdb_test_cleaned/monos/{pdb_sub}')\n",
    "\n",
    "mol_name = 'polyvinylchloride'\n",
    "# mol_name = 'PEO_PLGA'\n",
    "# mol_name = 'paam_modified'\n",
    "# pdb_sub = 'proteins'\n",
    "# mol_name = '6cww'\n",
    "\n",
    "pdb = pdb_dir / f'{mol_name}.pdb'\n",
    "mono = mono_dir / f'{mol_name}.json'\n",
    "assert(pdb.exists())\n",
    "assert(mono.exists())\n",
    "\n",
    "monogrp = MonomerGroup.from_file(mono)\n",
    "rdmol = Chem.MolFromPDBFile(str(pdb))\n",
    "offtop = Topology.from_pdb(pdb, _custom_substructures=monogrp.monomers, toolkit_registry=TKREGS['The RDKit'])\n",
    "was_partitioned = partition(offtop)\n",
    "print(was_partitioned)\n",
    "\n",
    "# assign properties to Molecule\n",
    "offmol = get_largest_offmol(offtop)\n",
    "offmol.name = mol_name\n",
    "offmol.properties['solvent'] = None\n",
    "offmol.properties['charge_method'] = None\n",
    "\n",
    "# save partitioned Topology\n",
    "sdf_dir = Path('sdf_test')\n",
    "sdf_dir.mkdir(exist_ok=True)\n",
    "mol_path = sdf_dir / f'{mol_name}.sdf'\n",
    "topIO.topology_to_sdf(mol_path, offtop=offtop, toolkit_registry=TKREGS['The RDKit'])"
   ]
  },
  {
   "cell_type": "markdown",
   "metadata": {},
   "source": [
    "## Partial charge assignment"
   ]
  },
  {
   "cell_type": "code",
   "execution_count": null,
   "metadata": {},
   "outputs": [],
   "source": [
    "from polysaccharide2.openfftools import TKREGS\n",
    "from polysaccharide2.openfftools import topIO\n",
    "from polysaccharide2.residues.rescharge import application, calculation\n",
    "\n",
    "\n",
    "base_charge_method = 'AM1-BCC-ELF10'\n",
    "\n",
    "# assign charges with default methods\n",
    "charged_mols = {}\n",
    "for charge_method, ChargerType in application.MolCharger.subclass_registry.items():\n",
    "    chgr = ChargerType()\n",
    "    cmol = charged_mols[charge_method] = chgr.charge_molecule(offmol, in_place=False)\n",
    "\n",
    "# generate library charges and charge by residue\n",
    "res_chg = calculation.compute_residue_charges(charged_mols[base_charge_method], monogrp)\n",
    "res_chg.to_file(sdf_dir / f'{mol_name}_residue_charges.json')\n",
    "\n",
    "offmol_avg = application.apply_residue_charges(offmol, res_chg, in_place=False)\n",
    "offmol_avg.properties['charge_method'] = 'RCT-averaged'\n",
    "charged_mols['RCT-averaged'] = offmol_avg\n",
    "\n",
    "# saving charged molecules to SDF files\n",
    "for charge_method, cmol in charged_mols.items():\n",
    "    topIO.topology_to_sdf(sdf_dir / f'{mol_name}_{charge_method}.sdf', cmol.to_topology())"
   ]
  },
  {
   "cell_type": "markdown",
   "metadata": {},
   "source": [
    "## Solvation of Topologies"
   ]
  },
  {
   "cell_type": "code",
   "execution_count": null,
   "metadata": {},
   "outputs": [],
   "source": [
    "from openmm.unit import gram, centimeter, nanometer, mole\n",
    "from polysaccharide2.openfftools.solvation.packing import pack_topology_with_solvent\n",
    "\n",
    "# PARAMETERS\n",
    "targ_box_vecs = 4.1 * np.ones(3) * nanometer\n",
    "density = 0.997 * (gram / centimeter**3)\n",
    "exclusion = 1.3 * nanometer\n",
    "solvent = Molecule.from_file(WATER_PATH)\n",
    "\n",
    "for charge_method, cmol in charged_mols.items():\n",
    "    # solv_top = pack_topology_with_solvent(cmol.to_topology(), solvent, box_vecs=targ_box_vecs, density=density, exclusion=exclusion)\n",
    "    solv_top = pack_topology_with_solvent(cmol.to_topology(), solvent, box_vecs=targ_box_vecs, density=density, exclusion=exclusion)\n",
    "    topIO.topology_to_sdf(sdf_dir / f'{mol_name}_{charge_method}_solv_{solvent.name}.sdf', solv_top)"
   ]
  },
  {
   "cell_type": "markdown",
   "metadata": {},
   "source": [
    "# OpenMM I/O and simulation interfaces"
   ]
  },
  {
   "cell_type": "markdown",
   "metadata": {},
   "source": [
    "## Cast OpenFF Topology to OpenMM via Interchange"
   ]
  },
  {
   "cell_type": "code",
   "execution_count": null,
   "metadata": {},
   "outputs": [],
   "source": [
    "from openff.toolkit import ForceField\n",
    "from openff.interchange import Interchange\n",
    "\n",
    "from polysaccharide2.openfftools import FFDIR, topIO, topinfo\n",
    "from polysaccharide2.openfftools.solvation import boxvectors\n",
    "from polysaccharide2.genutils.unitutils import openff_to_openmm, openmm_to_openff\n",
    "\n",
    "\n",
    "sdf_dir = Path('sdf_test')\n",
    "sdf_path = sdf_dir / 'polyvinylchloride_AM1-BCC-ELF10.sdf'\n",
    "offtop = topIO.topology_from_sdf(sdf_path)\n",
    "offmol = topinfo.get_largest_offmol(offtop)\n",
    "\n",
    "box_dims = 2.0 * np.ones(3) * nanometer\n",
    "box_vecs = boxvectors.xyz_to_box_vectors(box_dims)\n",
    "offtop.box_vectors = box_vecs\n",
    "\n",
    "ff_name = 'openff-2.0.0.offxml'\n",
    "ff = ForceField(FFDIR / ff_name)\n",
    "ic = Interchange.from_smirnoff(ff, offtop, charge_from_molecules=[offmol])\n",
    "\n",
    "ommtop = ic.to_openmm_topology()\n",
    "ommsys = ic.to_openmm(combine_nonbonded_forces=False, add_constrained_forces=False)\n",
    "ommpos = openff_to_openmm(ic.positions)"
   ]
  },
  {
   "cell_type": "markdown",
   "metadata": {},
   "source": [
    "## Initialize OpenMM sim + files"
   ]
  },
  {
   "cell_type": "code",
   "execution_count": null,
   "metadata": {},
   "outputs": [],
   "source": [
    "from openmm.unit import nanosecond, picosecond, femtosecond\n",
    "from openmm.unit import kelvin, atmosphere, nanometer\n",
    "from polysaccharide2.openmmtools import parameters, serialization, preparation\n",
    "\n",
    "\n",
    "# define paths\n",
    "prefix = 'pvc'\n",
    "save_path = Path('openmm_test')\n",
    "save_path.mkdir(exist_ok=True)\n",
    "\n",
    "# initialize parameter sets\n",
    "sim_params = parameters.SimulationParameters(\n",
    "    integ_params=parameters.IntegratorParameters(\n",
    "        time_step=1*femtosecond,\n",
    "        total_time=100*picosecond,\n",
    "        num_samples=100\n",
    "    ),\n",
    "    thermo_params=parameters.ThermoParameters(\n",
    "        ensemble='NVT',\n",
    "        temperature=300*kelvin,\n",
    "        pressure=1*atmosphere\n",
    "    ),\n",
    "    reporter_params=parameters.ReporterParameters(\n",
    "        report_state=True,\n",
    "        report_checkpoint=True,\n",
    "        report_state_data=True,\n",
    "        report_trajectory=True,\n",
    "    ),\n",
    ")\n",
    "\n",
    "# initialize and integrate simulation\n",
    "ommsim, sim_paths = preparation.initialize_simulation_and_files(save_path, prefix, sim_params, ommtop, ommsys)\n",
    "ommsim.context.setPositions(ommpos) # by default, positions are unnasigned\n",
    "\n",
    "LOGGER.info('Performing energy minimization')\n",
    "ommsim.minimizeEnergy()\n",
    "LOGGER.info('Energy successfully minimized')\n",
    "\n",
    "serialization.serialize_topology_from_simulation(sim_paths.topology_path, ommsim) # TODO : make this consistent with rest of Path output\n",
    "LOGGER.info(f'Saved energy-minimized Simulation Topology at {sim_paths.topology_path}')\n",
    "\n",
    "serialization.serialize_system(sim_paths.system_path, ommsim.system)\n",
    "LOGGER.info(f'Saved serialized Simulation System at {sim_paths.system_path}')\n",
    "\n",
    "LOGGER.info(f'Integrating {sim_params.integ_params.total_time} OpenMM sim for {sim_params.integ_params.num_steps} steps')\n",
    "ommsim.step(sim_params.integ_params.num_steps)\n",
    "LOGGER.info('Simulation integration completed successfully')"
   ]
  },
  {
   "cell_type": "markdown",
   "metadata": {},
   "source": [
    "### Copying coordinate to single chain after anneal"
   ]
  },
  {
   "cell_type": "code",
   "execution_count": null,
   "metadata": {},
   "outputs": [],
   "source": [
    "from copy import deepcopy\n",
    "\n",
    "final_state = ommsim.context.getState(getPositions=True)\n",
    "final_pos = final_state.getPositions(asNumpy=True)\n",
    "\n",
    "new_mol = deepcopy(offmol)\n",
    "new_mol.conformers[0] = openmm_to_openff(final_pos.in_units_of(angstrom)) # convert to correct units in the OpenFF format"
   ]
  },
  {
   "cell_type": "code",
   "execution_count": null,
   "metadata": {},
   "outputs": [],
   "source": [
    "topIO.topology_to_sdf('orig.sdf', offmol.to_topology())\n",
    "topIO.topology_to_sdf('shifted.sdf', new_mol.to_topology())"
   ]
  },
  {
   "cell_type": "markdown",
   "metadata": {},
   "source": [
    "# Experimenting with SMARTS functional groups"
   ]
  },
  {
   "cell_type": "code",
   "execution_count": null,
   "metadata": {},
   "outputs": [],
   "source": [
    "from polysaccharide2.monomers.substruct.functgroups import FN_GROUP_TABLE, FN_GROUP_ENTRIES\n",
    "from polysaccharide2.monomers.substruct.functgroups.records import FnGroupSMARTSEntry"
   ]
  },
  {
   "cell_type": "code",
   "execution_count": null,
   "metadata": {},
   "outputs": [],
   "source": [
    "FN_GROUP_TABLE.loc[FN_GROUP_TABLE['group_type'].str.contains('carbonyl')]"
   ]
  },
  {
   "cell_type": "code",
   "execution_count": null,
   "metadata": {},
   "outputs": [],
   "source": [
    "smarts = FN_GROUP_ENTRIES[44].SMARTS\n",
    "Chem.MolFromSmarts(smarts)"
   ]
  },
  {
   "cell_type": "markdown",
   "metadata": {},
   "source": [
    "# Testing building"
   ]
  },
  {
   "cell_type": "code",
   "execution_count": 2,
   "metadata": {},
   "outputs": [
    {
     "name": "stderr",
     "output_type": "stream",
     "text": [
      "2023-10-06 17:42:03.035 [INFO    :        building:line 82  ] - Building linear polymer chain with 8 monomers (65 atoms)\n",
      "2023-10-06 17:42:04.348 [INFO    :        building:line 82  ] - Building linear polymer chain with 8 monomers (82 atoms)\n",
      "2023-10-06 17:42:05.462 [INFO    :        building:line 82  ] - Building linear polymer chain with 8 monomers (154 atoms)\n"
     ]
    }
   ],
   "source": [
    "from pathlib import Path\n",
    "from polysaccharide2.monomers.repr import MonomerGroup\n",
    "from polysaccharide2.polymers import estimation, building\n",
    "from polysaccharide2.openfftools import TKREGS, topIO, topinfo\n",
    "from polysaccharide2.residues.partition import partition\n",
    "\n",
    "\n",
    "# building parameters\n",
    "DOP = 8\n",
    "term_groups = { \n",
    "    'peg_modified' : {\n",
    "        'peg_TERM2' : 'head',\n",
    "        'peg_TERM3' : 'tail',\n",
    "    },\n",
    "    'paam_modified' : {\n",
    "        'paam_TERM2' : 'head',\n",
    "        'paam_TERM3' : 'tail',\n",
    "    },\n",
    "    'pnipam_modified' : {\n",
    "        'pnipam_TERM2' : 'head',\n",
    "        'pnipam_TERM3' : 'tail',\n",
    "    },\n",
    "}\n",
    "\n",
    "outdir = Path('polybuild_test')\n",
    "outdir.mkdir(exist_ok=True)\n",
    "\n",
    "# defining paths\n",
    "mol_category = 'simple_polymers'\n",
    "pdb_dir  = Path(f'pdb_test_cleaned/pdbs/{mol_category}')\n",
    "mono_dir = Path(f'pdb_test_cleaned/monos/{mol_category}')\n",
    "\n",
    "# estimation and building loop\n",
    "monogrps = {}\n",
    "offmols  = {}\n",
    "for mol_name, term_group_orient in term_groups.items():\n",
    "    pdb_path   = outdir / f'{mol_name}.pdb' # NOTe : new PDB path, not an existing one\n",
    "    mono_path = mono_dir / f'{mol_name}.json'\n",
    "    assert(mono_path.exists())\n",
    "\n",
    "    monogrp = MonomerGroup.from_file(mono_path)\n",
    "    monogrps[mol_name] = monogrp\n",
    "    chain = building.build_linear_polymer(monogrp, DOP, term_orient=term_group_orient)\n",
    "    building.mbmol_to_openmm_pdb(pdb_path, chain)\n",
    "    \n",
    "    offtop = Topology.from_pdb(pdb_path, _custom_substructures=monogrp.monomers, toolkit_registry=TKREGS['The RDKit']) # verify that Topologies can be loaded from new mols\n",
    "    was_partitioned = partition(offtop) \n",
    "    assert(was_partitioned)\n",
    "    offmol = topinfo.get_largest_offmol(offtop)\n",
    "    offmol.name = mol_name\n",
    "    offmols[mol_name] = offmol"
   ]
  },
  {
   "cell_type": "code",
   "execution_count": 4,
   "metadata": {},
   "outputs": [
    {
     "name": "stderr",
     "output_type": "stream",
     "text": [
      "2023-10-06 17:44:07.315 [INFO    :         pcharge:line 34  ] - Assigning partial charges via the \"Espaloma-AM1-BCC\" method\n"
     ]
    },
    {
     "name": "stderr",
     "output_type": "stream",
     "text": [
      "/home/timber/miniconda3/envs/openff-pdb-pr/lib/python3.11/site-packages/espaloma_charge/openff_wrapper.py:112: IncorrectNumConformersWarning: Molecule 'Molecule with name 'peg_modified' and SMILES '[H]C([H])([H])OC([H])([H])C([H])([H])OC([H])([H])C([H])([H])OC([H])([H])C([H])([H])OC([H])([H])C([H])([H])OC([H])([H])C([H])([H])OC([H])([H])C([H])([H])OC([H])([H])C([H])([H])OC([H])([H])C([H])([H])OC([H])([H])[H]'' has 1 conformers, but charge method 'espaloma-am1bcc' expects exactly 0.\n",
      "  self._check_n_conformers(\n",
      "2023-10-06 17:44:07.385 [INFO    :         pcharge:line 37  ] - Successfully assigned \"Espaloma-AM1-BCC\" charges\n",
      "2023-10-06 17:44:07.408 [INFO    :         pcharge:line 34  ] - Assigning partial charges via the \"RCT_residue_charges\" method\n",
      "2023-10-06 17:44:07.410 [INFO    :         pcharge:line 37  ] - Successfully assigned \"RCT_residue_charges\" charges\n"
     ]
    }
   ],
   "source": [
    "from polysaccharide2.openfftools import pcharge\n",
    "from polysaccharide2.residues.rescharge import calculation\n",
    "from polysaccharide2.residues.rescharge.interface import LibraryCharger\n",
    "\n",
    "\n",
    "chgr = pcharge.EspalomaCharger()\n",
    "cmol = chgr.charge_molecule(offmols['peg_modified'], in_place=False)\n",
    "lib_chgs = calculation.compute_residue_charges(cmol, monogrps['peg_modified'])\n",
    "\n",
    "lib_chgr = LibraryCharger(lib_chgs)\n",
    "cmol2 = lib_chgr.charge_molecule(offmols['peg_modified'], in_place=False)"
   ]
  },
  {
   "cell_type": "code",
   "execution_count": 5,
   "metadata": {},
   "outputs": [
    {
     "data": {
      "text/plain": [
       "[<matplotlib.lines.Line2D at 0x7f078ed7b750>]"
      ]
     },
     "execution_count": 5,
     "metadata": {},
     "output_type": "execute_result"
    },
    {
     "data": {
      "image/png": "[encoded data removed]",
      "text/plain": [
       "<Figure size 640x480 with 1 Axes>"
      ]
     },
     "metadata": {},
     "output_type": "display_data"
    }
   ],
   "source": [
    "import matplotlib.pyplot as plt\n",
    "\n",
    "diff = cmol.partial_charges - cmol2.partial_charges\n",
    "plt.plot(diff)"
   ]
  },
  {
   "cell_type": "code",
   "execution_count": 12,
   "metadata": {},
   "outputs": [],
   "source": [
    "diffs = [\n",
    "    atom.partial_charge - cmol2.atoms[atom.molecule_atom_index].partial_charge\n",
    "        for atom in cmol.atoms\n",
    "]"
   ]
  },
  {
   "cell_type": "code",
   "execution_count": 13,
   "metadata": {},
   "outputs": [
    {
     "data": {
      "text/plain": [
       "[-0.0004287596641879346 <Unit('elementary_charge')>,\n",
       " -0.00042875966418794154 <Unit('elementary_charge')>,\n",
       " -0.00042875966418794154 <Unit('elementary_charge')>,\n",
       " -0.000428747246553611 <Unit('elementary_charge')>,\n",
       " -0.00042875966418794154 <Unit('elementary_charge')>,\n",
       " -0.00042875966418794154 <Unit('elementary_charge')>,\n",
       " -0.00042875966418792766 <Unit('elementary_charge')>,\n",
       " -0.0004287596641879346 <Unit('elementary_charge')>,\n",
       " -0.00042875966418794154 <Unit('elementary_charge')>,\n",
       " -0.00042875966418794154 <Unit('elementary_charge')>,\n",
       " -0.00042876214771480486 <Unit('elementary_charge')>,\n",
       " -0.00042875966418794154 <Unit('elementary_charge')>,\n",
       " -0.00042875966418794154 <Unit('elementary_charge')>,\n",
       " -0.00042875966418792766 <Unit('elementary_charge')>,\n",
       " -0.0004287596641879346 <Unit('elementary_charge')>,\n",
       " -0.00042875966418794154 <Unit('elementary_charge')>,\n",
       " -0.00042875966418794154 <Unit('elementary_charge')>,\n",
       " -0.00042876214771480486 <Unit('elementary_charge')>,\n",
       " -0.00042875966418794154 <Unit('elementary_charge')>,\n",
       " -0.00042875966418794154 <Unit('elementary_charge')>,\n",
       " -0.00042875966418792766 <Unit('elementary_charge')>,\n",
       " -0.0004287596641879346 <Unit('elementary_charge')>,\n",
       " -0.00042875966418794154 <Unit('elementary_charge')>,\n",
       " -0.00042875966418794154 <Unit('elementary_charge')>,\n",
       " -0.00042876214771480486 <Unit('elementary_charge')>,\n",
       " -0.00042875966418794154 <Unit('elementary_charge')>,\n",
       " -0.00042875966418794154 <Unit('elementary_charge')>,\n",
       " -0.00042875966418792766 <Unit('elementary_charge')>,\n",
       " -0.0004287596641879346 <Unit('elementary_charge')>,\n",
       " -0.00042875966418794154 <Unit('elementary_charge')>,\n",
       " -0.00042875966418794154 <Unit('elementary_charge')>,\n",
       " -0.00042876214771480486 <Unit('elementary_charge')>,\n",
       " -0.00042875966418794154 <Unit('elementary_charge')>,\n",
       " -0.00042875966418794154 <Unit('elementary_charge')>,\n",
       " -0.00042875966418792766 <Unit('elementary_charge')>,\n",
       " -0.0004287596641879346 <Unit('elementary_charge')>,\n",
       " -0.00042875966418794154 <Unit('elementary_charge')>,\n",
       " -0.00042875966418794154 <Unit('elementary_charge')>,\n",
       " -0.00042876214771480486 <Unit('elementary_charge')>,\n",
       " -0.00042875966418794154 <Unit('elementary_charge')>,\n",
       " -0.00042875966418794154 <Unit('elementary_charge')>,\n",
       " -0.00042875966418792766 <Unit('elementary_charge')>,\n",
       " 0.02283144253013017 <Unit('elementary_charge')>,\n",
       " 0.02283144253013017 <Unit('elementary_charge')>,\n",
       " 0.02283144253013017 <Unit('elementary_charge')>,\n",
       " 0.02283144253013017 <Unit('elementary_charge')>,\n",
       " 0.02283144253013017 <Unit('elementary_charge')>,\n",
       " 0.02283144253013017 <Unit('elementary_charge')>,\n",
       " 0.02283144253013014 <Unit('elementary_charge')>,\n",
       " 0.02283144253013017 <Unit('elementary_charge')>,\n",
       " 0.022831442530130166 <Unit('elementary_charge')>,\n",
       " 0.022831442530130166 <Unit('elementary_charge')>,\n",
       " 0.022831442530130166 <Unit('elementary_charge')>,\n",
       " -0.019428163494628226 <Unit('elementary_charge')>,\n",
       " -0.019428163494628226 <Unit('elementary_charge')>,\n",
       " -0.019428163494628226 <Unit('elementary_charge')>,\n",
       " -0.019428163494628226 <Unit('elementary_charge')>,\n",
       " -0.019428163494628226 <Unit('elementary_charge')>,\n",
       " -0.019428163494628226 <Unit('elementary_charge')>,\n",
       " -0.019428163494628226 <Unit('elementary_charge')>,\n",
       " -0.019428163494628226 <Unit('elementary_charge')>,\n",
       " -0.019428163494628226 <Unit('elementary_charge')>,\n",
       " -0.019428163494628226 <Unit('elementary_charge')>,\n",
       " -0.019428163494628226 <Unit('elementary_charge')>,\n",
       " -0.019428163494628226 <Unit('elementary_charge')>]"
      ]
     },
     "execution_count": 13,
     "metadata": {},
     "output_type": "execute_result"
    }
   ],
   "source": [
    "diffs"
   ]
  },
  {
   "cell_type": "markdown",
   "metadata": {},
   "source": [
    "# Playing with ratios"
   ]
  },
  {
   "cell_type": "code",
   "execution_count": null,
   "metadata": {},
   "outputs": [],
   "source": [
    "from dataclasses import dataclass\n",
    "from typing import Any, Callable, ClassVar, TypeVar\n",
    "from math import gcd\n",
    "from numbers import Number\n",
    "\n",
    "\n",
    "N = TypeVar('N')\n",
    "def sgnmag(num : N) -> tuple[bool, N]:\n",
    "    '''Returns the sign and magnitude of a numeric-like value'''\n",
    "    return num < 0, abs(num)\n",
    "\n",
    "\n",
    "@dataclass(repr=False)\n",
    "class Ratio:\n",
    "    '''For representing fractional ratios between two objects'''\n",
    "    num   : Any\n",
    "    denom : Any\n",
    "\n",
    "    # REPRESENTATION\n",
    "    def __repr__(self) -> str:\n",
    "        return f'{self.num}/{self.denom}'\n",
    "    \n",
    "    def to_latex(self) -> str:\n",
    "        '''Return latex-compatible string which represent fraction'''\n",
    "        return rf'\\frac{{{self.num}}}{{{self.denom}}}'\n",
    "\n",
    "    # RELATIONS\n",
    "    @property\n",
    "    def reciprocal(self) -> 'Ratio':\n",
    "        '''Return the reciprocal of a ration'''\n",
    "        return self.__class__(self.denom, self.num)\n",
    "\n",
    "\n",
    "@dataclass(repr=False)\n",
    "class Rational(Ratio):\n",
    "    '''For representing ratios of integers'''\n",
    "    num   : int\n",
    "    denom : int\n",
    "\n",
    "    # REDUCTION\n",
    "    autoreduce : ClassVar[bool]=False\n",
    "    \n",
    "    def __post_init__(self) -> None:\n",
    "        if self.__class__.autoreduce:\n",
    "            self.reduce()\n",
    "\n",
    "    def reduce(self) -> None:\n",
    "        '''Reduce numerator and denominator by greatest common factor'''\n",
    "        _gcd = gcd(self.num, self.denom)\n",
    "        self.num=int(self.num / _gcd)\n",
    "        self.denom=int(self.denom / _gcd)\n",
    "    simplify = reduce # alias for convenience\n",
    "\n",
    "    @property\n",
    "    def reduced(self) -> 'Rational':\n",
    "        '''Return reduced Rational equivalent to the current rational (does not modify in-place)'''\n",
    "        new_rat = self.__class__(self.num, self.denom)\n",
    "        new_rat.reduce()\n",
    "\n",
    "        return new_rat\n",
    "    simplifed = reduced # alias for convenience\n",
    "    \n",
    "    def as_proper(self) -> tuple[int, 'Rational']:\n",
    "        '''Returns the integer and proper fractional component of a ratio'''\n",
    "        integ, remain = divmod(self.num, self.denom)\n",
    "        return integ, self.__class__(remain, self.denom)\n",
    "    \n",
    "    # ARITHMETIC\n",
    "    def __add__(self, other : 'Rational') -> 'Rational':\n",
    "        '''Sum of two Rationals'''\n",
    "        return self.__class__(\n",
    "            num=(self.num * other.denom) + (self.denom * other.num),\n",
    "            denom=(self.denom * other.denom)\n",
    "        )\n",
    "    \n",
    "    def __sub__(self, other : 'Rational') -> 'Rational':\n",
    "        '''Difference of two Rationals'''\n",
    "        return self.__class__(\n",
    "            num=(self.num * other.denom) - (self.denom * other.num),\n",
    "            denom=(self.denom * other.denom)\n",
    "        )\n",
    "\n",
    "    def __mul__(self, other : 'Rational') -> 'Rational':\n",
    "        '''Product of two Rationals'''\n",
    "        return self.__class__(\n",
    "            num=self.num * other.num,\n",
    "            denom=self.denom * other.denom\n",
    "        )\n",
    "\n",
    "    def __div__(self, other : 'Rational') -> 'Rational':\n",
    "        '''Quotient of two Rationals'''\n",
    "        return self.__class__(\n",
    "            num=self.num * other.denom,\n",
    "            denom=self.denom * other.num\n",
    "        )\n",
    "    \n",
    "    def __pow__(self, power : float) -> 'Rational':\n",
    "        '''Exponentiates a ratio'''\n",
    "        return self.__class__(\n",
    "            num=self.num**power,\n",
    "            denom=self.denom**power\n",
    "        )"
   ]
  },
  {
   "cell_type": "code",
   "execution_count": null,
   "metadata": {},
   "outputs": [],
   "source": [
    "p = Rational(3, 6)\n",
    "q = Rational(4, 12)\n",
    "\n",
    "print(p, p.reciprocal, p.reduced, p+q)"
   ]
  },
  {
   "cell_type": "code",
   "execution_count": null,
   "metadata": {},
   "outputs": [],
   "source": [
    "Rational.autoreduce = False"
   ]
  },
  {
   "cell_type": "code",
   "execution_count": null,
   "metadata": {},
   "outputs": [],
   "source": [
    "import numpy as np\n",
    "from numbers import Number\n",
    "\n",
    "for val in (4, 4.0, 4+0j, np.pi, '4', [4], False, 'sgdfg'):\n",
    "    print(val, type(val), isinstance(val, Number))"
   ]
  },
  {
   "cell_type": "code",
   "execution_count": null,
   "metadata": {},
   "outputs": [],
   "source": [
    "from fractions import Fraction"
   ]
  }
 ],
 "metadata": {
  "kernelspec": {
   "display_name": "openff-pdb-pr",
   "language": "python",
   "name": "python3"
  },
  "language_info": {
   "codemirror_mode": {
    "name": "ipython",
    "version": 3
   },
   "file_extension": ".py",
   "mimetype": "text/x-python",
   "name": "python",
   "nbconvert_exporter": "python",
   "pygments_lexer": "ipython3",
   "version": "3.11.5"
  },
  "orig_nbformat": 4
 },
 "nbformat": 4,
 "nbformat_minor": 2
}
