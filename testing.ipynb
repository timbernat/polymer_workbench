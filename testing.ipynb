{
 "cells": [
  {
   "cell_type": "markdown",
   "metadata": {},
   "source": [
    "# Testing of features in polysaccharide2"
   ]
  },
  {
   "cell_type": "code",
   "execution_count": 4,
   "metadata": {},
   "outputs": [],
   "source": [
    "# Supressing annoying warnings (!must be done first!)\n",
    "import warnings\n",
    "\n",
    "warnings.filterwarnings('ignore', category=UserWarning)\n",
    "warnings.filterwarnings('ignore', category=DeprecationWarning) # doesn't actually seem to do anything about mbuild warnings\n",
    "\n",
    "# General\n",
    "import re, json\n",
    "from pathlib import Path\n",
    "from shutil import copyfile\n",
    "\n",
    "import numpy as np\n",
    "\n",
    "# Logging\n",
    "from tqdm import tqdm as tqdm_text\n",
    "from tqdm.notebook import tqdm as tqdm_notebook\n",
    "from rich.progress import Progress, track\n",
    "\n",
    "import logging\n",
    "\n",
    "# Chemistry\n",
    "from openmm.unit import nanometer, angstrom\n",
    "from openff.toolkit import Topology, Molecule, ForceField\n",
    "from openff.units import unit as offunit\n",
    "\n",
    "from openff.interchange import Interchange\n",
    "from openff.interchange.components import _packmol as packmol\n",
    "\n",
    "from rdkit import Chem\n",
    "import openeye\n",
    "\n",
    "# Custom\n",
    "import polysaccharide2 as ps2\n",
    "from polysaccharide2.genutils.decorators.functional import allow_string_paths, allow_pathlib_paths, optional_in_place"
   ]
  },
  {
   "cell_type": "markdown",
   "metadata": {},
   "source": [
    "# Testing topology load and solvation"
   ]
  },
  {
   "cell_type": "markdown",
   "metadata": {},
   "source": [
    "## Defining water"
   ]
  },
  {
   "cell_type": "code",
   "execution_count": null,
   "metadata": {},
   "outputs": [],
   "source": [
    "from rdkit import Chem\n",
    "\n",
    "from polysaccharide2.topology import offref\n",
    "from polysaccharide2.topology.topIO import save_molecule\n",
    "from polysaccharide2.rdutils.labeling.molwise import assign_ordered_atom_map_nums\n",
    "\n",
    "\n",
    "water_dir = Path('water_files')\n",
    "water_dir.mkdir(exist_ok=True)\n",
    "\n",
    "# rdwat = Chem.MolFromSmiles('O')\n",
    "# assign_ordered_atom_map_nums(rdwat, in_place=True)\n",
    "# offwat = Molecule.from_rdkit(rdwat)\n",
    "water = Molecule.from_smiles('O')\n",
    "\n",
    "# offwat.to_file('wat.pdb', file_format='pdb')\n",
    "\n",
    "TIP3P_ATOM_CHARGES = { # NOTE : units deliberately omitted here (become applied to entire charge array)\n",
    "    'H' :  0.417,\n",
    "    'O' : -0.843\n",
    "}\n",
    "\n",
    "water.partial_charges = [TIP3P_ATOM_CHARGES[atom.symbol] for atom in water.atoms]*offunit.elementary_charge\n",
    "\n",
    "save_molecule(water_dir / 'water_tip3p_oe.sdf' , water, offref.TKREGS['OpenEye Toolkit'])\n",
    "save_molecule(water_dir / 'water_tip3p_rd.sdf', water, offref.TKREGS['The RDKit'])\n",
    "WATER_PATH = copyfile(water_dir / 'water_tip3p_oe.sdf', water_dir / 'water_tip3p.sdf')"
   ]
  },
  {
   "cell_type": "markdown",
   "metadata": {},
   "source": [
    "### Method 1 : from .SDF file (must be curated via importlib_resources)"
   ]
  },
  {
   "cell_type": "code",
   "execution_count": null,
   "metadata": {},
   "outputs": [],
   "source": [
    "sup = Chem.SDMolSupplier(str(water_dir / 'water_tip3p_rd.sdf'), sanitize=True, removeHs=False)\n",
    "sup = Chem.SDMolSupplier(str(water_dir / 'water_tip3p_oe.sdf'), sanitize=True, removeHs=False)\n",
    "water = next(sup)\n",
    "\n",
    "offwat = Molecule.from_rdkit(water)\n",
    "display(offwat)\n",
    "print(offwat.partial_charges)\n",
    "warnings.filterwarnings('ignore', category=DeprecationWarning) # doesn't actually seem to do anything about mbuild warnings"
   ]
  },
  {
   "cell_type": "markdown",
   "metadata": {},
   "source": [
    "### Method 2 : from string block (can be included in .py file)"
   ]
  },
  {
   "cell_type": "code",
   "execution_count": null,
   "metadata": {},
   "outputs": [],
   "source": [
    "from io import BytesIO\n",
    "\n",
    "WATER_BLOCK_RD = '''\\\n",
    "\n",
    "    RDKit          2D\n",
    "\n",
    "  3  2  0  0  0  0  0  0  0  0999 V2000\n",
    "    0.0000    0.0000    0.0000 O   0  0  0  0  0  0  0  0  0  0  0  0\n",
    "    1.2990    0.7500    0.0000 H   0  0  0  0  0  0  0  0  0  0  0  0\n",
    "   -1.2990    0.7500    0.0000 H   0  0  0  0  0  0  0  0  0  0  0  0\n",
    "  1  2  1  0\n",
    "  1  3  1  0\n",
    "M  END\n",
    ">  <atom.dprop.PartialCharge>  (1) \n",
    "-0.83399999999999996 0.41699999999999998 0.41699999999999998 \n",
    "\n",
    "$$$$\n",
    "\n",
    "'''\n",
    "\n",
    "WATER_BLOCK_OE = '''\n",
    "  -OEChem-09192311062D\n",
    "\n",
    "  3  2  0     0  0  0  0  0  0999 V2000\n",
    "    0.0000    0.0000    0.0000 O   0  0  0  0  0  0  0  0  0  0  0  0\n",
    "    0.7500    0.0000    0.0000 H   0  0  0  0  0  0  0  0  0  0  0  0\n",
    "   -0.3750   -0.6495    0.0000 H   0  0  0  0  0  0  0  0  0  0  0  0\n",
    "  1  2  1  0  0  0  0\n",
    "  1  3  1  0  0  0  0\n",
    "M  END\n",
    "> <atom.dprop.PartialCharge>\n",
    "-0.843000 0.417000 0.417000\n",
    "\n",
    "$$$$\n",
    "'''\n",
    "\n",
    "with BytesIO(WATER_BLOCK_RD.encode('utf8')) as block_bytes:\n",
    "\tsup = Chem.ForwardSDMolSupplier(block_bytes, sanitize=True, removeHs=False)\n",
    "\twater2 = next(sup)\n",
    "\n",
    "offwat2 = Molecule.from_rdkit(water2)\n",
    "display(offwat2)\n",
    "print(offwat2.partial_charges)"
   ]
  },
  {
   "cell_type": "markdown",
   "metadata": {},
   "source": [
    "## Testing load using from_pdb"
   ]
  },
  {
   "cell_type": "code",
   "execution_count": null,
   "metadata": {},
   "outputs": [],
   "source": [
    "from pathlib import Path\n",
    "\n",
    "from polysaccharide2.topology import offref, topIO\n",
    "from polysaccharide2.topology.topinfo import get_largest_offmol\n",
    "from polysaccharide2.residues.partition import partition\n",
    "from polysaccharide2.monomers.repr import MonomerGroup\n",
    "\n",
    "# pdb_dir  = Path('polymer_examples/compatible_pdbs/simple_polymers')\n",
    "# mono_dir = Path('polymer_examples/monomer_generation/json_files/')\n",
    "\n",
    "pdb_sub = 'simple_polymers'\n",
    "pdb_dir  = Path(f'pdb_test_cleaned/pdbs/{pdb_sub}')\n",
    "mono_dir = Path(f'pdb_test_cleaned/monos/{pdb_sub}')\n",
    "\n",
    "mol_name = 'polyvinylchloride'\n",
    "# mol_name = 'PEO_PLGA'\n",
    "# mol_name = 'paam_modified'\n",
    "# pdb_sub = 'proteins'\n",
    "# mol_name = '6cww'\n",
    "\n",
    "pdb = pdb_dir / f'{mol_name}.pdb'\n",
    "mono = mono_dir / f'{mol_name}.json'\n",
    "assert(pdb.exists())\n",
    "assert(mono.exists())\n",
    "\n",
    "monogrp = MonomerGroup.from_file(mono)\n",
    "rdmol = Chem.MolFromPDBFile(str(pdb))\n",
    "offtop = Topology.from_pdb(pdb, _custom_substructures=monogrp.monomers, toolkit_registry=offref.TKREGS['The RDKit'])\n",
    "was_partitioned = partition(offtop)\n",
    "print(was_partitioned)\n",
    "\n",
    "offmol = get_largest_offmol(offtop)\n",
    "\n",
    "# save partitioned Topology\n",
    "sdf_dir = Path('sdf_test')\n",
    "topIO.topology_to_sdf(sdf_dir / f'{mol_name}.sdf', offtop=offtop)"
   ]
  },
  {
   "cell_type": "code",
   "execution_count": null,
   "metadata": {},
   "outputs": [],
   "source": [
    "from polysaccharide2.topology.offref import TKREGS\n",
    "from polysaccharide2.topology import topIO\n",
    "from polysaccharide2.residues.charging import application, calculation\n",
    "\n",
    "offmol.assign_partial_charges(partial_charge_method='am1bccelf10', toolkit_registry=TKREGS['OpenEye Toolkit'])\n",
    "topIO.topology_to_sdf(sdf_dir / f'{mol_name}_ABE10.sdf', offmol.to_topology())\n",
    "\n",
    "res_chg = calculation.get_averaged_charges(offmol, monogrp)\n",
    "offmol2 = application.apply_residue_charges(offmol, res_chg, in_place=False)\n",
    "topIO.topology_to_sdf(sdf_dir / f'{mol_name}_AVGD.sdf', offmol2.to_topology())# Checking decorator docstring and type signature preservation"
   ]
  },
  {
   "cell_type": "code",
   "execution_count": null,
   "metadata": {},
   "outputs": [],
   "source": [
    "from polysaccharide2.topology import offref\n",
    "\n",
    "offtop = topIO.topology_from_sdf(sdf_dir / 'polyvinylchloride_ABE10.sdf')\n",
    "offmol = get_largest_offmol(offtop)\n"
   ]
  },
  {
   "cell_type": "code",
   "execution_count": null,
   "metadata": {},
   "outputs": [],
   "source": [
    "\n",
    "ff_name = 'openff-2.0.0.offxml'\n",
    "ff = ForceField(str(offref.FFDIR / ff_name))\n",
    "\n",
    "inc = Interchange.from_smirnoff(ff, offtop, charge_from_molecules=[offmol])"
   ]
  },
  {
   "cell_type": "markdown",
   "metadata": {},
   "source": [
    "## Solvation of Topologies"
   ]
  },
  {
   "cell_type": "code",
   "execution_count": null,
   "metadata": {},
   "outputs": [],
   "source": [
    "from math import ceil\n",
    "import numpy as np\n",
    "import numpy.typing as npt\n",
    "\n",
    "from polysaccharide2.topology.solvation import boxvectors, physprops\n",
    "from openmm.unit import gram, centimeter, nanometer, mole, AVOGADRO_CONSTANT_NA\n",
    "from openff.units.openmm import to_openmm as units_to_openmm\n",
    "\n",
    "\n",
    "# PARAMETERS\n",
    "density = 0.997 * (gram / centimeter**3)\n",
    "exclusion = 1.3 * nanometer\n",
    "\n",
    "# Sizing box vectors\n",
    "water = Molecule.from_file(WATER_PATH)\n",
    "mol_bbox = boxvectors.get_topology_bbox(offtop)\n",
    "box_vecs = boxvectors.pad_box_vectors_uniform(mol_bbox, exclusion)\n",
    "box_vol  = boxvectors.get_box_volume(box_vecs, units_as_openm=True)\n",
    "\n",
    "# determining number of waters to place\n",
    "N = physprops.num_mols_in_box(water.to_rdkit(), box_vol, density=density)\n",
    "print(box_vol, N)"
   ]
  },
  {
   "cell_type": "code",
   "execution_count": null,
   "metadata": {},
   "outputs": [],
   "source": [
    "topIO.topology_to_sdf('pvc.sdf', offtop)"
   ]
  },
  {
   "cell_type": "code",
   "execution_count": null,
   "metadata": {},
   "outputs": [],
   "source": [
    "# PACKING\n",
    "packtop = packmol.pack_box(\n",
    "    [water],\n",
    "    [N],\n",
    "    offtop,\n",
    "    # mass_density=1*offunit.gram/offunit.millilitre,\n",
    "    box_vectors=box_vecs, \n",
    "    box_shape=packmol.UNIT_CUBE,\n",
    "    center_solute='BRICK'\n",
    ")"
   ]
  },
  {
   "cell_type": "code",
   "execution_count": null,
   "metadata": {},
   "outputs": [],
   "source": [
    "topIO.topology_to_sdf(sdf_dir / f'{mol_name}_solv.sdf', packtop)"
   ]
  },
  {
   "cell_type": "markdown",
   "metadata": {},
   "source": [
    "# OpenMM I/O and simulation interfaces"
   ]
  },
  {
   "cell_type": "code",
   "execution_count": 6,
   "metadata": {},
   "outputs": [],
   "source": []
  },
  {
   "cell_type": "code",
   "execution_count": 73,
   "metadata": {},
   "outputs": [],
   "source": [
    "from functools import partial\n",
    "from dataclasses import dataclass, field\n",
    "from typing import Any, Callable, Optional, TypeAlias, Union\n",
    "\n",
    "from openmm.app import PDBReporter, PDBxReporter, DCDReporter\n",
    "from openmm.app import StateDataReporter, CheckpointReporter\n",
    "\n",
    "from polysaccharide2.genutils.fileutils.jsonio import JSONifiable, JSONSerializable\n",
    "from polysaccharide2.genutils.typetools import Args, KWArgs\n",
    "\n",
    "\n",
    "# REPORTER FILE EXTENSIONS AND INITIALIZERS\n",
    "TrajectoryReporter : TypeAlias = Union[PDBReporter, PDBxReporter, DCDReporter]\n",
    "Reporter : TypeAlias = Union[StateDataReporter, CheckpointReporter, TrajectoryReporter]\n",
    "ReporterInitializer : TypeAlias = Callable[[Args, KWArgs], Reporter]\n",
    "\n",
    "@dataclass(frozen=True)\n",
    "class ReporterConfig:\n",
    "    '''Interface for generating a Reporter and associated Path in a uniform and standardized way'''\n",
    "    label     : str\n",
    "    extension : str\n",
    "    reporter_dict : dict[str, ReporterInitializer] # dictionary of intializers keyed by extension\n",
    "    extra_kwargs  : dict[str, Any] = field(default_factory=dict)\n",
    "\n",
    "    @property\n",
    "    def initializer(self) -> ReporterInitializer:\n",
    "        '''Returns the particular class or initializer'''\n",
    "        return self.reporter_dict[self.extension] # explicitly called with getitem to raise KeyError if extension is invalid\n",
    "\n",
    "TRAJ_REPORTERS = { # index output formats of reporters by file extension\n",
    "    'pdb'  : PDBReporter,\n",
    "    'pdbx' : PDBxReporter,\n",
    "    'dcd'  : DCDReporter,\n",
    "}\n",
    "\n",
    "CHK_REPORTERS = {\n",
    "    'chk' : partial(CheckpointReporter, writeState=False),\n",
    "    'xml' : partial(CheckpointReporter, writeState=True ),\n",
    "}\n",
    "\n",
    "STATE_DAT_REPORTERS = {\n",
    "    'csv' : StateDataReporter\n",
    "}\n",
    "\n",
    "\n",
    "# SERIALIZABLE REPORTER PARAMETER STORAGE AND GENERATION\n",
    "\n",
    "DEFAULT_STATE_DATA_PROPS = {\n",
    "    'step'            : True,\n",
    "    'time'            : True,\n",
    "    'potentialEnergy' : True,\n",
    "    'kineticEnergy'   : True,\n",
    "    'totalEnergy'     : True,\n",
    "    'temperature'     : True,\n",
    "    'volume'          : True,\n",
    "    'density'         : True,\n",
    "    'speed'           : True,\n",
    "    'progress'        : False,\n",
    "    'remainingTime'   : False,\n",
    "    'elapsedTime'     : False\n",
    "}\n",
    "\n",
    "@allow_string_paths\n",
    "def assemble_sim_file_path(out_dir : Path, out_name : str, extension : str, affix : str='') -> Path:\n",
    "    '''Combine output, naming, descriptive, and filetype info to generate a complete Simulation-related file Path'''\n",
    "    if extension[0] == '.':\n",
    "        extension = extension[1:] # remove leading dots if included\n",
    "    path_name = f'{out_name}{\"_\" if affix else \"\"}{affix}.{extension}'\n",
    "\n",
    "    return out_dir / path_name\n",
    "\n",
    "@dataclass\n",
    "class ReporterParameters(JSONifiable):\n",
    "    '''Parameters for specifying Simulation reporters'''\n",
    "    report_checkpoint : bool = True\n",
    "    report_state      : bool = True\n",
    "    report_trajectory : bool = True\n",
    "    report_state_data : bool = True\n",
    "\n",
    "    traj_ext   : Optional[str] = 'dcd'\n",
    "    num_steps  : Optional[int] = None \n",
    "    state_data : Optional[dict[str, bool]] = field(default_factory=lambda : DEFAULT_STATE_DATA_PROPS)\n",
    "\n",
    "    @property\n",
    "    def rep_configs(self) -> list[ReporterConfig]:\n",
    "        '''Generate Reporter configurations for currently specified reporters'''\n",
    "        rep_configs = []\n",
    "        \n",
    "        if self.report_trajectory:\n",
    "            rep_configs.append(ReporterConfig(label='trajectory', extension=self.traj_ext, reporter_dict=TRAJ_REPORTERS))\n",
    "\n",
    "        if self.report_checkpoint:\n",
    "            rep_configs.append(ReporterConfig(label='checkpoint', extension='chk', reporter_dict=CHK_REPORTERS))\n",
    "\n",
    "        if self.report_state:\n",
    "            rep_configs.append(ReporterConfig(label='state', extension='xml', reporter_dict=CHK_REPORTERS))\n",
    "\n",
    "        if self.report_state_data:\n",
    "            rep_configs.append(ReporterConfig(label='state_data', extension='csv', reporter_dict=STATE_DAT_REPORTERS, extra_kwargs={**self.state_data, 'totalSteps' : self.num_steps}))\n",
    "                    \n",
    "        return rep_configs\n",
    "\n",
    "    def prepare_reporters(self, out_dir : Path, out_name : str, record_freq : int) -> tuple[dict[str, Path], list[Reporter]]:\n",
    "        '''Prepare all reporters specified by internal parameters and return Paths linked to said reporters'''\n",
    "        rep_paths, reps = {}, []\n",
    "\n",
    "        for rep_config in self.rep_configs:\n",
    "            rep_path = assemble_sim_file_path(out_dir, out_name, extension=rep_config.extension, affix=rep_config.label) \n",
    "            rep = rep_config.initializer(str(rep_path), reportInterval=record_freq, **rep_config.extra_kwargs)\n",
    "\n",
    "            rep_paths[rep_config.label] = rep_path\n",
    "            reps.append(rep)\n",
    "\n",
    "        return rep_paths, reps"
   ]
  },
  {
   "cell_type": "code",
   "execution_count": null,
   "metadata": {},
   "outputs": [],
   "source": [
    "@dataclass\n",
    "class SimulationPaths(JSONifiable):\n",
    "    '''Encapsulates Paths to various files associated with an OpenMM Simulation'''\n",
    "    sim_params : Optional[Path] = None\n",
    "\n",
    "    topology   : Optional[Path] = None\n",
    "    system     : Optional[Path] = None\n",
    "    state      : Optional[Path] = None\n",
    "\n",
    "    checkpoint : Optional[Path] = None\n",
    "    trajectory : Optional[Path] = None\n",
    "\n",
    "    state_data   : Optional[Path] = None\n",
    "    time_data    : Optional[Path] = None\n",
    "    spatial_data : Optional[Path] = None\n",
    "\n",
    "    # JSON serialization\n",
    "    @staticmethod\n",
    "    def serialize_json_dict(unser_jdict : dict[Any, Any]) -> dict[str, JSONSerializable]:\n",
    "        '''Convert all Paths to strings'''\n",
    "        ser_jdict = {}\n",
    "        for key, value in unser_jdict.items():\n",
    "            if isinstance(value, Path):\n",
    "                ser_jdict[key] = str(value)\n",
    "            else:\n",
    "                ser_jdict[key] = value\n",
    "\n",
    "        return ser_jdict\n",
    "    \n",
    "    @staticmethod\n",
    "    def unserialize_json_dict(ser_jdict : dict[str, JSONSerializable]) -> dict[Any, Any]:\n",
    "        '''For de-serializing JSON-compatible data into a form that the __init__method can accept'''\n",
    "        unser_jdict = {}\n",
    "        for key, value in ser_jdict.items():\n",
    "            if value is not None:\n",
    "                unser_jdict[key] = Path(value)\n",
    "            else:\n",
    "                unser_jdict[key] = value\n",
    "\n",
    "        return unser_jdict"
   ]
  },
  {
   "cell_type": "markdown",
   "metadata": {},
   "source": [
    "# Experimenting with SMARTS functional groups"
   ]
  },
  {
   "cell_type": "code",
   "execution_count": null,
   "metadata": {},
   "outputs": [],
   "source": [
    "from polysaccharide2.monomers.substruct.functgroups import FN_GROUP_TABLE, FN_GROUP_ENTRIES\n",
    "from polysaccharide2.monomers.substruct.functgroups.records import FnGroupSMARTSEntry"
   ]
  },
  {
   "cell_type": "code",
   "execution_count": null,
   "metadata": {},
   "outputs": [],
   "source": [
    "FN_GROUP_TABLE.loc[FN_GROUP_TABLE['group_type'].str.contains('carbonyl')]"
   ]
  },
  {
   "cell_type": "code",
   "execution_count": null,
   "metadata": {},
   "outputs": [],
   "source": [
    "smarts = FN_GROUP_ENTRIES[44].SMARTS\n",
    "Chem.MolFromSmarts(smarts)"
   ]
  },
  {
   "cell_type": "markdown",
   "metadata": {},
   "source": [
    "# Testing monomer loading"
   ]
  },
  {
   "cell_type": "code",
   "execution_count": null,
   "metadata": {},
   "outputs": [],
   "source": [
    "from pathlib import Path \n",
    "from polysaccharide2.monomers.repr import MonomerGroup\n",
    "\n",
    "p = Path('polymer_examples/monomer_generation/json_files/bisphenolA.json')\n",
    "q = Path('polymer_examples/monomer_generation/json_files/naturalrubber.json')\n",
    "\n",
    "mg1 = MonomerGroup.from_file(p)\n",
    "mg2 = MonomerGroup.from_file(q)"
   ]
  },
  {
   "cell_type": "code",
   "execution_count": null,
   "metadata": {},
   "outputs": [],
   "source": [
    "Chem.MolFromSmiles(mg2.monomers['naturalrubber'][0])"
   ]
  },
  {
   "cell_type": "markdown",
   "metadata": {},
   "source": [
    "# Testing building"
   ]
  },
  {
   "cell_type": "code",
   "execution_count": null,
   "metadata": {},
   "outputs": [],
   "source": [
    "from polysaccharide2.polymers import estimation, building\n",
    "\n",
    "estimation.estimate_chain_len_linear(mg1, 10)"
   ]
  },
  {
   "cell_type": "markdown",
   "metadata": {},
   "source": [
    "# Testing simulation I/O"
   ]
  },
  {
   "cell_type": "code",
   "execution_count": null,
   "metadata": {},
   "outputs": [],
   "source": [
    "from pathlib import Path \n",
    "from openmm.unit import nanosecond\n",
    "\n",
    "sp = ps2.openmmtools.records.SimulationParameters(100*nanosecond, 5, 'NVT')\n",
    "sp.to_file(Path('test.json'))"
   ]
  },
  {
   "cell_type": "markdown",
   "metadata": {},
   "source": [
    "# Playing with ratios"
   ]
  },
  {
   "cell_type": "code",
   "execution_count": null,
   "metadata": {},
   "outputs": [],
   "source": [
    "from dataclasses import dataclass\n",
    "from typing import Any, Callable, ClassVar, TypeVar\n",
    "from math import gcd\n",
    "from numbers import Number\n",
    "\n",
    "\n",
    "N = TypeVar('N')\n",
    "def sgnmag(num : N) -> tuple[bool, N]:\n",
    "    '''Returns the sign and magnitude of a numeric-like value'''\n",
    "    return num < 0, abs(num)\n",
    "\n",
    "\n",
    "@dataclass(repr=False)\n",
    "class Ratio:\n",
    "    '''For representing fractional ratios between two objects'''\n",
    "    num   : Any\n",
    "    denom : Any\n",
    "\n",
    "    # REPRESENTATION\n",
    "    def __repr__(self) -> str:\n",
    "        return f'{self.num}/{self.denom}'\n",
    "    \n",
    "    def to_latex(self) -> str:\n",
    "        '''Return latex-compatible string which represent fraction'''\n",
    "        return rf'\\frac{{{self.num}}}{{{self.denom}}}'\n",
    "\n",
    "    # RELATIONS\n",
    "    @property\n",
    "    def reciprocal(self) -> 'Ratio':\n",
    "        '''Return the reciprocal of a ration'''\n",
    "        return self.__class__(self.denom, self.num)\n",
    "\n",
    "\n",
    "@dataclass(repr=False)\n",
    "class Rational(Ratio):\n",
    "    '''For representing ratios of integers'''\n",
    "    num   : int\n",
    "    denom : int\n",
    "\n",
    "    # REDUCTION\n",
    "    autoreduce : ClassVar[bool]=False\n",
    "    \n",
    "    def __post_init__(self) -> None:\n",
    "        if self.__class__.autoreduce:\n",
    "            self.reduce()\n",
    "\n",
    "    def reduce(self) -> None:\n",
    "        '''Reduce numerator and denominator by greatest common factor'''\n",
    "        _gcd = gcd(self.num, self.denom)\n",
    "        self.num=int(self.num / _gcd)\n",
    "        self.denom=int(self.denom / _gcd)\n",
    "    simplify = reduce # alias for convenience\n",
    "\n",
    "    @property\n",
    "    def reduced(self) -> 'Rational':\n",
    "        '''Return reduced Rational equivalent to the current rational (does not modify in-place)'''\n",
    "        new_rat = self.__class__(self.num, self.denom)\n",
    "        new_rat.reduce()\n",
    "\n",
    "        return new_rat\n",
    "    simplifed = reduced # alias for convenience\n",
    "    \n",
    "    def as_proper(self) -> tuple[int, 'Rational']:\n",
    "        '''Returns the integer and proper fractional component of a ratio'''\n",
    "        integ, remain = divmod(self.num, self.denom)\n",
    "        return integ, self.__class__(remain, self.denom)\n",
    "    \n",
    "    # ARITHMETIC\n",
    "    def __add__(self, other : 'Rational') -> 'Rational':\n",
    "        '''Sum of two Rationals'''\n",
    "        return self.__class__(\n",
    "            num=(self.num * other.denom) + (self.denom * other.num),\n",
    "            denom=(self.denom * other.denom)\n",
    "        )\n",
    "    \n",
    "    def __sub__(self, other : 'Rational') -> 'Rational':\n",
    "        '''Difference of two Rationals'''\n",
    "        return self.__class__(\n",
    "            num=(self.num * other.denom) - (self.denom * other.num),\n",
    "            denom=(self.denom * other.denom)\n",
    "        )\n",
    "\n",
    "    def __mul__(self, other : 'Rational') -> 'Rational':\n",
    "        '''Product of two Rationals'''\n",
    "        return self.__class__(\n",
    "            num=self.num * other.num,\n",
    "            denom=self.denom * other.denom\n",
    "        )\n",
    "\n",
    "    def __div__(self, other : 'Rational') -> 'Rational':\n",
    "        '''Quotient of two Rationals'''\n",
    "        return self.__class__(\n",
    "            num=self.num * other.denom,\n",
    "            denom=self.denom * other.num\n",
    "        )\n",
    "    \n",
    "    def __pow__(self, power : float) -> 'Rational':\n",
    "        '''Exponentiates a ratio'''\n",
    "        return self.__class__(\n",
    "            num=self.num**power,\n",
    "            denom=self.denom**power\n",
    "        )"
   ]
  },
  {
   "cell_type": "code",
   "execution_count": null,
   "metadata": {},
   "outputs": [],
   "source": [
    "p = Rational(3, 6)\n",
    "q = Rational(4, 12)\n",
    "\n",
    "print(p, p.reciprocal, p.reduced, p+q)"
   ]
  },
  {
   "cell_type": "code",
   "execution_count": null,
   "metadata": {},
   "outputs": [],
   "source": [
    "Rational.autoreduce = False"
   ]
  },
  {
   "cell_type": "code",
   "execution_count": null,
   "metadata": {},
   "outputs": [],
   "source": [
    "import numpy as np\n",
    "from numbers import Number\n",
    "\n",
    "for val in (4, 4.0, 4+0j, np.pi, '4', [4], False, 'sgdfg'):\n",
    "    print(val, type(val), isinstance(val, Number))"
   ]
  },
  {
   "cell_type": "code",
   "execution_count": null,
   "metadata": {},
   "outputs": [],
   "source": [
    "from fractions import Fraction"
   ]
  }
 ],
 "metadata": {
  "kernelspec": {
   "display_name": "openff-pdb-pr",
   "language": "python",
   "name": "python3"
  },
  "language_info": {
   "codemirror_mode": {
    "name": "ipython",
    "version": 3
   },
   "file_extension": ".py",
   "mimetype": "text/x-python",
   "name": "python",
   "nbconvert_exporter": "python",
   "pygments_lexer": "ipython3",
   "version": "3.11.5"
  },
  "orig_nbformat": 4
 },
 "nbformat": 4,
 "nbformat_minor": 2
}
