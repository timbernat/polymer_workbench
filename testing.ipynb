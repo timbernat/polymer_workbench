{
 "cells": [
  {
   "cell_type": "markdown",
   "metadata": {},
   "source": [
    "# Testing of features in polysaccharide2"
   ]
  },
  {
   "cell_type": "code",
   "execution_count": 1,
   "metadata": {},
   "outputs": [
    {
     "name": "stderr",
     "output_type": "stream",
     "text": [
      "/home/timber/miniconda3/envs/openff-pdb-pr/lib/python3.11/site-packages/mdtraj/formats/__init__.py:6: DeprecationWarning: 'xdrlib' is deprecated and slated for removal in Python 3.13\n",
      "  from .xtc import XTCTrajectoryFile\n",
      "/home/timber/miniconda3/envs/openff-pdb-pr/lib/python3.11/site-packages/mdtraj/geometry/order.py:25: DeprecationWarning: pkg_resources is deprecated as an API. See https://setuptools.pypa.io/en/latest/pkg_resources.html\n",
      "  from pkg_resources import parse_version\n",
      "/home/timber/miniconda3/envs/openff-pdb-pr/lib/python3.11/site-packages/pkg_resources/__init__.py:2871: DeprecationWarning: Deprecated call to `pkg_resources.declare_namespace('google')`.\n",
      "Implementing implicit namespace packages (as specified in PEP 420) is preferred to `pkg_resources.declare_namespace`. See https://setuptools.pypa.io/en/latest/references/keywords.html#keyword-namespace-packages\n",
      "  declare_namespace(pkg)\n",
      "/home/timber/miniconda3/envs/openff-pdb-pr/lib/python3.11/site-packages/pkg_resources/__init__.py:2871: DeprecationWarning: Deprecated call to `pkg_resources.declare_namespace('sphinxcontrib')`.\n",
      "Implementing implicit namespace packages (as specified in PEP 420) is preferred to `pkg_resources.declare_namespace`. See https://setuptools.pypa.io/en/latest/references/keywords.html#keyword-namespace-packages\n",
      "  declare_namespace(pkg)\n",
      "/home/timber/miniconda3/envs/openff-pdb-pr/lib/python3.11/site-packages/mbuild/recipes/__init__.py:13: DeprecationWarning: SelectableGroups dict interface is deprecated. Use select.\n",
      "  entry_points = metadata.entry_points()[\"mbuild.plugins\"]\n",
      "/home/timber/miniconda3/envs/openff-pdb-pr/lib/python3.11/site-packages/ipywidgets/widgets/widget.py:503: DeprecationWarning: The `ipykernel.comm.Comm` class has been deprecated. Please use the `comm` module instead.For creating comms, use the function `from comm import create_comm`.\n",
      "  self.comm = Comm(**args)\n",
      "/home/timber/miniconda3/envs/openff-pdb-pr/lib/python3.11/site-packages/ipywidgets/widgets/widget.py:503: DeprecationWarning: The `ipykernel.comm.Comm` class has been deprecated. Please use the `comm` module instead.For creating comms, use the function `from comm import create_comm`.\n",
      "  self.comm = Comm(**args)\n"
     ]
    },
    {
     "data": {
      "application/vnd.jupyter.widget-view+json": {
       "model_id": "1804f8936a804c9d91dd454d3fa71806",
       "version_major": 2,
       "version_minor": 0
      },
      "text/plain": []
     },
     "metadata": {},
     "output_type": "display_data"
    }
   ],
   "source": [
    "# Supressing annoying warnings (!must be done first!)\n",
    "import warnings\n",
    "\n",
    "warnings.filterwarnings('ignore', category=UserWarning)\n",
    "warnings.filterwarnings('ignore', category=DeprecationWarning) # doesn't actually seem to do anything about mbuild warnings\n",
    "\n",
    "# Logging\n",
    "from polysaccharide2.genutils.logutils.IOHandlers import LOG_FORMATTER\n",
    "\n",
    "import logging\n",
    "LOGGER = logging.Logger(__name__)\n",
    "logging.basicConfig(\n",
    "    level=logging.INFO,\n",
    "    format =LOG_FORMATTER._fmt,\n",
    "    datefmt=LOG_FORMATTER.datefmt,\n",
    "    # force=True\n",
    ")\n",
    "\n",
    "# General\n",
    "import re, json\n",
    "from pathlib import Path\n",
    "from shutil import copyfile\n",
    "\n",
    "import numpy as np\n",
    "\n",
    "# Logging\n",
    "from tqdm import tqdm as tqdm_text\n",
    "from tqdm.notebook import tqdm as tqdm_notebook\n",
    "from rich.progress import Progress, track\n",
    "\n",
    "import logging\n",
    "\n",
    "# Chemistry\n",
    "from openmm.unit import nanometer, angstrom\n",
    "from openff.toolkit import Topology, Molecule, ForceField\n",
    "from openff.units import unit as offunit\n",
    "\n",
    "from openff.interchange import Interchange\n",
    "from openff.interchange.components import _packmol as packmol\n",
    "\n",
    "from rdkit import Chem\n",
    "import openeye\n",
    "\n",
    "# Custom\n",
    "import polysaccharide2 as ps2\n",
    "from polysaccharide2.genutils.decorators.functional import allow_string_paths, allow_pathlib_paths, optional_in_place"
   ]
  },
  {
   "cell_type": "markdown",
   "metadata": {},
   "source": [
    "# Testing topology load and solvation"
   ]
  },
  {
   "cell_type": "markdown",
   "metadata": {},
   "source": [
    "## Defining water"
   ]
  },
  {
   "cell_type": "code",
   "execution_count": 2,
   "metadata": {},
   "outputs": [],
   "source": [
    "from rdkit import Chem\n",
    "\n",
    "from polysaccharide2.topology import offref\n",
    "from polysaccharide2.topology.topIO import save_molecule\n",
    "from polysaccharide2.rdutils.labeling.molwise import assign_ordered_atom_map_nums\n",
    "\n",
    "# rdwat = Chem.MolFromSmiles('O')\n",
    "# assign_ordered_atom_map_nums(rdwat, in_place=True)\n",
    "# offwat = Molecule.from_rdkit(rdwat)\n",
    "def generate_water_TIP3P() -> Molecule:\n",
    "    '''Helper method for creating a new TIP3p water representation from scratch'''\n",
    "    TIP3P_ATOM_CHARGES = { # NOTE : units deliberately omitted here (become applied to entire charge array)\n",
    "        'H' :  0.417,\n",
    "        'O' : -0.843\n",
    "    }\n",
    "\n",
    "    water = Molecule.from_smiles('O')\n",
    "    water.name = 'water_TIP3P'\n",
    "    water.partial_charges = [TIP3P_ATOM_CHARGES[atom.symbol] for atom in water.atoms]*offunit.elementary_charge\n",
    "\n",
    "    return water"
   ]
  },
  {
   "cell_type": "code",
   "execution_count": 3,
   "metadata": {},
   "outputs": [],
   "source": [
    "water_dir = Path('water_files')\n",
    "water_dir.mkdir(exist_ok=True)\n",
    "\n",
    "water = generate_water_TIP3P()\n",
    "\n",
    "save_molecule(water_dir / f'{water.name}_oe.sdf' , water, offref.TKREGS['OpenEye Toolkit'])\n",
    "save_molecule(water_dir / f'{water.name}_rd.sdf', water, offref.TKREGS['The RDKit'])\n",
    "WATER_PATH = copyfile(water_dir / f'{water.name}_oe.sdf', water_dir / f'{water.name}.sdf')"
   ]
  },
  {
   "cell_type": "markdown",
   "metadata": {},
   "source": [
    "## Testing load using from_pdb and monomers"
   ]
  },
  {
   "cell_type": "code",
   "execution_count": 4,
   "metadata": {},
   "outputs": [
    {
     "name": "stdout",
     "output_type": "stream",
     "text": [
      "True\n"
     ]
    }
   ],
   "source": [
    "from polysaccharide2.topology import offref, topIO\n",
    "from polysaccharide2.topology.topinfo import get_largest_offmol\n",
    "from polysaccharide2.residues.partition import partition\n",
    "from polysaccharide2.monomers.repr import MonomerGroup\n",
    "\n",
    "# pdb_dir  = Path('polymer_examples/compatible_pdbs/simple_polymers')\n",
    "# mono_dir = Path('polymer_examples/monomer_generation/json_files/')\n",
    "\n",
    "pdb_sub = 'simple_polymers'\n",
    "pdb_dir  = Path(f'pdb_test_cleaned/pdbs/{pdb_sub}')\n",
    "mono_dir = Path(f'pdb_test_cleaned/monos/{pdb_sub}')\n",
    "\n",
    "mol_name = 'polyvinylchloride'\n",
    "# mol_name = 'PEO_PLGA'\n",
    "# mol_name = 'paam_modified'\n",
    "# pdb_sub = 'proteins'\n",
    "# mol_name = '6cww'\n",
    "\n",
    "pdb = pdb_dir / f'{mol_name}.pdb'\n",
    "mono = mono_dir / f'{mol_name}.json'\n",
    "assert(pdb.exists())\n",
    "assert(mono.exists())\n",
    "\n",
    "monogrp = MonomerGroup.from_file(mono)\n",
    "rdmol = Chem.MolFromPDBFile(str(pdb))\n",
    "offtop = Topology.from_pdb(pdb, _custom_substructures=monogrp.monomers, toolkit_registry=offref.TKREGS['The RDKit'])\n",
    "was_partitioned = partition(offtop)\n",
    "print(was_partitioned)\n",
    "\n",
    "offmol = get_largest_offmol(offtop)\n",
    "offmol.name = mol_name\n",
    "\n",
    "# save partitioned Topology\n",
    "sdf_dir = Path('sdf_test')\n",
    "sdf_dir.mkdir(exist_ok=True)\n",
    "topIO.topology_to_sdf(sdf_dir / f'{mol_name}.sdf', offtop=offtop)"
   ]
  },
  {
   "cell_type": "markdown",
   "metadata": {},
   "source": [
    "## Partial charge assignment"
   ]
  },
  {
   "cell_type": "code",
   "execution_count": 5,
   "metadata": {},
   "outputs": [
    {
     "name": "stderr",
     "output_type": "stream",
     "text": [
      "2023-10-02 20:20:20.478 [INFO    :     application:line 50  ] - Assigning partial charges via the \"AM1-BCC-ELF10\" method\n",
      "Warning: Cannot perform Hydrogen sampling with GPU-Omega: GPU-Omega disabled.\n",
      "2023-10-02 20:21:09.778 [INFO    :     application:line 53  ] - Successfully assigned \"AM1-BCC-ELF10\" charges\n",
      "2023-10-02 20:21:09.782 [INFO    :     application:line 50  ] - Assigning partial charges via the \"Espaloma-AM1-BCC\" method\n",
      "/home/timber/miniconda3/envs/openff-pdb-pr/lib/python3.11/site-packages/espaloma_charge/openff_wrapper.py:112: IncorrectNumConformersWarning: Molecule 'Molecule with name 'polyvinylchloride' and SMILES '[H][C@@](C([H])([H])[H])(C([H])([H])[C@]([H])(C([H])([H])[C@]([H])(C([H])([H])[C@]([H])(C([H])([H])[C@]([H])(C([H])([H])[C@@]([H])(C([H])([H])[C@@]([H])(C([H])([H])[C@]([H])(C([H])([H])[C@]([H])(C([H])([H])C([H])([H])Cl)Cl)Cl)Cl)Cl)Cl)Cl)Cl)Cl)Cl'' has 1 conformers, but charge method 'espaloma-am1bcc' expects exactly 0.\n",
      "  self._check_n_conformers(\n",
      "2023-10-02 20:21:09.886 [INFO    :     application:line 53  ] - Successfully assigned \"Espaloma-AM1-BCC\" charges\n"
     ]
    }
   ],
   "source": [
    "from polysaccharide2.topology.offref import TKREGS\n",
    "from polysaccharide2.topology import topIO\n",
    "from polysaccharide2.residues.charging import application, calculation\n",
    "\n",
    "\n",
    "base_charge_method = 'AM1-BCC-ELF10'\n",
    "\n",
    "# assign charges with default methods\n",
    "charged_mols = {}\n",
    "for charge_method, ChargerType in application.MolCharger.subclass_registry.items():\n",
    "    chgr = ChargerType()\n",
    "    cmol = charged_mols[charge_method] = chgr.charge_molecule(offmol, in_place=False)\n",
    "\n",
    "# generate library charges and charge by residue\n",
    "res_chg = calculation.get_averaged_charges(charged_mols[base_charge_method], monogrp)\n",
    "res_chg.to_file(sdf_dir / f'{mol_name}_library_charges.json')\n",
    "\n",
    "offmol_avg = application.apply_residue_charges(offmol, res_chg, in_place=False)\n",
    "offmol_avg.properties['charge_method'] = 'RCT-averaged'\n",
    "charged_mols['RCT-averaged'] = offmol_avg\n",
    "\n",
    "# saving charged molecules to SDF files\n",
    "for charge_method, cmol in charged_mols.items():\n",
    "    topIO.topology_to_sdf(sdf_dir / f'{mol_name}_{charge_method}.sdf', cmol.to_topology())"
   ]
  },
  {
   "cell_type": "markdown",
   "metadata": {},
   "source": [
    "## Solvation of Topologies"
   ]
  },
  {
   "cell_type": "code",
   "execution_count": 6,
   "metadata": {},
   "outputs": [],
   "source": [
    "from openmm.unit import gram, centimeter, nanometer, mole\n",
    "from polysaccharide2.topology.solvation.packing import pack_topology_with_solvent\n",
    "\n",
    "# PARAMETERS\n",
    "targ_box_vecs = 4.1 * np.ones(3) * nanometer\n",
    "density = 0.997 * (gram / centimeter**3)\n",
    "exclusion = 1.3 * nanometer\n",
    "solvent = Molecule.from_file(WATER_PATH)\n",
    "\n",
    "for charge_method, cmol in charged_mols.items():\n",
    "    # solv_top = pack_topology_with_solvent(cmol.to_topology(), solvent, box_vecs=targ_box_vecs, density=density, exclusion=exclusion)\n",
    "    solv_top = pack_topology_with_solvent(cmol.to_topology(), solvent, box_vecs=targ_box_vecs, density=density, exclusion=exclusion)\n",
    "    topIO.topology_to_sdf(sdf_dir / f'{mol_name}_{charge_method}_solv_{solvent.name}.sdf', solv_top)\n"
   ]
  },
  {
   "cell_type": "code",
   "execution_count": 9,
   "metadata": {},
   "outputs": [
    {
     "data": {
      "text/html": [
       "<table><tbody><tr><th>Magnitude</th><td style='text-align:left;'><pre>[[4.1 0.0 0.0]<br> [0.0 4.1 0.0]<br> [0.0 0.0 4.1]]</pre></td></tr><tr><th>Units</th><td style='text-align:left;'>nanometer</td></tr></tbody></table>"
      ],
      "text/latex": [
       "$\\begin{pmatrix}4.1 & 0.0 & 0.0\\\\ \n",
       "0.0 & 4.1 & 0.0\\\\ \n",
       "0.0 & 0.0 & 4.1\\end{pmatrix}\\ \\mathrm{nanometer}$"
      ],
      "text/plain": [
       "array([[4.1, 0. , 0. ],\n",
       "       [0. , 4.1, 0. ],\n",
       "       [0. , 0. , 4.1]]) <Unit('nanometer')>"
      ]
     },
     "execution_count": 9,
     "metadata": {},
     "output_type": "execute_result"
    }
   ],
   "source": [
    "solv_top.box_vectors"
   ]
  },
  {
   "cell_type": "markdown",
   "metadata": {},
   "source": [
    "# OpenMM I/O and simulation interfaces"
   ]
  },
  {
   "cell_type": "markdown",
   "metadata": {},
   "source": [
    "## Initialize parameter sets"
   ]
  },
  {
   "cell_type": "code",
   "execution_count": null,
   "metadata": {},
   "outputs": [],
   "source": [
    "import numpy as np\n",
    "from pathlib import Path\n",
    "\n",
    "from openmm.unit import nanosecond, picosecond, femtosecond\n",
    "from openmm.unit import kelvin, atmosphere, nanometer\n",
    "\n",
    "from polysaccharide2.openmmtools import parameters, serialization, preparation\n",
    "from polysaccharide2.openmmtools import thermo, reporters\n",
    "\n",
    "name = 'pvc'\n",
    "p = Path('openmm_test')\n",
    "p.mkdir(exist_ok=True)\n",
    "\n",
    "integ_params = parameters.IntegratorParameters(\n",
    "    time_step=1*femtosecond,\n",
    "    total_time=10*picosecond,\n",
    "    num_samples=100\n",
    ")\n",
    "thermo_params = thermo.ThermoParameters(\n",
    "    ensemble='nvt'\n",
    ")\n",
    "rep_params = reporters.ReporterParameters()\n",
    "\n",
    "sim_params = parameters.SimulationParameters(integ_params, thermo_params, rep_params)\n",
    "sim_params_path = serialization.assemble_sim_file_path(p, name, extension='json', affix='sim_params')\n",
    "sim_params.to_file(sim_params_path)\n",
    "\n",
    "sim_paths = serialization.SimulationPaths(sim_params_path)\n",
    "sim_paths_path = serialization.assemble_sim_file_path(p, name, extension='json', affix='sim_paths')\n",
    "sim_paths.to_file(sim_paths_path)"
   ]
  },
  {
   "cell_type": "markdown",
   "metadata": {},
   "source": [
    "## Cast OpenFF Topology to OpenMM via Interchange"
   ]
  },
  {
   "cell_type": "code",
   "execution_count": 7,
   "metadata": {},
   "outputs": [],
   "source": [
    "offtop = topIO.topology_from_sdf(sdf_dir / 'polyvinylchloride_AM1-BCC-ELF10_solv_water_TIP3P.sdf')"
   ]
  },
  {
   "cell_type": "code",
   "execution_count": 8,
   "metadata": {},
   "outputs": [],
   "source": [
    "offtop.box_vectors"
   ]
  },
  {
   "cell_type": "code",
   "execution_count": null,
   "metadata": {},
   "outputs": [],
   "source": [
    "from openff.toolkit import ForceField\n",
    "from openff.interchange import Interchange\n",
    "\n",
    "from polysaccharide2.topology import offref, topIO, topinfo\n",
    "from polysaccharide2.topology.solvation import boxvectors\n",
    "from polysaccharide2.genutils.unitutils import openff_to_openmm\n",
    "\n",
    "\n",
    "sdf_dir = Path('sdf_test')\n",
    "offtop = topIO.topology_from_sdf(sdf_dir / 'polyvinylchloride_ABE10.sdf')\n",
    "offmol = topinfo.get_largest_offmol(offtop)\n",
    "\n",
    "box_dims = 2.0 * np.ones(3) * nanometer\n",
    "box_vecs = boxvectors.xyz_to_box_vectors(box_dims)\n",
    "offtop.box_vectors = box_vecs\n",
    "\n",
    "ff_name = 'openff-2.0.0.offxml'\n",
    "ff = ForceField(offref.FFDIR / ff_name)\n",
    "ic = Interchange.from_smirnoff(ff, offtop, charge_from_molecules=[offmol])\n",
    "\n",
    "ommtop = ic.to_openmm_topology()\n",
    "ommsys = ic.to_openmm(combine_nonbonded_forces=False, add_constrained_forces=False)\n",
    "ommpos = openff_to_openmm(ic.positions)"
   ]
  },
  {
   "cell_type": "markdown",
   "metadata": {},
   "source": [
    "## Initialize OpenMM sim + files"
   ]
  },
  {
   "cell_type": "code",
   "execution_count": null,
   "metadata": {},
   "outputs": [],
   "source": [
    "ommsim = preparation.initialize_simulation_and_files(p, name, sim_paths, ommtop, ommsys)\n",
    "ommsim.context.setPositions(ommpos) # by default, positions are unnasigned\n",
    "\n",
    "LOGGER.info('Performing energy minimization')\n",
    "ommsim.minimizeEnergy()\n",
    "LOGGER.info('Energy successfully minimized')\n",
    "preparation.record_simulation_top_and_sys(p, name, ommsim, sim_paths)\n",
    "\n",
    "LOGGER.info(f'Integrating {sim_params.integ_params.total_time} OpenMM sim for {sim_params.integ_params.num_steps} steps')\n",
    "ommsim.step(sim_params.integ_params.num_steps)\n",
    "LOGGER.info('Simulation integration completed successfully')"
   ]
  },
  {
   "cell_type": "markdown",
   "metadata": {},
   "source": [
    "# Experimenting with SMARTS functional groups"
   ]
  },
  {
   "cell_type": "code",
   "execution_count": null,
   "metadata": {},
   "outputs": [],
   "source": [
    "from polysaccharide2.monomers.substruct.functgroups import FN_GROUP_TABLE, FN_GROUP_ENTRIES\n",
    "from polysaccharide2.monomers.substruct.functgroups.records import FnGroupSMARTSEntry"
   ]
  },
  {
   "cell_type": "code",
   "execution_count": null,
   "metadata": {},
   "outputs": [],
   "source": [
    "FN_GROUP_TABLE.loc[FN_GROUP_TABLE['group_type'].str.contains('carbonyl')]"
   ]
  },
  {
   "cell_type": "code",
   "execution_count": null,
   "metadata": {},
   "outputs": [],
   "source": [
    "smarts = FN_GROUP_ENTRIES[44].SMARTS\n",
    "Chem.MolFromSmarts(smarts)"
   ]
  },
  {
   "cell_type": "markdown",
   "metadata": {},
   "source": [
    "# Testing monomer loading"
   ]
  },
  {
   "cell_type": "code",
   "execution_count": null,
   "metadata": {},
   "outputs": [],
   "source": [
    "from pathlib import Path \n",
    "from polysaccharide2.monomers.repr import MonomerGroup\n",
    "\n",
    "p = Path('polymer_examples/monomer_generation/json_files/bisphenolA.json')\n",
    "q = Path('polymer_examples/monomer_generation/json_files/naturalrubber.json')\n",
    "\n",
    "mg1 = MonomerGroup.from_file(p)\n",
    "mg2 = MonomerGroup.from_file(q)"
   ]
  },
  {
   "cell_type": "code",
   "execution_count": null,
   "metadata": {},
   "outputs": [],
   "source": [
    "Chem.MolFromSmiles(mg2.monomers['naturalrubber'][0])"
   ]
  },
  {
   "cell_type": "markdown",
   "metadata": {},
   "source": [
    "# Testing building"
   ]
  },
  {
   "cell_type": "code",
   "execution_count": null,
   "metadata": {},
   "outputs": [],
   "source": [
    "from polysaccharide2.polymers import estimation, building\n",
    "\n",
    "estimation.estimate_chain_len_linear(mg1, 10)"
   ]
  },
  {
   "cell_type": "markdown",
   "metadata": {},
   "source": [
    "# Testing simulation I/O"
   ]
  },
  {
   "cell_type": "code",
   "execution_count": null,
   "metadata": {},
   "outputs": [],
   "source": [
    "from pathlib import Path \n",
    "from openmm.unit import nanosecond\n",
    "\n",
    "sp = ps2.openmmtools.records.SimulationParameters(100*nanosecond, 5, 'NVT')\n",
    "sp.to_file(Path('test.json'))"
   ]
  },
  {
   "cell_type": "markdown",
   "metadata": {},
   "source": [
    "# Playing with ratios"
   ]
  },
  {
   "cell_type": "code",
   "execution_count": null,
   "metadata": {},
   "outputs": [],
   "source": [
    "from dataclasses import dataclass\n",
    "from typing import Any, Callable, ClassVar, TypeVar\n",
    "from math import gcd\n",
    "from numbers import Number\n",
    "\n",
    "\n",
    "N = TypeVar('N')\n",
    "def sgnmag(num : N) -> tuple[bool, N]:\n",
    "    '''Returns the sign and magnitude of a numeric-like value'''\n",
    "    return num < 0, abs(num)\n",
    "\n",
    "\n",
    "@dataclass(repr=False)\n",
    "class Ratio:\n",
    "    '''For representing fractional ratios between two objects'''\n",
    "    num   : Any\n",
    "    denom : Any\n",
    "\n",
    "    # REPRESENTATION\n",
    "    def __repr__(self) -> str:\n",
    "        return f'{self.num}/{self.denom}'\n",
    "    \n",
    "    def to_latex(self) -> str:\n",
    "        '''Return latex-compatible string which represent fraction'''\n",
    "        return rf'\\frac{{{self.num}}}{{{self.denom}}}'\n",
    "\n",
    "    # RELATIONS\n",
    "    @property\n",
    "    def reciprocal(self) -> 'Ratio':\n",
    "        '''Return the reciprocal of a ration'''\n",
    "        return self.__class__(self.denom, self.num)\n",
    "\n",
    "\n",
    "@dataclass(repr=False)\n",
    "class Rational(Ratio):\n",
    "    '''For representing ratios of integers'''\n",
    "    num   : int\n",
    "    denom : int\n",
    "\n",
    "    # REDUCTION\n",
    "    autoreduce : ClassVar[bool]=False\n",
    "    \n",
    "    def __post_init__(self) -> None:\n",
    "        if self.__class__.autoreduce:\n",
    "            self.reduce()\n",
    "\n",
    "    def reduce(self) -> None:\n",
    "        '''Reduce numerator and denominator by greatest common factor'''\n",
    "        _gcd = gcd(self.num, self.denom)\n",
    "        self.num=int(self.num / _gcd)\n",
    "        self.denom=int(self.denom / _gcd)\n",
    "    simplify = reduce # alias for convenience\n",
    "\n",
    "    @property\n",
    "    def reduced(self) -> 'Rational':\n",
    "        '''Return reduced Rational equivalent to the current rational (does not modify in-place)'''\n",
    "        new_rat = self.__class__(self.num, self.denom)\n",
    "        new_rat.reduce()\n",
    "\n",
    "        return new_rat\n",
    "    simplifed = reduced # alias for convenience\n",
    "    \n",
    "    def as_proper(self) -> tuple[int, 'Rational']:\n",
    "        '''Returns the integer and proper fractional component of a ratio'''\n",
    "        integ, remain = divmod(self.num, self.denom)\n",
    "        return integ, self.__class__(remain, self.denom)\n",
    "    \n",
    "    # ARITHMETIC\n",
    "    def __add__(self, other : 'Rational') -> 'Rational':\n",
    "        '''Sum of two Rationals'''\n",
    "        return self.__class__(\n",
    "            num=(self.num * other.denom) + (self.denom * other.num),\n",
    "            denom=(self.denom * other.denom)\n",
    "        )\n",
    "    \n",
    "    def __sub__(self, other : 'Rational') -> 'Rational':\n",
    "        '''Difference of two Rationals'''\n",
    "        return self.__class__(\n",
    "            num=(self.num * other.denom) - (self.denom * other.num),\n",
    "            denom=(self.denom * other.denom)\n",
    "        )\n",
    "\n",
    "    def __mul__(self, other : 'Rational') -> 'Rational':\n",
    "        '''Product of two Rationals'''\n",
    "        return self.__class__(\n",
    "            num=self.num * other.num,\n",
    "            denom=self.denom * other.denom\n",
    "        )\n",
    "\n",
    "    def __div__(self, other : 'Rational') -> 'Rational':\n",
    "        '''Quotient of two Rationals'''\n",
    "        return self.__class__(\n",
    "            num=self.num * other.denom,\n",
    "            denom=self.denom * other.num\n",
    "        )\n",
    "    \n",
    "    def __pow__(self, power : float) -> 'Rational':\n",
    "        '''Exponentiates a ratio'''\n",
    "        return self.__class__(\n",
    "            num=self.num**power,\n",
    "            denom=self.denom**power\n",
    "        )"
   ]
  },
  {
   "cell_type": "code",
   "execution_count": null,
   "metadata": {},
   "outputs": [],
   "source": [
    "p = Rational(3, 6)\n",
    "q = Rational(4, 12)\n",
    "\n",
    "print(p, p.reciprocal, p.reduced, p+q)"
   ]
  },
  {
   "cell_type": "code",
   "execution_count": null,
   "metadata": {},
   "outputs": [],
   "source": [
    "Rational.autoreduce = False"
   ]
  },
  {
   "cell_type": "code",
   "execution_count": null,
   "metadata": {},
   "outputs": [],
   "source": [
    "import numpy as np\n",
    "from numbers import Number\n",
    "\n",
    "for val in (4, 4.0, 4+0j, np.pi, '4', [4], False, 'sgdfg'):\n",
    "    print(val, type(val), isinstance(val, Number))"
   ]
  },
  {
   "cell_type": "code",
   "execution_count": null,
   "metadata": {},
   "outputs": [],
   "source": [
    "from fractions import Fraction"
   ]
  }
 ],
 "metadata": {
  "kernelspec": {
   "display_name": "openff-pdb-pr",
   "language": "python",
   "name": "python3"
  },
  "language_info": {
   "codemirror_mode": {
    "name": "ipython",
    "version": 3
   },
   "file_extension": ".py",
   "mimetype": "text/x-python",
   "name": "python",
   "nbconvert_exporter": "python",
   "pygments_lexer": "ipython3",
   "version": "3.11.5"
  },
  "orig_nbformat": 4
 },
 "nbformat": 4,
 "nbformat_minor": 2
}
