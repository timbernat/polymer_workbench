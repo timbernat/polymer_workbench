{
 "cells": [
  {
   "cell_type": "code",
   "execution_count": null,
   "metadata": {},
   "outputs": [],
   "source": [
    "# Supressing annoying warnings (!must be done first!)\n",
    "import warnings\n",
    "\n",
    "warnings.filterwarnings('ignore', category=UserWarning)\n",
    "warnings.filterwarnings('ignore', category=DeprecationWarning) # doesn't actually seem to do anything about mbuild warnings\n",
    "\n",
    "# General\n",
    "import re, json\n",
    "from pathlib import Path\n",
    "from shutil import copyfile\n",
    "\n",
    "import numpy as np\n",
    "\n",
    "# Logging\n",
    "from tqdm import tqdm as tqdm_text\n",
    "from tqdm.notebook import tqdm as tqdm_notebook\n",
    "\n",
    "import logging\n",
    "\n",
    "# Chemistry\n",
    "from openmm.unit import nanometer, angstrom\n",
    "from openff.toolkit import Topology, Molecule, ForceField\n",
    "from openff.units import unit as offunit\n",
    "\n",
    "from openff.interchange import Interchange\n",
    "from openff.interchange.components import _packmol as packmol\n",
    "\n",
    "from rdkit import Chem\n",
    "import openeye\n",
    "\n",
    "# Custom\n",
    "import polysaccharide2 as ps2\n",
    "from polysaccharide2.genutils.decorators.functional import allow_string_paths, allow_pathlib_paths, optional_in_place"
   ]
  },
  {
   "cell_type": "markdown",
   "metadata": {},
   "source": [
    "# Playing with ratios"
   ]
  },
  {
   "cell_type": "code",
   "execution_count": null,
   "metadata": {},
   "outputs": [],
   "source": [
    "from dataclasses import dataclass\n",
    "from typing import Any, Callable, ClassVar, TypeVar\n",
    "from math import gcd\n",
    "from numbers import Number\n",
    "\n",
    "\n",
    "N = TypeVar('N')\n",
    "def sgnmag(num : N) -> tuple[bool, N]:\n",
    "    '''Returns the sign and magnitude of a numeric-like value'''\n",
    "    return num < 0, abs(num)\n",
    "\n",
    "\n",
    "@dataclass(repr=False)\n",
    "class Ratio:\n",
    "    '''For representing fractional ratios between two objects'''\n",
    "    num   : Any\n",
    "    denom : Any\n",
    "\n",
    "    # REPRESENTATION\n",
    "    def __repr__(self) -> str:\n",
    "        return f'{self.num}/{self.denom}'\n",
    "    \n",
    "    def to_latex(self) -> str:\n",
    "        '''Return latex-compatible string which represent fraction'''\n",
    "        return rf'\\frac{{{self.num}}}{{{self.denom}}}'\n",
    "\n",
    "    # RELATIONS\n",
    "    @property\n",
    "    def reciprocal(self) -> 'Ratio':\n",
    "        '''Return the reciprocal of a ration'''\n",
    "        return self.__class__(self.denom, self.num)\n",
    "\n",
    "\n",
    "@dataclass(repr=False)\n",
    "class Rational(Ratio):\n",
    "    '''For representing ratios of integers'''\n",
    "    num   : int\n",
    "    denom : int\n",
    "\n",
    "    # REDUCTION\n",
    "    autoreduce : ClassVar[bool]=False\n",
    "    \n",
    "    def __post_init__(self) -> None:\n",
    "        if self.__class__.autoreduce:\n",
    "            self.reduce()\n",
    "\n",
    "    def reduce(self) -> None:\n",
    "        '''Reduce numerator and denominator by greatest common factor'''\n",
    "        _gcd = gcd(self.num, self.denom)\n",
    "        self.num=int(self.num / _gcd)\n",
    "        self.denom=int(self.denom / _gcd)\n",
    "    simplify = reduce # alias for convenience\n",
    "\n",
    "    @property\n",
    "    def reduced(self) -> 'Rational':\n",
    "        '''Return reduced Rational equivalent to the current rational (does not modify in-place)'''\n",
    "        new_rat = self.__class__(self.num, self.denom)\n",
    "        new_rat.reduce()\n",
    "\n",
    "        return new_rat\n",
    "    simplifed = reduced # alias for convenience\n",
    "    \n",
    "    def as_proper(self) -> tuple[int, 'Rational']:\n",
    "        '''Returns the integer and proper fractional component of a ratio'''\n",
    "        integ, remain = divmod(self.num, self.denom)\n",
    "        return integ, self.__class__(remain, self.denom)\n",
    "    \n",
    "    # ARITHMETIC\n",
    "    def __add__(self, other : 'Rational') -> 'Rational':\n",
    "        '''Sum of two Rationals'''\n",
    "        return self.__class__(\n",
    "            num=(self.num * other.denom) + (self.denom * other.num),\n",
    "            denom=(self.denom * other.denom)\n",
    "        )\n",
    "    \n",
    "    def __sub__(self, other : 'Rational') -> 'Rational':\n",
    "        '''Difference of two Rationals'''\n",
    "        return self.__class__(\n",
    "            num=(self.num * other.denom) - (self.denom * other.num),\n",
    "            denom=(self.denom * other.denom)\n",
    "        )\n",
    "\n",
    "    def __mul__(self, other : 'Rational') -> 'Rational':\n",
    "        '''Product of two Rationals'''\n",
    "        return self.__class__(\n",
    "            num=self.num * other.num,\n",
    "            denom=self.denom * other.denom\n",
    "        )\n",
    "\n",
    "    def __div__(self, other : 'Rational') -> 'Rational':\n",
    "        '''Quotient of two Rationals'''\n",
    "        return self.__class__(\n",
    "            num=self.num * other.denom,\n",
    "            denom=self.denom * other.num\n",
    "        )\n",
    "    \n",
    "    def __pow__(self, power : float) -> 'Rational':\n",
    "        '''Exponentiates a ratio'''\n",
    "        return self.__class__(\n",
    "            num=self.num**power,\n",
    "            denom=self.denom**power\n",
    "        )"
   ]
  },
  {
   "cell_type": "code",
   "execution_count": null,
   "metadata": {},
   "outputs": [],
   "source": [
    "p = Rational(3, 6)\n",
    "q = Rational(4, 12)\n",
    "\n",
    "print(p, p.reciprocal, p.reduced, p+q)"
   ]
  },
  {
   "cell_type": "code",
   "execution_count": null,
   "metadata": {},
   "outputs": [],
   "source": [
    "Rational.autoreduce = False"
   ]
  },
  {
   "cell_type": "code",
   "execution_count": null,
   "metadata": {},
   "outputs": [],
   "source": [
    "import numpy as np\n",
    "from numbers import Number\n",
    "\n",
    "for val in (4, 4.0, 4+0j, np.pi, '4', [4], False, 'sgdfg'):\n",
    "    print(val, type(val), isinstance(val, Number))"
   ]
  },
  {
   "cell_type": "code",
   "execution_count": null,
   "metadata": {},
   "outputs": [],
   "source": [
    "from fractions import Fraction"
   ]
  },
  {
   "cell_type": "markdown",
   "metadata": {},
   "source": [
    "# Testing topology load and solvation"
   ]
  },
  {
   "cell_type": "markdown",
   "metadata": {},
   "source": [
    "## Defining water"
   ]
  },
  {
   "cell_type": "code",
   "execution_count": null,
   "metadata": {},
   "outputs": [],
   "source": [
    "from rdkit import Chem\n",
    "\n",
    "from polysaccharide2.topology import offref\n",
    "from polysaccharide2.topology.topIO import save_molecule\n",
    "from polysaccharide2.rdutils.labeling.molwise import assign_ordered_atom_map_nums\n",
    "\n",
    "\n",
    "water_dir = Path('water_files')\n",
    "water_dir.mkdir(exist_ok=True)\n",
    "\n",
    "# rdwat = Chem.MolFromSmiles('O')\n",
    "# assign_ordered_atom_map_nums(rdwat, in_place=True)\n",
    "# offwat = Molecule.from_rdkit(rdwat)\n",
    "water = Molecule.from_smiles('O')\n",
    "\n",
    "# offwat.to_file('wat.pdb', file_format='pdb')\n",
    "\n",
    "TIP3P_ATOM_CHARGES = { # NOTE : units deliberately omitted here (become applied to entire charge array)\n",
    "    'H' :  0.417,\n",
    "    'O' : -0.843\n",
    "}\n",
    "\n",
    "water.partial_charges = [TIP3P_ATOM_CHARGES[atom.symbol] for atom in water.atoms]*offunit.elementary_charge\n",
    "\n",
    "save_molecule(water_dir / 'water_tip3p_oe.sdf' , water, offref.TKREGS['OpenEye Toolkit'])\n",
    "save_molecule(water_dir / 'water_tip3p_rd.sdf', water, offref.TKREGS['The RDKit'])\n",
    "WATER_PATH = copyfile(water_dir / 'water_tip3p_oe.sdf', water_dir / 'water_tip3p.sdf')"
   ]
  },
  {
   "cell_type": "markdown",
   "metadata": {},
   "source": [
    "### Method 1 : from .SDF file (must be curated via importlib_resources)"
   ]
  },
  {
   "cell_type": "code",
   "execution_count": null,
   "metadata": {},
   "outputs": [],
   "source": [
    "sup = Chem.SDMolSupplier(str(water_dir / 'water_tip3p_rd.sdf'), sanitize=True, removeHs=False)\n",
    "sup = Chem.SDMolSupplier(str(water_dir / 'water_tip3p_oe.sdf'), sanitize=True, removeHs=False)\n",
    "water = next(sup)\n",
    "\n",
    "offwat = Molecule.from_rdkit(water)\n",
    "display(offwat)\n",
    "print(offwat.partial_charges)\n",
    "warnings.filterwarnings('ignore', category=DeprecationWarning) # doesn't actually seem to do anything about mbuild warnings"
   ]
  },
  {
   "cell_type": "markdown",
   "metadata": {},
   "source": [
    "### Method 2 : from string block (can be included in .py file)"
   ]
  },
  {
   "cell_type": "code",
   "execution_count": null,
   "metadata": {},
   "outputs": [],
   "source": [
    "from io import BytesIO\n",
    "\n",
    "WATER_BLOCK_RD = '''\\\n",
    "\n",
    "    RDKit          2D\n",
    "\n",
    "  3  2  0  0  0  0  0  0  0  0999 V2000\n",
    "    0.0000    0.0000    0.0000 O   0  0  0  0  0  0  0  0  0  0  0  0\n",
    "    1.2990    0.7500    0.0000 H   0  0  0  0  0  0  0  0  0  0  0  0\n",
    "   -1.2990    0.7500    0.0000 H   0  0  0  0  0  0  0  0  0  0  0  0\n",
    "  1  2  1  0\n",
    "  1  3  1  0\n",
    "M  END\n",
    ">  <atom.dprop.PartialCharge>  (1) \n",
    "-0.83399999999999996 0.41699999999999998 0.41699999999999998 \n",
    "\n",
    "$$$$\n",
    "\n",
    "'''\n",
    "\n",
    "WATER_BLOCK_OE = '''\n",
    "  -OEChem-09192311062D\n",
    "\n",
    "  3  2  0     0  0  0  0  0  0999 V2000\n",
    "    0.0000    0.0000    0.0000 O   0  0  0  0  0  0  0  0  0  0  0  0\n",
    "    0.7500    0.0000    0.0000 H   0  0  0  0  0  0  0  0  0  0  0  0\n",
    "   -0.3750   -0.6495    0.0000 H   0  0  0  0  0  0  0  0  0  0  0  0\n",
    "  1  2  1  0  0  0  0\n",
    "  1  3  1  0  0  0  0\n",
    "M  END\n",
    "> <atom.dprop.PartialCharge>\n",
    "-0.843000 0.417000 0.417000\n",
    "\n",
    "$$$$\n",
    "'''\n",
    "\n",
    "with BytesIO(WATER_BLOCK_RD.encode('utf8')) as block_bytes:\n",
    "\tsup = Chem.ForwardSDMolSupplier(block_bytes, sanitize=True, removeHs=False)\n",
    "\twater2 = next(sup)\n",
    "\n",
    "offwat2 = Molecule.from_rdkit(water2)\n",
    "display(offwat2)\n",
    "print(offwat2.partial_charges)"
   ]
  },
  {
   "cell_type": "markdown",
   "metadata": {},
   "source": [
    "## Testing load using from_pdb"
   ]
  },
  {
   "cell_type": "code",
   "execution_count": null,
   "metadata": {},
   "outputs": [],
   "source": [
    "from pathlib import Path\n",
    "\n",
    "from polysaccharide2.topology import offref, topIO\n",
    "from polysaccharide2.topology.topinfo import get_largest_offmol\n",
    "from polysaccharide2.residues.partition import partition\n",
    "from polysaccharide2.monomers.repr import MonomerGroup\n",
    "\n",
    "pdb_dir  = Path('polymer_examples/compatible_pdbs')\n",
    "mono_dir = Path('polymer_examples/monomer_generation/json_files/')\n",
    "\n",
    "pdb_sub = 'simple_polymers'\n",
    "# mol_name = 'PEO_PLGA'\n",
    "# mol_name = 'paam_modified'\n",
    "mol_name = 'polyvinylchloride'\n",
    "# pdb_sub = 'proteins'\n",
    "# mol_name = '6cww'\n",
    "\n",
    "pdb = pdb_dir / pdb_sub / f'{mol_name}.pdb'\n",
    "mono = mono_dir / f'{mol_name}.json'\n",
    "assert(pdb.exists())\n",
    "assert(mono.exists())\n",
    "\n",
    "monogrp = MonomerGroup.from_file(mono)\n",
    "rdmol = Chem.MolFromPDBFile(str(pdb))\n",
    "offtop = Topology.from_pdb(pdb, _custom_substructures=monogrp.monomers, toolkit_registry=offref.TKREGS['The RDKit'])\n",
    "was_partitioned = partition(offtop)\n",
    "print(was_partitioned)\n",
    "\n",
    "offmol = get_largest_offmol(offtop)"
   ]
  },
  {
   "cell_type": "code",
   "execution_count": null,
   "metadata": {},
   "outputs": [],
   "source": [
    "from polysaccharide2.topology.offref import TKREGS\n",
    "from polysaccharide2.topology import topIO\n",
    "from polysaccharide2.residues.charging import application, calculation\n",
    "\n",
    "offmol.assign_partial_charges(partial_charge_method='am1bccelf10', toolkit_registry=TKREGS['OpenEye Toolkit'])\n",
    "res_chg = calculation.get_averaged_charges(offmol, monogrp)\n",
    "offmol2 = application.apply_residue_charges(offmol, res_chg, in_place=False)\n",
    "\n",
    "topIO.topology_to_sdf('pvc1.sdf', offmol.to_topology())\n",
    "topIO.topology_to_sdf('pvc2.sdf', offmol2.to_topology())"
   ]
  },
  {
   "cell_type": "markdown",
   "metadata": {},
   "source": [
    "## Solvation of Topologies"
   ]
  },
  {
   "cell_type": "code",
   "execution_count": null,
   "metadata": {},
   "outputs": [],
   "source": [
    "from math import ceil\n",
    "import numpy as np\n",
    "import numpy.typing as npt\n",
    "\n",
    "from polysaccharide2.topology.solvation import boxvectors, physprops\n",
    "from openmm.unit import gram, centimeter, nanometer, mole, AVOGADRO_CONSTANT_NA\n",
    "from openff.units.openmm import to_openmm as units_to_openmm\n",
    "\n",
    "\n",
    "# PARAMETERS\n",
    "density = 0.997 * (gram / centimeter**3)\n",
    "exclusion = 1.3 * nanometer\n",
    "\n",
    "# Sizing box vectors\n",
    "water = Molecule.from_file(WATER_PATH)\n",
    "mol_bbox = boxvectors.get_topology_bbox(offtop)\n",
    "box_vecs = boxvectors.pad_box_vectors_uniform(mol_bbox, exclusion)\n",
    "box_vol  = boxvectors.get_box_volume(box_vecs, units_as_openm=True)\n",
    "\n",
    "# determining number of waters to place\n",
    "N = physprops.num_mols_in_box(water.to_rdkit(), box_vol, density=density)\n",
    "print(box_vol, N)"
   ]
  },
  {
   "cell_type": "code",
   "execution_count": null,
   "metadata": {},
   "outputs": [],
   "source": [
    "topIO.topology_to_sdf('pvc.sdf', offtop)"
   ]
  },
  {
   "cell_type": "code",
   "execution_count": null,
   "metadata": {},
   "outputs": [],
   "source": [
    "# PACKING\n",
    "packtop = packmol.pack_box(\n",
    "    [water],\n",
    "    [N],\n",
    "    offtop,\n",
    "    # mass_density=1*offunit.gram/offunit.millilitre,\n",
    "    box_vectors=box_vecs, \n",
    "    box_shape=packmol.UNIT_CUBE,\n",
    "    center_solute='BRICK'\n",
    ")"
   ]
  },
  {
   "cell_type": "markdown",
   "metadata": {},
   "source": [
    "# Developing monomer port saturation"
   ]
  },
  {
   "cell_type": "markdown",
   "metadata": {},
   "source": [
    "## Port-binding rules"
   ]
  },
  {
   "cell_type": "code",
   "execution_count": null,
   "metadata": {},
   "outputs": [],
   "source": [
    "from rdkit import Chem\n",
    "from rdkit.Chem import RWMol, BondType\n",
    "\n",
    "from polysaccharide2 import rdutils\n",
    "from polysaccharide2.rdutils import rdkdraw\n",
    "from polysaccharide2.rdutils.rdtypes import RDAtom, RDBond, RDMol\n",
    "from polysaccharide2.rdutils.labeling import atomwise, molwise\n",
    "from polysaccharide2.rdutils.labeling.molwise import assign_ordered_atom_map_nums\n",
    "from polysaccharide2.rdutils.amalgamation import _bonding, bonding, portlib\n",
    "\n",
    "from polysaccharide2.genutils.decorators.functional import optional_in_place"
   ]
  },
  {
   "cell_type": "code",
   "execution_count": null,
   "metadata": {},
   "outputs": [],
   "source": [
    "# some \"normal\" molecules for testing\n",
    "H  = Chem.MolFromSmarts('[#1]-[1#0]')\n",
    "OH = Chem.MolFromSmarts('[#1]-[O]-[2#0]')\n",
    "METHYL = Chem.MolFromSmarts('[#6](-[2#0])(-[2#0])(-[3#0])(-[1#0])')\n",
    "CARBONYL = Chem.MolFromSmarts('[#6]-[#6](=[#8])-[1#0]')\n",
    "WITTIG = Chem.MolFromSmarts('[#6](=[1#0])(-[2#0])(-[#1])')\n",
    "\n",
    "TEST_MOLS_NORMAL = (\n",
    "    H,\n",
    "    OH,\n",
    "    METHYL,\n",
    "    WITTIG,\n",
    "    CARBONYL\n",
    ")\n",
    "\n",
    "# Pathological examples for debug\n",
    "DOUBLE_MID = Chem.MolFromSmarts('[#6](-[1#0])(-[#1])=[#0]-[#6](-[#1])(-[#1])(-[2#0])')\n",
    "NEUTRONIUM = Chem.MolFromSmarts('[#0]-[#0]')\n",
    "GHOST_WATER = Chem.MolFromSmarts('[#1]-[#0]-[#1]')\n",
    "\n",
    "TEST_MOLS_PATHO = (\n",
    "    DOUBLE_MID,\n",
    "    NEUTRONIUM,\n",
    "    GHOST_WATER\n",
    ")\n",
    "\n",
    "# COMBINE FOR UNIVERSAL TESTING\n",
    "TEST_MOLS = (\n",
    "    *TEST_MOLS_NORMAL,\n",
    "    *TEST_MOLS_PATHO\n",
    ")"
   ]
  },
  {
   "cell_type": "code",
   "execution_count": null,
   "metadata": {},
   "outputs": [],
   "source": [
    "rdkdraw.disable_substruct_highlights()\n",
    "\n",
    "for mol in TEST_MOLS:\n",
    "    assign_ordered_atom_map_nums(mol, in_place=True)\n",
    "    print(portlib.get_num_ports(mol))\n",
    "    display(mol)"
   ]
  },
  {
   "cell_type": "code",
   "execution_count": null,
   "metadata": {},
   "outputs": [],
   "source": [
    "bonding.dissolve_bond(Chem.RWMol(CARBONYL), 1, 2, new_port_desig=3)"
   ]
  },
  {
   "cell_type": "code",
   "execution_count": null,
   "metadata": {},
   "outputs": [],
   "source": [
    "WITTIG_DUAL = Chem.MolFromSmarts('[#6](=[1#0])(-[#7](-[#1])(-[#1]))(-[#1])')\n",
    "\n",
    "def combine_rdmols(rdmol_1 : RDMol, rdmol_2 : RDMol) -> RDMol:\n",
    "    rdmol_1, rdmol_2 = molwise.assign_contiguous_atom_map_nums(rdmol_1, rdmol_2, in_place=False) \n",
    "    combo = Chem.CombineMols(rdmol_1, rdmol_2) # combine into single Mol object to allow for bonding\n",
    "    combo = Chem.RWMol(combo) # make combined Mol modifiable\n",
    "\n",
    "    atom_ids = [\n",
    "        [port.bridgehead.GetIdx() for port in ports]\n",
    "            for ports in portlib.get_bondable_port_pairs_internal(portlib.get_ports(combo))\n",
    "    ]\n",
    "    print(atom_ids)\n",
    "\n",
    "    return bonding.increase_bond_order(combo, *atom_ids[0], in_place=False)\n",
    "# m1, m2 = molwise.assign_contiguous_atom_map_nums(METHYL, OH, in_place=False)\n",
    "# m1, m2 = molwise.assign_contiguous_atom_map_nums(METHYL, CARBONYL, in_place=False)"
   ]
  },
  {
   "cell_type": "code",
   "execution_count": null,
   "metadata": {},
   "outputs": [],
   "source": [
    "new_mol = combine_rdmols(WITTIG, WITTIG_DUAL)\n",
    "new_mol_2 = bonding.increase_bond_order(new_mol, 0, 4, in_place=False)\n",
    "new_mol_3 = combine_rdmols(new_mol_2, OH)\n",
    "\n",
    "display(new_mol)\n",
    "display(new_mol_2)\n",
    "display(new_mol_3)"
   ]
  },
  {
   "cell_type": "markdown",
   "metadata": {},
   "source": [
    "## Defining port combination and substitution rules"
   ]
  },
  {
   "cell_type": "code",
   "execution_count": null,
   "metadata": {},
   "outputs": [],
   "source": [
    "from itertools import product as cartesian_product\n",
    "\n",
    "def ports_are_bondable(port_1 : RDAtom, port_2 : RDAtom) -> bool:\n",
    "    '''Determine if two port atoms can be combined into a bond'''\n",
    "    port_info_1 = portlib_legacy.get_port_info(port_1)\n",
    "    port_info_2 = portlib_legacy.get_port_info(port_2)\n",
    "\n",
    "    return ( # to be bondable port, the pair must:\n",
    "        port_info_1.port.GetIdx() != port_info_2.port.GetIdx()                        # not be the same port\n",
    "        and port_info_1.bh_atom.GetIdx() != port_info_2.bh_atom.GetIdx()              # be bonded to different bridegehead atoms\n",
    "        and port_info_1.desig == port_info_2.desig                                    # have compatible designations\n",
    "        and port_info_1.inc_bond.GetBondType() ==  port_info_2.inc_bond.GetBondType() # have matching bond types\n",
    "    )\n",
    "\n",
    "def enumerate_fusable_ports(rdmol_1 : RDMol, rdmol_2 : RDMol, asAtoms : bool=True) -> list[tuple[int, int]]:\n",
    "    '''Get all pairs of atoms between two Mols which have compatible neighboring ports\n",
    "    Returns a dict with keys containing the bondable atoms and values containing the corresponding bond ports'''\n",
    "    ports_dict_1 = portlib_legacy.get_mol_ports_dict(rdmol_1)\n",
    "    ports_dict_2 = portlib_legacy.get_mol_ports_dict(rdmol_2)\n",
    "\n",
    "    pairs_list = [\n",
    "        (port_info_1.port, port_info_2.port)\n",
    "            for mutual_desig in (ports_dict_1.keys() | ports_dict_2.keys()) # enumerate over pairs of ports which match designation\n",
    "                for port_info_1, port_info_2 in cartesian_product(ports_dict_1[mutual_desig], ports_dict_2[mutual_desig]) # iterate over all pairs with matching designation\n",
    "                    if ports_are_bondable(port_info_1.port, port_info_2.port)\n",
    "    ]\n",
    "\n",
    "    if not asAtoms:\n",
    "        return [\n",
    "            tuple(port.GetIdx() for port in port_pair)\n",
    "                for port_pair in pairs_list\n",
    "        ]\n",
    "    return pairs_list"
   ]
  },
  {
   "cell_type": "code",
   "execution_count": null,
   "metadata": {},
   "outputs": [],
   "source": [
    "from rdkit.Chem.rdchem import BondType, RWMol\n",
    "from polysaccharide2.rdutils.rderrors import BondOrderModificationError\n",
    "from polysaccharide2.rdutils.reactions.bonding_legacy import _decrease_bond_order\n",
    "\n",
    "# UP-CONVERTING BONDS\n",
    "def bond_order_increasable(rdmol : RDMol, *atom_pair_ids : list[int, int]) -> bool:\n",
    "    '''Check if both atoms have a free neighboring port'''\n",
    "    return all(\n",
    "        portlib_legacy.has_neighbor_ports(rdmol.GetAtomWithIdx(atom_id))\n",
    "            for atom_id in atom_pair_ids\n",
    "    )\n",
    "\n",
    "@optional_in_place\n",
    "def fuse_ports(rwmol : RWMol, *port_map_nums : tuple[int, int]) -> None:\n",
    "    '''Exchange two ports for a bond of one order higher in a modifiable RWMol'''\n",
    "    if not portlib_legacy.ports_are_bondable(*ports):\n",
    "        raise BondOrderModificationError\n",
    "    \n",
    "    # locate bridgehead atoms to bond, reduce port bond orders\n",
    "    bh_atom_ids = []\n",
    "    for port in ports:\n",
    "        port_info = portlib_legacy.get_port_info(port)\n",
    "        bh_atom_id = port_info.bh_atom.GetIdx()\n",
    "        bh_atom_ids.append(bh_atom_id)\n",
    "\n",
    "        _decrease_bond_order(rwmol, port.GetIdx(), bh_atom_id, in_place=True) # remove a bond between the port and the bridgehead\n",
    "        \n",
    "        port = rwmol.GetAtomWithIdx(port.GetIdx())\n",
    "        print(atomwise.get_num_bonds(port))\n",
    "        if atomwise.get_num_bonds(port) == 0:\n",
    "            rwmol.RemoveAtom(port.GetIdx()) # delete port if decreasing bond order has now caused it to unbond completely\n",
    "\n",
    "    # determine expected bond type after order increase (handle single-bond removal, specifically) \n",
    "    curr_bond = rwmol.GetBondBetweenAtoms(*bh_atom_ids)\n",
    "    if curr_bond is None:\n",
    "        new_bond_type = BondType.SINGLE # with no pre-existing bond, simply add a single bond\n",
    "    else: \n",
    "        new_bond_type = BondType.values[curr_bond.GetBondTypeAsDouble() + 1] # with pre-existing bond, need to get the next order up by numeric lookup\n",
    "        rwmol.RemoveBond(*bh_atom_ids) # also remove the existing bond for new bond creation\n",
    "\n",
    "    # create new bond\n",
    "    rwmol.AddBond(*bh_atom_ids, order=new_bond_type) # create new bond or specified order"
   ]
  },
  {
   "cell_type": "code",
   "execution_count": null,
   "metadata": {},
   "outputs": [],
   "source": [
    "from polysaccharide2.rdutils.amalgamation import portlib_legacy\n",
    "from polysaccharide2.rdutils.labeling import molwise\n",
    "\n",
    "# mol = portlib.splice_port(METHYL, H)\n",
    "# display(mol)\n",
    "# OH     = Chem.MolFromSmarts('[#1D1+0:1]-[#8D2+0:2]-[3#0:3]')\n",
    "# METHYL = Chem.MolFromSmarts('[#6D4+0:1](-[3#0:2])(-[2#0:3])(-[2#0:4])(-[1#0:5])')\n",
    "OH     = Chem.MolFromSmiles('[#1+0:1]-[#8+0:2]-[3#0:3]', sanitize=False)\n",
    "METHYL = Chem.MolFromSmiles('[#6+0:1](-[3#0:2])(-[2#0:3])(-[2#0:4])(-[1#0:5])', sanitize=False)\n",
    "display(OH)\n",
    "display(METHYL)\n",
    "print('='*50)\n",
    "\n",
    "# mol = portlib.saturate_ports(METHYL, OH)\n",
    "# molwise.assign_ordered_atom_map_nums(mol, in_place=True)\n",
    "# display(mol)"
   ]
  },
  {
   "cell_type": "code",
   "execution_count": null,
   "metadata": {},
   "outputs": [],
   "source": [
    "for bond in METHYL.GetBonds():\n",
    "    bond.SetProp()"
   ]
  },
  {
   "cell_type": "code",
   "execution_count": null,
   "metadata": {},
   "outputs": [],
   "source": [
    "rdmol, sat_group = molwise.assign_contiguous_atom_map_nums(METHYL, OH, in_place=False) # VITAL that this is done first to ensure map\n",
    "combo = Chem.CombineMols(rdmol, sat_group)\n",
    "combo = Chem.RWMol(combo)\n",
    "\n",
    "ports = enumerate_fusable_ports(rdmol, sat_group, asAtoms=True)\n",
    "port_map_nums = [port.GetAtomMapNum() for port in ports[0]]\n",
    "port_atoms = [combo.GetAtomWithIdx(i) for i in molwise.atom_ids_by_map_nums(combo, *port_map_nums)]"
   ]
  },
  {
   "cell_type": "markdown",
   "metadata": {},
   "source": [
    "## Implementing monomer-spec SMARTS query assignment"
   ]
  },
  {
   "cell_type": "code",
   "execution_count": null,
   "metadata": {},
   "outputs": [],
   "source": [
    "from polysaccharide2.rdutils.rdtypes import RDAtom, RDMol\n",
    "\n",
    "def _get_compliant_atom_query(rdatom : RDAtom) -> Chem.QueryAtom:\n",
    "    '''Generated monomer-specification-compliant atom query SMARTS string (<insert our citation eventually>) for a non-port atom'''\n",
    "    assert(not portlib_legacy.is_port(atom)) # TODO : add special case for handling ports once port spec is solidified\n",
    "\n",
    "    isotope      = rdatom.GetIsotope()\n",
    "    atomic_num   = rdatom.GetAtomicNum()\n",
    "    degree_num   = rdatom.GetDegree() # counts number of active bonds\n",
    "    formal_chg   = rdatom.GetFormalCharge()\n",
    "    atom_map_num = rdatom.GetAtomMapNum() # TODO : add check for nonzero map num   \n",
    "    \n",
    "    if isotope == 0:\n",
    "        query_SMARTS = f'[#{atomic_num}D{degree_num}{formal_chg:+}:{atom_map_num}]'\n",
    "    else:\n",
    "        query_SMARTS = f'[{isotope}?#{atomic_num}D{degree_num}{formal_chg:+}:{atom_map_num}]'\n",
    "    print(query_SMARTS)\n",
    "\n",
    "    return Chem.AtomFromSmarts(query_SMARTS) # include explicit plus for positive formal charges"
   ]
  },
  {
   "cell_type": "code",
   "execution_count": null,
   "metadata": {},
   "outputs": [],
   "source": [
    "PVC_SMARTS = \"[1#0:7]-[#6D4+0:1](-[#1D1+0:2])(-[#1D1+0:3])-[#6D4+0:4](-[#17D1+0:5])(-[#1D1+0:6])-[2#0:14]\"\n",
    "PVC = Chem.MolFromSmarts(PVC_SMARTS)\n",
    "PVC"
   ]
  },
  {
   "cell_type": "code",
   "execution_count": null,
   "metadata": {},
   "outputs": [],
   "source": [
    "import re\n",
    "\n",
    "MONOMER_ATOM_QUERY = re.compile(\n",
    "    r'\\[(?P<isotope>\\d?)' \\\n",
    "    r'#(?P<atomic_num>\\d+?)' \\\n",
    "    r'(?P<valence>.*?)' \\\n",
    "    r':(?P<map_num>\\d+?)\\]'\n",
    ")\n",
    "\n",
    "DEGREE_CHARGE_QUERY = re.compile(\n",
    "    r'D(?P<degree>\\d{1})' \\\n",
    "    r'[+-](?P<formal_charge>\\d+)'\n",
    ")"
   ]
  },
  {
   "cell_type": "code",
   "execution_count": null,
   "metadata": {},
   "outputs": [],
   "source": [
    "for match in re.finditer(MONOMER_ATOM_QUERY, PVC_SMARTS):\n",
    "    groups = match.groupdict()\n",
    "\n",
    "    if groups.get('isotope') == '':\n",
    "        groups['isotope'] = '0'\n",
    "\n",
    "    if (valence := groups.get('valence')):\n",
    "        atom_info = re.search(DEGREE_CHARGE_QUERY, valence).groupdict()\n",
    "        groups.update(atom_info)\n",
    "    groups.pop('valence') # discard for both linkers and non-linkers\n",
    "    groups = {\n",
    "        key : int(val)\n",
    "            for key, val in groups.items() # convert to ints from strings\n",
    "    }\n",
    "\n",
    "    print(groups)"
   ]
  },
  {
   "cell_type": "code",
   "execution_count": null,
   "metadata": {},
   "outputs": [],
   "source": [
    "METHYL = Chem.MolFromSmarts('[#6D4+0](-[3#0])(-[2#0])(-[4#0])(-[1#0])')\n",
    "display(METHYL)\n",
    "print(Chem.MolToSmiles(METHYL))\n",
    "print(Chem.MolToSmarts(METHYL))"
   ]
  },
  {
   "cell_type": "code",
   "execution_count": null,
   "metadata": {},
   "outputs": [],
   "source": [
    "mol = METHYL\n",
    "\n",
    "for atom in mol.GetAtoms():\n",
    "    if not portlib_legacy.is_port(atom):\n",
    "        if atom.GetSymbol() == 'O':\n",
    "            atom.SetIsotope(1)\n",
    "        query_atom = _get_compliant_atom_query(atom)\n",
    "        atom.SetQuery(query_atom)\n",
    "        # print(_get_compliant_atom_query(atom))\n",
    "\n",
    "display(mol)\n",
    "print('RDKit-generated mol query : ', Chem.MolToSmarts(mol), Chem.MolToSmiles(mol))"
   ]
  },
  {
   "cell_type": "code",
   "execution_count": null,
   "metadata": {},
   "outputs": [],
   "source": [
    "for atom in mol.GetAtoms():\n",
    "    print(atom.GetSmarts())"
   ]
  },
  {
   "cell_type": "code",
   "execution_count": null,
   "metadata": {},
   "outputs": [],
   "source": [
    "Chem.MolFromSmiles('[#6&D4&+0:1](-[#0&2*:2])(-[#0&2*:3])(-[#0&2*:4])-[#0&1*:5]')"
   ]
  },
  {
   "cell_type": "code",
   "execution_count": null,
   "metadata": {},
   "outputs": [],
   "source": [
    "sm = Chem.MolToSmarts(mol)\n",
    "sm = sm.replace('&', '')\n",
    "\n",
    "mol2 = Chem.MolFromSmarts(sm)\n",
    "display(mol2)"
   ]
  },
  {
   "cell_type": "code",
   "execution_count": null,
   "metadata": {},
   "outputs": [],
   "source": [
    "block = Chem.MolToMolBlock(mol)"
   ]
  },
  {
   "cell_type": "code",
   "execution_count": null,
   "metadata": {},
   "outputs": [],
   "source": [
    "import pandas as pd\n",
    "from polysaccharide2.genutils.iteration import iter_len\n",
    "\n",
    "records = []\n",
    "for atom in mol.GetAtoms():\n",
    "    record = {\n",
    "        'symbol' : atom.GetSymbol(),\n",
    "        'map num' : atom.GetAtomMapNum(),\n",
    "        'num bonds' : iter_len(atom.GetBonds()),\n",
    "        'impl_valence' : atom.GetImplicitValence(),\n",
    "        'expl_valence' : atom.GetExplicitValence(),\n",
    "        'total_valence' : atom.GetTotalValence(),\n",
    "    }\n",
    "    records.append(record)\n",
    "df = pd.DataFrame.from_records(records)\n",
    "df"
   ]
  },
  {
   "cell_type": "code",
   "execution_count": null,
   "metadata": {},
   "outputs": [],
   "source": [
    "s = '[#6D4+0:1](-[5#02*:3])(-[2#8D2+0:5]-[#1D1+0:4])(-[#8D2+0:7]-[#1D1+0:6])-[#8D2+0:9]-[#1D1+0:8]'\n",
    "mol3 = Chem.MolFromSmarts(s)\n",
    "display(mol3)\n",
    "print(s)\n",
    "print(Chem.MolToSmarts(mol3))"
   ]
  },
  {
   "cell_type": "markdown",
   "metadata": {},
   "source": [
    "# Experimenting with SMARTS functional groups"
   ]
  },
  {
   "cell_type": "code",
   "execution_count": null,
   "metadata": {},
   "outputs": [],
   "source": [
    "from polysaccharide2.monomers.substruct.functgroups import FN_GROUP_TABLE, FN_GROUP_ENTRIES\n",
    "from polysaccharide2.monomers.substruct.functgroups.records import FnGroupSMARTSEntry"
   ]
  },
  {
   "cell_type": "code",
   "execution_count": null,
   "metadata": {},
   "outputs": [],
   "source": [
    "FN_GROUP_TABLE.loc[FN_GROUP_TABLE['group_type'].str.contains('carbonyl')]"
   ]
  },
  {
   "cell_type": "code",
   "execution_count": null,
   "metadata": {},
   "outputs": [],
   "source": [
    "smarts = FN_GROUP_ENTRIES[44].SMARTS\n",
    "Chem.MolFromSmarts(smarts)"
   ]
  },
  {
   "cell_type": "markdown",
   "metadata": {},
   "source": [
    "# Testing monomer loading"
   ]
  },
  {
   "cell_type": "code",
   "execution_count": null,
   "metadata": {},
   "outputs": [],
   "source": [
    "from pathlib import Path \n",
    "from polysaccharide2.monomers.repr import MonomerGroup\n",
    "\n",
    "p = Path('polymer_examples/monomer_generation/json_files/bisphenolA.json')\n",
    "q = Path('polymer_examples/monomer_generation/json_files/naturalrubber.json')\n",
    "\n",
    "mg1 = MonomerGroup.from_file(p)\n",
    "mg2 = MonomerGroup.from_file(q)"
   ]
  },
  {
   "cell_type": "code",
   "execution_count": null,
   "metadata": {},
   "outputs": [],
   "source": [
    "Chem.MolFromSmiles(mg2.monomers['naturalrubber'][0])"
   ]
  },
  {
   "cell_type": "markdown",
   "metadata": {},
   "source": [
    "# Testing building"
   ]
  },
  {
   "cell_type": "code",
   "execution_count": null,
   "metadata": {},
   "outputs": [],
   "source": [
    "from polysaccharide2.polymers import estimation, building\n",
    "\n",
    "estimation.estimate_chain_len_linear(mg1, 10)"
   ]
  },
  {
   "cell_type": "markdown",
   "metadata": {},
   "source": [
    "# Testing simulation I/O"
   ]
  },
  {
   "cell_type": "code",
   "execution_count": null,
   "metadata": {},
   "outputs": [],
   "source": [
    "from pathlib import Path \n",
    "from openmm.unit import nanosecond\n",
    "\n",
    "sp = ps2.openmmtools.records.SimulationParameters(100*nanosecond, 5, 'NVT')\n",
    "sp.to_file(Path('test.json'))"
   ]
  },
  {
   "cell_type": "code",
   "execution_count": null,
   "metadata": {},
   "outputs": [],
   "source": []
  }
 ],
 "metadata": {
  "kernelspec": {
   "display_name": "openff-pdb-pr",
   "language": "python",
   "name": "python3"
  },
  "language_info": {
   "codemirror_mode": {
    "name": "ipython",
    "version": 3
   },
   "file_extension": ".py",
   "mimetype": "text/x-python",
   "name": "python",
   "nbconvert_exporter": "python",
   "pygments_lexer": "ipython3",
   "version": "3.11.5"
  },
  "orig_nbformat": 4
 },
 "nbformat": 4,
 "nbformat_minor": 2
}
