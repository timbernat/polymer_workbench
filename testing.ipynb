{
 "cells": [
  {
   "cell_type": "markdown",
   "metadata": {},
   "source": [
    "# Testing of features in polysaccharide2"
   ]
  },
  {
   "cell_type": "code",
   "execution_count": 1,
   "metadata": {},
   "outputs": [
    {
     "data": {
      "application/vnd.jupyter.widget-view+json": {
       "model_id": "da7086d02e01473ca2cb103711b38db4",
       "version_major": 2,
       "version_minor": 0
      },
      "text/plain": []
     },
     "metadata": {},
     "output_type": "display_data"
    },
    {
     "name": "stderr",
     "output_type": "stream",
     "text": [
      "/home/timber/miniconda3/envs/openff-pdb-pr/lib/python3.11/site-packages/mdtraj/formats/__init__.py:6: DeprecationWarning: 'xdrlib' is deprecated and slated for removal in Python 3.13\n",
      "  from .xtc import XTCTrajectoryFile\n",
      "/home/timber/miniconda3/envs/openff-pdb-pr/lib/python3.11/site-packages/mbuild/recipes/__init__.py:13: DeprecationWarning: SelectableGroups dict interface is deprecated. Use select.\n",
      "  entry_points = metadata.entry_points()[\"mbuild.plugins\"]\n"
     ]
    }
   ],
   "source": [
    "# Supressing annoying warnings (!must be done first!)\n",
    "import warnings\n",
    "\n",
    "warnings.filterwarnings('ignore', category=UserWarning)\n",
    "warnings.filterwarnings('ignore', category=DeprecationWarning) # doesn't actually seem to do anything about mbuild warnings\n",
    "\n",
    "# Logging\n",
    "from polysaccharide2.genutils.logutils.IOHandlers import LOG_FORMATTER\n",
    "\n",
    "import logging\n",
    "logging.basicConfig(\n",
    "    level=logging.INFO,\n",
    "    format =LOG_FORMATTER._fmt,\n",
    "    datefmt=LOG_FORMATTER.datefmt,\n",
    "    # force=True\n",
    ")\n",
    "LOGGER = logging.Logger(__name__)\n",
    "\n",
    "# General\n",
    "import re, json\n",
    "from pathlib import Path\n",
    "from shutil import copyfile\n",
    "\n",
    "import numpy as np\n",
    "\n",
    "# Logging\n",
    "from rich.progress import Progress, track\n",
    "import logging\n",
    "\n",
    "# Chemistry\n",
    "from openmm.unit import nanometer, angstrom\n",
    "from openff.toolkit import Topology, Molecule, ForceField\n",
    "from openff.units import unit as offunit\n",
    "\n",
    "from openff.interchange import Interchange\n",
    "from openff.interchange.components import _packmol as packmol\n",
    "\n",
    "from rdkit import Chem\n",
    "import openeye\n",
    "\n",
    "# Custom\n",
    "import polysaccharide2 as ps2\n",
    "from polysaccharide2.genutils.decorators.functional import allow_string_paths, allow_pathlib_paths, optional_in_place"
   ]
  },
  {
   "cell_type": "markdown",
   "metadata": {},
   "source": [
    "# OpenFF parameterization testing"
   ]
  },
  {
   "cell_type": "markdown",
   "metadata": {},
   "source": [
    "## Testing load using from_pdb and monomers"
   ]
  },
  {
   "cell_type": "code",
   "execution_count": null,
   "metadata": {},
   "outputs": [],
   "source": [
    "from polysaccharide2.openfftools import TKREGS\n",
    "from polysaccharide2.openfftools import topIO\n",
    "from polysaccharide2.openfftools.topinfo import get_largest_offmol\n",
    "from polysaccharide2.residues.partition import partition\n",
    "from polysaccharide2.monomers.repr import MonomerGroup\n",
    "\n",
    "# pdb_dir  = Path('polymer_examples/compatible_pdbs/simple_polymers')\n",
    "# mono_dir = Path('polymer_examples/monomer_generation/json_files/')\n",
    "\n",
    "pdb_sub = 'simple_polymers'\n",
    "pdb_dir  = Path(f'pdb_test_cleaned/pdbs/{pdb_sub}')\n",
    "mono_dir = Path(f'pdb_test_cleaned/monos/{pdb_sub}')\n",
    "\n",
    "mol_name = 'polyvinylchloride'\n",
    "# mol_name = 'PEO_PLGA'\n",
    "# mol_name = 'paam_modified'\n",
    "# pdb_sub = 'proteins'\n",
    "# mol_name = '6cww'\n",
    "\n",
    "pdb = pdb_dir / f'{mol_name}.pdb'\n",
    "mono = mono_dir / f'{mol_name}.json'\n",
    "assert(pdb.exists())\n",
    "assert(mono.exists())\n",
    "\n",
    "monogrp = MonomerGroup.from_file(mono)\n",
    "rdmol = Chem.MolFromPDBFile(str(pdb))\n",
    "offtop = Topology.from_pdb(pdb, _custom_substructures=monogrp.monomers, toolkit_registry=TKREGS['The RDKit'])\n",
    "was_partitioned = partition(offtop)\n",
    "print(was_partitioned)\n",
    "\n",
    "# assign properties to Molecule\n",
    "offmol = get_largest_offmol(offtop)\n",
    "offmol.name = mol_name\n",
    "offmol.properties['solvent'] = None\n",
    "offmol.properties['charge_method'] = None\n",
    "\n",
    "# save partitioned Topology\n",
    "sdf_dir = Path('sdf_test')\n",
    "sdf_dir.mkdir(exist_ok=True)\n",
    "mol_path = sdf_dir / f'{mol_name}.sdf'\n",
    "topIO.topology_to_sdf(mol_path, offtop=offtop, toolkit_registry=TKREGS['The RDKit'])"
   ]
  },
  {
   "cell_type": "markdown",
   "metadata": {},
   "source": [
    "## Partial charge assignment"
   ]
  },
  {
   "cell_type": "code",
   "execution_count": null,
   "metadata": {},
   "outputs": [],
   "source": [
    "from polysaccharide2.openfftools import TKREGS\n",
    "from polysaccharide2.openfftools import topIO\n",
    "from polysaccharide2.residues.rescharge import application, calculation\n",
    "\n",
    "base_charge_method = 'AM1-BCC-ELF10'\n",
    "\n",
    "# assign charges with default methods\n",
    "charged_mols = {}\n",
    "for charge_method, ChargerType in application.MolCharger.subclass_registry.items():\n",
    "    chgr = ChargerType()\n",
    "    cmol = charged_mols[charge_method] = chgr.charge_molecule(offmol, in_place=False)\n",
    "\n",
    "# generate library charges and charge by residue\n",
    "res_chg = calculation.compute_residue_charges(charged_mols[base_charge_method], monogrp)\n",
    "res_chg.to_file(sdf_dir / f'{mol_name}_residue_charges.json')\n",
    "\n",
    "offmol_avg = application.apply_residue_charges(offmol, res_chg, in_place=False)\n",
    "offmol_avg.properties['charge_method'] = 'RCT-averaged'\n",
    "charged_mols['RCT-averaged'] = offmol_avg\n",
    "\n",
    "# saving charged molecules to SDF files\n",
    "for charge_method, cmol in charged_mols.items():\n",
    "    topIO.topology_to_sdf(sdf_dir / f'{mol_name}_{charge_method}.sdf', cmol.to_topology())"
   ]
  },
  {
   "cell_type": "markdown",
   "metadata": {},
   "source": [
    "## Testing building and RCT"
   ]
  },
  {
   "cell_type": "code",
   "execution_count": 7,
   "metadata": {},
   "outputs": [],
   "source": [
    "from pathlib import Path\n",
    "\n",
    "from polysaccharide2.genutils.decorators.functional import allow_string_paths\n",
    "from polysaccharide2.monomers.repr import MonomerGroup\n",
    "from polysaccharide2.polymers import estimation, building\n",
    "from polysaccharide2.polymers.exceptions import MorphologyError\n",
    "\n",
    "from polysaccharide2.openfftools import TKREGS, topIO, topinfo\n",
    "from polysaccharide2.openfftools.pcharge import MolCharger\n",
    "\n",
    "from polysaccharide2.residues.partition import partition\n",
    "from polysaccharide2.residues.rescharge.rctypes import ChargesByResidue\n",
    "from polysaccharide2.residues.rescharge.calculation import compute_residue_charges\n",
    "\n",
    "\n",
    "@allow_string_paths\n",
    "def rct_protocol(pdb_path : Path, monogroup : MonomerGroup, term_group_orient : dict[str, str], N : int, charger : MolCharger, delete_pdb : bool=True, save_sdf : bool=False) -> ChargesByResidue:\n",
    "    '''\n",
    "    Generates library charges for a monomer group given terminal group head-tail orientations and a maximum chain length\n",
    "    If delete_pdb=True, will remove the working pdb path after charges are generated\n",
    "    as currently implemented, only supports monomer groups which constitute a linear homopolymer\n",
    "    '''\n",
    "    mol_name = pdb_path.stem\n",
    "    if not monogroup.is_linear:\n",
    "        raise MorphologyError('RCT currently only supports linear homopolymers')\n",
    "    \n",
    "    DOP = estimation.estimate_DOP_lower(monogroup, max_chain_len=N)\n",
    "    chain = building.build_linear_polymer(monogrp, DOP, term_orient=term_group_orient)\n",
    "\n",
    "    building.mbmol_to_openmm_pdb(pdb_path, chain) # output PDB file to disc \n",
    "    offtop = Topology.from_pdb(pdb_path, _custom_substructures=monogrp.monomers, toolkit_registry=TKREGS['The RDKit']) # load custom substructures - raises error if PDB has issues\n",
    "    if delete_pdb:\n",
    "        pdb_path.unlink()\n",
    "        \n",
    "    was_partitioned = partition(offtop) \n",
    "    assert(was_partitioned)\n",
    "    offmol = topinfo.get_largest_offmol(offtop)\n",
    "    offmol.name = mol_name\n",
    "\n",
    "    cmol = charger.charge_molecule(offmol, in_place=False)\n",
    "    if save_sdf:\n",
    "        topIO.topology_to_sdf(pdb_path.with_name(f'{pdb_path.stem}.sdf'), cmol.to_topology())\n",
    "    res_chgs = compute_residue_charges(cmol, monogroup)\n",
    "\n",
    "    return res_chgs"
   ]
  },
  {
   "cell_type": "code",
   "execution_count": 10,
   "metadata": {},
   "outputs": [
    {
     "name": "stderr",
     "output_type": "stream",
     "text": [
      "2023-10-09 20:03:00.281 [INFO    :        building:line 82  ] - Building linear polymer chain with 12 monomers (93 atoms)\n"
     ]
    },
    {
     "name": "stderr",
     "output_type": "stream",
     "text": [
      "2023-10-09 20:03:01.690 [INFO    :         pcharge:line 34  ] - Assigning partial charges via the \"Espaloma-AM1-BCC\" method\n",
      "/home/timber/miniconda3/envs/openff-pdb-pr/lib/python3.11/site-packages/espaloma_charge/openff_wrapper.py:112: IncorrectNumConformersWarning: Molecule 'Molecule with name 'peg_modified_redux' and SMILES '[H]C([H])([H])OC([H])([H])C([H])([H])OC([H])([H])C([H])([H])OC([H])([H])C([H])([H])OC([H])([H])C([H])([H])OC([H])([H])C([H])([H])OC([H])([H])C([H])([H])OC([H])([H])C([H])([H])OC([H])([H])C([H])([H])OC([H])([H])C([H])([H])OC([H])([H])C([H])([H])OC([H])([H])C([H])([H])OC([H])([H])C([H])([H])OC([H])([H])[H]'' has 1 conformers, but charge method 'espaloma-am1bcc' expects exactly 0.\n",
      "  self._check_n_conformers(\n",
      "2023-10-09 20:03:01.825 [INFO    :         pcharge:line 37  ] - Successfully assigned \"Espaloma-AM1-BCC\" charges\n",
      "2023-10-09 20:03:01.873 [INFO    :     calculation:line 32  ] - Selected representative residue groups\n",
      "2023-10-09 20:03:01.875 [INFO    :     calculation:line 60  ] - Accumulated charges across all matching residues\n",
      "2023-10-09 20:03:01.876 [INFO    :     calculation:line 70  ] - Redistributing charges for residue \"peg\" according to UniformDistributionStrategy\n",
      "2023-10-09 20:03:01.877 [INFO    :     calculation:line 70  ] - Redistributing charges for residue \"peg_TERM2\" according to UniformDistributionStrategy\n",
      "2023-10-09 20:03:01.878 [INFO    :     calculation:line 70  ] - Redistributing charges for residue \"peg_TERM3\" according to UniformDistributionStrategy\n",
      "2023-10-09 20:03:01.895 [INFO    :     calculation:line 75  ] - Successfully computed library charges for Molecule with name 'peg_modified_redux' and SMILES '[H]C([H])([H])OC([H])([H])C([H])([H])OC([H])([H])C([H])([H])OC([H])([H])C([H])([H])OC([H])([H])C([H])([H])OC([H])([H])C([H])([H])OC([H])([H])C([H])([H])OC([H])([H])C([H])([H])OC([H])([H])C([H])([H])OC([H])([H])C([H])([H])OC([H])([H])C([H])([H])OC([H])([H])C([H])([H])OC([H])([H])C([H])([H])OC([H])([H])[H]'\n",
      "2023-10-09 20:03:03.251 [INFO    :         pcharge:line 34  ] - Assigning partial charges via the \"RCT\" method\n",
      "2023-10-09 20:03:03.282 [INFO    :     calculation:line 88  ] - Successfully mapped residue charges onto Molecule with name '' and SMILES '[H]C([H])([H])OC([H])([H])C([H])([H])OC([H])([H])C([H])([H])OC([H])([H])C([H])([H])OC([H])([H])C([H])([H])OC([H])([H])C([H])([H])OC([H])([H])C([H])([H])OC([H])([H])C([H])([H])OC([H])([H])C([H])([H])OC([H])([H])C([H])([H])OC([H])([H])C([H])([H])OC([H])([H])C([H])([H])OC([H])([H])C([H])([H])OC([H])([H])C([H])([H])OC([H])([H])C([H])([H])OC([H])([H])C([H])([H])OC([H])([H])C([H])([H])OC([H])([H])C([H])([H])OC([H])([H])C([H])([H])OC([H])([H])C([H])([H])OC([H])([H])C([H])([H])OC([H])([H])C([H])([H])OC([H])([H])C([H])([H])OC([H])([H])C([H])([H])OC([H])([H])C([H])([H])OC([H])([H])C([H])([H])OC([H])([H])C([H])([H])OC([H])([H])C([H])([H])OC([H])([H])C([H])([H])OC([H])([H])C([H])([H])OC([H])([H])C([H])([H])OC([H])([H])C([H])([H])OC([H])([H])C([H])([H])OC([H])([H])C([H])([H])OC([H])([H])C([H])([H])OC([H])([H])C([H])([H])OC([H])([H])C([H])([H])OC([H])([H])[H]'\n",
      "2023-10-09 20:03:03.283 [INFO    :         pcharge:line 37  ] - Successfully assigned \"RCT\" charges\n",
      "2023-10-09 20:03:03.361 [INFO    :        building:line 82  ] - Building linear polymer chain with 9 monomers (92 atoms)\n",
      "2023-10-09 20:03:04.698 [INFO    :         pcharge:line 34  ] - Assigning partial charges via the \"Espaloma-AM1-BCC\" method\n",
      "/home/timber/miniconda3/envs/openff-pdb-pr/lib/python3.11/site-packages/espaloma_charge/openff_wrapper.py:112: IncorrectNumConformersWarning: Molecule 'Molecule with name 'paam_modified_redux' and SMILES '[H][C@@](C(=O)N([H])[H])(C([H])([H])[H])C([H])([H])[C@@]([H])(C(=O)N([H])[H])C([H])([H])[C@@]([H])(C(=O)N([H])[H])C([H])([H])[C@@]([H])(C(=O)N([H])[H])C([H])([H])[C@@]([H])(C(=O)N([H])[H])C([H])([H])[C@@]([H])(C(=O)N([H])[H])C([H])([H])[C@@]([H])(C(=O)N([H])[H])C([H])([H])[C@@]([H])(C(=O)N([H])[H])C([H])([H])C([H])([H])C(=O)N([H])[H]'' has 1 conformers, but charge method 'espaloma-am1bcc' expects exactly 0.\n",
      "  self._check_n_conformers(\n",
      "2023-10-09 20:03:04.749 [INFO    :         pcharge:line 37  ] - Successfully assigned \"Espaloma-AM1-BCC\" charges\n",
      "2023-10-09 20:03:04.793 [INFO    :     calculation:line 32  ] - Selected representative residue groups\n",
      "2023-10-09 20:03:04.795 [INFO    :     calculation:line 60  ] - Accumulated charges across all matching residues\n",
      "2023-10-09 20:03:04.796 [INFO    :     calculation:line 70  ] - Redistributing charges for residue \"paam\" according to UniformDistributionStrategy\n",
      "2023-10-09 20:03:04.797 [INFO    :     calculation:line 70  ] - Redistributing charges for residue \"paam_TERM2\" according to UniformDistributionStrategy\n",
      "2023-10-09 20:03:04.798 [INFO    :     calculation:line 70  ] - Redistributing charges for residue \"paam_TERM3\" according to UniformDistributionStrategy\n",
      "2023-10-09 20:03:04.816 [INFO    :     calculation:line 75  ] - Successfully computed library charges for Molecule with name 'paam_modified_redux' and SMILES '[H][C@@](C(=O)N([H])[H])(C([H])([H])[H])C([H])([H])[C@@]([H])(C(=O)N([H])[H])C([H])([H])[C@@]([H])(C(=O)N([H])[H])C([H])([H])[C@@]([H])(C(=O)N([H])[H])C([H])([H])[C@@]([H])(C(=O)N([H])[H])C([H])([H])[C@@]([H])(C(=O)N([H])[H])C([H])([H])[C@@]([H])(C(=O)N([H])[H])C([H])([H])[C@@]([H])(C(=O)N([H])[H])C([H])([H])C([H])([H])C(=O)N([H])[H]'\n",
      "2023-10-09 20:03:06.344 [INFO    :         pcharge:line 34  ] - Assigning partial charges via the \"RCT\" method\n",
      "2023-10-09 20:03:06.393 [INFO    :     calculation:line 88  ] - Successfully mapped residue charges onto Molecule with name '' and SMILES '[H][C@@](C(=O)N([H])[H])(C([H])([H])[H])C([H])([H])[C@@]([H])(C(=O)N([H])[H])C([H])([H])[C@@]([H])(C(=O)N([H])[H])C([H])([H])[C@@]([H])(C(=O)N([H])[H])C([H])([H])[C@@]([H])(C(=O)N([H])[H])C([H])([H])[C@@]([H])(C(=O)N([H])[H])C([H])([H])[C@@]([H])(C(=O)N([H])[H])C([H])([H])[C@@]([H])(C(=O)N([H])[H])C([H])([H])[C@@]([H])(C(=O)N([H])[H])C([H])([H])[C@@]([H])(C(=O)N([H])[H])C([H])([H])[C@]([H])(C(=O)N([H])[H])C([H])([H])[C@]([H])(C(=O)N([H])[H])C([H])([H])[C@]([H])(C(=O)N([H])[H])C([H])([H])[C@@]([H])(C(=O)N([H])[H])C([H])([H])[C@@]([H])(C(=O)N([H])[H])C([H])([H])[C@@]([H])(C(=O)N([H])[H])C([H])([H])[C@]([H])(C(=O)N([H])[H])C([H])([H])[C@@]([H])(C(=O)N([H])[H])C([H])([H])[C@@]([H])(C(=O)N([H])[H])C([H])([H])[C@]([H])(C(=O)N([H])[H])C([H])([H])[C@]([H])(C(=O)N([H])[H])C([H])([H])[C@]([H])(C(=O)N([H])[H])C([H])([H])[C@]([H])(C(=O)N([H])[H])C([H])([H])[C@]([H])(C(=O)N([H])[H])C([H])([H])[C@@]([H])(C(=O)N([H])[H])C([H])([H])[C@@]([H])(C(=O)N([H])[H])C([H])([H])[C@@]([H])(C(=O)N([H])[H])C([H])([H])[C@@]([H])(C(=O)N([H])[H])C([H])([H])[C@@]([H])(C(=O)N([H])[H])C([H])([H])[C@@]([H])(C(=O)N([H])[H])C([H])([H])[C@]([H])(C(=O)N([H])[H])C([H])([H])[C@]([H])(C(=O)N([H])[H])C([H])([H])[C@]([H])(C(=O)N([H])[H])C([H])([H])[C@]([H])(C(=O)N([H])[H])C([H])([H])[C@]([H])(C(=O)N([H])[H])C([H])([H])[C@]([H])(C(=O)N([H])[H])C([H])([H])[C@@]([H])(C(=O)N([H])[H])C([H])([H])[C@@]([H])(C(=O)N([H])[H])C([H])([H])[C@@]([H])(C(=O)N([H])[H])C([H])([H])[C@]([H])(C(=O)N([H])[H])C([H])([H])[C@]([H])(C(=O)N([H])[H])C([H])([H])C([H])([H])C(=O)N([H])[H]'\n",
      "2023-10-09 20:03:06.394 [INFO    :         pcharge:line 37  ] - Successfully assigned \"RCT\" charges\n",
      "2023-10-09 20:03:06.571 [INFO    :        building:line 82  ] - Building linear polymer chain with 5 monomers (97 atoms)\n",
      "2023-10-09 20:03:07.867 [INFO    :         pcharge:line 34  ] - Assigning partial charges via the \"Espaloma-AM1-BCC\" method\n",
      "/home/timber/miniconda3/envs/openff-pdb-pr/lib/python3.11/site-packages/espaloma_charge/openff_wrapper.py:112: IncorrectNumConformersWarning: Molecule 'Molecule with name 'pnipam_modified_redux' and SMILES '[H][C@](C(=O)N([H])C([H])(C([H])([H])[H])C([H])([H])[H])(C([H])([H])[H])C([H])([H])[C@]([H])(C(=O)N([H])C([H])(C([H])([H])[H])C([H])([H])[H])C([H])([H])[C@]([H])(C(=O)N([H])C([H])(C([H])([H])[H])C([H])([H])[H])C([H])([H])[C@]([H])(C(=O)N([H])C([H])(C([H])([H])[H])C([H])([H])[H])C([H])([H])C([H])([H])C(=O)N([H])C([H])(C([H])([H])[H])C([H])([H])[H]'' has 1 conformers, but charge method 'espaloma-am1bcc' expects exactly 0.\n",
      "  self._check_n_conformers(\n",
      "2023-10-09 20:03:08.010 [INFO    :         pcharge:line 37  ] - Successfully assigned \"Espaloma-AM1-BCC\" charges\n",
      "2023-10-09 20:03:08.060 [INFO    :     calculation:line 32  ] - Selected representative residue groups\n",
      "2023-10-09 20:03:08.063 [INFO    :     calculation:line 60  ] - Accumulated charges across all matching residues\n",
      "2023-10-09 20:03:08.064 [INFO    :     calculation:line 70  ] - Redistributing charges for residue \"pnipam\" according to UniformDistributionStrategy\n",
      "2023-10-09 20:03:08.065 [INFO    :     calculation:line 70  ] - Redistributing charges for residue \"pnipam_TERM2\" according to UniformDistributionStrategy\n",
      "2023-10-09 20:03:08.066 [INFO    :     calculation:line 70  ] - Redistributing charges for residue \"pnipam_TERM3\" according to UniformDistributionStrategy\n",
      "2023-10-09 20:03:08.084 [INFO    :     calculation:line 75  ] - Successfully computed library charges for Molecule with name 'pnipam_modified_redux' and SMILES '[H][C@](C(=O)N([H])C([H])(C([H])([H])[H])C([H])([H])[H])(C([H])([H])[H])C([H])([H])[C@]([H])(C(=O)N([H])C([H])(C([H])([H])[H])C([H])([H])[H])C([H])([H])[C@]([H])(C(=O)N([H])C([H])(C([H])([H])[H])C([H])([H])[H])C([H])([H])[C@]([H])(C(=O)N([H])C([H])(C([H])([H])[H])C([H])([H])[H])C([H])([H])C([H])([H])C(=O)N([H])C([H])(C([H])([H])[H])C([H])([H])[H]'\n",
      "2023-10-09 20:03:09.821 [INFO    :         pcharge:line 34  ] - Assigning partial charges via the \"RCT\" method\n",
      "2023-10-09 20:03:09.882 [INFO    :     calculation:line 88  ] - Successfully mapped residue charges onto Molecule with name '' and SMILES '[H][C@](C(=O)N([H])C([H])(C([H])([H])[H])C([H])([H])[H])(C([H])([H])[H])C([H])([H])[C@]([H])(C(=O)N([H])C([H])(C([H])([H])[H])C([H])([H])[H])C([H])([H])[C@]([H])(C(=O)N([H])C([H])(C([H])([H])[H])C([H])([H])[H])C([H])([H])[C@]([H])(C(=O)N([H])C([H])(C([H])([H])[H])C([H])([H])[H])C([H])([H])[C@]([H])(C(=O)N([H])C([H])(C([H])([H])[H])C([H])([H])[H])C([H])([H])[C@@]([H])(C(=O)N([H])C([H])(C([H])([H])[H])C([H])([H])[H])C([H])([H])[C@]([H])(C(=O)N([H])C([H])(C([H])([H])[H])C([H])([H])[H])C([H])([H])[C@]([H])(C(=O)N([H])C([H])(C([H])([H])[H])C([H])([H])[H])C([H])([H])[C@]([H])(C(=O)N([H])C([H])(C([H])([H])[H])C([H])([H])[H])C([H])([H])[C@]([H])(C(=O)N([H])C([H])(C([H])([H])[H])C([H])([H])[H])C([H])([H])[C@]([H])(C(=O)N([H])C([H])(C([H])([H])[H])C([H])([H])[H])C([H])([H])[C@]([H])(C(=O)N([H])C([H])(C([H])([H])[H])C([H])([H])[H])C([H])([H])[C@@]([H])(C(=O)N([H])C([H])(C([H])([H])[H])C([H])([H])[H])C([H])([H])[C@]([H])(C(=O)N([H])C([H])(C([H])([H])[H])C([H])([H])[H])C([H])([H])[C@]([H])(C(=O)N([H])C([H])(C([H])([H])[H])C([H])([H])[H])C([H])([H])[C@]([H])(C(=O)N([H])C([H])(C([H])([H])[H])C([H])([H])[H])C([H])([H])[C@]([H])(C(=O)N([H])C([H])(C([H])([H])[H])C([H])([H])[H])C([H])([H])[C@]([H])(C(=O)N([H])C([H])(C([H])([H])[H])C([H])([H])[H])C([H])([H])[C@]([H])(C(=O)N([H])C([H])(C([H])([H])[H])C([H])([H])[H])C([H])([H])[C@]([H])(C(=O)N([H])C([H])(C([H])([H])[H])C([H])([H])[H])C([H])([H])[C@]([H])(C(=O)N([H])C([H])(C([H])([H])[H])C([H])([H])[H])C([H])([H])[C@]([H])(C(=O)N([H])C([H])(C([H])([H])[H])C([H])([H])[H])C([H])([H])[C@@]([H])(C(=O)N([H])C([H])(C([H])([H])[H])C([H])([H])[H])C([H])([H])[C@@]([H])(C(=O)N([H])C([H])(C([H])([H])[H])C([H])([H])[H])C([H])([H])[C@]([H])(C(=O)N([H])C([H])(C([H])([H])[H])C([H])([H])[H])C([H])([H])[C@@]([H])(C(=O)N([H])C([H])(C([H])([H])[H])C([H])([H])[H])C([H])([H])C([H])([H])C(=O)N([H])C([H])(C([H])([H])[H])C([H])([H])[H]'\n",
      "2023-10-09 20:03:09.883 [INFO    :         pcharge:line 37  ] - Successfully assigned \"RCT\" charges\n"
     ]
    }
   ],
   "source": [
    "from polysaccharide2.openfftools.pcharge import MolCharger\n",
    "from polysaccharide2.residues.rescharge.interface import LibraryCharger\n",
    "\n",
    "# building parameters\n",
    "outdir = Path('RCT_test')\n",
    "outdir.mkdir(exist_ok=True)\n",
    "\n",
    "DOP = 8\n",
    "N = 100\n",
    "chgr = MolCharger.subclass_registry['Espaloma-AM1-BCC']()\n",
    "delete_pdb : bool=True\n",
    "save_sdf : bool=True\n",
    "\n",
    "term_groups = { \n",
    "    'peg_modified' : {\n",
    "        'peg_TERM2' : 'head',\n",
    "        'peg_TERM3' : 'tail',\n",
    "    },\n",
    "    'paam_modified' : {\n",
    "        'paam_TERM2' : 'head',\n",
    "        'paam_TERM3' : 'tail',\n",
    "    },\n",
    "    'pnipam_modified' : {\n",
    "        'pnipam_TERM2' : 'head',\n",
    "        'pnipam_TERM3' : 'tail',\n",
    "    },\n",
    "}\n",
    "\n",
    "# defining paths\n",
    "mol_category = 'simple_polymers'\n",
    "pdb_dir  = Path(f'pdb_test_cleaned/pdbs/{mol_category}')\n",
    "mono_dir = Path(f'pdb_test_cleaned/monos/{mol_category}')\n",
    "\n",
    "# estimation and building loop\n",
    "for mol_name, term_group_orient in term_groups.items():\n",
    "    pdb_temp   = outdir / f'{mol_name}_redux.pdb' # NOTe : new PDB path, not an existing one\n",
    "    # pdb_temp = 'polymer.pdb'\n",
    "    mono_path = mono_dir / f'{mol_name}.json'\n",
    "    assert(mono_path.exists())\n",
    "\n",
    "    monogrp = MonomerGroup.from_file(mono_path)\n",
    "    lib_chgs = rct_protocol(pdb_temp, monogrp, term_group_orient, N, charger=chgr, delete_pdb=delete_pdb, save_sdf=save_sdf)\n",
    "    lib_chgs.to_file(outdir / f'{mol_name}_residue_charges.json')\n",
    "\n",
    "    # PHASE 2: applying library charges to ful-size mol\n",
    "    pdb_path = pdb_dir / f'{mol_name}.pdb' # path to the true, full-size PDB \n",
    "    offtop = Topology.from_pdb(pdb_path, _custom_substructures=monogrp.monomers, toolkit_registry=TKREGS['The RDKit'])\n",
    "    was_partitioned = partition(offtop) \n",
    "    assert(was_partitioned)\n",
    "    fullmol = topinfo.get_largest_offmol(offtop)\n",
    "    \n",
    "    lib_chgr = LibraryCharger(lib_chgs)\n",
    "    rctmol = lib_chgr.charge_molecule(fullmol, in_place=False)\n",
    "    topIO.topology_to_sdf(outdir / f'{mol_name}_{lib_chgr.CHARGING_METHOD}.sdf', rctmol.to_topology())"
   ]
  },
  {
   "cell_type": "markdown",
   "metadata": {},
   "source": [
    "## Solvation of Topologies"
   ]
  },
  {
   "cell_type": "code",
   "execution_count": 15,
   "metadata": {},
   "outputs": [],
   "source": [
    "from openmm.unit import gram, centimeter, nanometer, mole\n",
    "from polysaccharide2.openfftools.solvation.packing import pack_topology_with_solvent\n",
    "from polysaccharide2.openfftools.solvation.solvents import water_TIP3P\n",
    "\n",
    "# PARAMETERS\n",
    "targ_box_vecs = 6.0 * np.ones(3) * nanometer\n",
    "density = 0.997 * (gram / centimeter**3)\n",
    "exclusion = 1.3 * nanometer\n",
    "solvent = water_TIP3P\n",
    "\n",
    "solv_top = pack_topology_with_solvent(rctmol.to_topology(), solvent, box_vecs=targ_box_vecs, density=density, exclusion=exclusion)\n",
    "topIO.topology_to_sdf(outdir / f'{mol_name}_{lib_chgr.CHARGING_METHOD}_solv_{solvent.name}.sdf', solv_top)"
   ]
  },
  {
   "cell_type": "code",
   "execution_count": null,
   "metadata": {},
   "outputs": [],
   "source": [
    "from polysaccharide2.openmmtools.parameters import SimulationParameters\n",
    "from copy import deepcopy\n",
    "\n",
    "def conformer_anneal(offtop : Topology, num_confs : int, anneal_params : SimulationParameters, forcefield : ForceField) -> Topology:\n",
    "    '''Takes a Topology, a number of confomrers to generate, and parameters describing an annealing simulation \n",
    "    Returns a corresponding Topology with target unmber of new conformers, each taken as the final snapshot of each simulation'''\n",
    "    conf_top = deepcopy(offtop)\n",
    "    inc = Interchange.from_smirnoff(offtop, forcefield)"
   ]
  },
  {
   "cell_type": "markdown",
   "metadata": {},
   "source": [
    "# OpenMM I/O and simulation interfaces"
   ]
  },
  {
   "cell_type": "markdown",
   "metadata": {},
   "source": [
    "## Initialize OpenMM sim + files"
   ]
  },
  {
   "cell_type": "code",
   "execution_count": null,
   "metadata": {},
   "outputs": [],
   "source": [
    "from openmm.unit import nanosecond, picosecond, femtosecond\n",
    "from openmm.unit import kelvin, atmosphere, nanometer, centimeter\n",
    "from openmm.unit import gram, mole, liter\n",
    "from polysaccharide2.openmmtools import parameters, serialization, preparation\n",
    "\n",
    "from polysaccharide2.openfftools import topIO, topinfo\n",
    "from polysaccharide2.openfftools.omminter import openff_topology_to_openmm\n",
    "from polysaccharide2.openfftools.solvation import packing\n",
    "\n",
    "\n",
    "# input parameters\n",
    "sdf_dir = Path('sdf_test')\n",
    "sdf_path = sdf_dir / 'polyvinylchloride_AM1-BCC-ELF10.sdf'\n",
    "\n",
    "box_dims = 4.0 * np.ones(3) * nanometer\n",
    "density = 0.997 * gram/centimeter**3\n",
    "exclusion = 1.0 * nanometer\n",
    "ff_name = 'openff-2.0.0'\n",
    "\n",
    "# define paths\n",
    "prefix = 'pvc'\n",
    "save_path = Path('openmm_test')\n",
    "save_path.mkdir(exist_ok=True)\n",
    "\n",
    "# initialize and integrate simulation\n",
    "offtop = topIO.topology_from_sdf(sdf_path)\n",
    "water  = Molecule.from_file('water_files/water_TIP3P.sdf')\n",
    "packtop = packing.pack_topology_with_solvent(offtop, solvent=water, box_vecs=box_dims, density=density, exclusion=exclusion)\n",
    "\n",
    "ommobjs = openff_topology_to_openmm(offtop, forcefield=ff_name, box_vecs=box_dims)"
   ]
  },
  {
   "cell_type": "code",
   "execution_count": null,
   "metadata": {},
   "outputs": [],
   "source": [
    "from polysaccharide2.genutils.logutils.IOHandlers import MSFHandlerFlex, get_logger_registry, get_active_loggers\n",
    "\n",
    "p = Path('sim_param_sets')\n",
    "schedule = {\n",
    "    'anneal' : parameters.SimulationParameters.from_file(p / 'anneal_params.json'),\n",
    "    'equil' : parameters.SimulationParameters.from_file(p / 'equilibration_params.json'),\n",
    "    'prod' : parameters.SimulationParameters.from_file(p / 'production_lite_params.json'),\n",
    "}\n",
    "for params in schedule.values():\n",
    "    if params.thermo_params.ensemble == 'NPT':\n",
    "        params.thermo_params.ensemble = 'NVT'\n",
    "\n",
    "    if params.integ_params.total_time >= 1*nanosecond:\n",
    "        params.integ_params.total_time = 100*picosecond\n",
    "\n",
    "with MSFHandlerFlex(save_path, proc_name='sim_schedule', loggers='all') as log_handler:\n",
    "    preparation.run_simulation_schedule(save_path, schedule, *ommobjs)"
   ]
  },
  {
   "cell_type": "code",
   "execution_count": null,
   "metadata": {},
   "outputs": [],
   "source": [
    "param_top_path = Path(...)\n",
    "\n",
    "# Vacuum anneal\n",
    "\n",
    "# Solvation\n",
    "\n",
    "# Equilibration\n",
    "\n",
    "# Production"
   ]
  },
  {
   "cell_type": "markdown",
   "metadata": {},
   "source": [
    "### Copying coordinate to single chain after anneal"
   ]
  },
  {
   "cell_type": "code",
   "execution_count": null,
   "metadata": {},
   "outputs": [],
   "source": [
    "from copy import deepcopy\n",
    "\n",
    "final_state = ommsim.context.getState(getPositions=True)\n",
    "final_pos = final_state.getPositions(asNumpy=True)\n",
    "\n",
    "new_mol = deepcopy(offmol)\n",
    "new_mol.conformers[0] = openmm_to_openff(final_pos.in_units_of(angstrom)) # convert to correct units in the OpenFF format"
   ]
  },
  {
   "cell_type": "code",
   "execution_count": null,
   "metadata": {},
   "outputs": [],
   "source": [
    "topIO.topology_to_sdf('orig.sdf', offmol.to_topology())\n",
    "topIO.topology_to_sdf('shifted.sdf', new_mol.to_topology())"
   ]
  },
  {
   "cell_type": "markdown",
   "metadata": {},
   "source": [
    "# Playing with ratios"
   ]
  },
  {
   "cell_type": "code",
   "execution_count": null,
   "metadata": {},
   "outputs": [],
   "source": [
    "from dataclasses import dataclass\n",
    "from typing import Any, Callable, ClassVar, TypeVar\n",
    "from math import gcd\n",
    "from numbers import Number\n",
    "\n",
    "\n",
    "N = TypeVar('N')\n",
    "def sgnmag(num : N) -> tuple[bool, N]:\n",
    "    '''Returns the sign and magnitude of a numeric-like value'''\n",
    "    return num < 0, abs(num)\n",
    "\n",
    "\n",
    "@dataclass(repr=False)\n",
    "class Ratio:\n",
    "    '''For representing fractional ratios between two objects'''\n",
    "    num   : Any\n",
    "    denom : Any\n",
    "\n",
    "    # REPRESENTATION\n",
    "    def __repr__(self) -> str:\n",
    "        return f'{self.num}/{self.denom}'\n",
    "    \n",
    "    def to_latex(self) -> str:\n",
    "        '''Return latex-compatible string which represent fraction'''\n",
    "        return rf'\\frac{{{self.num}}}{{{self.denom}}}'\n",
    "\n",
    "    # RELATIONS\n",
    "    @property\n",
    "    def reciprocal(self) -> 'Ratio':\n",
    "        '''Return the reciprocal of a ration'''\n",
    "        return self.__class__(self.denom, self.num)\n",
    "\n",
    "\n",
    "@dataclass(repr=False)\n",
    "class Rational(Ratio):\n",
    "    '''For representing ratios of integers'''\n",
    "    num   : int\n",
    "    denom : int\n",
    "\n",
    "    # REDUCTION\n",
    "    autoreduce : ClassVar[bool]=False\n",
    "    \n",
    "    def __post_init__(self) -> None:\n",
    "        if self.__class__.autoreduce:\n",
    "            self.reduce()\n",
    "\n",
    "    def reduce(self) -> None:\n",
    "        '''Reduce numerator and denominator by greatest common factor'''\n",
    "        _gcd = gcd(self.num, self.denom)\n",
    "        self.num=int(self.num / _gcd)\n",
    "        self.denom=int(self.denom / _gcd)\n",
    "    simplify = reduce # alias for convenience\n",
    "\n",
    "    @property\n",
    "    def reduced(self) -> 'Rational':\n",
    "        '''Return reduced Rational equivalent to the current rational (does not modify in-place)'''\n",
    "        new_rat = self.__class__(self.num, self.denom)\n",
    "        new_rat.reduce()\n",
    "\n",
    "        return new_rat\n",
    "    simplifed = reduced # alias for convenience\n",
    "    \n",
    "    def as_proper(self) -> tuple[int, 'Rational']:\n",
    "        '''Returns the integer and proper fractional component of a ratio'''\n",
    "        integ, remain = divmod(self.num, self.denom)\n",
    "        return integ, self.__class__(remain, self.denom)\n",
    "    \n",
    "    # ARITHMETIC\n",
    "    def __add__(self, other : 'Rational') -> 'Rational':\n",
    "        '''Sum of two Rationals'''\n",
    "        return self.__class__(\n",
    "            num=(self.num * other.denom) + (self.denom * other.num),\n",
    "            denom=(self.denom * other.denom)\n",
    "        )\n",
    "    \n",
    "    def __sub__(self, other : 'Rational') -> 'Rational':\n",
    "        '''Difference of two Rationals'''\n",
    "        return self.__class__(\n",
    "            num=(self.num * other.denom) - (self.denom * other.num),\n",
    "            denom=(self.denom * other.denom)\n",
    "        )\n",
    "\n",
    "    def __mul__(self, other : 'Rational') -> 'Rational':\n",
    "        '''Product of two Rationals'''\n",
    "        return self.__class__(\n",
    "            num=self.num * other.num,\n",
    "            denom=self.denom * other.denom\n",
    "        )\n",
    "\n",
    "    def __div__(self, other : 'Rational') -> 'Rational':\n",
    "        '''Quotient of two Rationals'''\n",
    "        return self.__class__(\n",
    "            num=self.num * other.denom,\n",
    "            denom=self.denom * other.num\n",
    "        )\n",
    "    \n",
    "    def __pow__(self, power : float) -> 'Rational':\n",
    "        '''Exponentiates a ratio'''\n",
    "        return self.__class__(\n",
    "            num=self.num**power,\n",
    "            denom=self.denom**power\n",
    "        )"
   ]
  },
  {
   "cell_type": "code",
   "execution_count": null,
   "metadata": {},
   "outputs": [],
   "source": [
    "p = Rational(3, 6)\n",
    "q = Rational(4, 12)\n",
    "\n",
    "print(p, p.reciprocal, p.reduced, p+q)"
   ]
  },
  {
   "cell_type": "code",
   "execution_count": null,
   "metadata": {},
   "outputs": [],
   "source": [
    "Rational.autoreduce = False"
   ]
  },
  {
   "cell_type": "code",
   "execution_count": null,
   "metadata": {},
   "outputs": [],
   "source": [
    "import numpy as np\n",
    "from numbers import Number\n",
    "\n",
    "for val in (4, 4.0, 4+0j, np.pi, '4', [4], False, 'sgdfg'):\n",
    "    print(val, type(val), isinstance(val, Number))"
   ]
  },
  {
   "cell_type": "code",
   "execution_count": null,
   "metadata": {},
   "outputs": [],
   "source": [
    "from fractions import Fraction"
   ]
  }
 ],
 "metadata": {
  "kernelspec": {
   "display_name": "openff-pdb-pr",
   "language": "python",
   "name": "python3"
  },
  "language_info": {
   "codemirror_mode": {
    "name": "ipython",
    "version": 3
   },
   "file_extension": ".py",
   "mimetype": "text/x-python",
   "name": "python",
   "nbconvert_exporter": "python",
   "pygments_lexer": "ipython3",
   "version": "3.11.5"
  },
  "orig_nbformat": 4
 },
 "nbformat": 4,
 "nbformat_minor": 2
}
