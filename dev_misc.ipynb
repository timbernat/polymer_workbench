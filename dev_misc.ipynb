{
 "cells": [
  {
   "cell_type": "markdown",
   "metadata": {},
   "source": [
    "# Development of miscellaneous new features for polymerist"
   ]
  },
  {
   "cell_type": "markdown",
   "metadata": {},
   "source": [
    "## Trying out `anytree`"
   ]
  },
  {
   "cell_type": "code",
   "execution_count": 1,
   "metadata": {},
   "outputs": [
    {
     "data": {
      "application/vnd.jupyter.widget-view+json": {
       "model_id": "69b5567181f84c5d8a7c967e0ae9beaa",
       "version_major": 2,
       "version_minor": 0
      },
      "text/plain": []
     },
     "metadata": {},
     "output_type": "display_data"
    },
    {
     "name": "stderr",
     "output_type": "stream",
     "text": [
      "[21:00:34] WARNING: not removing hydrogen atom with dummy atom neighbors\n",
      "No functional group SMARTS data from LUT found on system; regenerating from https://www.daylight.com/dayhtml_tutorials/languages/smarts/smarts_examples.html\n"
     ]
    },
    {
     "name": "stdout",
     "output_type": "stream",
     "text": [
      "├───decoder\n",
      "├───encoder\n",
      "├───scanner\n",
      "└───tool\n"
     ]
    }
   ],
   "source": [
    "import polymerist as ps\n",
    "from polymerist import genutils, polymerist, duration\n",
    "from polymerist.genutils import bits, typetools, importutils\n",
    "from polymerist.genutils.decorators.functional import allow_string_paths\n",
    "\n",
    "import json, math\n",
    "import pkgutil, importlib\n",
    "\n",
    "print(importutils.module_hierarchy(json))\n",
    "\n",
    "# from anytree import RenderTree, Node, AsciiStyle, ContStyle, ContRoundStyle, DoubleStyle"
   ]
  },
  {
   "cell_type": "markdown",
   "metadata": {},
   "source": [
    "### Test for paths"
   ]
  },
  {
   "cell_type": "code",
   "execution_count": 2,
   "metadata": {},
   "outputs": [],
   "source": [
    "from polymerist.genutils.treetools import AbstractNodeCorrespondence, compile_tree_factory, copy_tree\n",
    "\n",
    "from typing import Iterable, Optional\n",
    "from anytree import Node\n",
    "from pathlib import Path\n",
    "from polymerist.genutils.decorators.functional import allow_string_paths\n",
    "\n",
    "class PathToNodeCorrespondence(AbstractNodeCorrespondence, FROMTYPE=Path):\n",
    "    '''Concrete implementation of how to produce filetrees from pathlib Paths'''\n",
    "    def name(self, path : Path) -> str:\n",
    "        return path.name\n",
    "    \n",
    "    def has_children(self, path : Path) -> bool:\n",
    "        return path.is_dir()\n",
    "    \n",
    "    def children(self, path) -> Iterable[Path]:\n",
    "        return path.iterdir()\n",
    "    \n",
    "make_file_tree = allow_string_paths(compile_tree_factory(PathToNodeCorrespondence(), class_alias='directory', obj_attr_name='file'))\n",
    "# make_file_tree = compile_tree_factory(PathToNodeCorrespondence(), treename='directory')\n",
    "\n",
    "\n",
    "@allow_string_paths # an explicit implementation just to see what an AbstractNodeCorrespondence simplifies\n",
    "def file_tree(path : Path, max_depth : Optional[int]=None, _curr_depth : int=0) -> Node:\n",
    "    '''Compiled a directory tree from a toplevel path. \n",
    "    \n",
    "    Any subdirectories encountered will be expanded into their own tree,\n",
    "    up to the specified maximum depth or until exhaustion if max_depth=None'''\n",
    "    path_node = Node(\n",
    "        name=path.name,\n",
    "        file_path=path, # NOTE: can't name this attribute \"path\", as \"path\" is already an attribute fo the base Node class\n",
    "    )\n",
    "\n",
    "    if path.is_dir() and ( # recursively add subnodes IFF\n",
    "            (max_depth is None)             # 1) no depth limit is set, or\n",
    "            or (_curr_depth < max_depth)    # 2) a limit IS set, but hasn't been reached yet\n",
    "        ): \n",
    "        for subpath in path.iterdir():\n",
    "            subpath_node = file_tree(subpath, max_depth=max_depth, _curr_depth=_curr_depth+1)\n",
    "            subpath_node.parent = path_node\n",
    "\n",
    "    return path_node"
   ]
  },
  {
   "cell_type": "code",
   "execution_count": 5,
   "metadata": {},
   "outputs": [
    {
     "name": "stdout",
     "output_type": "stream",
     "text": [
      "polymerist\n",
      "├── genutils\n",
      "│   ├── typetools\n",
      "│   ├── decorators\n",
      "│   ├── textual\n",
      "│   ├── logutils\n",
      "│   ├── fileutils\n",
      "│   │   ╰── jsonio\n",
      "│   ╰── sequences\n",
      "│       ├── discernment\n",
      "│       ╰── similarity\n",
      "├── unitutils\n",
      "├── rdutils\n",
      "│   ├── bonding\n",
      "│   ├── labeling\n",
      "│   ├── reactions\n",
      "│   ╰── rdcoords\n",
      "├── mdtools\n",
      "│   ├── lammpstools\n",
      "│   ├── openfftools\n",
      "│   │   ├── solvation\n",
      "│   │   │   ╰── solvents\n",
      "│   │   ╰── partialcharge\n",
      "│   │       ╰── rescharge\n",
      "│   ╰── openmmtools\n",
      "├── maths\n",
      "│   ├── linearalg\n",
      "│   ├── greek\n",
      "│   ├── lattices\n",
      "│   ├── combinatorics\n",
      "│   ├── fractions\n",
      "│   ╰── numbersys\n",
      "├── tests\n",
      "├── analysis\n",
      "├── smileslib\n",
      "│   ╰── functgroups\n",
      "├── polymers\n",
      "│   ├── smidgelib\n",
      "│   ╰── monomers\n",
      "╰── graphics\n"
     ]
    }
   ],
   "source": [
    "import polymerist as ps\n",
    "from anytree.render import RenderTree, ContRoundStyle\n",
    "\n",
    "main_path = Path(ps.__file__).parent\n",
    "main_path = str(main_path)\n",
    "ft = make_file_tree(main_path, max_depth=None, stop=lambda path : path.is_file() or path.name == '__pycache__')\n",
    "# ct = copy_tree(ft, stop=lambda node : node.file.is_file() or node.file.name == '__pycache__')\n",
    "\n",
    "rt = RenderTree(ft, style=ContRoundStyle())\n",
    "print(rt.by_attr('name'))"
   ]
  },
  {
   "cell_type": "markdown",
   "metadata": {},
   "source": [
    "### Better typehinting for Filters"
   ]
  },
  {
   "cell_type": "code",
   "execution_count": null,
   "metadata": {},
   "outputs": [],
   "source": [
    "from typing import Any, Callable, Generic, NewType, TypeAlias, TypeVar\n",
    "from anytree.node import Node\n",
    "\n",
    "T = TypeVar('T')\n",
    "Filter : TypeAlias = Callable[[Any], bool]\n",
    "class Filter(Generic[T]):\n",
    "    def __call__(self, obj : T) -> bool:\n",
    "        return False\n",
    "\n",
    "NULL_FILTER : Filter = lambda inp : False # a filter which doesn't do anything (but has the right call signature)\n"
   ]
  },
  {
   "cell_type": "code",
   "execution_count": null,
   "metadata": {},
   "outputs": [],
   "source": [
    "def test(fil : Filter[int]) -> list[str]:\n",
    "    return ['a']\n",
    "\n",
    "help(test)"
   ]
  },
  {
   "cell_type": "code",
   "execution_count": null,
   "metadata": {},
   "outputs": [],
   "source": [
    "Filter[int]"
   ]
  },
  {
   "cell_type": "markdown",
   "metadata": {},
   "source": [
    "### Test for Python modules"
   ]
  },
  {
   "cell_type": "code",
   "execution_count": null,
   "metadata": {},
   "outputs": [],
   "source": [
    "from types import ModuleType\n",
    "from typing import Iterable, Optional, TypeAlias, Union\n",
    "\n",
    "import inspect\n",
    "import pkgutil\n",
    "import importlib, importlib.machinery\n",
    "from importlib.machinery import SourceFileLoader, FileFinder\n",
    "\n",
    "from pathlib import Path\n",
    "from anytree import Node\n",
    "\n",
    "\n",
    "# EXTRACTING INFO FROM A SINGLE IMPORTED MODULE\n",
    "def flexible_module_pass(module : Union[str, Path, ModuleType]) -> ModuleType:\n",
    "    '''Flexible interface for supplying a ModuleType object as an argument\n",
    "    Allows for passing a name (either module name or string path), Path location, or a module proper'''\n",
    "    if isinstance(module, ModuleType):\n",
    "        return module\n",
    "    elif isinstance(module, str):\n",
    "        pass\n",
    "    elif isinstance(module, Path):\n",
    "        pass\n",
    "    else:\n",
    "        raise TypeError(f'Cannot interpret object of type \"{type(module).__name__}\" as a module')\n",
    "\n",
    "def is_package(module : ModuleType) -> bool:\n",
    "    '''Check whether a Python module is a package (i.e. contains other importable modules within itself)'''\n",
    "    # module_spec = getattr(module, '__spec__', None) # this doesn't work when a string is passed in\n",
    "    module_spec = importlib.util.find_spec(module.__name__)\n",
    "    if module_spec is None:\n",
    "        raise ValueError(f'No ModuleSpec found for {module}')\n",
    "\n",
    "    module_loader = module_spec.loader\n",
    "    # module_loader = pkgutil.get_loader(module) # NOTE: while more compact than above, this function is slated for deprecation\n",
    "    if module_loader is None:\n",
    "        raise ValueError(f'No SourcefileLoader found for {module}')\n",
    "\n",
    "    return module_loader.is_package(module.__name__)\n",
    "\n",
    "# TODO : find way to get depth of submodule in toplevel (\"number of dots\" before standalone name)\n",
    "def relative_module_name(module : ModuleType, relative_to : Optional[ModuleType]=None, remove_leading_dot : bool=True) -> str:\n",
    "    '''Gets the name of a module relative to another (presumably toplevel) module\n",
    "    If the given module is not in the path of the toplevel module, will simply return as module.__name__'''\n",
    "    rel_mod_name = module.__name__\n",
    "    if relative_to is not None:\n",
    "        toplevel_prefix = relative_to.__name__\n",
    "        if remove_leading_dot:\n",
    "            toplevel_prefix += '.' # append dot to prefix to remove it later\n",
    "        rel_mod_name = rel_mod_name.removeprefix(toplevel_prefix)\n",
    "\n",
    "    return rel_mod_name\n",
    "\n",
    "\n",
    "# COMPILING MODULE TREES FOR FULL PACKAGES\n",
    "def module_tree(module : ModuleType, blacklist : Optional[Iterable[str]]=None, relative_to : Optional[ModuleType]=None, max_depth : Optional[int]=None, _curr_depth : int=0) -> Optional[Node]:\n",
    "    '''Create a tree for a module and all its submodules, to a set depth and with optional blacklisting by module name'''\n",
    "    if blacklist is None:\n",
    "        blacklist = []\n",
    "\n",
    "    # TODO: figure out way to get loader (or FileFinder?) for toplevel\n",
    "    module_is_pkg = is_package(module)\n",
    "    module_name = relative_module_name(module, relative_to=relative_to, remove_leading_dot=True)\n",
    "\n",
    "    module_node = Node(\n",
    "        name=module_name,\n",
    "        module=module,\n",
    "    )\n",
    "    if module_is_pkg and ( # recursively add subnodes IFF\n",
    "            (max_depth is None)             # 1) no depth limit is set, or\n",
    "            or (_curr_depth < max_depth)    # 2) a limit IS set, but hasn't been reached yet\n",
    "        ):\n",
    "        for (submodule_loader, submodule_name, sub_is_pkg) in pkgutil.iter_modules(module.__path__):\n",
    "            if submodule_name not in blacklist: # TOSELF: also worth checking the full __name__? (requires importing a potentially blacklisted module which isn't great)\n",
    "                submodule = importlib.import_module(f'.{submodule_name}', package=module.__package__)\n",
    "                submodule_node = module_tree(submodule, blacklist=blacklist, relative_to=module, max_depth=max_depth, _curr_depth=_curr_depth+1)\n",
    "                submodule_node.parent = module_node\n",
    "\n",
    "    return module_node\n"
   ]
  },
  {
   "cell_type": "code",
   "execution_count": null,
   "metadata": {},
   "outputs": [],
   "source": []
  },
  {
   "cell_type": "code",
   "execution_count": null,
   "metadata": {},
   "outputs": [],
   "source": [
    "from typing import Callable, Any\n",
    "\n",
    "Filter : TypeAlias = Callable[[Any], bool] # TODO: move this to somewhere in typetools\n",
    "NULL_FILTER : Filter = lambda inp : False # a filter which doesn't do anything (but has the right call signature)\n"
   ]
  },
  {
   "cell_type": "code",
   "execution_count": null,
   "metadata": {},
   "outputs": [],
   "source": []
  },
  {
   "cell_type": "code",
   "execution_count": null,
   "metadata": {},
   "outputs": [],
   "source": [
    "import json, math\n",
    "mods = (\n",
    "    ps,\n",
    "    polymerist, \n",
    "    genutils,\n",
    "    duration,\n",
    "    bits,\n",
    "    typetools,\n",
    "    json,\n",
    "    math,\n",
    ")\n",
    "\n",
    "for mod in mods:\n",
    "    print(mod.__name__, is_package(mod))\n",
    "    print('\\t', getattr(mod, '__file__', None), getattr(mod, '__path__', None))\n",
    "    mspec = mod.__spec__\n",
    "    par_mod = importlib.find_loader(mspec.parent).load_module()\n",
    "    print('\\t', mspec.origin, mspec.parent, mspec.name, relative_module_name(mod, relative_to=par_mod))"
   ]
  },
  {
   "cell_type": "code",
   "execution_count": null,
   "metadata": {},
   "outputs": [],
   "source": [
    "from anytree import RenderTree, Node, AsciiStyle, ContStyle, ContRoundStyle, DoubleStyle\n",
    "\n",
    "\n",
    "mt = module_tree(genutils, blacklist=('decorators',), max_depth=None, relative_to=ps)\n",
    "rt = RenderTree(mt)\n",
    "print(rt.by_attr('name'))"
   ]
  },
  {
   "cell_type": "code",
   "execution_count": null,
   "metadata": {},
   "outputs": [],
   "source": [
    "main_path = Path(ps.__file__).parent\n",
    "filetree = file_tree_from_path(main_path, max_depth=None)\n",
    "\n",
    "rt = RenderTree(filetree, style=ContRoundStyle())\n",
    "print(rt.by_attr('name'))"
   ]
  },
  {
   "cell_type": "code",
   "execution_count": null,
   "metadata": {},
   "outputs": [],
   "source": []
  },
  {
   "cell_type": "markdown",
   "metadata": {},
   "source": [
    "## Testing polymerist importability within environment"
   ]
  },
  {
   "cell_type": "code",
   "execution_count": null,
   "metadata": {},
   "outputs": [],
   "source": [
    "import numpy as np\n",
    "from openff.toolkit import Molecule, Topology, ForceField"
   ]
  },
  {
   "cell_type": "code",
   "execution_count": null,
   "metadata": {},
   "outputs": [],
   "source": [
    "import polymerist as ps\n",
    "from polymerist.genutils import pyimports, importutils\n",
    "\n",
    "import pandas as pd\n",
    "print(importutils.module_hierarchy(ps))"
   ]
  },
  {
   "cell_type": "code",
   "execution_count": null,
   "metadata": {},
   "outputs": [],
   "source": [
    "import nglview\n",
    "\n",
    "print(nglview.__version__)\n",
    "nglview.demo()"
   ]
  },
  {
   "cell_type": "code",
   "execution_count": null,
   "metadata": {},
   "outputs": [],
   "source": [
    "from polymerist.polymers.monomers import specification\n",
    "from rdkit import Chem\n",
    "\n",
    "smi = 'CCO-c1ccccc1-N=C=C'\n",
    "mol1 = Chem.MolFromSmiles(smi)\n",
    "display(mol1)\n",
    "\n",
    "sma = specification.expanded_SMILES(smi, assign_map_nums=True)\n",
    "exp_sma = specification.compliant_mol_SMARTS(sma)\n",
    "mol2 = Chem.MolFromSmarts(sma)\n",
    "display(mol2)\n"
   ]
  },
  {
   "cell_type": "code",
   "execution_count": null,
   "metadata": {},
   "outputs": [],
   "source": [
    "from openff.toolkit import Molecule\n",
    "\n",
    "offmol = Molecule.from_smiles(smi)\n",
    "offmol.generate_conformers(n_conformers=1)\n",
    "offmol.visualize(backend='nglview')"
   ]
  },
  {
   "cell_type": "markdown",
   "metadata": {},
   "source": [
    "## Dynamically reading all import statements in codebase"
   ]
  },
  {
   "cell_type": "code",
   "execution_count": null,
   "metadata": {},
   "outputs": [],
   "source": [
    "import polymerist as ps\n",
    "from polymerist.genutils import pyimports, importutils\n",
    "\n",
    "print(importutils.module_hierarchy(ps))"
   ]
  },
  {
   "cell_type": "code",
   "execution_count": null,
   "metadata": {},
   "outputs": [],
   "source": [
    "infos = pyimports.extract_imports_from_module(ps)\n",
    "\n",
    "df = pd.DataFrame.from_records([info.__dict__ for info in infos])\n",
    "df.to_csv('test.csv')"
   ]
  },
  {
   "cell_type": "code",
   "execution_count": null,
   "metadata": {},
   "outputs": [],
   "source": [
    "nonrel = [info for info in infos if not info.is_relative and info.parent_module is None]\n",
    "len(nonrel)"
   ]
  },
  {
   "cell_type": "code",
   "execution_count": null,
   "metadata": {},
   "outputs": [],
   "source": [
    "import sys\n",
    "\n",
    "imported_names = set(info.object_name for info in nonrel)\n",
    "imported_names\n",
    "\n",
    "registered_builtins = set(sys.builtin_module_names)\n",
    "registered_stdlibs = set(sys.stdlib_module_names)\n",
    "\n",
    "nb_imports = imported_names - registered_builtins - registered_stdlibs\n",
    "nb_imports"
   ]
  },
  {
   "cell_type": "markdown",
   "metadata": {},
   "source": [
    "# Another thing"
   ]
  },
  {
   "cell_type": "code",
   "execution_count": null,
   "metadata": {},
   "outputs": [],
   "source": [
    "import nglview\n",
    "\n",
    "nglview.demo()"
   ]
  },
  {
   "cell_type": "code",
   "execution_count": null,
   "metadata": {},
   "outputs": [],
   "source": []
  },
  {
   "cell_type": "code",
   "execution_count": null,
   "metadata": {},
   "outputs": [],
   "source": []
  }
 ],
 "metadata": {
  "kernelspec": {
   "display_name": "polymerist-env",
   "language": "python",
   "name": "python3"
  },
  "language_info": {
   "codemirror_mode": {
    "name": "ipython",
    "version": 3
   },
   "file_extension": ".py",
   "mimetype": "text/x-python",
   "name": "python",
   "nbconvert_exporter": "python",
   "pygments_lexer": "ipython3",
   "version": "3.11.0"
  }
 },
 "nbformat": 4,
 "nbformat_minor": 2
}
