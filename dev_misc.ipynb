{
 "cells": [
  {
   "cell_type": "markdown",
   "metadata": {},
   "source": [
    "# Development of miscellaneous new features for polymerist"
   ]
  },
  {
   "cell_type": "markdown",
   "metadata": {},
   "source": [
    "## Generic tree-like functionality"
   ]
  },
  {
   "cell_type": "markdown",
   "metadata": {},
   "source": [
    "### Test for Python modules"
   ]
  },
  {
   "cell_type": "code",
   "execution_count": 1,
   "metadata": {},
   "outputs": [],
   "source": [
    "import polymerist as ps\n",
    "from polymerist import rdutils, genutils\n",
    "\n",
    "from polymerist.genutils.importutils import module_hierarchy\n",
    "from polymerist.genutils.logutils.IOHandlers import submodule_loggers"
   ]
  },
  {
   "cell_type": "code",
   "execution_count": 4,
   "metadata": {},
   "outputs": [
    {
     "name": "stderr",
     "output_type": "stream",
     "text": [
      "[20:55:57] WARNING: not removing hydrogen atom with dummy atom neighbors\n"
     ]
    },
    {
     "name": "stdout",
     "output_type": "stream",
     "text": [
      "polymerist\n",
      "├── analysis\n",
      "│   ├── calculation\n",
      "│   └── mdtrajutils\n",
      "├── data\n",
      "├── genutils\n",
      "│   ├── attrs\n",
      "│   ├── bits\n",
      "│   ├── containers\n",
      "│   ├── decorators\n",
      "│   │   ├── classmod\n",
      "│   │   ├── functional\n",
      "│   │   ├── meta\n",
      "│   │   └── signatures\n",
      "│   ├── duration\n",
      "│   ├── fileutils\n",
      "│   │   ├── extensions\n",
      "│   │   ├── filetree\n",
      "│   │   ├── jsonio\n",
      "│   │   │   ├── jsonify\n",
      "│   │   │   ├── serialize\n",
      "│   │   │   └── update\n",
      "│   │   └── pathutils\n",
      "│   ├── filters\n",
      "│   ├── importutils\n",
      "│   │   ├── pkginspect\n",
      "│   │   ├── pkgiter\n",
      "│   │   └── pyimports\n",
      "│   ├── iteration\n",
      "│   ├── logutils\n",
      "│   │   ├── IOHandlers\n",
      "│   │   └── timestamps\n",
      "│   ├── sequences\n",
      "│   │   ├── discernment\n",
      "│   │   │   ├── enumeration\n",
      "│   │   │   ├── inventory\n",
      "│   │   │   └── strategies\n",
      "│   │   ├── seqops\n",
      "│   │   └── similarity\n",
      "│   │       ├── distances\n",
      "│   │       └── edits\n",
      "│   ├── textual\n",
      "│   │   ├── casing\n",
      "│   │   ├── delimiters\n",
      "│   │   ├── encoding\n",
      "│   │   ├── interpolation\n",
      "│   │   ├── ordinals\n",
      "│   │   ├── prettyprint\n",
      "│   │   └── strsearch\n",
      "│   ├── treetools\n",
      "│   │   ├── test_trees\n",
      "│   │   ├── treebase\n",
      "│   │   ├── treecopy\n",
      "│   │   └── treeviz\n",
      "│   └── typetools\n",
      "│       ├── categorical\n",
      "│       ├── numpytypes\n",
      "│       └── parametric\n",
      "├── graphics\n",
      "│   ├── colors\n",
      "│   ├── imageutils\n",
      "│   ├── named_colors\n",
      "│   └── plotutils\n",
      "├── maths\n",
      "│   ├── combinatorics\n",
      "│   │   ├── numbers\n",
      "│   │   ├── partitions\n",
      "│   │   └── permutations\n",
      "│   ├── fractions\n",
      "│   │   ├── continued\n",
      "│   │   └── ratios\n",
      "│   ├── greek\n",
      "│   │   ├── alphabet\n",
      "│   │   └── prefixes\n",
      "│   ├── lattices\n",
      "│   │   ├── bravais\n",
      "│   │   ├── coordinates\n",
      "│   │   └── integral\n",
      "│   ├── linearalg\n",
      "│   │   ├── affine\n",
      "│   │   └── decomposition\n",
      "│   ├── numbersys\n",
      "│   │   ├── commonbases\n",
      "│   │   └── positional\n",
      "│   ├── primes\n",
      "│   └── statistics\n",
      "├── mdtools\n",
      "│   ├── lammpstools\n",
      "│   │   ├── lammpseval\n",
      "│   │   └── unitstyles\n",
      "│   └── openmmtools\n",
      "│       ├── description\n",
      "│       ├── evaluation\n",
      "│       ├── execution\n",
      "│       ├── forcegroups\n",
      "│       ├── parameters\n",
      "│       ├── preparation\n",
      "│       ├── reporters\n",
      "│       ├── serialization\n",
      "│       └── thermo\n",
      "├── polymerist\n",
      "├── polymers\n",
      "│   ├── building\n",
      "│   ├── estimation\n",
      "│   ├── exceptions\n",
      "│   ├── monographs\n",
      "│   ├── monomers\n",
      "│   │   ├── conversion\n",
      "│   │   ├── repr\n",
      "│   │   └── specification\n",
      "│   └── smidgelib\n",
      "│       ├── smidgebonds\n",
      "│       ├── smidgeread\n",
      "│       └── smidgewrite\n",
      "├── rdutils\n",
      "│   ├── bonding\n",
      "│   │   ├── dissolution\n",
      "│   │   ├── formation\n",
      "│   │   ├── identification\n",
      "│   │   ├── permutation\n",
      "│   │   ├── portlib\n",
      "│   │   └── substitution\n",
      "│   ├── labeling\n",
      "│   │   ├── atomwise\n",
      "│   │   ├── bijection\n",
      "│   │   ├── bondwise\n",
      "│   │   └── molwise\n",
      "│   ├── rdconvert\n",
      "│   ├── rdcoords\n",
      "│   │   └── tiling\n",
      "│   ├── rderrors\n",
      "│   ├── rdgraphs\n",
      "│   ├── rdkdraw\n",
      "│   ├── rdprops\n",
      "│   └── reactions\n",
      "│       ├── assembly\n",
      "│       ├── fragment\n",
      "│       ├── reactexc\n",
      "│       ├── reactions\n",
      "│       └── reactors\n",
      "├── smileslib\n",
      "│   ├── chemdbqueries\n",
      "│   ├── functgroups\n",
      "│   │   └── records\n",
      "│   ├── primitives\n",
      "│   └── substructures\n",
      "├── tests\n",
      "│   ├── analysis\n",
      "│   ├── data\n",
      "│   ├── genutils\n",
      "│   │   ├── decorators\n",
      "│   │   ├── fileutils\n",
      "│   │   │   ├── jsonio\n",
      "│   │   │   └── test_filetree\n",
      "│   │   ├── logutils\n",
      "│   │   ├── sequences\n",
      "│   │   │   ├── discernment\n",
      "│   │   │   │   └── test_discernment\n",
      "│   │   │   └── similarity\n",
      "│   │   ├── test_attrs\n",
      "│   │   ├── test_pkginspect\n",
      "│   │   ├── textual\n",
      "│   │   ├── treetools\n",
      "│   │   └── typetools\n",
      "│   ├── graphics\n",
      "│   ├── maths\n",
      "│   │   ├── combinatorics\n",
      "│   │   ├── fractions\n",
      "│   │   ├── greek\n",
      "│   │   ├── lattices\n",
      "│   │   ├── linearalg\n",
      "│   │   └── numbersys\n",
      "│   ├── mdtools\n",
      "│   │   ├── lammpstools\n",
      "│   │   └── openmmtools\n",
      "│   ├── polymers\n",
      "│   │   ├── monomers\n",
      "│   │   └── smidgelib\n",
      "│   ├── rdutils\n",
      "│   │   ├── bonding\n",
      "│   │   ├── labeling\n",
      "│   │   ├── rdcoords\n",
      "│   │   └── reactions\n",
      "│   ├── smileslib\n",
      "│   │   └── functgroups\n",
      "│   ├── test_polymerist\n",
      "│   └── unitutils\n",
      "└── unitutils\n",
      "    ├── dimensions\n",
      "    ├── extraunits\n",
      "    ├── interop\n",
      "    ├── physconsts\n",
      "    └── unitstr\n"
     ]
    }
   ],
   "source": [
    "print(module_hierarchy(ps, blacklist=['openfftools']))"
   ]
  },
  {
   "cell_type": "markdown",
   "metadata": {},
   "source": [
    "## Testing polymerist importability within environment"
   ]
  },
  {
   "cell_type": "code",
   "execution_count": null,
   "metadata": {},
   "outputs": [],
   "source": [
    "import numpy as np\n",
    "from openff.toolkit import Molecule, Topology, ForceField"
   ]
  },
  {
   "cell_type": "code",
   "execution_count": null,
   "metadata": {},
   "outputs": [],
   "source": [
    "import polymerist as ps\n",
    "from polymerist.genutils import pyimports, importutils\n",
    "\n",
    "import pandas as pd\n",
    "print(importutils.module_hierarchy(ps))"
   ]
  },
  {
   "cell_type": "code",
   "execution_count": null,
   "metadata": {},
   "outputs": [],
   "source": [
    "import nglview\n",
    "\n",
    "print(nglview.__version__)\n",
    "nglview.demo()"
   ]
  },
  {
   "cell_type": "code",
   "execution_count": null,
   "metadata": {},
   "outputs": [],
   "source": [
    "from polymerist.polymers.monomers import specification\n",
    "from rdkit import Chem\n",
    "\n",
    "smi = 'CCO-c1ccccc1-N=C=C'\n",
    "mol1 = Chem.MolFromSmiles(smi)\n",
    "display(mol1)\n",
    "\n",
    "sma = specification.expanded_SMILES(smi, assign_map_nums=True)\n",
    "exp_sma = specification.compliant_mol_SMARTS(sma)\n",
    "mol2 = Chem.MolFromSmarts(sma)\n",
    "display(mol2)\n"
   ]
  },
  {
   "cell_type": "code",
   "execution_count": null,
   "metadata": {},
   "outputs": [],
   "source": [
    "from openff.toolkit import Molecule\n",
    "\n",
    "offmol = Molecule.from_smiles(smi)\n",
    "offmol.generate_conformers(n_conformers=1)\n",
    "offmol.visualize(backend='nglview')"
   ]
  },
  {
   "cell_type": "markdown",
   "metadata": {},
   "source": [
    "## Dynamically reading all import statements in codebase"
   ]
  },
  {
   "cell_type": "code",
   "execution_count": null,
   "metadata": {},
   "outputs": [],
   "source": [
    "import polymerist as ps\n",
    "from polymerist.genutils import pyimports, importutils\n",
    "\n",
    "print(importutils.module_hierarchy(ps))"
   ]
  },
  {
   "cell_type": "code",
   "execution_count": null,
   "metadata": {},
   "outputs": [],
   "source": [
    "infos = pyimports.extract_imports_from_module(ps)\n",
    "\n",
    "df = pd.DataFrame.from_records([info.__dict__ for info in infos])\n",
    "df.to_csv('test.csv')"
   ]
  },
  {
   "cell_type": "code",
   "execution_count": null,
   "metadata": {},
   "outputs": [],
   "source": [
    "nonrel = [info for info in infos if not info.is_relative and info.parent_module is None]\n",
    "len(nonrel)"
   ]
  },
  {
   "cell_type": "code",
   "execution_count": null,
   "metadata": {},
   "outputs": [],
   "source": [
    "import sys\n",
    "\n",
    "imported_names = set(info.object_name for info in nonrel)\n",
    "imported_names\n",
    "\n",
    "registered_builtins = set(sys.builtin_module_names)\n",
    "registered_stdlibs = set(sys.stdlib_module_names)\n",
    "\n",
    "nb_imports = imported_names - registered_builtins - registered_stdlibs\n",
    "nb_imports"
   ]
  },
  {
   "cell_type": "markdown",
   "metadata": {},
   "source": [
    "# Parsing lines from PDB file"
   ]
  },
  {
   "cell_type": "code",
   "execution_count": null,
   "metadata": {},
   "outputs": [],
   "source": [
    "l1 = 'ATOM    189  C99 OCT     5      39.590  30.100  38.320  1.00  0.00'           \n",
    "l2 = 'ATOM    190 C100 OCT     5      38.850  31.110  37.700  1.00  0.00'\n",
    "l3 = 'HETATM   47  H21 UNL     1       0.000   0.000   0.000  1.00  0.00           H '"
   ]
  },
  {
   "cell_type": "code",
   "execution_count": null,
   "metadata": {},
   "outputs": [],
   "source": [
    "from typing import Any\n",
    "\n",
    "PDB_ATOM_TOKEN_COLUMNS : dict[str, tuple[int, int]] = {\n",
    "    'Is Heteratom' : (1, 6),\n",
    "    'Atom serial number' : (7, 11),\n",
    "    'Atom name' : (13, 16),\n",
    "    'Alternate location indicator' : (17, 17),\n",
    "    'Residue name' : (18, 20),\n",
    "    'Chain identifier' : (22, 22),\n",
    "    'Residue sequence number' : (23, 26),\n",
    "    'Code for insertions of residues' : (27, 27),\n",
    "    'X (angstrom)' : (31, 38),\n",
    "    'Y (angstrom)' : (39, 46),\n",
    "    'Z (angstrom)' : (47, 54),\n",
    "    'Occupancy' : (55, 60),\n",
    "    'Temperature factor' : (61, 66),\n",
    "    'Segment identifier' : (73, 76),\n",
    "    'Element symbol' : (77, 78),\n",
    "    'Charge' : (79, 80),\n",
    "} # taken from PDB spec doc (https://www.cgl.ucsf.edu/chimera/docs/UsersGuide/tutorials/pdbintro.html)\n",
    "def tokenize_pdb_atom_line(line : str) -> dict[str, Any]:\n",
    "    line = line.ljust(80, ' ') # pad line to 80 characters with spaces\n",
    "    return {\n",
    "        prop_name : line[i_start-1:i_end]\n",
    "            for prop_name, (i_start, i_end) in PDB_ATOM_TOKEN_COLUMNS.items()\n",
    "    }\n",
    "\n",
    "\n",
    "for line in (l1, l2, l3):\n",
    "    print(tokenize_pdb_atom_line(line))"
   ]
  },
  {
   "cell_type": "markdown",
   "metadata": {},
   "source": [
    "# Another thing"
   ]
  },
  {
   "cell_type": "code",
   "execution_count": null,
   "metadata": {},
   "outputs": [],
   "source": [
    "import nglview\n",
    "\n",
    "nglview.demo()"
   ]
  },
  {
   "cell_type": "code",
   "execution_count": null,
   "metadata": {},
   "outputs": [],
   "source": []
  },
  {
   "cell_type": "code",
   "execution_count": null,
   "metadata": {},
   "outputs": [],
   "source": []
  }
 ],
 "metadata": {
  "kernelspec": {
   "display_name": "polymerist-dev",
   "language": "python",
   "name": "python3"
  },
  "language_info": {
   "codemirror_mode": {
    "name": "ipython",
    "version": 3
   },
   "file_extension": ".py",
   "mimetype": "text/x-python",
   "name": "python",
   "nbconvert_exporter": "python",
   "pygments_lexer": "ipython3",
   "version": "3.11.0"
  }
 },
 "nbformat": 4,
 "nbformat_minor": 2
}
