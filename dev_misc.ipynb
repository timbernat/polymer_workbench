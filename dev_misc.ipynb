{
 "cells": [
  {
   "cell_type": "code",
   "execution_count": 4,
   "metadata": {},
   "outputs": [
    {
     "name": "stdout",
     "output_type": "stream",
     "text": [
      "├───decoder\n",
      "├───encoder\n",
      "├───scanner\n",
      "└───tool\n",
      "True\n",
      "polymerist\n",
      "True\n",
      "/home/timber/Documents/Python/polymerist_dev/polymerist/build/__editable__.polymerist-1.0.0+542.g31f379e-py3-none-any/polymerist\n",
      "FAILED: polymerist contains no resource \"typetools\"\n",
      "==================================================\n",
      "True\n",
      "polymerist.polymerist\n",
      "False\n",
      "/home/timber/Documents/Python/polymerist_dev/polymerist/build/__editable__.polymerist-1.0.0+542.g31f379e-py3-none-any/polymerist\n",
      "FAILED: <module 'polymerist.polymerist' from '/home/timber/Documents/Python/polymerist_dev/polymerist/build/__editable__.polymerist-1.0.0+542.g31f379e-py3-none-any/polymerist/polymerist.py'> is not a package\n",
      "==================================================\n",
      "True\n",
      "polymerist.genutils\n",
      "True\n",
      "/home/timber/Documents/Python/polymerist_dev/polymerist/build/__editable__.polymerist-1.0.0+542.g31f379e-py3-none-any/polymerist/genutils\n",
      "/home/timber/Documents/Python/polymerist_dev/polymerist/build/__editable__.polymerist-1.0.0+542.g31f379e-py3-none-any/polymerist/genutils/typetools\n",
      "==================================================\n",
      "True\n",
      "polymerist.duration\n",
      "False\n",
      "/home/timber/Documents/Python/polymerist_dev/polymerist/build/__editable__.polymerist-1.0.0+542.g31f379e-py3-none-any/polymerist\n",
      "FAILED: <module 'polymerist.duration' from '/home/timber/Documents/Python/polymerist_dev/polymerist/build/__editable__.polymerist-1.0.0+542.g31f379e-py3-none-any/polymerist/duration.py'> is not a package\n",
      "==================================================\n",
      "True\n",
      "polymerist.genutils.bits\n",
      "False\n",
      "/home/timber/Documents/Python/polymerist_dev/polymerist/build/__editable__.polymerist-1.0.0+542.g31f379e-py3-none-any/polymerist/genutils\n",
      "FAILED: <module 'polymerist.genutils.bits' from '/home/timber/Documents/Python/polymerist_dev/polymerist/build/__editable__.polymerist-1.0.0+542.g31f379e-py3-none-any/polymerist/genutils/bits.py'> is not a package\n",
      "==================================================\n",
      "True\n",
      "polymerist.genutils.typetools\n",
      "True\n",
      "/home/timber/Documents/Python/polymerist_dev/polymerist/build/__editable__.polymerist-1.0.0+542.g31f379e-py3-none-any/polymerist/genutils/typetools\n",
      "FAILED: polymerist.genutils.typetools contains no resource \"typetools\"\n",
      "==================================================\n",
      "True\n",
      "json\n",
      "True\n",
      "/home/timber/miniconda3/envs/polymerist-editable/lib/python3.11/json\n",
      "FAILED: json contains no resource \"typetools\"\n",
      "==================================================\n",
      "True\n",
      "polymerist.tests\n",
      "True\n",
      "/home/timber/Documents/Python/polymerist_dev/polymerist/build/__editable__.polymerist-1.0.0+542.g31f379e-py3-none-any/polymerist/tests\n",
      "FAILED: polymerist.tests contains no resource \"typetools\"\n",
      "==================================================\n",
      "True\n",
      "math\n",
      "False\n",
      "/home/timber/miniconda3/envs/polymerist-editable/lib/python3.11/lib-dynload\n",
      "FAILED: <module 'math' from '/home/timber/miniconda3/envs/polymerist-editable/lib/python3.11/lib-dynload/math.cpython-311-x86_64-linux-gnu.so'> is not a package\n",
      "==================================================\n"
     ]
    }
   ],
   "source": [
    "import polymerist as ps\n",
    "from polymerist import genutils, polymerist, duration, tests\n",
    "from polymerist.genutils import bits, typetools, importutils\n",
    "from polymerist.genutils.decorators.functional import allow_string_paths\n",
    "\n",
    "from polymerist.genutils.pkginspect import is_module, is_package, get_dir_path_within_package, from_package\n",
    "\n",
    "import json, math\n",
    "import pkgutil, importlib\n",
    "\n",
    "print(importutils.module_hierarchy(json))\n",
    "import json, math\n",
    "mods = (\n",
    "    ps,\n",
    "    polymerist, \n",
    "    genutils,\n",
    "    duration,\n",
    "    bits,\n",
    "    typetools,\n",
    "    json,\n",
    "    tests,\n",
    "    math,\n",
    ")\n",
    "\n",
    "for mod in mods:\n",
    "    print(is_module(mod))\n",
    "    print(mod.__name__)\n",
    "    print(is_package(mod))\n",
    "    print(from_package(mod))\n",
    "\n",
    "    try:\n",
    "        print(get_dir_path_within_package('typetools', mod))\n",
    "    except Exception as e:\n",
    "        print(f'FAILED: {e!s}')\n",
    "    \n",
    "    print('='*50)"
   ]
  },
  {
   "cell_type": "markdown",
   "metadata": {},
   "source": [
    "# Development of miscellaneous new features for polymerist"
   ]
  },
  {
   "cell_type": "markdown",
   "metadata": {},
   "source": [
    "### Test for paths"
   ]
  },
  {
   "cell_type": "code",
   "execution_count": null,
   "metadata": {},
   "outputs": [],
   "source": [
    "from polymerist.genutils.filters import ALWAYS_FALSE_FILTER, ALWAYS_TRUE_FILTER\n",
    "from polymerist.genutils.treetools.treecopy import copy_tree\n",
    "from polymerist.genutils.treetools.treeinter import AbstractNodeCorrespondence, compile_tree_factory\n",
    "\n",
    "from typing import Iterable, Optional\n",
    "from anytree import Node\n",
    "from pathlib import Path\n",
    "from polymerist.genutils.decorators.functional import allow_string_paths\n",
    "\n",
    "class PathToNodeCorrespondence(AbstractNodeCorrespondence, FROMTYPE=Path):\n",
    "    '''Concrete implementation of how to produce filetrees from pathlib Paths'''\n",
    "    def name(self, path : Path) -> str:\n",
    "        return path.name\n",
    "    \n",
    "    def has_children(self, path : Path) -> bool:\n",
    "        return path.is_dir()\n",
    "    \n",
    "    def children(self, path) -> Iterable[Path]:\n",
    "        return path.iterdir()\n",
    "    \n",
    "make_file_tree = allow_string_paths(compile_tree_factory(PathToNodeCorrespondence(), class_alias='directory', obj_attr_name='file'))\n",
    "# make_file_tree = compile_tree_factory(PathToNodeCorrespondence(), treename='directory')\n",
    "\n",
    "\n",
    "@allow_string_paths # an explicit implementation just to see what an AbstractNodeCorrespondence simplifies\n",
    "def file_tree(path : Path, max_depth : Optional[int]=None, _curr_depth : int=0) -> Node:\n",
    "    '''Compiled a directory tree from a toplevel path. \n",
    "    \n",
    "    Any subdirectories encountered will be expanded into their own tree,\n",
    "    up to the specified maximum depth or until exhaustion if max_depth=None'''\n",
    "    path_node = Node(\n",
    "        name=path.name,\n",
    "        file_path=path, # NOTE: can't name this attribute \"path\", as \"path\" is already an attribute fo the base Node class\n",
    "    )\n",
    "\n",
    "    if path.is_dir() and ( # recursively add subnodes IFF\n",
    "            (max_depth is None)             # 1) no depth limit is set, or\n",
    "            or (_curr_depth < max_depth)    # 2) a limit IS set, but hasn't been reached yet\n",
    "        ): \n",
    "        for subpath in path.iterdir():\n",
    "            subpath_node = file_tree(subpath, max_depth=max_depth, _curr_depth=_curr_depth+1)\n",
    "            subpath_node.parent = path_node\n",
    "\n",
    "    return path_node"
   ]
  },
  {
   "cell_type": "code",
   "execution_count": null,
   "metadata": {},
   "outputs": [],
   "source": [
    "import polymerist as ps\n",
    "from anytree.render import RenderTree, ContRoundStyle\n",
    "\n",
    "# main_path = Path('.')\n",
    "main_path = Path(ps.__file__).parent\n",
    "main_path = str(main_path)\n",
    "ft = make_file_tree(main_path, max_depth=None, exclude=lambda path : path.is_file() or path.name == '__pycache__')\n",
    "# ct = copy_tree(ft, stop=lambda node : node.file.is_file() or node.file.name == '__pycache__')\n",
    "\n",
    "rt_file = RenderTree(ft, style=ContRoundStyle())\n",
    "print(rt_file.by_attr('name'))"
   ]
  },
  {
   "cell_type": "markdown",
   "metadata": {},
   "source": [
    "### Unit tests"
   ]
  },
  {
   "cell_type": "code",
   "execution_count": null,
   "metadata": {},
   "outputs": [],
   "source": [
    "from polymerist.genutils.attrs import compile_argfree_getable_attrs\n",
    "\n",
    "class Test():\n",
    "    '''Dummy class for testing that dynamic attribute inspection works properly'''\n",
    "    FOO = 'bar'\n",
    "\n",
    "    def __init__(self, answer : int=42, spam : str='eggs') -> None:\n",
    "        self.answer = answer\n",
    "        self.spam = spam\n",
    "\n",
    "    @classmethod\n",
    "    def get_foo(cls) -> str:\n",
    "        return cls.FOO\n",
    "    \n",
    "    def get_answer(self) -> int:\n",
    "        return self.answer\n",
    "\n",
    "    def _get_spam(self) -> int:\n",
    "        return self.spam\n",
    "\n",
    "def test_compile_argfree_getable_attrs():\n",
    "    t = Test()"
   ]
  },
  {
   "cell_type": "code",
   "execution_count": null,
   "metadata": {},
   "outputs": [],
   "source": [
    "t = Test(answer=56)\n",
    "\n",
    "compile_argfree_getable_attrs(t, getter_str='get')"
   ]
  },
  {
   "cell_type": "markdown",
   "metadata": {},
   "source": [
    "### Test for Python modules"
   ]
  },
  {
   "cell_type": "code",
   "execution_count": null,
   "metadata": {},
   "outputs": [],
   "source": [
    "import polymerist as ps\n",
    "from polymerist import genutils, polymerist, duration\n",
    "from polymerist.genutils import bits, typetools, importutils\n",
    "from polymerist.genutils.decorators.functional import allow_string_paths\n",
    "\n",
    "import json, math\n",
    "import pkgutil, importlib\n",
    "\n",
    "print(importutils.module_hierarchy(json))\n",
    "\n",
    "# from anytree import RenderTree, Node, AsciiStyle, ContStyle, ContRoundStyle, DoubleStyle"
   ]
  },
  {
   "cell_type": "code",
   "execution_count": null,
   "metadata": {},
   "outputs": [],
   "source": [
    "from types import ModuleType\n",
    "from typing import Iterable, Optional, TypeAlias, Union\n",
    "\n",
    "import inspect\n",
    "import pkgutil\n",
    "import importlib, importlib.machinery\n",
    "from importlib.machinery import SourceFileLoader, FileFinder\n",
    "\n",
    "from pathlib import Path\n",
    "from anytree import Node\n",
    "\n",
    "\n",
    "# EXTRACTING INFO FROM A SINGLE IMPORTED MODULE\n",
    "def flexible_module_pass(module : Union[str, Path, ModuleType]) -> ModuleType:\n",
    "    '''Flexible interface for supplying a ModuleType object as an argument\n",
    "    Allows for passing a name (either module name or string path), Path location, or a module proper'''\n",
    "    if isinstance(module, ModuleType):\n",
    "        return module\n",
    "    elif isinstance(module, str):\n",
    "        raise NotImplementedError\n",
    "    elif isinstance(module, Path):\n",
    "        raise NotImplementedError\n",
    "    else:\n",
    "        raise TypeError(f'Cannot interpret object of type \"{type(module).__name__}\" as a module')\n",
    "\n",
    "def is_package(module : ModuleType) -> bool:\n",
    "    '''Check whether a Python module is a package (i.e. contains other importable modules within itself)'''\n",
    "    # module_spec = getattr(module, '__spec__', None) # this doesn't work when a string is passed in\n",
    "    module_spec = importlib.util.find_spec(module.__name__)\n",
    "    if module_spec is None:\n",
    "        raise ValueError(f'No ModuleSpec found for {module}')\n",
    "\n",
    "    module_loader = module_spec.loader\n",
    "    # module_loader = pkgutil.get_loader(module) # NOTE: while more compact than above, this function is slated for deprecation\n",
    "    if module_loader is None:\n",
    "        raise ValueError(f'No SourcefileLoader found for {module}')\n",
    "\n",
    "    return module_loader.is_package(module.__name__)\n",
    "\n",
    "# TODO : find way to get depth of submodule in toplevel (\"number of dots\" before standalone name)\n",
    "def relative_module_name(module : ModuleType, relative_to : Optional[ModuleType]=None, remove_leading_dot : bool=True) -> str:\n",
    "    '''Gets the name of a module relative to another (presumably toplevel) module\n",
    "    If the given module is not in the path of the toplevel module, will simply return as module.__name__'''\n",
    "    rel_mod_name = module.__name__\n",
    "    if relative_to is not None:\n",
    "        toplevel_prefix = relative_to.__name__\n",
    "        if remove_leading_dot:\n",
    "            toplevel_prefix += '.' # append dot to prefix to remove it later\n",
    "        rel_mod_name = rel_mod_name.removeprefix(toplevel_prefix)\n",
    "\n",
    "    return rel_mod_name\n",
    "\n",
    "\n",
    "# COMPILING MODULE TREES FOR FULL PACKAGES\n",
    "def module_tree(module : ModuleType, blacklist : Optional[Iterable[str]]=None, relative_to : Optional[ModuleType]=None, max_depth : Optional[int]=None, _curr_depth : int=0) -> Optional[Node]:\n",
    "    '''Create a tree for a module and all its submodules, to a set depth and with optional blacklisting by module name'''\n",
    "    if blacklist is None:\n",
    "        blacklist = []\n",
    "\n",
    "    # TODO: figure out way to get loader (or FileFinder?) for toplevel\n",
    "    module_is_pkg = is_package(module)\n",
    "    module_name = relative_module_name(module, relative_to=relative_to, remove_leading_dot=True)\n",
    "\n",
    "    module_node = Node(\n",
    "        name=module_name,\n",
    "        module=module,\n",
    "    )\n",
    "    if module_is_pkg and ( # recursively add subnodes IFF\n",
    "            (max_depth is None)             # 1) no depth limit is set, or\n",
    "            or (_curr_depth < max_depth)    # 2) a limit IS set, but hasn't been reached yet\n",
    "        ):\n",
    "        for (submodule_loader, submodule_name, sub_is_pkg) in pkgutil.iter_modules(module.__path__):\n",
    "            if submodule_name not in blacklist: # TOSELF: also worth checking the full __name__? (requires importing a potentially blacklisted module which isn't great)\n",
    "                submodule = importlib.import_module(f'.{submodule_name}', package=module.__package__)\n",
    "                submodule_node = module_tree(submodule, blacklist=blacklist, relative_to=module, max_depth=max_depth, _curr_depth=_curr_depth+1)\n",
    "                submodule_node.parent = module_node\n",
    "\n",
    "    return module_node\n"
   ]
  },
  {
   "cell_type": "code",
   "execution_count": null,
   "metadata": {},
   "outputs": [],
   "source": [
    "import json, math\n",
    "mods = (\n",
    "    ps,\n",
    "    polymerist, \n",
    "    genutils,\n",
    "    duration,\n",
    "    bits,\n",
    "    typetools,\n",
    "    json,\n",
    "    math,\n",
    ")\n",
    "\n",
    "for mod in mods:\n",
    "    print(mod.__name__, is_package(mod))\n",
    "    print('\\t', getattr(mod, '__file__', None), getattr(mod, '__path__', None))\n",
    "    mspec = mod.__spec__\n",
    "    par_mod = importlib.find_loader(mspec.parent).load_module()\n",
    "    print('\\t', mspec.origin, mspec.parent, mspec.name, relative_module_name(mod, relative_to=par_mod))"
   ]
  },
  {
   "cell_type": "code",
   "execution_count": null,
   "metadata": {},
   "outputs": [],
   "source": [
    "from anytree import RenderTree, Node, AsciiStyle, ContStyle, ContRoundStyle, DoubleStyle\n",
    "\n",
    "\n",
    "mt = module_tree(ps, blacklist=('decorators',), max_depth=None, relative_to=ps)\n",
    "cmt = copy_tree(mt, stop=lambda node : not is_package(node.module))\n",
    "rt_mod = RenderTree(cmt)\n",
    "rt_mod_str = rt_mod.by_attr('name')\n",
    "\n",
    "with Path('packages.txt').open('w') as file:\n",
    "    file.write(rt_mod_str)\n",
    "print(rt_mod_str)"
   ]
  },
  {
   "cell_type": "code",
   "execution_count": null,
   "metadata": {},
   "outputs": [],
   "source": [
    "copm = copy_tree(mt, stop=lambda node : not is_package(node.module), attr_filter=lambda attr : attr != 'module')\n",
    "print(RenderTree(copm).by_attr('name'))"
   ]
  },
  {
   "cell_type": "code",
   "execution_count": null,
   "metadata": {},
   "outputs": [],
   "source": [
    "copf = copy_tree(ft, attr_filter=lambda attr : attr != 'file')\n",
    "print(RenderTree(copf).by_attr('name'))"
   ]
  },
  {
   "cell_type": "code",
   "execution_count": null,
   "metadata": {},
   "outputs": [],
   "source": [
    "from anytree.exporter import DictExporter, DotExporter, JsonExporter\n",
    "\n",
    "dexp = DictExporter()\n",
    "jexp =JsonExporter(indent=4, sort_keys=True)\n",
    "mod_dict = dexp.export(copm)\n",
    "fil_dict = dexp.export(copf)"
   ]
  },
  {
   "cell_type": "code",
   "execution_count": null,
   "metadata": {},
   "outputs": [],
   "source": [
    "linem = set(l for l in DotExporter(copm))\n",
    "linef = set(l for l in DotExporter(copf))"
   ]
  },
  {
   "cell_type": "code",
   "execution_count": null,
   "metadata": {},
   "outputs": [],
   "source": [
    "rt_file_str = rt_file.by_attr('name')\n",
    "with Path('directories.txt').open('w') as file:\n",
    "    file.write(rt_file_str)\n",
    "print(rt_file_str)"
   ]
  },
  {
   "cell_type": "code",
   "execution_count": null,
   "metadata": {},
   "outputs": [],
   "source": [
    "from polymerist import tests"
   ]
  },
  {
   "cell_type": "code",
   "execution_count": null,
   "metadata": {},
   "outputs": [],
   "source": [
    "import importlib.resources\n",
    "\n",
    "\n",
    "p = importlib.resources.files(tests)\n",
    "p.exists()"
   ]
  },
  {
   "cell_type": "code",
   "execution_count": null,
   "metadata": {},
   "outputs": [],
   "source": [
    "from polymerist import data"
   ]
  },
  {
   "cell_type": "code",
   "execution_count": null,
   "metadata": {},
   "outputs": [],
   "source": [
    "[f.name for f in p.iterdir()]"
   ]
  },
  {
   "cell_type": "code",
   "execution_count": null,
   "metadata": {},
   "outputs": [],
   "source": []
  },
  {
   "cell_type": "code",
   "execution_count": null,
   "metadata": {},
   "outputs": [],
   "source": [
    "from anytree.iterators import LevelOrderIter, LevelOrderGroupIter\n",
    "\n",
    "cft = copy_tree(ft, stop=lambda node : node.file.is_file())\n",
    "cft\n",
    "\n",
    "root_path = Path(cft.file) # need to make a clopy of this, as the root node's path will be mutated by the subsequent resolution\n",
    "for node in LevelOrderIter(cft):\n",
    "    node.file = node.file.relative_to(root_path)\n",
    "    \n",
    "    name = node.file.name\n",
    "    if node.parent is not None:\n",
    "        node.file = node.parent.file / f'{name}'\n",
    "    \n",
    "    asb_path = Path('polymerist/polymerist/tests') / node.file\n",
    "    asb_path.mkdir(exist_ok=True)\n",
    "\n",
    "    if node.is_root:\n",
    "        continue\n",
    "    init_path = asb_path / '__init__.py'\n",
    "    with init_path.open('w') as file:\n",
    "        file.write(f\"'''Unit tests for `{name}` package'''\")"
   ]
  },
  {
   "cell_type": "code",
   "execution_count": null,
   "metadata": {},
   "outputs": [],
   "source": [
    "from polymerist.genutils.fileutils import pathutils"
   ]
  },
  {
   "cell_type": "code",
   "execution_count": null,
   "metadata": {},
   "outputs": [],
   "source": [
    "root_path.with_name('foo')"
   ]
  },
  {
   "cell_type": "code",
   "execution_count": null,
   "metadata": {},
   "outputs": [],
   "source": [
    "print(RenderTree(cft))"
   ]
  },
  {
   "cell_type": "code",
   "execution_count": null,
   "metadata": {},
   "outputs": [],
   "source": [
    "main_path = Path(ps.__file__).parent\n",
    "filetree = file_tree_from_path(main_path, max_depth=None)\n",
    "\n",
    "rt = RenderTree(filetree, style=ContRoundStyle())\n",
    "print(rt.by_attr('name'))"
   ]
  },
  {
   "cell_type": "code",
   "execution_count": null,
   "metadata": {},
   "outputs": [],
   "source": []
  },
  {
   "cell_type": "markdown",
   "metadata": {},
   "source": [
    "## Testing polymerist importability within environment"
   ]
  },
  {
   "cell_type": "code",
   "execution_count": null,
   "metadata": {},
   "outputs": [],
   "source": [
    "import numpy as np\n",
    "from openff.toolkit import Molecule, Topology, ForceField"
   ]
  },
  {
   "cell_type": "code",
   "execution_count": null,
   "metadata": {},
   "outputs": [],
   "source": [
    "import polymerist as ps\n",
    "from polymerist.genutils import pyimports, importutils\n",
    "\n",
    "import pandas as pd\n",
    "print(importutils.module_hierarchy(ps))"
   ]
  },
  {
   "cell_type": "code",
   "execution_count": null,
   "metadata": {},
   "outputs": [],
   "source": [
    "import nglview\n",
    "\n",
    "print(nglview.__version__)\n",
    "nglview.demo()"
   ]
  },
  {
   "cell_type": "code",
   "execution_count": null,
   "metadata": {},
   "outputs": [],
   "source": [
    "from polymerist.polymers.monomers import specification\n",
    "from rdkit import Chem\n",
    "\n",
    "smi = 'CCO-c1ccccc1-N=C=C'\n",
    "mol1 = Chem.MolFromSmiles(smi)\n",
    "display(mol1)\n",
    "\n",
    "sma = specification.expanded_SMILES(smi, assign_map_nums=True)\n",
    "exp_sma = specification.compliant_mol_SMARTS(sma)\n",
    "mol2 = Chem.MolFromSmarts(sma)\n",
    "display(mol2)\n"
   ]
  },
  {
   "cell_type": "code",
   "execution_count": null,
   "metadata": {},
   "outputs": [],
   "source": [
    "from openff.toolkit import Molecule\n",
    "\n",
    "offmol = Molecule.from_smiles(smi)\n",
    "offmol.generate_conformers(n_conformers=1)\n",
    "offmol.visualize(backend='nglview')"
   ]
  },
  {
   "cell_type": "markdown",
   "metadata": {},
   "source": [
    "## Dynamically reading all import statements in codebase"
   ]
  },
  {
   "cell_type": "code",
   "execution_count": null,
   "metadata": {},
   "outputs": [],
   "source": [
    "import polymerist as ps\n",
    "from polymerist.genutils import pyimports, importutils\n",
    "\n",
    "print(importutils.module_hierarchy(ps))"
   ]
  },
  {
   "cell_type": "code",
   "execution_count": null,
   "metadata": {},
   "outputs": [],
   "source": [
    "infos = pyimports.extract_imports_from_module(ps)\n",
    "\n",
    "df = pd.DataFrame.from_records([info.__dict__ for info in infos])\n",
    "df.to_csv('test.csv')"
   ]
  },
  {
   "cell_type": "code",
   "execution_count": null,
   "metadata": {},
   "outputs": [],
   "source": [
    "nonrel = [info for info in infos if not info.is_relative and info.parent_module is None]\n",
    "len(nonrel)"
   ]
  },
  {
   "cell_type": "code",
   "execution_count": null,
   "metadata": {},
   "outputs": [],
   "source": [
    "import sys\n",
    "\n",
    "imported_names = set(info.object_name for info in nonrel)\n",
    "imported_names\n",
    "\n",
    "registered_builtins = set(sys.builtin_module_names)\n",
    "registered_stdlibs = set(sys.stdlib_module_names)\n",
    "\n",
    "nb_imports = imported_names - registered_builtins - registered_stdlibs\n",
    "nb_imports"
   ]
  },
  {
   "cell_type": "markdown",
   "metadata": {},
   "source": [
    "# Another thing"
   ]
  },
  {
   "cell_type": "code",
   "execution_count": null,
   "metadata": {},
   "outputs": [],
   "source": [
    "import nglview\n",
    "\n",
    "nglview.demo()"
   ]
  },
  {
   "cell_type": "code",
   "execution_count": null,
   "metadata": {},
   "outputs": [],
   "source": []
  },
  {
   "cell_type": "code",
   "execution_count": null,
   "metadata": {},
   "outputs": [],
   "source": []
  }
 ],
 "metadata": {
  "kernelspec": {
   "display_name": "polymerist-env",
   "language": "python",
   "name": "python3"
  },
  "language_info": {
   "codemirror_mode": {
    "name": "ipython",
    "version": 3
   },
   "file_extension": ".py",
   "mimetype": "text/x-python",
   "name": "python",
   "nbconvert_exporter": "python",
   "pygments_lexer": "ipython3",
   "version": "3.11.0"
  }
 },
 "nbformat": 4,
 "nbformat_minor": 2
}
