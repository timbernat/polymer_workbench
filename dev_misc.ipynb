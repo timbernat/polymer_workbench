{
 "cells": [
  {
   "cell_type": "markdown",
   "metadata": {},
   "source": [
    "# Development of miscellaneous new features for polymerist"
   ]
  },
  {
   "cell_type": "markdown",
   "metadata": {},
   "source": [
    "## Testing polymerist importability within environment"
   ]
  },
  {
   "cell_type": "code",
   "execution_count": null,
   "metadata": {},
   "outputs": [],
   "source": [
    "import polymerist as ps\n",
    "\n",
    "print(ps.__version__)\n",
    "print(ps.pascal(5))"
   ]
  },
  {
   "cell_type": "code",
   "execution_count": null,
   "metadata": {},
   "outputs": [],
   "source": [
    "from polymerist.mdtools import openfftools\n",
    "\n",
    "openfftools.POLYMERIST_TOOLKIT_REGISTRY.registered_toolkits"
   ]
  },
  {
   "cell_type": "code",
   "execution_count": null,
   "metadata": {},
   "outputs": [],
   "source": [
    "import polymerist as ps\n",
    "from polymerist.genutils.importutils import pyimports, module_hierarchy\n",
    "\n",
    "print(module_hierarchy(ps))"
   ]
  },
  {
   "cell_type": "code",
   "execution_count": null,
   "metadata": {},
   "outputs": [],
   "source": [
    "import nglview\n",
    "\n",
    "print(nglview.__version__)\n",
    "nglview.demo()"
   ]
  },
  {
   "cell_type": "code",
   "execution_count": null,
   "metadata": {},
   "outputs": [],
   "source": [
    "from polymerist.polymers.monomers import specification\n",
    "from rdkit import Chem\n",
    "\n",
    "smi = 'CCO-c1ccccc1-N=C=C'\n",
    "mol1 = Chem.MolFromSmiles(smi)\n",
    "display(mol1)\n",
    "\n",
    "sma = specification.expanded_SMILES(smi, assign_map_nums=True)\n",
    "exp_sma = specification.compliant_mol_SMARTS(sma)\n",
    "mol2 = Chem.MolFromSmarts(sma)\n",
    "display(mol2)\n"
   ]
  },
  {
   "cell_type": "code",
   "execution_count": null,
   "metadata": {},
   "outputs": [],
   "source": [
    "import numpy as np\n",
    "import pandas as pd\n",
    "\n",
    "from openff.toolkit import Molecule, Topology, ForceField\n",
    "\n",
    "offmol = Molecule.from_smiles(smi)\n",
    "offmol.generate_conformers(n_conformers=1)\n",
    "offmol.visualize(backend='nglview')"
   ]
  },
  {
   "cell_type": "markdown",
   "metadata": {},
   "source": [
    "## Experimenting with Protocols"
   ]
  },
  {
   "cell_type": "code",
   "execution_count": null,
   "metadata": {},
   "outputs": [],
   "source": [
    "from typing import Protocol, runtime_checkable\n",
    "from dataclasses import dataclass\n",
    "\n",
    "\n",
    "@runtime_checkable\n",
    "class Nominative(Protocol):\n",
    "    def name(self) -> str:\n",
    "        ...\n",
    "        \n",
    "class Foo(Nominative):\n",
    "    def __init__(self, letter : str):\n",
    "        self.letter = letter\n",
    "        \n",
    "    def name(self) -> str:\n",
    "        return self.letter*3\n",
    "\n",
    "@dataclass\n",
    "class Bar:\n",
    "    id : int\n",
    "    \n",
    "    def name(self) -> str:\n",
    "        return f'{type(self).__name__}{self.id}'\n",
    "    \n",
    "@dataclass\n",
    "class Baz:\n",
    "    id : int\n",
    "    \n",
    "    def nombre(self) -> str:\n",
    "        return 'name'"
   ]
  },
  {
   "cell_type": "code",
   "execution_count": null,
   "metadata": {},
   "outputs": [],
   "source": [
    "classes = (Foo, Bar, Baz)\n",
    "a = Foo('a')\n",
    "b = Bar(2)\n",
    "c = Baz(3)\n",
    "instances = (a, b, c)"
   ]
  },
  {
   "cell_type": "code",
   "execution_count": null,
   "metadata": {},
   "outputs": [],
   "source": [
    "for typ in classes:\n",
    "    print(typ, issubclass(typ, Nominative))"
   ]
  },
  {
   "cell_type": "code",
   "execution_count": null,
   "metadata": {},
   "outputs": [],
   "source": [
    "for inst in instances:\n",
    "    print(inst, isinstance(inst, Nominative))"
   ]
  },
  {
   "cell_type": "markdown",
   "metadata": {},
   "source": [
    "## Testing that reactant pathfinding for AnnotatedReaction works as intended"
   ]
  },
  {
   "cell_type": "code",
   "execution_count": null,
   "metadata": {},
   "outputs": [],
   "source": [
    "from polymerist.rdutils.reactions.reactions import AnnotatedReaction\n",
    "from polymerist.rdutils import rdkdraw\n",
    "\n",
    "rdkdraw.disable_substruct_highlights()\n",
    "\n",
    "from rdkit import Chem"
   ]
  },
  {
   "cell_type": "code",
   "execution_count": null,
   "metadata": {},
   "outputs": [],
   "source": [
    "from rdkit import Chem\n",
    "\n",
    "mol = Chem.MolFromSmiles('c1ccccc1C(=O)O')\n",
    "mol"
   ]
  },
  {
   "cell_type": "code",
   "execution_count": null,
   "metadata": {},
   "outputs": [],
   "source": [
    "bool(mol.GetAtomsMatchingQuery(Chem.MolFromSmarts('[#8]').GetAtomWithIdx(0)))"
   ]
  },
  {
   "cell_type": "code",
   "execution_count": null,
   "metadata": {},
   "outputs": [],
   "source": [
    "rxn = AnnotatedReaction.from_smarts(\"[#8:1](-[*:2])-[H].[#17]-[#6:3](=[#8:4])-[*:5]>>[#8:1](-[*:2])-[#6:3](=[#8:4])-[*:5]\")\n",
    "# rxn = AnnotatedReaction.from_rxnfile('test.rxn')\n",
    "reactant_templates_by_index = {i : reac_templ for i, reac_templ in enumerate(rxn.GetReactants())}\n",
    "\n",
    "display(rxn)\n",
    "print(reactant_templates_by_index)"
   ]
  },
  {
   "cell_type": "code",
   "execution_count": null,
   "metadata": {},
   "outputs": [],
   "source": [
    "from polymerist.polymers.monomers.specification import expanded_SMILES\n",
    "\n",
    "reactant_smiles = [\n",
    "    'CC(O)C(Cl)C(Cl)CCO',\n",
    "    'C1CCC(Cl)CC1O',\n",
    "    'C1CCC(C(=O)Cl)CC1',\n",
    "    'FC(F)(F)F',\n",
    "    'c1(O)c(O)c(C(=O)Cl)c(O)c(C(=O)Cl)c1',\n",
    "]\n",
    "\n",
    "reactants = []\n",
    "for smiles in reactant_smiles:\n",
    "    exp_smiles = expanded_SMILES(smiles, assign_map_nums=False)\n",
    "    mol = Chem.MolFromSmiles(exp_smiles, sanitize=False)\n",
    "    Chem.SanitizeMol(mol)\n",
    "    display(mol)\n",
    "    reactants.append(mol)"
   ]
  },
  {
   "cell_type": "code",
   "execution_count": null,
   "metadata": {},
   "outputs": [],
   "source": [
    "from itertools import combinations\n",
    "from polymerist.rdutils.reactions.reactors import Reactor\n",
    "\n",
    "\n",
    "reactor = Reactor(rxn)\n",
    "for i, rs in enumerate(combinations(reactants, 2)):\n",
    "    print(f'PAIR {i+1}')\n",
    "    (react1, react2) = rs\n",
    "    reactant_order = rxn.valid_reactant_ordering(rs)\n",
    "    if reactant_order is None:\n",
    "        print('NO ORDER FOUND:')\n",
    "    else:\n",
    "        print('ORDER FOUND:')\n",
    "        print('+'*50)\n",
    "        for m in reactant_order:\n",
    "            display(m)\n",
    "            \n",
    "        display(reactor.react(rs)[0])\n",
    "\n",
    "    print('='*50)"
   ]
  },
  {
   "cell_type": "code",
   "execution_count": null,
   "metadata": {},
   "outputs": [],
   "source": [
    "from polymerist.rdutils.reactions.reactors import Reactor, PolymerizationReactor\n",
    "\n",
    "rs = [reactants[0], reactants[4]]\n",
    "reactor = PolymerizationReactor(rxn)\n",
    "\n",
    "for adducts, frags in reactor.propagate(rs):\n",
    "    print('adducts:')\n",
    "    for adduct in adducts:\n",
    "        display(adduct)\n",
    "        \n",
    "    print('fragments:')\n",
    "    for frag in frags:\n",
    "        display(frag)\n",
    "        \n",
    "    print('='*50)"
   ]
  },
  {
   "cell_type": "markdown",
   "metadata": {},
   "source": [
    "# Another thing"
   ]
  },
  {
   "cell_type": "code",
   "execution_count": null,
   "metadata": {},
   "outputs": [],
   "source": []
  },
  {
   "cell_type": "code",
   "execution_count": null,
   "metadata": {},
   "outputs": [],
   "source": []
  }
 ],
 "metadata": {
  "kernelspec": {
   "display_name": "polymerist-dev",
   "language": "python",
   "name": "python3"
  },
  "language_info": {
   "codemirror_mode": {
    "name": "ipython",
    "version": 3
   },
   "file_extension": ".py",
   "mimetype": "text/x-python",
   "name": "python",
   "nbconvert_exporter": "python",
   "pygments_lexer": "ipython3",
   "version": "3.11.0"
  }
 },
 "nbformat": 4,
 "nbformat_minor": 2
}
