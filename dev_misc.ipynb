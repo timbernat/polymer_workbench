{
 "cells": [
  {
   "cell_type": "markdown",
   "metadata": {},
   "source": [
    "# Development of miscellaneous new features for polymerist"
   ]
  },
  {
   "cell_type": "markdown",
   "metadata": {},
   "source": [
    "## Testing polymerist importability within environment"
   ]
  },
  {
   "cell_type": "code",
   "execution_count": null,
   "metadata": {},
   "outputs": [],
   "source": [
    "import polymerist as ps\n",
    "\n",
    "print(ps.__version__)\n",
    "print(ps.pascal(5))"
   ]
  },
  {
   "cell_type": "code",
   "execution_count": null,
   "metadata": {},
   "outputs": [],
   "source": [
    "import polymerist as ps\n",
    "from polymerist.genutils.importutils import pyimports, module_hierarchy\n",
    "\n",
    "print(module_hierarchy(ps))"
   ]
  },
  {
   "cell_type": "code",
   "execution_count": null,
   "metadata": {},
   "outputs": [],
   "source": [
    "from polymerist.mdtools import openfftools\n",
    "\n",
    "openfftools.POLYMERIST_TOOLKIT_REGISTRY.registered_toolkits"
   ]
  },
  {
   "cell_type": "markdown",
   "metadata": {},
   "source": [
    "## Testing MonomerGroups"
   ]
  },
  {
   "cell_type": "code",
   "execution_count": null,
   "metadata": {},
   "outputs": [],
   "source": [
    "from polymerist.polymers.monomers import MonomerGroup\n",
    "from polymerist.polymers.monomers.specification import compliant_mol_SMARTS\n",
    "from polymerist.polymers.building import (\n",
    "    build_linear_polymer,\n",
    "    mbmol_to_openmm_pdb,\n",
    "    mbmol_to_rdkit_pdb,\n",
    "    mbmol_to_rdmol,\n",
    ")\n",
    "\n",
    "monogrp = MonomerGroup(\n",
    "    monomers={\n",
    "        'PEG_MID'    : '*OCC*',\n",
    "        'PLA_MID'    : '*OC(C)C(=O)*',\n",
    "        'PEG_TERM_1' : '*OCCO',\n",
    "        'PEG_TERM_2' : 'OCC*',\n",
    "    },\n",
    "    term_orient={\n",
    "        'head' : 'PEG_TERM_2',\n",
    "        'tail' : 'PEG_TERM_1'\n",
    "    }                 \n",
    ")\n",
    "\n",
    "print(monogrp.monomers)\n",
    "for resname, mol in monogrp.iter_rdmols():\n",
    "    print(resname)\n",
    "    display(mol)"
   ]
  },
  {
   "cell_type": "code",
   "execution_count": null,
   "metadata": {},
   "outputs": [],
   "source": [
    "chain = build_linear_polymer(\n",
    "    monomers=monogrp,\n",
    "    n_monomers=8,\n",
    "    sequence='AB',\n",
    "    energy_minimize=True,\n",
    ")\n",
    "mbmol_to_rdkit_pdb(\n",
    "    'PEG-PLA_rdk.pdb',\n",
    "    mbmol=chain,\n",
    "    resname_map={\n",
    "        'PEG_MID' : 'PEG',\n",
    "        'PLA_MID' : 'PLA',\n",
    "        'PEG_TERM_1' : 'PT1',\n",
    "        'PEG_TERM_2' : 'PT2',\n",
    "    }\n",
    ")\n",
    "mbmol_to_openmm_pdb(\n",
    "    'PEG-PLA_omm.pdb',\n",
    "    mbmol=chain,\n",
    "    resname_map={\n",
    "        'PEG_MID' : 'PEG',\n",
    "        'PLA_MID' : 'PLA',\n",
    "        'PEG_TERM_1' : 'PT1',\n",
    "        'PEG_TERM_2' : 'PT2',\n",
    "    }\n",
    ")"
   ]
  },
  {
   "cell_type": "markdown",
   "metadata": {},
   "source": [
    "# Another thing"
   ]
  },
  {
   "cell_type": "code",
   "execution_count": null,
   "metadata": {},
   "outputs": [],
   "source": []
  }
 ],
 "metadata": {
  "kernelspec": {
   "display_name": "polymerist-dev",
   "language": "python",
   "name": "python3"
  },
  "language_info": {
   "codemirror_mode": {
    "name": "ipython",
    "version": 3
   },
   "file_extension": ".py",
   "mimetype": "text/x-python",
   "name": "python",
   "nbconvert_exporter": "python",
   "pygments_lexer": "ipython3",
   "version": "3.11.0"
  }
 },
 "nbformat": 4,
 "nbformat_minor": 2
}
