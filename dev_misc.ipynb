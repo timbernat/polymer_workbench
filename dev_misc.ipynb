{
 "cells": [
  {
   "cell_type": "markdown",
   "metadata": {},
   "source": [
    "# Development of miscellaneous new features for polymerist"
   ]
  },
  {
   "cell_type": "markdown",
   "metadata": {},
   "source": [
    "## Testing polymerist importability within environment"
   ]
  },
  {
   "cell_type": "code",
   "execution_count": null,
   "metadata": {},
   "outputs": [],
   "source": [
    "import polymerist as ps\n",
    "\n",
    "print(ps.__version__)\n",
    "print(ps.pascal(5))"
   ]
  },
  {
   "cell_type": "code",
   "execution_count": null,
   "metadata": {},
   "outputs": [],
   "source": [
    "from polymerist.mdtools import openfftools\n",
    "\n",
    "openfftools.POLYMERIST_TOOLKIT_REGISTRY.registered_toolkits"
   ]
  },
  {
   "cell_type": "code",
   "execution_count": null,
   "metadata": {},
   "outputs": [],
   "source": [
    "import polymerist as ps\n",
    "from polymerist.genutils.importutils import pyimports, module_hierarchy\n",
    "\n",
    "print(module_hierarchy(ps))"
   ]
  },
  {
   "cell_type": "code",
   "execution_count": null,
   "metadata": {},
   "outputs": [],
   "source": [
    "import nglview\n",
    "\n",
    "print(nglview.__version__)\n",
    "nglview.demo()"
   ]
  },
  {
   "cell_type": "code",
   "execution_count": null,
   "metadata": {},
   "outputs": [],
   "source": [
    "from polymerist.polymers.monomers import specification\n",
    "from rdkit import Chem\n",
    "\n",
    "smi = 'CCO-c1ccccc1-N=C=C'\n",
    "mol1 = Chem.MolFromSmiles(smi)\n",
    "display(mol1)\n",
    "\n",
    "sma = specification.expanded_SMILES(smi, assign_map_nums=True)\n",
    "exp_sma = specification.compliant_mol_SMARTS(sma)\n",
    "mol2 = Chem.MolFromSmarts(sma)\n",
    "display(mol2)\n"
   ]
  },
  {
   "cell_type": "code",
   "execution_count": null,
   "metadata": {},
   "outputs": [],
   "source": [
    "import numpy as np\n",
    "import pandas as pd\n",
    "\n",
    "from openff.toolkit import Molecule, Topology, ForceField\n",
    "\n",
    "offmol = Molecule.from_smiles(smi)\n",
    "offmol.generate_conformers(n_conformers=1)\n",
    "offmol.visualize(backend='nglview')"
   ]
  },
  {
   "cell_type": "markdown",
   "metadata": {},
   "source": [
    "# Testing kekulization flag in expanded_SMILES and rdkdraw"
   ]
  },
  {
   "cell_type": "code",
   "execution_count": 4,
   "metadata": {},
   "outputs": [],
   "source": [
    "from rdkit import Chem\n",
    "\n",
    "from polymerist.polymers.monomers.specification import expanded_SMILES\n",
    "from polymerist.rdutils import set_rdkdraw_size, enable_kekulized_drawing, disable_kekulized_drawing"
   ]
  },
  {
   "cell_type": "code",
   "execution_count": null,
   "metadata": {},
   "outputs": [],
   "source": [
    "disable_kekulized_drawing()\n",
    "# enable_kekulized_drawing()\n",
    "\n",
    "smi = 'c1ccccc1C(=O)O'\n",
    "exp_smi = expanded_SMILES(smi, kekulize=False)\n",
    "mol = Chem.MolFromSmiles(exp_smi, sanitize=False)\n",
    "\n",
    "display(mol)\n",
    "for bond in mol.GetBonds():\n",
    "    print(bond.GetBondType())"
   ]
  },
  {
   "cell_type": "markdown",
   "metadata": {},
   "source": [
    "## Experimenting with Protocols"
   ]
  },
  {
   "cell_type": "code",
   "execution_count": null,
   "metadata": {},
   "outputs": [],
   "source": [
    "from typing import Protocol, runtime_checkable\n",
    "from dataclasses import dataclass\n",
    "\n",
    "\n",
    "@runtime_checkable\n",
    "class Nominative(Protocol):\n",
    "    def name(self) -> str:\n",
    "        ...\n",
    "        \n",
    "class Foo(Nominative):\n",
    "    def __init__(self, letter : str):\n",
    "        self.letter = letter\n",
    "        \n",
    "    def name(self) -> str:\n",
    "        return self.letter*3\n",
    "\n",
    "@dataclass\n",
    "class Bar:\n",
    "    id : int\n",
    "    \n",
    "    def name(self) -> str:\n",
    "        return f'{type(self).__name__}{self.id}'\n",
    "    \n",
    "@dataclass\n",
    "class Baz:\n",
    "    id : int\n",
    "    \n",
    "    def nombre(self) -> str:\n",
    "        return 'name'"
   ]
  },
  {
   "cell_type": "code",
   "execution_count": null,
   "metadata": {},
   "outputs": [],
   "source": [
    "classes = (Foo, Bar, Baz)\n",
    "a = Foo('a')\n",
    "b = Bar(2)\n",
    "c = Baz(3)\n",
    "instances = (a, b, c)"
   ]
  },
  {
   "cell_type": "code",
   "execution_count": null,
   "metadata": {},
   "outputs": [],
   "source": [
    "for typ in classes:\n",
    "    print(typ, issubclass(typ, Nominative))"
   ]
  },
  {
   "cell_type": "code",
   "execution_count": null,
   "metadata": {},
   "outputs": [],
   "source": [
    "for inst in instances:\n",
    "    print(inst, isinstance(inst, Nominative))"
   ]
  },
  {
   "cell_type": "markdown",
   "metadata": {},
   "source": [
    "# Parsing lines from PDB file"
   ]
  },
  {
   "cell_type": "code",
   "execution_count": null,
   "metadata": {},
   "outputs": [],
   "source": [
    "l1 = 'ATOM    189  C99 OCT     5      39.590  30.100  38.320  1.00  0.00'           \n",
    "l2 = 'ATOM    190 C100 OCT     5      38.850  31.110  37.700  1.00  0.00'\n",
    "l3 = 'HETATM   47  H21 UNL     1       0.000   0.000   0.000  1.00  0.00           H '"
   ]
  },
  {
   "cell_type": "code",
   "execution_count": null,
   "metadata": {},
   "outputs": [],
   "source": [
    "from typing import Any\n",
    "\n",
    "PDB_ATOM_TOKEN_COLUMNS : dict[str, tuple[int, int]] = {\n",
    "    'Is Heteratom' : (1, 6),\n",
    "    'Atom serial number' : (7, 11),\n",
    "    'Atom name' : (13, 16),\n",
    "    'Alternate location indicator' : (17, 17),\n",
    "    'Residue name' : (18, 20),\n",
    "    'Chain identifier' : (22, 22),\n",
    "    'Residue sequence number' : (23, 26),\n",
    "    'Code for insertions of residues' : (27, 27),\n",
    "    'X (angstrom)' : (31, 38),\n",
    "    'Y (angstrom)' : (39, 46),\n",
    "    'Z (angstrom)' : (47, 54),\n",
    "    'Occupancy' : (55, 60),\n",
    "    'Temperature factor' : (61, 66),\n",
    "    'Segment identifier' : (73, 76),\n",
    "    'Element symbol' : (77, 78),\n",
    "    'Charge' : (79, 80),\n",
    "} # taken from PDB spec doc (https://www.cgl.ucsf.edu/chimera/docs/UsersGuide/tutorials/pdbintro.html)\n",
    "def tokenize_pdb_atom_line(line : str) -> dict[str, Any]:\n",
    "    line = line.ljust(80, ' ') # pad line to 80 characters with spaces\n",
    "    return {\n",
    "        prop_name : line[i_start-1:i_end]\n",
    "            for prop_name, (i_start, i_end) in PDB_ATOM_TOKEN_COLUMNS.items()\n",
    "    }\n",
    "\n",
    "\n",
    "for line in (l1, l2, l3):\n",
    "    print(tokenize_pdb_atom_line(line))"
   ]
  },
  {
   "cell_type": "markdown",
   "metadata": {},
   "source": [
    "# Another thing"
   ]
  },
  {
   "cell_type": "code",
   "execution_count": null,
   "metadata": {},
   "outputs": [],
   "source": []
  },
  {
   "cell_type": "code",
   "execution_count": null,
   "metadata": {},
   "outputs": [],
   "source": []
  }
 ],
 "metadata": {
  "kernelspec": {
   "display_name": "polymerist-dev",
   "language": "python",
   "name": "python3"
  },
  "language_info": {
   "codemirror_mode": {
    "name": "ipython",
    "version": 3
   },
   "file_extension": ".py",
   "mimetype": "text/x-python",
   "name": "python",
   "nbconvert_exporter": "python",
   "pygments_lexer": "ipython3",
   "version": "3.11.0"
  }
 },
 "nbformat": 4,
 "nbformat_minor": 2
}
