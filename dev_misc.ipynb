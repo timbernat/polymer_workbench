{
 "cells": [
  {
   "cell_type": "markdown",
   "metadata": {},
   "source": [
    "# Development of miscellaneous new features for polymerist"
   ]
  },
  {
   "cell_type": "markdown",
   "metadata": {},
   "source": [
    "## Fixing degree of polymerization calculation weirdness in polymer builder"
   ]
  },
  {
   "cell_type": "code",
   "execution_count": 2,
   "metadata": {},
   "outputs": [
    {
     "name": "stderr",
     "output_type": "stream",
     "text": [
      "INFO:numexpr.utils:Note: NumExpr detected 20 cores but \"NUMEXPR_MAX_THREADS\" not set, so enforcing safe limit of 16.\n",
      "INFO:numexpr.utils:NumExpr defaulting to 16 threads.\n",
      "[22:11:55] WARNING: not removing hydrogen atom with dummy atom neighbors\n"
     ]
    }
   ],
   "source": [
    "import logging\n",
    "logging.basicConfig(level=logging.INFO)\n",
    "\n",
    "from polymerist.polymers.monomers import MonomerGroup\n",
    "from polymerist.polymers.monomers.specification import expanded_SMILES, compliant_mol_SMARTS\n",
    "from polymerist.polymers.building import build_linear_polymer, mbmol_to_openmm_pdb\n",
    "\n",
    "from polymerist.smileslib.primitives import Smarts, Smiles"
   ]
  },
  {
   "cell_type": "code",
   "execution_count": 3,
   "metadata": {},
   "outputs": [
    {
     "name": "stderr",
     "output_type": "stream",
     "text": [
      "WARNING:polymerist.polymers.monomers.specification:Cleaned 9 SMARTS atom query aberrations introduced by RDKit\n",
      "WARNING:polymerist.polymers.monomers.specification:Cleaned 10 SMARTS atom query aberrations introduced by RDKit\n",
      "WARNING:polymerist.polymers.monomers.specification:Cleaned 9 SMARTS atom query aberrations introduced by RDKit\n",
      "WARNING:polymerist.polymers.monomers.specification:Cleaned 11 SMARTS atom query aberrations introduced by RDKit\n",
      "WARNING:polymerist.polymers.monomers.specification:Cleaned 12 SMARTS atom query aberrations introduced by RDKit\n",
      "WARNING:polymerist.polymers.monomers.specification:Cleaned 11 SMARTS atom query aberrations introduced by RDKit\n",
      "WARNING:polymerist.polymers.monomers.specification:Cleaned 8 SMARTS atom query aberrations introduced by RDKit\n",
      "WARNING:polymerist.polymers.monomers.specification:Cleaned 9 SMARTS atom query aberrations introduced by RDKit\n",
      "WARNING:polymerist.polymers.monomers.specification:Cleaned 8 SMARTS atom query aberrations introduced by RDKit\n",
      "WARNING:polymerist.polymers.monomers.repr:Wrapping bare monomer SMARTS in list to comply with spec (storing as [\"[#8D2+0:1](-[#6D4+0:2](-[#6D4+0:3](-[*:4])(-[#1D1+0:8])-[#1D1+0:9])(-[#1D1+0:6])-[#1D1+0:7])-[#1D1+0:5]\"])\n",
      "WARNING:polymerist.polymers.monomers.repr:Wrapping bare monomer SMARTS in list to comply with spec (storing as [\"[*:1]-[#8D2+0:2]-[#6D4+0:3](-[#6D4+0:4](-[#8D2+0:5]-[#1D1+0:10])(-[#1D1+0:8])-[#1D1+0:9])(-[#1D1+0:6])-[#1D1+0:7]\"])\n",
      "WARNING:polymerist.polymers.monomers.repr:Wrapping bare monomer SMARTS in list to comply with spec (storing as [\"[*:1]-[#8D2+0:2]-[#6D4+0:3](-[#6D4+0:4](-[*:5])(-[#1D1+0:8])-[#1D1+0:9])(-[#1D1+0:6])-[#1D1+0:7]\"])\n",
      "WARNING:polymerist.polymers.monomers.repr:Wrapping bare monomer SMARTS in list to comply with spec (storing as [\"[#8D2+0:1](-[#6D4+0:2](-[#6D4+0:3](-[#1D1+0:9])(-[#1D1+0:10])-[#1D1+0:11])(-[#6D3+0:4](=[#8D1+0:5])-[*:6])-[#1D1+0:8])-[#1D1+0:7]\"])\n",
      "WARNING:polymerist.polymers.monomers.repr:Wrapping bare monomer SMARTS in list to comply with spec (storing as [\"[*:1]-[#8D2+0:2]-[#6D4+0:3](-[#6D4+0:4](-[#1D1+0:9])(-[#1D1+0:10])-[#1D1+0:11])(-[#6D3+0:5](=[#8D1+0:6])-[#8D2+0:7]-[#1D1+0:12])-[#1D1+0:8]\"])\n",
      "WARNING:polymerist.polymers.monomers.repr:Wrapping bare monomer SMARTS in list to comply with spec (storing as [\"[*:1]-[#8D2+0:2]-[#6D4+0:3](-[#6D4+0:4](-[#1D1+0:9])(-[#1D1+0:10])-[#1D1+0:11])(-[#6D3+0:5](=[#8D1+0:6])-[*:7])-[#1D1+0:8]\"])\n",
      "WARNING:polymerist.polymers.monomers.repr:Wrapping bare monomer SMARTS in list to comply with spec (storing as [\"[#8D2+0:1](-[#6D4+0:2](-[#6D3+0:3](=[#8D1+0:4])-[*:5])(-[#1D1+0:7])-[#1D1+0:8])-[#1D1+0:6]\"])\n",
      "WARNING:polymerist.polymers.monomers.repr:Wrapping bare monomer SMARTS in list to comply with spec (storing as [\"[*:1]-[#8D2+0:2]-[#6D4+0:3](-[#6D3+0:4](=[#8D1+0:5])-[#8D2+0:6]-[#1D1+0:9])(-[#1D1+0:7])-[#1D1+0:8]\"])\n",
      "WARNING:polymerist.polymers.monomers.repr:Wrapping bare monomer SMARTS in list to comply with spec (storing as [\"[*:1]-[#8D2+0:2]-[#6D4+0:3](-[#6D3+0:4](=[#8D1+0:5])-[*:6])(-[#1D1+0:7])-[#1D1+0:8]\"])\n"
     ]
    }
   ],
   "source": [
    "from rdkit import Chem\n",
    "\n",
    "\n",
    "show : bool = False\n",
    "save : bool = False\n",
    "\n",
    "smiles_frags : dict[str, Smiles] = {\n",
    "    # PEG\n",
    "    'PEG-1A' : '[OH]CC*',\n",
    "    'PEG-1B' : '*OCC[OH]',\n",
    "    'PEG-2'  : '*OCC*',\n",
    "    # PLA\n",
    "    'PLA-1A' : '[OH]C(C)C(=O)*',\n",
    "    'PLA-1B' : '*OC(C)C(=O)[OH]',\n",
    "    'PLA-2'  : '*OC(C)C(=O)*',\n",
    "    # 'PLA-2'  : '*[NH]*',\n",
    "    # PGA\n",
    "    'PGA-1A' : '[OH]CC(=O)*',\n",
    "    'PGA-1B' : '*OCC(=O)[OH]',\n",
    "    'PGA-2'  : '*OCC(=O)*',\n",
    "}\n",
    "\n",
    "smarts_frags : dict[str, list[Smarts]] = {}\n",
    "for name, smiles in smiles_frags.items():\n",
    "    smiles_expl = expanded_SMILES(smiles)\n",
    "    smarts = compliant_mol_SMARTS(smiles_expl)\n",
    "    mol = Chem.MolFromSmarts(smiles_expl)\n",
    "    smarts_frags[name] = smarts\n",
    "    \n",
    "    # print(name)\n",
    "    # display(mol)\n",
    "    # print('='*10)\n",
    "    \n",
    "# smarts_frags['PEG-1A'] = [smarts_frags['PEG-1A'], '[NH2]*']\n",
    "monogrp = MonomerGroup(\n",
    "    smarts_frags,\n",
    "    # term_orient={'head' : 'PEG-1A','tail' : 'PEG-1A'}\n",
    ")\n",
    "if save:\n",
    "    monogrp.to_file('peg-pla-pga.json')\n",
    "if show:\n",
    "    for name, mol in monogrp.iter_rdmols(term_only=None):\n",
    "        print(name)\n",
    "        display(mol)\n",
    "        print('='*10)"
   ]
  },
  {
   "cell_type": "code",
   "execution_count": 25,
   "metadata": {},
   "outputs": [
    {
     "name": "stderr",
     "output_type": "stream",
     "text": [
      "WARNING:polymerist.polymers.monomers.repr:No valid terminal monomer orientations defined; auto-assigned orientations \"{'head': 'PEG-1A', 'tail': 'PEG-1B'}\"; USER SHOULD VERIFY THIS YIELDS A CHEMICALLY-VALID POLYMER!\n",
      "INFO:polymerist.polymers.building.sequencing:Target chain length achievable with 1 whole 1-sequence repeats;\n",
      " Namely, polymer will be sequenced as [END-GROUP] + 1*[A] + [END-GROUP], yielding (1*1 + 0) middle monomers + 2 terminal monomers = 3 total monomers)\n",
      "INFO:polymerist.polymers.building.linear:Registering middle monomer PEG-2 (block identifier \"A\")\n",
      "INFO:polymerist.polymers.building.linear:Registering terminal monomer PEG-1A (orientation \"head\")\n",
      "INFO:polymerist.polymers.building.linear:Registering terminal monomer PEG-1B (orientation \"tail\")\n",
      "INFO:polymerist.polymers.building.linear:Assembling linear 3-mer chain (estimated 24 atoms)\n",
      "INFO:polymerist.polymers.building.linear:Successfully assembled linear 3-mer chain (exactly 24 atoms)\n"
     ]
    }
   ],
   "source": [
    "chain = build_linear_polymer(monogrp, n_monomers=3, sequence='A', allow_partial_sequences=True, energy_minimize=False)\n",
    "mbmol_to_openmm_pdb('peg-plga.pdb', chain)"
   ]
  },
  {
   "cell_type": "code",
   "execution_count": null,
   "metadata": {},
   "outputs": [],
   "source": []
  },
  {
   "cell_type": "code",
   "execution_count": null,
   "metadata": {},
   "outputs": [],
   "source": [
    "from dataclasses import dataclass, field\n",
    "from polymerist.polymers.exceptions import EndGroupDominatedChain, InsufficientChainLength, EmptyBlockSequence, PartialBlockSequence\n",
    "\n",
    "@dataclass\n",
    "class LinearCopolymerSequenceInfo:\n",
    "    '''\n",
    "    For encapsulating information about the sequence of repeat units in a periodic, linear copolymer\n",
    "    Also covers, as trivial special cases, homopolymers and alternating copolymers\n",
    "    '''\n",
    "    sequence_kernel : str\n",
    "    n_repeat_units_total : int\n",
    "    n_repeat_units_terminal : int = 0\n",
    "    \n",
    "    def __post_init__(self) -> None:\n",
    "        if not self.sequence_kernel:\n",
    "            raise EmptyBlockSequence('Must provide non-empty sequence kernel to yield a valid (co)polymer sequence')\n",
    "    \n",
    "        if self.n_repeat_units_middle < 0:\n",
    "            raise EndGroupDominatedChain(\n",
    "                f'Number of terminal monomers exceeds requested chain length; ({self.n_repeat_units}-mer' \\\n",
    "                f'chain can\\'t possibly contain {self.n_repeat_units_terminal} terminal monomers)'\n",
    "            )\n",
    "    \n",
    "    @property\n",
    "    def n_repeat_units(self) -> int:\n",
    "        '''Briefer alias of self.n_repeat units_total'''\n",
    "        return self.n_repeat_units_total\n",
    "    nru = nrus = n_repeat_units\n",
    "    \n",
    "    @property\n",
    "    def n_repeat_units_middle(self) -> int:\n",
    "        '''Number of middle (i.e. non-terminal) repeat units'''\n",
    "        return self.n_repeat_units - self.n_repeat_units_terminal\n",
    "    nru_mid = nrus_mid = n_repeat_units_middle\n",
    "\n",
    "    # Whole sequence periods\n",
    "    @property\n",
    "    def block_size(self) -> int:\n",
    "        '''Number of repeat units units in one whole iteration of the kernel block'''\n",
    "        return len(self.sequence_kernel)\n",
    "    period = block_size\n",
    "    \n",
    "    @property\n",
    "    def n_full_periods(self) -> int:\n",
    "        '''\n",
    "        Largest number of complete repetitions of the sequence kernel which, when taken\n",
    "        together, contain no more repeats units than the specified number of middle units\n",
    "        '''\n",
    "        return self.n_repeat_units_middle // self.block_size\n",
    "    \n",
    "    # Partial sequence residues\n",
    "    @property\n",
    "    def n_residual_repeat_units(self) -> int:\n",
    "        '''\n",
    "        Difference between number of middle repeat units and units which\n",
    "        would occur in maximal full periods of the kernel\n",
    "        \n",
    "        By construction, is no greater than the block size and is\n",
    "        identically zero exactly when a whole number of kernel repeats\n",
    "        '''\n",
    "        return self.n_repeat_units_middle % self.block_size\n",
    "    n_residual_symbols = n_res = n_residual_repeat_units\n",
    "    \n",
    "    @property\n",
    "    def has_residual(self) -> bool:\n",
    "        '''Whether or not the target number of middle repeat units can be attained by a whole number of kernel repeats'''\n",
    "        return bool(self.n_residual_repeat_units)\n",
    "    \n",
    "    @property\n",
    "    def sequence_residual(self) -> str:\n",
    "        '''Partial repeat of the kernel sequence needed to attain the speficied number of middle units'''\n",
    "        return self.sequence_kernel[:self.n_residual_repeat_units]\n",
    "    residual = sequence_residual"
   ]
  },
  {
   "cell_type": "code",
   "execution_count": 11,
   "metadata": {},
   "outputs": [],
   "source": [
    "lcps = LinearCopolymerSequenceInfo('ABCB', 17, 2)"
   ]
  },
  {
   "cell_type": "code",
   "execution_count": 12,
   "metadata": {},
   "outputs": [
    {
     "data": {
      "text/plain": [
       "17"
      ]
     },
     "execution_count": 12,
     "metadata": {},
     "output_type": "execute_result"
    }
   ],
   "source": [
    "lcps.nrus"
   ]
  },
  {
   "cell_type": "code",
   "execution_count": null,
   "metadata": {},
   "outputs": [],
   "source": []
  },
  {
   "cell_type": "code",
   "execution_count": null,
   "metadata": {},
   "outputs": [],
   "source": []
  },
  {
   "cell_type": "code",
   "execution_count": null,
   "metadata": {},
   "outputs": [],
   "source": []
  },
  {
   "cell_type": "markdown",
   "metadata": {},
   "source": [
    "## Testing polymerist importability within environment"
   ]
  },
  {
   "cell_type": "code",
   "execution_count": null,
   "metadata": {},
   "outputs": [],
   "source": [
    "import numpy as np\n",
    "from openff.toolkit import Molecule, Topology, ForceField"
   ]
  },
  {
   "cell_type": "code",
   "execution_count": null,
   "metadata": {},
   "outputs": [],
   "source": [
    "import polymerist as ps\n",
    "from polymerist.genutils import pyimports, importutils\n",
    "\n",
    "import pandas as pd\n",
    "print(importutils.module_hierarchy(ps))"
   ]
  },
  {
   "cell_type": "code",
   "execution_count": null,
   "metadata": {},
   "outputs": [],
   "source": [
    "import nglview\n",
    "\n",
    "print(nglview.__version__)\n",
    "nglview.demo()"
   ]
  },
  {
   "cell_type": "code",
   "execution_count": null,
   "metadata": {},
   "outputs": [],
   "source": [
    "from polymerist.polymers.monomers import specification\n",
    "from rdkit import Chem\n",
    "\n",
    "smi = 'CCO-c1ccccc1-N=C=C'\n",
    "mol1 = Chem.MolFromSmiles(smi)\n",
    "display(mol1)\n",
    "\n",
    "sma = specification.expanded_SMILES(smi, assign_map_nums=True)\n",
    "exp_sma = specification.compliant_mol_SMARTS(sma)\n",
    "mol2 = Chem.MolFromSmarts(sma)\n",
    "display(mol2)\n"
   ]
  },
  {
   "cell_type": "code",
   "execution_count": null,
   "metadata": {},
   "outputs": [],
   "source": [
    "from openff.toolkit import Molecule\n",
    "\n",
    "offmol = Molecule.from_smiles(smi)\n",
    "offmol.generate_conformers(n_conformers=1)\n",
    "offmol.visualize(backend='nglview')"
   ]
  },
  {
   "cell_type": "markdown",
   "metadata": {},
   "source": [
    "# Parsing lines from PDB file"
   ]
  },
  {
   "cell_type": "code",
   "execution_count": null,
   "metadata": {},
   "outputs": [],
   "source": [
    "l1 = 'ATOM    189  C99 OCT     5      39.590  30.100  38.320  1.00  0.00'           \n",
    "l2 = 'ATOM    190 C100 OCT     5      38.850  31.110  37.700  1.00  0.00'\n",
    "l3 = 'HETATM   47  H21 UNL     1       0.000   0.000   0.000  1.00  0.00           H '"
   ]
  },
  {
   "cell_type": "code",
   "execution_count": null,
   "metadata": {},
   "outputs": [],
   "source": [
    "from typing import Any\n",
    "\n",
    "PDB_ATOM_TOKEN_COLUMNS : dict[str, tuple[int, int]] = {\n",
    "    'Is Heteratom' : (1, 6),\n",
    "    'Atom serial number' : (7, 11),\n",
    "    'Atom name' : (13, 16),\n",
    "    'Alternate location indicator' : (17, 17),\n",
    "    'Residue name' : (18, 20),\n",
    "    'Chain identifier' : (22, 22),\n",
    "    'Residue sequence number' : (23, 26),\n",
    "    'Code for insertions of residues' : (27, 27),\n",
    "    'X (angstrom)' : (31, 38),\n",
    "    'Y (angstrom)' : (39, 46),\n",
    "    'Z (angstrom)' : (47, 54),\n",
    "    'Occupancy' : (55, 60),\n",
    "    'Temperature factor' : (61, 66),\n",
    "    'Segment identifier' : (73, 76),\n",
    "    'Element symbol' : (77, 78),\n",
    "    'Charge' : (79, 80),\n",
    "} # taken from PDB spec doc (https://www.cgl.ucsf.edu/chimera/docs/UsersGuide/tutorials/pdbintro.html)\n",
    "def tokenize_pdb_atom_line(line : str) -> dict[str, Any]:\n",
    "    line = line.ljust(80, ' ') # pad line to 80 characters with spaces\n",
    "    return {\n",
    "        prop_name : line[i_start-1:i_end]\n",
    "            for prop_name, (i_start, i_end) in PDB_ATOM_TOKEN_COLUMNS.items()\n",
    "    }\n",
    "\n",
    "\n",
    "for line in (l1, l2, l3):\n",
    "    print(tokenize_pdb_atom_line(line))"
   ]
  },
  {
   "cell_type": "markdown",
   "metadata": {},
   "source": [
    "# Another thing"
   ]
  },
  {
   "cell_type": "code",
   "execution_count": null,
   "metadata": {},
   "outputs": [],
   "source": []
  },
  {
   "cell_type": "code",
   "execution_count": null,
   "metadata": {},
   "outputs": [],
   "source": []
  }
 ],
 "metadata": {
  "kernelspec": {
   "display_name": "polymerist-dev",
   "language": "python",
   "name": "python3"
  },
  "language_info": {
   "codemirror_mode": {
    "name": "ipython",
    "version": 3
   },
   "file_extension": ".py",
   "mimetype": "text/x-python",
   "name": "python",
   "nbconvert_exporter": "python",
   "pygments_lexer": "ipython3",
   "version": "3.11.0"
  }
 },
 "nbformat": 4,
 "nbformat_minor": 2
}
