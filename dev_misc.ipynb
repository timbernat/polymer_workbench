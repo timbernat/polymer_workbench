{
 "cells": [
  {
   "cell_type": "markdown",
   "metadata": {},
   "source": [
    "# Development of miscellaneous new features for polymerist"
   ]
  },
  {
   "cell_type": "markdown",
   "metadata": {},
   "source": [
    "## Testing polymerist importability within environment"
   ]
  },
  {
   "cell_type": "code",
   "execution_count": null,
   "metadata": {},
   "outputs": [],
   "source": [
    "import polymerist as ps\n",
    "\n",
    "print(ps.__version__)\n",
    "print(ps.pascal(5))"
   ]
  },
  {
   "cell_type": "code",
   "execution_count": null,
   "metadata": {},
   "outputs": [],
   "source": [
    "import polymerist as ps\n",
    "from polymerist.genutils.importutils import pyimports, module_hierarchy\n",
    "\n",
    "print(module_hierarchy(ps))"
   ]
  },
  {
   "cell_type": "code",
   "execution_count": null,
   "metadata": {},
   "outputs": [],
   "source": [
    "from polymerist.mdtools import openfftools\n",
    "\n",
    "openfftools.POLYMERIST_TOOLKIT_REGISTRY.registered_toolkits"
   ]
  },
  {
   "cell_type": "markdown",
   "metadata": {},
   "source": [
    "## Testing MonomerGroups"
   ]
  },
  {
   "cell_type": "code",
   "execution_count": null,
   "metadata": {},
   "outputs": [],
   "source": [
    "from polymerist.polymers.monomers import MonomerGroup\n",
    "from polymerist.polymers.monomers.specification import compliant_mol_SMARTS\n",
    "from polymerist.polymers.building import (\n",
    "    build_linear_polymer,\n",
    "    mbmol_to_openmm_pdb,\n",
    "    mbmol_to_rdkit_pdb,\n",
    "    mbmol_to_rdmol,\n",
    ")\n",
    "\n",
    "monogrp = MonomerGroup(\n",
    "    monomers={\n",
    "        'PEG_MID'    : '*OCC*',\n",
    "        'PLA_MID'    : '*OC(C)C(=O)*',\n",
    "        'PEG_TERM_1' : '*OCCO',\n",
    "        'PEG_TERM_2' : 'OCC*',\n",
    "    },\n",
    "    term_orient={\n",
    "        'head' : 'PEG_TERM_2',\n",
    "        'tail' : 'PEG_TERM_1'\n",
    "    }                 \n",
    ")\n",
    "\n",
    "print(monogrp.monomers)\n",
    "for resname, mol in monogrp.iter_rdmols():\n",
    "    print(resname)\n",
    "    display(mol)"
   ]
  },
  {
   "cell_type": "code",
   "execution_count": null,
   "metadata": {},
   "outputs": [],
   "source": [
    "chain = build_linear_polymer(\n",
    "    monomers=monogrp,\n",
    "    n_monomers=8,\n",
    "    sequence='AB',\n",
    "    energy_minimize=True,\n",
    ")\n",
    "mbmol_to_rdkit_pdb(\n",
    "    'PEG-PLA_rdk.pdb',\n",
    "    mbmol=chain,\n",
    "    resname_map={\n",
    "        'PEG_MID' : 'PEG',\n",
    "        'PLA_MID' : 'PLA',\n",
    "        'PEG_TERM_1' : 'PT1',\n",
    "        'PEG_TERM_2' : 'PT2',\n",
    "    }\n",
    ")\n",
    "mbmol_to_openmm_pdb(\n",
    "    'PEG-PLA_omm.pdb',\n",
    "    mbmol=chain,\n",
    "    resname_map={\n",
    "        'PEG_MID' : 'PEG',\n",
    "        'PLA_MID' : 'PLA',\n",
    "        'PEG_TERM_1' : 'PT1',\n",
    "        'PEG_TERM_2' : 'PT2',\n",
    "    }\n",
    ")"
   ]
  },
  {
   "cell_type": "markdown",
   "metadata": {},
   "source": [
    "# Another thing"
   ]
  },
  {
   "cell_type": "code",
   "execution_count": 1,
   "metadata": {},
   "outputs": [],
   "source": [
    "import polymerist as ps\n",
    "from polymerist.genutils.logutils.IOHandlers import submodule_loggers, get_active_loggers\n",
    "from polymerist import rdutils"
   ]
  },
  {
   "cell_type": "code",
   "execution_count": 2,
   "metadata": {},
   "outputs": [
    {
     "name": "stderr",
     "output_type": "stream",
     "text": [
      "/home/timber/miniconda3/envs/polymerist-dev/lib/python3.11/site-packages/smirnoff99frosst/smirnoff99frosst.py:11: UserWarning: pkg_resources is deprecated as an API. See https://setuptools.pypa.io/en/latest/pkg_resources.html. The pkg_resources package is slated for removal as early as 2025-11-30. Refrain from using this package or pin to Setuptools<81.\n",
      "  from pkg_resources import resource_filename\n",
      "[20:38:42] WARNING: not removing hydrogen atom with dummy atom neighbors\n",
      "No functional group SMARTS data from LUT found on system; regenerating from https://www.daylight.com/dayhtml_tutorials/languages/smarts/smarts_examples.html\n"
     ]
    }
   ],
   "source": [
    "import logging\n",
    "\n",
    "POLYMERIST_LOGGERS = [\n",
    "    logger\n",
    "        for logger in submodule_loggers(ps, blacklist=['rdkdraw']).values()\n",
    "        # for logger in submodule_loggers(ps, blacklist=['rdconvert']).values()\n",
    "            if (logger is not None) and (not isinstance(logger, logging.PlaceHolder))\n",
    "] # TODO: move this into polymerist?"
   ]
  },
  {
   "cell_type": "code",
   "execution_count": 3,
   "metadata": {},
   "outputs": [
    {
     "ename": "ImportError",
     "evalue": "cannot import name 'rdconvert' from 'polymerist.rdutils' (/home/timber/Documents/Python/polymerist_dev/polymerist/build/__editable__.polymerist-1.0.0+13.g0e90416-py3-none-any/polymerist/rdutils/__init__.py)",
     "output_type": "error",
     "traceback": [
      "\u001b[31m---------------------------------------------------------------------------\u001b[39m",
      "\u001b[31mImportError\u001b[39m                               Traceback (most recent call last)",
      "\u001b[36mCell\u001b[39m\u001b[36m \u001b[39m\u001b[32mIn[3]\u001b[39m\u001b[32m, line 1\u001b[39m\n\u001b[32m----> \u001b[39m\u001b[32m1\u001b[39m \u001b[38;5;28;01mfrom\u001b[39;00m\u001b[38;5;250m \u001b[39m\u001b[34;01mpolymerist\u001b[39;00m\u001b[34;01m.\u001b[39;00m\u001b[34;01mrdutils\u001b[39;00m\u001b[38;5;250m \u001b[39m\u001b[38;5;28;01mimport\u001b[39;00m rdconvert\n",
      "\u001b[31mImportError\u001b[39m: cannot import name 'rdconvert' from 'polymerist.rdutils' (/home/timber/Documents/Python/polymerist_dev/polymerist/build/__editable__.polymerist-1.0.0+13.g0e90416-py3-none-any/polymerist/rdutils/__init__.py)"
     ]
    }
   ],
   "source": [
    "from polymerist.rdutils import rdconvert"
   ]
  },
  {
   "cell_type": "code",
   "execution_count": null,
   "metadata": {},
   "outputs": [],
   "source": []
  }
 ],
 "metadata": {
  "kernelspec": {
   "display_name": "polymerist-dev",
   "language": "python",
   "name": "python3"
  },
  "language_info": {
   "codemirror_mode": {
    "name": "ipython",
    "version": 3
   },
   "file_extension": ".py",
   "mimetype": "text/x-python",
   "name": "python",
   "nbconvert_exporter": "python",
   "pygments_lexer": "ipython3",
   "version": "3.11.0"
  }
 },
 "nbformat": 4,
 "nbformat_minor": 2
}
