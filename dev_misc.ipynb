{
 "cells": [
  {
   "cell_type": "markdown",
   "metadata": {},
   "source": [
    "# Development of miscellaneous new features for polymerist"
   ]
  },
  {
   "cell_type": "markdown",
   "metadata": {},
   "source": [
    "## Testing polymerist importability within environment"
   ]
  },
  {
   "cell_type": "code",
   "execution_count": null,
   "metadata": {},
   "outputs": [],
   "source": [
    "import polymerist as ps\n",
    "\n",
    "print(ps.__version__)\n",
    "print(ps.pascal(5))"
   ]
  },
  {
   "cell_type": "code",
   "execution_count": null,
   "metadata": {},
   "outputs": [],
   "source": [
    "from polymerist.mdtools import openfftools\n",
    "\n",
    "openfftools.POLYMERIST_TOOLKIT_REGISTRY.registered_toolkits"
   ]
  },
  {
   "cell_type": "code",
   "execution_count": null,
   "metadata": {},
   "outputs": [],
   "source": [
    "import polymerist as ps\n",
    "from polymerist.genutils.importutils import pyimports, module_hierarchy\n",
    "\n",
    "print(module_hierarchy(ps))"
   ]
  },
  {
   "cell_type": "code",
   "execution_count": null,
   "metadata": {},
   "outputs": [],
   "source": [
    "import nglview\n",
    "\n",
    "print(nglview.__version__)\n",
    "nglview.demo()"
   ]
  },
  {
   "cell_type": "code",
   "execution_count": null,
   "metadata": {},
   "outputs": [],
   "source": [
    "from polymerist.polymers.monomers import specification\n",
    "from rdkit import Chem\n",
    "\n",
    "smi = 'CCO-c1ccccc1-N=C=C'\n",
    "mol1 = Chem.MolFromSmiles(smi)\n",
    "display(mol1)\n",
    "\n",
    "sma = specification.expanded_SMILES(smi, assign_map_nums=True)\n",
    "exp_sma = specification.compliant_mol_SMARTS(sma)\n",
    "mol2 = Chem.MolFromSmarts(sma)\n",
    "display(mol2)\n"
   ]
  },
  {
   "cell_type": "code",
   "execution_count": null,
   "metadata": {},
   "outputs": [],
   "source": [
    "import numpy as np\n",
    "import pandas as pd\n",
    "\n",
    "from openff.toolkit import Molecule, Topology, ForceField\n",
    "\n",
    "offmol = Molecule.from_smiles(smi)\n",
    "offmol.generate_conformers(n_conformers=1)\n",
    "offmol.visualize(backend='nglview')"
   ]
  },
  {
   "cell_type": "markdown",
   "metadata": {},
   "source": [
    "# Another thing"
   ]
  },
  {
   "cell_type": "code",
   "execution_count": null,
   "metadata": {},
   "outputs": [],
   "source": []
  }
 ],
 "metadata": {
  "kernelspec": {
   "display_name": "polymerist-dev",
   "language": "python",
   "name": "python3"
  },
  "language_info": {
   "codemirror_mode": {
    "name": "ipython",
    "version": 3
   },
   "file_extension": ".py",
   "mimetype": "text/x-python",
   "name": "python",
   "nbconvert_exporter": "python",
   "pygments_lexer": "ipython3",
   "version": "3.11.0"
  }
 },
 "nbformat": 4,
 "nbformat_minor": 2
}
