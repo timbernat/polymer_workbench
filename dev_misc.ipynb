{
 "cells": [
  {
   "cell_type": "markdown",
   "metadata": {},
   "source": [
    "# Development of miscellaneous new features for polymerist"
   ]
  },
  {
   "cell_type": "code",
   "execution_count": null,
   "metadata": {},
   "outputs": [],
   "source": [
    "import polymerist as ps\n",
    "\n",
    "print(ps.__version__)\n",
    "print(ps.pascal(5))"
   ]
  },
  {
   "cell_type": "code",
   "execution_count": null,
   "metadata": {},
   "outputs": [],
   "source": [
    "from polymerist.mdtools import openfftools\n",
    "\n",
    "openfftools.POLYMERIST_TOOLKIT_REGISTRY.registered_toolkits"
   ]
  },
  {
   "cell_type": "markdown",
   "metadata": {},
   "source": [
    "# Testing kekulization flag in expanded_SMILES and rdkdraw"
   ]
  },
  {
   "cell_type": "code",
   "execution_count": 3,
   "metadata": {},
   "outputs": [],
   "source": [
    "from rdkit import Chem\n",
    "\n",
    "from polymerist.polymers.monomers.specification import expanded_SMILES\n",
    "from polymerist.rdutils import set_rdkdraw_size, enable_kekulized_drawing, disable_kekulized_drawing"
   ]
  },
  {
   "cell_type": "code",
   "execution_count": null,
   "metadata": {},
   "outputs": [],
   "source": [
    "disable_kekulized_drawing()\n",
    "enable_kekulized_drawing()\n",
    "\n",
    "smi = 'c1ccccc1C(=O)O'\n",
    "exp_smi = expanded_SMILES(smi, kekulize=True)\n",
    "mol = Chem.MolFromSmiles(exp_smi, sanitize=False)\n",
    "\n",
    "display(mol)\n",
    "for bond in mol.GetBonds():\n",
    "    print(bond.GetBondType())"
   ]
  },
  {
   "cell_type": "code",
   "execution_count": null,
   "metadata": {},
   "outputs": [],
   "source": []
  },
  {
   "cell_type": "markdown",
   "metadata": {},
   "source": [
    "## Robustness improvements to chemdbqueries"
   ]
  },
  {
   "cell_type": "code",
   "execution_count": 1,
   "metadata": {},
   "outputs": [],
   "source": [
    "from polymerist.smileslib import chemdbqueries"
   ]
  },
  {
   "cell_type": "code",
   "execution_count": 2,
   "metadata": {},
   "outputs": [
    {
     "data": {
      "text/plain": [
       "'5-thiophen-3-yl-2H-tetrazole'"
      ]
     },
     "execution_count": 2,
     "metadata": {},
     "output_type": "execute_result"
    }
   ],
   "source": [
    "smi = 'C1=CSC=C1C2=NNN=N2'\n",
    "chemdbqueries.get_property_from_smiles(smi, prop_name='iupac_name')"
   ]
  },
  {
   "cell_type": "code",
   "execution_count": 73,
   "metadata": {},
   "outputs": [],
   "source": [
    "from typing import Any, ClassVar, Container, Optional\n",
    "from abc import ABC, abstractmethod, abstractproperty\n",
    "\n",
    "import requests\n",
    "import logging\n",
    "\n",
    "import cirpy\n",
    "import pubchempy as pcp\n",
    "\n",
    "# from polymerist.genutils.decorators.classmod import register_abstract_class_attrs\n",
    "\n",
    "\n",
    "# @register_abstract_class_attrs('SERVICE_NAME')\n",
    "class ChemDBQueryStrategy(ABC):\n",
    "    '''Implementation of queries from a particular chemical database'''\n",
    "    @property\n",
    "    @abstractmethod\n",
    "    def SERVICE_NAME(self) -> str:\n",
    "        ...\n",
    "\n",
    "    @property\n",
    "    @abstractmethod\n",
    "    def VALID_PROPERTIES(self) -> Container[str]:\n",
    "        ...\n",
    "        \n",
    "    @property\n",
    "    def available_properties(self) -> str:\n",
    "        return '\\n'.join(sorted(self.VALID_PROPERTIES))\n",
    "        \n",
    "    @abstractmethod\n",
    "    def _get_property(self, prop_name : str, representation : str) -> Optional[Any]:\n",
    "        ...\n",
    "        \n",
    "    def get_property(self, prop_name : str, representation : str, keep_first_only : bool=True) -> Optional[Any]:\n",
    "        logging.info(f'Attempting query of property \"{prop_name}\" from {self.SERVICE_NAME}')\n",
    "        if prop_name not in self.VALID_PROPERTIES:\n",
    "            raise ValueError(\n",
    "                f'Cannot query property \"{prop_name}\" from {self.SERVICE_NAME};\\n' \\\n",
    "                f'Choose from one of the following property names:\\n{self.available_properties}'\n",
    "            )\n",
    "        \n",
    "        try:\n",
    "            prop_val = self._get_property(prop_name=prop_name, representation=representation)\n",
    "            if (prop_val is not None) and isinstance(prop_val, Container) and keep_first_only:\n",
    "                prop_val = prop_val[0]\n",
    "            return prop_val\n",
    "            \n",
    "        except requests.HTTPError:\n",
    "            logging.error('Website down')\n",
    "            return None\n",
    "        \n",
    "    get_property.__doc__ = f'''Fetch a particular property of a molecule from {SERVICE_NAME}'''\n",
    "        \n",
    "        \n",
    "class NIHCACTUSQuery(ChemDBQueryStrategy):\n",
    "    @property\n",
    "    def SERVICE_NAME(self) -> str:\n",
    "        return 'NIH CACTUS CIR'\n",
    "    \n",
    "    _CIR_PROPS : ClassVar[set[str]] = {\n",
    "        'stdinchikey',\n",
    "        'stdinchi',\n",
    "        'smiles',\n",
    "        'ficts',\n",
    "        'ficus',\n",
    "        'uuuuu',\n",
    "        'hashisy',\n",
    "        'names',\n",
    "        'iupac_name',\n",
    "        'cas',\n",
    "        'chemspider_id',\n",
    "        'image',\n",
    "        'twirl',\n",
    "        'mw',\n",
    "        'formula',\n",
    "        'h_bond_donor_count',\n",
    "        'h_bond_acceptor_count',\n",
    "        'h_bond_center_count',\n",
    "        'rule_of_5_violation_count',\n",
    "        'rotor_count',\n",
    "        'effective_rotor_count',\n",
    "        'ring_count',\n",
    "        'ringsys_count',\n",
    "    }\n",
    "    @property\n",
    "    def VALID_PROPERTIES(self) -> list[str]: # see official docs for more info: https://cactus.nci.nih.gov/chemical/structure_documentation\n",
    "        return set.union(self._CIR_PROPS, cirpy.FILE_FORMATS)\n",
    "    \n",
    "    def _get_property(self, prop_name, representation):\n",
    "        return cirpy.resolve(representation, prop_name)"
   ]
  },
  {
   "cell_type": "code",
   "execution_count": 76,
   "metadata": {},
   "outputs": [
    {
     "data": {
      "text/plain": [
       "'ethanol'"
      ]
     },
     "execution_count": 76,
     "metadata": {},
     "output_type": "execute_result"
    }
   ],
   "source": [
    "strat = NIHCACTUSQuery()\n",
    "strat.get_property('iupac_name', 'CCO', keep_first_only=False)"
   ]
  },
  {
   "cell_type": "code",
   "execution_count": 78,
   "metadata": {},
   "outputs": [
    {
     "data": {
      "text/plain": [
       "[Compound(702)]"
      ]
     },
     "execution_count": 78,
     "metadata": {},
     "output_type": "execute_result"
    }
   ],
   "source": [
    "pcp.get_compounds('CCO', namespace='smiles')"
   ]
  },
  {
   "cell_type": "code",
   "execution_count": 36,
   "metadata": {},
   "outputs": [
    {
     "data": {
      "text/plain": [
       "'CCO'"
      ]
     },
     "execution_count": 36,
     "metadata": {},
     "output_type": "execute_result"
    }
   ],
   "source": [
    "cirpy.resolve('CCO', 'SMILES')"
   ]
  },
  {
   "cell_type": "code",
   "execution_count": 37,
   "metadata": {},
   "outputs": [
    {
     "data": {
      "text/plain": [
       "'https://cactus.nci.nih.gov/chemical/structure/CCO/SMILES/xml'"
      ]
     },
     "execution_count": 37,
     "metadata": {},
     "output_type": "execute_result"
    }
   ],
   "source": [
    "cirpy.construct_api_url('CCO', 'SMILES')"
   ]
  },
  {
   "cell_type": "code",
   "execution_count": 6,
   "metadata": {},
   "outputs": [],
   "source": [
    "r = requests.get(cirpy.API_BASE)"
   ]
  },
  {
   "cell_type": "code",
   "execution_count": 10,
   "metadata": {},
   "outputs": [
    {
     "data": {
      "text/plain": [
       "200"
      ]
     },
     "execution_count": 10,
     "metadata": {},
     "output_type": "execute_result"
    }
   ],
   "source": [
    "r.status_code"
   ]
  },
  {
   "cell_type": "code",
   "execution_count": null,
   "metadata": {},
   "outputs": [],
   "source": []
  },
  {
   "cell_type": "code",
   "execution_count": null,
   "metadata": {},
   "outputs": [],
   "source": []
  },
  {
   "cell_type": "code",
   "execution_count": null,
   "metadata": {},
   "outputs": [],
   "source": []
  },
  {
   "cell_type": "markdown",
   "metadata": {},
   "source": [
    "## Testing polymerist importability within environment"
   ]
  },
  {
   "cell_type": "code",
   "execution_count": null,
   "metadata": {},
   "outputs": [],
   "source": [
    "import numpy as np\n",
    "from openff.toolkit import Molecule, Topology, ForceField"
   ]
  },
  {
   "cell_type": "code",
   "execution_count": null,
   "metadata": {},
   "outputs": [],
   "source": [
    "import polymerist as ps\n",
    "from polymerist.genutils.importutils import pyimports, module_hierarchy\n",
    "\n",
    "import pandas as pd\n",
    "print(module_hierarchy(ps))"
   ]
  },
  {
   "cell_type": "code",
   "execution_count": null,
   "metadata": {},
   "outputs": [],
   "source": [
    "import nglview\n",
    "\n",
    "print(nglview.__version__)\n",
    "nglview.demo()"
   ]
  },
  {
   "cell_type": "code",
   "execution_count": null,
   "metadata": {},
   "outputs": [],
   "source": [
    "from polymerist.polymers.monomers import specification\n",
    "from rdkit import Chem\n",
    "\n",
    "smi = 'CCO-c1ccccc1-N=C=C'\n",
    "mol1 = Chem.MolFromSmiles(smi)\n",
    "display(mol1)\n",
    "\n",
    "sma = specification.expanded_SMILES(smi, assign_map_nums=True)\n",
    "exp_sma = specification.compliant_mol_SMARTS(sma)\n",
    "mol2 = Chem.MolFromSmarts(sma)\n",
    "display(mol2)\n"
   ]
  },
  {
   "cell_type": "code",
   "execution_count": null,
   "metadata": {},
   "outputs": [],
   "source": [
    "from openff.toolkit import Molecule\n",
    "\n",
    "offmol = Molecule.from_smiles(smi)\n",
    "offmol.generate_conformers(n_conformers=1)\n",
    "offmol.visualize(backend='nglview')"
   ]
  },
  {
   "cell_type": "markdown",
   "metadata": {},
   "source": [
    "## Experimenting with Protocols"
   ]
  },
  {
   "cell_type": "code",
   "execution_count": null,
   "metadata": {},
   "outputs": [],
   "source": [
    "from typing import Protocol, runtime_checkable\n",
    "from dataclasses import dataclass\n",
    "\n",
    "\n",
    "@runtime_checkable\n",
    "class Nominative(Protocol):\n",
    "    def name(self) -> str:\n",
    "        ...\n",
    "        \n",
    "class Foo(Nominative):\n",
    "    def __init__(self, letter : str):\n",
    "        self.letter = letter\n",
    "        \n",
    "    def name(self) -> str:\n",
    "        return self.letter*3\n",
    "\n",
    "@dataclass\n",
    "class Bar:\n",
    "    id : int\n",
    "    \n",
    "    def name(self) -> str:\n",
    "        return f'{type(self).__name__}{self.id}'\n",
    "    \n",
    "@dataclass\n",
    "class Baz:\n",
    "    id : int\n",
    "    \n",
    "    def nombre(self) -> str:\n",
    "        return 'name'"
   ]
  },
  {
   "cell_type": "code",
   "execution_count": null,
   "metadata": {},
   "outputs": [],
   "source": [
    "classes = (Foo, Bar, Baz)\n",
    "a = Foo('a')\n",
    "b = Bar(2)\n",
    "c = Baz(3)\n",
    "instances = (a, b, c)"
   ]
  },
  {
   "cell_type": "code",
   "execution_count": null,
   "metadata": {},
   "outputs": [],
   "source": [
    "for typ in classes:\n",
    "    print(typ, issubclass(typ, Nominative))"
   ]
  },
  {
   "cell_type": "code",
   "execution_count": null,
   "metadata": {},
   "outputs": [],
   "source": [
    "for inst in instances:\n",
    "    print(inst, isinstance(inst, Nominative))"
   ]
  },
  {
   "cell_type": "markdown",
   "metadata": {},
   "source": [
    "# Parsing lines from PDB file"
   ]
  },
  {
   "cell_type": "code",
   "execution_count": null,
   "metadata": {},
   "outputs": [],
   "source": [
    "l1 = 'ATOM    189  C99 OCT     5      39.590  30.100  38.320  1.00  0.00'           \n",
    "l2 = 'ATOM    190 C100 OCT     5      38.850  31.110  37.700  1.00  0.00'\n",
    "l3 = 'HETATM   47  H21 UNL     1       0.000   0.000   0.000  1.00  0.00           H '"
   ]
  },
  {
   "cell_type": "code",
   "execution_count": null,
   "metadata": {},
   "outputs": [],
   "source": [
    "from typing import Any\n",
    "\n",
    "PDB_ATOM_TOKEN_COLUMNS : dict[str, tuple[int, int]] = {\n",
    "    'Is Heteratom' : (1, 6),\n",
    "    'Atom serial number' : (7, 11),\n",
    "    'Atom name' : (13, 16),\n",
    "    'Alternate location indicator' : (17, 17),\n",
    "    'Residue name' : (18, 20),\n",
    "    'Chain identifier' : (22, 22),\n",
    "    'Residue sequence number' : (23, 26),\n",
    "    'Code for insertions of residues' : (27, 27),\n",
    "    'X (angstrom)' : (31, 38),\n",
    "    'Y (angstrom)' : (39, 46),\n",
    "    'Z (angstrom)' : (47, 54),\n",
    "    'Occupancy' : (55, 60),\n",
    "    'Temperature factor' : (61, 66),\n",
    "    'Segment identifier' : (73, 76),\n",
    "    'Element symbol' : (77, 78),\n",
    "    'Charge' : (79, 80),\n",
    "} # taken from PDB spec doc (https://www.cgl.ucsf.edu/chimera/docs/UsersGuide/tutorials/pdbintro.html)\n",
    "def tokenize_pdb_atom_line(line : str) -> dict[str, Any]:\n",
    "    line = line.ljust(80, ' ') # pad line to 80 characters with spaces\n",
    "    return {\n",
    "        prop_name : line[i_start-1:i_end]\n",
    "            for prop_name, (i_start, i_end) in PDB_ATOM_TOKEN_COLUMNS.items()\n",
    "    }\n",
    "\n",
    "\n",
    "for line in (l1, l2, l3):\n",
    "    print(tokenize_pdb_atom_line(line))"
   ]
  },
  {
   "cell_type": "markdown",
   "metadata": {},
   "source": [
    "# Another thing"
   ]
  },
  {
   "cell_type": "code",
   "execution_count": null,
   "metadata": {},
   "outputs": [],
   "source": []
  },
  {
   "cell_type": "code",
   "execution_count": null,
   "metadata": {},
   "outputs": [],
   "source": []
  }
 ],
 "metadata": {
  "kernelspec": {
   "display_name": "polymerist-dev",
   "language": "python",
   "name": "python3"
  },
  "language_info": {
   "codemirror_mode": {
    "name": "ipython",
    "version": 3
   },
   "file_extension": ".py",
   "mimetype": "text/x-python",
   "name": "python",
   "nbconvert_exporter": "python",
   "pygments_lexer": "ipython3",
   "version": "3.11.0"
  }
 },
 "nbformat": 4,
 "nbformat_minor": 2
}
